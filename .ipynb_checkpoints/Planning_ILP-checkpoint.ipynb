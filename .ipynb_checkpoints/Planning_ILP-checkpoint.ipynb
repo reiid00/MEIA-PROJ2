{
 "cells": [
  {
   "cell_type": "code",
   "execution_count": 15,
   "id": "f0629f54",
   "metadata": {},
   "outputs": [],
   "source": [
    "import pulp\n",
    "import pandas as pd\n",
    "import numpy as np"
   ]
  },
  {
   "cell_type": "code",
   "execution_count": 2,
   "id": "f867c58c",
   "metadata": {},
   "outputs": [
    {
     "name": "stdout",
     "output_type": "stream",
     "text": [
      "[{'predictedProfits': 100, 'predictedProductQuantities': 10, 'dimension': 5}, {'predictedProfits': 200, 'predictedProductQuantities': 20, 'dimension': 2}, {'predictedProfits': 300, 'predictedProductQuantities': 30, 'dimension': 1}, {'predictedProfits': 10, 'predictedProductQuantities': 1, 'dimension': 20}]\n"
     ]
    }
   ],
   "source": [
    "# Read the Excel file into a DataFrame\n",
    "df = pd.read_excel('file.xlsx')\n",
    "\n",
    "# Convert the DataFrame to a NumPy array\n",
    "data = df.values\n",
    "products = []\n",
    "\n",
    "for row in data:\n",
    "    predictedProfits = row[0]\n",
    "    predictedProductQuantities = row[1]\n",
    "    dimension = row[2]\n",
    "\n",
    "    product = {'predictedProfits': predictedProfits, 'predictedProductQuantities': predictedProductQuantities, 'dimension': dimension}\n",
    "    products.append(product)\n",
    "\n",
    "print(products)"
   ]
  },
  {
   "cell_type": "code",
   "execution_count": 16,
   "id": "ed868591",
   "metadata": {},
   "outputs": [],
   "source": [
    "# Creation of the ILP model \n",
    "model = pulp.LpProblem(\"ILP Problem\", pulp.LpMaximize)"
   ]
  },
  {
   "cell_type": "code",
   "execution_count": 17,
   "id": "eacf1bd3",
   "metadata": {},
   "outputs": [],
   "source": [
    "# Define the variables\n",
    "p1 = pulp.LpVariable(\"p1\", lowBound=0, cat='Integer') #produto 1\n",
    "p2 = pulp.LpVariable(\"p2\", lowBound=0, cat='Integer') #produto 2\n",
    "p3 = pulp.LpVariable(\"p3\", lowBound=0, cat='Integer') #produto 3\n",
    "p4 = pulp.LpVariable(\"p4\", lowBound=0, cat='Integer') #produto 4\n",
    "p5 = pulp.LpVariable(\"p5\", lowBound=0, cat='Integer') #produto 5\n",
    "p6 = pulp.LpVariable(\"p6\", lowBound=0, cat='Integer') #produto 6"
   ]
  },
  {
   "cell_type": "code",
   "execution_count": 24,
   "id": "78686120",
   "metadata": {},
   "outputs": [
    {
     "name": "stdout",
     "output_type": "stream",
     "text": [
      "Please maximum  total amount of products: 2\n",
      "Please minimum total amount of products: 2\n"
     ]
    }
   ],
   "source": [
    "#add user input for the multiple variables\n",
    "\n",
    "maxTotalAmount = int(input(\"Please insert maximum  total amount of products: \"))\n",
    "minTotalAmount = int(input(\"Please insert minimum total amount of products: \"))\n",
    "\n",
    "minAmountProduct1 = int(input(\"Please insert minimum  amount of product 1: \"))\n",
    "maxAmountProduct1  = int(input(\"Please insert maximum  amount of products 1: \"))\n",
    "\n",
    "refillFrequency = int(input(\"Please insert the refill frequency: \"))\n",
    "\n"
   ]
  },
  {
   "cell_type": "code",
   "execution_count": 21,
   "id": "ccb88c24",
   "metadata": {},
   "outputs": [],
   "source": [
    "# Define the objective function\n",
    "model += Lucro1*p1 + Lucro2*p2 + Lucro2*p2 + Lucro3*p3 + Lucro4*p4 + Lucro5*p5 + Lucro6*p6"
   ]
  },
  {
   "cell_type": "code",
   "execution_count": 23,
   "id": "79e2cdb7",
   "metadata": {},
   "outputs": [
    {
     "ename": "NameError",
     "evalue": "name 'd' is not defined",
     "output_type": "error",
     "traceback": [
      "\u001b[1;31m---------------------------------------------------------------------------\u001b[0m",
      "\u001b[1;31mNameError\u001b[0m                                 Traceback (most recent call last)",
      "\u001b[1;32m~\\AppData\\Local\\Temp\\ipykernel_2032\\3550224282.py\u001b[0m in \u001b[0;36m<module>\u001b[1;34m\u001b[0m\n\u001b[0;32m     20\u001b[0m \u001b[1;33m\u001b[0m\u001b[0m\n\u001b[0;32m     21\u001b[0m \u001b[1;31m#dimensions\u001b[0m\u001b[1;33m\u001b[0m\u001b[1;33m\u001b[0m\u001b[0m\n\u001b[1;32m---> 22\u001b[1;33m \u001b[0mmodel\u001b[0m \u001b[1;33m+=\u001b[0m \u001b[0md\u001b[0m\u001b[1;33m*\u001b[0m\u001b[0mp1\u001b[0m \u001b[1;33m+\u001b[0m \u001b[0md\u001b[0m\u001b[1;33m*\u001b[0m\u001b[0mp2\u001b[0m \u001b[1;33m+\u001b[0m \u001b[0md\u001b[0m\u001b[1;33m*\u001b[0m\u001b[0mp3\u001b[0m \u001b[1;33m+\u001b[0m \u001b[0md\u001b[0m\u001b[1;33m*\u001b[0m\u001b[0mp4\u001b[0m \u001b[1;33m+\u001b[0m \u001b[0md\u001b[0m\u001b[1;33m*\u001b[0m\u001b[0mp5\u001b[0m \u001b[1;33m+\u001b[0m \u001b[0md\u001b[0m\u001b[1;33m*\u001b[0m\u001b[0mp6\u001b[0m \u001b[1;33m<=\u001b[0m \u001b[1;36m20000\u001b[0m \u001b[1;31m#restricao de dimensões de produtos, menor que tamanho todal da loja\u001b[0m\u001b[1;33m\u001b[0m\u001b[1;33m\u001b[0m\u001b[0m\n\u001b[0m\u001b[0;32m     23\u001b[0m \u001b[1;33m\u001b[0m\u001b[0m\n\u001b[0;32m     24\u001b[0m \u001b[1;31m#refill\u001b[0m\u001b[1;33m\u001b[0m\u001b[1;33m\u001b[0m\u001b[0m\n",
      "\u001b[1;31mNameError\u001b[0m: name 'd' is not defined"
     ]
    }
   ],
   "source": [
    "# Define the constraints\n",
    "\n",
    "# total amount of products\n",
    "model += p1 + p2 + p3 + p4 + p5 + p6 <= maxTotalAmount #restricao de quantidade maximo total de produtos\n",
    "model += p1 + p2 + p3 +p4 + p5 + p6 >= minTotalAmount #restricao de valor minimo total de produtos\n",
    "\n",
    "# variety of products\n",
    "\n",
    "# maximum number of products\n",
    "model +=p1 <= minAmountProduct1 #restricao de quantidade máximo para produto 1\n",
    "model +=p2 <= 10 #restricao de quantidade máximo para produto 2\n",
    "model +=p3 <= 10 #restricao de quantidade máximo para produto 3\n",
    "model +=p4 <= 10 #restricao de quantidade máximo para produto 4\n",
    "model +=p5 <= 10 #restricao de quantidade máximo para produto 5\n",
    "model +=p6 <= 10 #restricao de quantidade máximo para produto 6\n",
    "\n",
    "# minimum number of products\n",
    "model +=p1 >= maxAmountProduct1 #restricao de quantidade minimo para produto 1\n",
    "model +=p2 >= 1 #restricao de quantidade minimo para produto 2\n",
    "model +=p3 >= 1 #restricao de quantidade minimo para produto 3\n",
    "model +=p4 >= 1 #restricao de quantidade minimo para produto 4\n",
    "model +=p5 >= 1 #restricao de quantidade minimo para produto 5\n",
    "model +=p6 >= 1 #restricao de quantidade minimo para produto 6\n",
    "\n",
    "#dimensions\n",
    "model += d*p1 + d*p2 + d*p3 + d*p4 + d*p5 + d*p6 <= 20000 #restricao de dimensões de produtos, menor que dimensao todal da loja\n",
    "\n",
    "#refill\n",
    "model += t*p1 <= refillFrequency #n dias que o produto 1 aguenta em stock\n",
    "model += t*p2 <= 30 #n dias que o produto 2 aguenta em stock\n",
    "model += t*p3 <= 30 #tempo que o produto 3 aguenta em stock\n",
    "model += t*p4 <= 30 #n dias que o produto 4 aguenta em stock\n",
    "model += t*p5 <= 30 #n dias que o produto 5 aguenta em stock\n",
    "model += t*p6 <= 30 #n dias que o produto 6 aguenta em stock\n",
    "\n"
   ]
  },
  {
   "cell_type": "code",
   "execution_count": 13,
   "id": "6cd1d321",
   "metadata": {},
   "outputs": [],
   "source": [
    "# Solve the problem\n",
    "status = model.solve()"
   ]
  },
  {
   "cell_type": "code",
   "execution_count": 14,
   "id": "897f7b45",
   "metadata": {},
   "outputs": [
    {
     "name": "stdout",
     "output_type": "stream",
     "text": [
      "Solution:\n",
      "x = 3\n",
      "y = 1\n"
     ]
    }
   ],
   "source": [
    "# Print the solution\n",
    "print(\"Solution:\")\n",
    "print(\"x =\", x.value())\n",
    "print(\"y =\", y.value())"
   ]
  },
  {
   "cell_type": "code",
   "execution_count": null,
   "id": "4a28b950",
   "metadata": {},
   "outputs": [],
   "source": []
  }
 ],
 "metadata": {
  "kernelspec": {
   "display_name": "Python 3 (ipykernel)",
   "language": "python",
   "name": "python3"
  },
  "language_info": {
   "codemirror_mode": {
    "name": "ipython",
    "version": 3
   },
   "file_extension": ".py",
   "mimetype": "text/x-python",
   "name": "python",
   "nbconvert_exporter": "python",
   "pygments_lexer": "ipython3",
   "version": "3.9.13"
  }
 },
 "nbformat": 4,
 "nbformat_minor": 5
}
