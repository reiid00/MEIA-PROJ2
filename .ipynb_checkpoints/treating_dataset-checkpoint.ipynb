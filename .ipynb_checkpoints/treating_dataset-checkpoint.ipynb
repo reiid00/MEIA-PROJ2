{
 "cells": [
  {
   "cell_type": "markdown",
   "id": "cc86926d-9450-4d08-a6bc-e37c9adf2069",
   "metadata": {},
   "source": [
    "# Pré-Processamento: ....\n",
    "\n",
    "## Objetivo\n",
    "  ..."
   ]
  },
  {
   "cell_type": "code",
   "execution_count": null,
   "id": "0119a8c5-5c78-40d6-b2aa-97607a2f08b8",
   "metadata": {},
   "outputs": [],
   "source": [
    "# Carregamos o Dataset tratado previamente no ficheiro treating_dataset.ipynb\n",
    "dataset = pd.read_excel(\"DATASET/DATASET_TREATED.xls\",\"Data\")"
   ]
  }
 ],
 "metadata": {
  "kernelspec": {
   "display_name": "Python 3 (ipykernel)",
   "language": "python",
   "name": "python3"
  },
  "language_info": {
   "codemirror_mode": {
    "name": "ipython",
    "version": 3
   },
   "file_extension": ".py",
   "mimetype": "text/x-python",
   "name": "python",
   "nbconvert_exporter": "python",
   "pygments_lexer": "ipython3",
   "version": "3.10.8"
  },
  "vscode": {
   "interpreter": {
    "hash": "dae545736ee78e012acd08c370c6df0e68e8a318016cb2f8480f264d55cb96c2"
   }
  }
 },
 "nbformat": 4,
 "nbformat_minor": 5
}
