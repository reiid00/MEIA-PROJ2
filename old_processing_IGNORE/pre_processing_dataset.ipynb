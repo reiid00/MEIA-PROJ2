{
 "cells": [
  {
   "cell_type": "markdown",
   "id": "0c2290f0-c6af-452e-b708-1b8e485da4af",
   "metadata": {},
   "source": [
    "\n",
    "# Pré-Processamento: Processamento de Dados e Preparação do Dataset\n",
    "\n",
    "## Objetivo\n",
    "  A apartir de um conjunto de dados não tratados referente às receitas de uma loja de desporto, efetuar as associações necessárias, eliminando toda a informação considerada desnecessária para o âmbito do nosso projeto, gerando um dataset final a ser, posteriormente, importado no pré-processamento de dados. \n"
   ]
  },
  {
   "cell_type": "code",
   "execution_count": 1,
   "id": "09fac7bc",
   "metadata": {
    "scrolled": true
   },
   "outputs": [
    {
     "name": "stdout",
     "output_type": "stream",
     "text": [
      "Requirement already satisfied: pandas in c:\\users\\silve\\appdata\\local\\programs\\python\\python310\\lib\\site-packages (1.5.2)\n",
      "Requirement already satisfied: pytz>=2020.1 in c:\\users\\silve\\appdata\\local\\programs\\python\\python310\\lib\\site-packages (from pandas) (2022.6)\n",
      "Requirement already satisfied: numpy>=1.21.0 in c:\\users\\silve\\appdata\\local\\programs\\python\\python310\\lib\\site-packages (from pandas) (1.23.5)\n",
      "Requirement already satisfied: python-dateutil>=2.8.1 in c:\\users\\silve\\appdata\\local\\programs\\python\\python310\\lib\\site-packages (from pandas) (2.8.2)\n",
      "Requirement already satisfied: six>=1.5 in c:\\users\\silve\\appdata\\local\\programs\\python\\python310\\lib\\site-packages (from python-dateutil>=2.8.1->pandas) (1.16.0)\n",
      "Note: you may need to restart the kernel to use updated packages.\n"
     ]
    },
    {
     "name": "stderr",
     "output_type": "stream",
     "text": [
      "\n",
      "[notice] A new release of pip available: 22.2.2 -> 22.3.1\n",
      "[notice] To update, run: python.exe -m pip install --upgrade pip\n"
     ]
    },
    {
     "name": "stdout",
     "output_type": "stream",
     "text": [
      "Requirement already satisfied: xlrd in c:\\users\\silve\\appdata\\local\\programs\\python\\python310\\lib\\site-packages (2.0.1)\n",
      "Note: you may need to restart the kernel to use updated packages.\n"
     ]
    },
    {
     "name": "stderr",
     "output_type": "stream",
     "text": [
      "\n",
      "[notice] A new release of pip available: 22.2.2 -> 22.3.1\n",
      "[notice] To update, run: python.exe -m pip install --upgrade pip\n"
     ]
    },
    {
     "name": "stdout",
     "output_type": "stream",
     "text": [
      "Requirement already satisfied: openpyxl in c:\\users\\silve\\appdata\\local\\programs\\python\\python310\\lib\\site-packages (3.0.10)\n",
      "Requirement already satisfied: et-xmlfile in c:\\users\\silve\\appdata\\local\\programs\\python\\python310\\lib\\site-packages (from openpyxl) (1.1.0)\n",
      "Note: you may need to restart the kernel to use updated packages.\n"
     ]
    },
    {
     "name": "stderr",
     "output_type": "stream",
     "text": [
      "\n",
      "[notice] A new release of pip available: 22.2.2 -> 22.3.1\n",
      "[notice] To update, run: python.exe -m pip install --upgrade pip\n"
     ]
    },
    {
     "name": "stdout",
     "output_type": "stream",
     "text": [
      "Requirement already satisfied: unidecode in c:\\users\\silve\\appdata\\local\\programs\\python\\python310\\lib\\site-packages (1.3.6)\n",
      "Note: you may need to restart the kernel to use updated packages.\n"
     ]
    },
    {
     "name": "stderr",
     "output_type": "stream",
     "text": [
      "\n",
      "[notice] A new release of pip available: 22.2.2 -> 22.3.1\n",
      "[notice] To update, run: python.exe -m pip install --upgrade pip\n"
     ]
    },
    {
     "name": "stdout",
     "output_type": "stream",
     "text": [
      "Requirement already satisfied: scikit-learn in c:\\users\\silve\\appdata\\local\\programs\\python\\python310\\lib\\site-packages (1.2.0)\n",
      "Requirement already satisfied: joblib>=1.1.1 in c:\\users\\silve\\appdata\\local\\programs\\python\\python310\\lib\\site-packages (from scikit-learn) (1.2.0)\n",
      "Requirement already satisfied: scipy>=1.3.2 in c:\\users\\silve\\appdata\\local\\programs\\python\\python310\\lib\\site-packages (from scikit-learn) (1.9.3)\n",
      "Requirement already satisfied: numpy>=1.17.3 in c:\\users\\silve\\appdata\\local\\programs\\python\\python310\\lib\\site-packages (from scikit-learn) (1.23.5)\n",
      "Requirement already satisfied: threadpoolctl>=2.0.0 in c:\\users\\silve\\appdata\\local\\programs\\python\\python310\\lib\\site-packages (from scikit-learn) (3.1.0)\n",
      "Note: you may need to restart the kernel to use updated packages.\n"
     ]
    },
    {
     "name": "stderr",
     "output_type": "stream",
     "text": [
      "\n",
      "[notice] A new release of pip available: 22.2.2 -> 22.3.1\n",
      "[notice] To update, run: python.exe -m pip install --upgrade pip\n"
     ]
    },
    {
     "name": "stdout",
     "output_type": "stream",
     "text": [
      "Requirement already satisfied: matplotlib in c:\\users\\silve\\appdata\\local\\programs\\python\\python310\\lib\\site-packages (3.6.2)\n",
      "Requirement already satisfied: cycler>=0.10 in c:\\users\\silve\\appdata\\local\\programs\\python\\python310\\lib\\site-packages (from matplotlib) (0.11.0)\n",
      "Requirement already satisfied: fonttools>=4.22.0 in c:\\users\\silve\\appdata\\local\\programs\\python\\python310\\lib\\site-packages (from matplotlib) (4.38.0)\n",
      "Requirement already satisfied: packaging>=20.0 in c:\\users\\silve\\appdata\\local\\programs\\python\\python310\\lib\\site-packages (from matplotlib) (21.3)\n",
      "Requirement already satisfied: python-dateutil>=2.7 in c:\\users\\silve\\appdata\\local\\programs\\python\\python310\\lib\\site-packages (from matplotlib) (2.8.2)\n",
      "Requirement already satisfied: contourpy>=1.0.1 in c:\\users\\silve\\appdata\\local\\programs\\python\\python310\\lib\\site-packages (from matplotlib) (1.0.6)\n",
      "Requirement already satisfied: pillow>=6.2.0 in c:\\users\\silve\\appdata\\local\\programs\\python\\python310\\lib\\site-packages (from matplotlib) (9.3.0)\n",
      "Requirement already satisfied: pyparsing>=2.2.1 in c:\\users\\silve\\appdata\\local\\programs\\python\\python310\\lib\\site-packages (from matplotlib) (3.0.9)\n",
      "Requirement already satisfied: kiwisolver>=1.0.1 in c:\\users\\silve\\appdata\\local\\programs\\python\\python310\\lib\\site-packages (from matplotlib) (1.4.4)\n",
      "Requirement already satisfied: numpy>=1.19 in c:\\users\\silve\\appdata\\local\\programs\\python\\python310\\lib\\site-packages (from matplotlib) (1.23.5)\n",
      "Requirement already satisfied: six>=1.5 in c:\\users\\silve\\appdata\\local\\programs\\python\\python310\\lib\\site-packages (from python-dateutil>=2.7->matplotlib) (1.16.0)\n",
      "Note: you may need to restart the kernel to use updated packages.\n"
     ]
    },
    {
     "name": "stderr",
     "output_type": "stream",
     "text": [
      "\n",
      "[notice] A new release of pip available: 22.2.2 -> 22.3.1\n",
      "[notice] To update, run: python.exe -m pip install --upgrade pip\n"
     ]
    }
   ],
   "source": [
    "%pip install pandas\n",
    "%pip install xlrd\n",
    "%pip install openpyxl\n",
    "%pip install unidecode\n",
    "%pip install scikit-learn\n",
    "%pip install matplotlib"
   ]
  },
  {
   "cell_type": "code",
   "execution_count": 2,
   "id": "471bbf23",
   "metadata": {},
   "outputs": [],
   "source": [
    "\n",
    "import numpy as np\n",
    "import pandas as pd\n",
    "\n",
    "df = pd.read_csv('Dataset_Treated.csv')\n"
   ]
  },
  {
   "cell_type": "code",
   "execution_count": 3,
   "id": "feaa997c",
   "metadata": {},
   "outputs": [
    {
     "name": "stdout",
     "output_type": "stream",
     "text": [
      "   Unnamed: 0  Produto  Total_Receitas_2018Q1  Total_Receitas_2018Q2  \\\n",
      "0           0     1040               0.000000               0.000000   \n",
      "1           1     1061             176.666667             294.444444   \n",
      "2           2     1062               0.000000               0.000000   \n",
      "3           3     1063               0.000000               0.000000   \n",
      "4           4     2999             410.425926              99.833333   \n",
      "\n",
      "   Total_Receitas_2018Q3  Total_Receitas_2018Q4  Total_Receitas_2019Q1  \\\n",
      "0               0.000000               0.027778               0.009259   \n",
      "1              88.333333             265.000000             294.444444   \n",
      "2               0.000000              22.037037              44.074074   \n",
      "3               0.000000              47.962963               0.000000   \n",
      "4              88.740741             155.296296             166.388889   \n",
      "\n",
      "   Total_Receitas_2019Q2  Total_Receitas_2019Q3  Total_Receitas_2019Q4  ...  \\\n",
      "0               0.000000               0.018519               0.000000  ...   \n",
      "1             176.666667             257.962963             147.407407  ...   \n",
      "2               0.000000               0.000000             110.185185  ...   \n",
      "3               0.000000               0.000000               0.000000  ...   \n",
      "4              77.648148             232.944444             133.111111  ...   \n",
      "\n",
      "   Classificacao11_Produto  Classificacao12_Produto  Classificacao13_Produto  \\\n",
      "0                        2                        3                        3   \n",
      "1                        2                        2                        3   \n",
      "2                        2                        2                        3   \n",
      "3                        2                        2                        3   \n",
      "4                        2                        2                        3   \n",
      "\n",
      "   Classificacao14_Produto  Classificacao15_Produto  Nome_Class_11_Produto  \\\n",
      "0                        3                       12             ACESSÓRIOS   \n",
      "1                        3                       17             ACESSÓRIOS   \n",
      "2                        3                       17             ACESSÓRIOS   \n",
      "3                        3                       17             ACESSÓRIOS   \n",
      "4                        3                      279             ACESSÓRIOS   \n",
      "\n",
      "   Nome_Class_12_Produto  Nome_Class_13_Produto  Nome_Class_14_Produto  \\\n",
      "0                  GERAL                  GERAL                  ANUAL   \n",
      "1              ESPORTIVO                  GERAL                  ANUAL   \n",
      "2              ESPORTIVO                  GERAL                  ANUAL   \n",
      "3              ESPORTIVO                  GERAL                  ANUAL   \n",
      "4              ESPORTIVO                  GERAL                  ANUAL   \n",
      "\n",
      "   Nome_Class_15_Produto  \n",
      "0               ATACADOR  \n",
      "1                  BARRA  \n",
      "2                  BARRA  \n",
      "3                  BARRA  \n",
      "4             BOLA TÊNIS  \n",
      "\n",
      "[5 rows x 58 columns]\n"
     ]
    }
   ],
   "source": [
    "\n",
    "# Verificamos o dataset carregado\n",
    "print(df.head(5))\n",
    "\n"
   ]
  },
  {
   "cell_type": "code",
   "execution_count": 4,
   "id": "59334e12",
   "metadata": {},
   "outputs": [
    {
     "name": "stdout",
     "output_type": "stream",
     "text": [
      "Index(['Total_Receitas_2018Q1', 'Total_Receitas_2018Q2',\n",
      "       'Total_Receitas_2018Q3', 'Total_Receitas_2018Q4',\n",
      "       'Total_Receitas_2019Q1', 'Total_Receitas_2019Q2',\n",
      "       'Total_Receitas_2019Q3', 'Total_Receitas_2019Q4',\n",
      "       'Total_Receitas_2020Q1', 'Total_Receitas_2020Q2',\n",
      "       'Total_Receitas_2020Q3', 'Total_Receitas_2020Q4',\n",
      "       'Total_Receitas_2021Q1', 'Total_Receitas_2021Q2',\n",
      "       'Total_Receitas_2021Q3', 'Total_Receitas_2021Q4',\n",
      "       'Total_Receitas_2022Q1', 'Total_Receitas_2022Q2',\n",
      "       'Total_Receitas_2022Q3', 'Total_Receitas_2022Q4',\n",
      "       'Total_Unidades_Vendidas_2018Q1', 'Total_Unidades_Vendidas_2018Q2',\n",
      "       'Total_Unidades_Vendidas_2018Q3', 'Total_Unidades_Vendidas_2018Q4',\n",
      "       'Total_Unidades_Vendidas_2019Q1', 'Total_Unidades_Vendidas_2019Q2',\n",
      "       'Total_Unidades_Vendidas_2019Q3', 'Total_Unidades_Vendidas_2019Q4',\n",
      "       'Total_Unidades_Vendidas_2020Q1', 'Total_Unidades_Vendidas_2020Q2',\n",
      "       'Total_Unidades_Vendidas_2020Q3', 'Total_Unidades_Vendidas_2020Q4',\n",
      "       'Total_Unidades_Vendidas_2021Q1', 'Total_Unidades_Vendidas_2021Q2',\n",
      "       'Total_Unidades_Vendidas_2021Q3', 'Total_Unidades_Vendidas_2021Q4',\n",
      "       'Total_Unidades_Vendidas_2022Q1', 'Total_Unidades_Vendidas_2022Q2',\n",
      "       'Total_Unidades_Vendidas_2022Q3', 'Total_Unidades_Vendidas_2022Q4',\n",
      "       'Unidade_Produto', 'NomeMarca_Produto', 'Negócio', 'Segmento', 'Género',\n",
      "       'Estação', 'Tipo'],\n",
      "      dtype='object')\n"
     ]
    }
   ],
   "source": [
    "\n",
    "\n",
    "# Alteramos o nome das Classificações (11. negócio, 12. segmento, 13. género, 14. estação, 15. tipo) e removemos as não necessárias\n",
    "df = df.rename(columns={\"Nome_Class_11_Produto\": \"Negócio\", \"Nome_Class_12_Produto\":\"Segmento\", \"Nome_Class_13_Produto\":\"Género\", \"Nome_Class_14_Produto\":\"Estação\", \"Nome_Class_15_Produto\": \"Tipo\"})\n",
    "df = df.drop(columns=[\"Unnamed: 0\", \"Produto\", \"Nome_Produto\", \"DataUltimaAtualizacao_Produto\", \"Complemento_Produto\", \"Referencia_Produto\",\"Classificacao11_Produto\", \"Classificacao12_Produto\", \"Classificacao13_Produto\", \"Classificacao14_Produto\", \"Classificacao15_Produto\"])\n",
    "\n",
    "# Verificamos as colunas\n",
    "print(df.columns)\n"
   ]
  },
  {
   "cell_type": "code",
   "execution_count": 5,
   "id": "adce8c97",
   "metadata": {},
   "outputs": [
    {
     "name": "stdout",
     "output_type": "stream",
     "text": [
      "Feature 'Unidade_Produto' tem 3 valores únicos\n",
      "Feature 'NomeMarca_Produto' tem 184 valores únicos\n",
      "Feature 'Negócio' tem 4 valores únicos\n",
      "Feature 'Segmento' tem 4 valores únicos\n",
      "Feature 'Género' tem 4 valores únicos\n",
      "Feature 'Estação' tem 4 valores únicos\n",
      "Feature 'Tipo' tem 248 valores únicos\n"
     ]
    }
   ],
   "source": [
    "\n",
    "# Verificamos as variáveis de categoria dos produtos que fazem sentido utilizar no modelo\n",
    "for col_name in df.columns:\n",
    "    if df[col_name].dtypes == 'object':\n",
    "        unique_cat = len(df[col_name].unique())\n",
    "        print(\"Feature '{col_name}' tem {unique_cat} valores únicos\".format(col_name=col_name, unique_cat=unique_cat))\n",
    "\n"
   ]
  },
  {
   "cell_type": "code",
   "execution_count": 6,
   "id": "a8bdee85-69e6-48fc-b66a-5c0ae72a9038",
   "metadata": {},
   "outputs": [
    {
     "name": "stdout",
     "output_type": "stream",
     "text": [
      "ADIDAS        1941\n",
      "NIKE          1592\n",
      "FILA          1131\n",
      "OLYMPIKUS      648\n",
      "PENALTY        598\n",
      "SPEEDO         462\n",
      "UMBRO          446\n",
      "MIZUNO         351\n",
      "ASICS          330\n",
      "ROLA MOCA      295\n",
      "SELENE         280\n",
      "LIVE           224\n",
      "NIKE           221\n",
      "WILSON         144\n",
      "TIMBERLAND     109\n",
      "Name: NomeMarca_Produto, dtype: int64\n"
     ]
    }
   ],
   "source": [
    "\n",
    "\n",
    "# Verificamos que o nome da marca tem diversos valores únicos e estes estão bem propragados entre si, isto é, não existe grande discrepância entre as respetivas frequências.\n",
    "print(df['NomeMarca_Produto'].value_counts().sort_values(ascending=False).head(15))\n"
   ]
  },
  {
   "cell_type": "code",
   "execution_count": 7,
   "id": "07e79a62-4509-48fa-b5ad-a6730068209e",
   "metadata": {},
   "outputs": [
    {
     "name": "stdout",
     "output_type": "stream",
     "text": [
      "TENIS RUNING       1784\n",
      "CAMISETA M/C        436\n",
      "TENIS CASUAL        423\n",
      "BERMUDA BERMUDA     370\n",
      "CALÇA LEGGING       266\n",
      "MOCHILA MOCHILA     241\n",
      "BOLA DE CAMPO       233\n",
      "ABRIGO              230\n",
      "CHINELO CHINELO     229\n",
      "MEIA SOQUETE        229\n",
      "TENIS INDOOR        225\n",
      "TENIS RUN INF       209\n",
      "CALCAO CALCAO       209\n",
      "CALÇA CALÇA         208\n",
      "BLUSA BLUSA         197\n",
      "Name: Tipo, dtype: int64\n"
     ]
    }
   ],
   "source": [
    "\n",
    "# Verificamos que a categoria 'Tipo' também não apresenta grande discrepância entre as respetivas frequências\n",
    "print(df['Tipo'].value_counts().sort_values(ascending=False).head(15))\n"
   ]
  },
  {
   "cell_type": "code",
   "execution_count": 8,
   "id": "adf5c03d-5dd2-4361-82cb-436fb69033e9",
   "metadata": {},
   "outputs": [
    {
     "name": "stdout",
     "output_type": "stream",
     "text": [
      "UN    5610\n",
      "PR    5246\n",
      "0        1\n",
      "Name: Unidade_Produto, dtype: int64\n"
     ]
    }
   ],
   "source": [
    "\n",
    "# Verificamos a frequência dos valores existentes desta categoria\n",
    "print(df['Unidade_Produto'].value_counts().sort_values(ascending=False).head(15))\n",
    "\n"
   ]
  },
  {
   "cell_type": "code",
   "execution_count": 9,
   "id": "4fac9091-a646-4275-b28f-3e5bfd4eb320",
   "metadata": {},
   "outputs": [
    {
     "name": "stdout",
     "output_type": "stream",
     "text": [
      "UN    5610\n",
      "PR    5246\n",
      "Name: Unidade_Produto, dtype: int64\n"
     ]
    }
   ],
   "source": [
    "\n",
    "# Removemos o outlier\n",
    "df = df[df['Unidade_Produto'] != '0']\n",
    "\n",
    "# Verificamos novamente a frequência\n",
    "print(df['Unidade_Produto'].value_counts().sort_values(ascending=False).head(15))\n"
   ]
  },
  {
   "cell_type": "code",
   "execution_count": 10,
   "id": "6a18c5b7-6ee1-4ced-adab-6497a73fb2fe",
   "metadata": {},
   "outputs": [
    {
     "name": "stdout",
     "output_type": "stream",
     "text": [
      "CONFECÇÕES        4649\n",
      "CALÇADOS          4088\n",
      "ACESSÓRIOS        2112\n",
      "ARTIGOS VIAGEM       7\n",
      "Name: Negócio, dtype: int64\n"
     ]
    }
   ],
   "source": [
    "\n",
    "# Verificamos a frequência dos valores desta categoria\n",
    "print(df['Negócio'].value_counts().sort_values(ascending=False).head(15))\n"
   ]
  },
  {
   "cell_type": "code",
   "execution_count": 11,
   "id": "87e76ded-891b-4f40-876c-f5957cf343d6",
   "metadata": {},
   "outputs": [
    {
     "name": "stdout",
     "output_type": "stream",
     "text": [
      "ESPORTIVO    9906\n",
      "GERAL         875\n",
      "INFANTIL       52\n",
      "BOUTIQUE       23\n",
      "Name: Segmento, dtype: int64\n"
     ]
    }
   ],
   "source": [
    "\n",
    "# Verificamos a frequência dos valores desta categoria\n",
    "print(df['Segmento'].value_counts().sort_values(ascending=False).head(15))\n"
   ]
  },
  {
   "cell_type": "code",
   "execution_count": 12,
   "id": "9f41c614-5031-440e-ae71-98abcfbeeb53",
   "metadata": {},
   "outputs": [
    {
     "name": "stdout",
     "output_type": "stream",
     "text": [
      "GERAL        4223\n",
      "MASCULINO    3858\n",
      "FEMININO     2767\n",
      ".               8\n",
      "Name: Género, dtype: int64\n"
     ]
    }
   ],
   "source": [
    "\n",
    "# Verificamos a frequência dos valores desta categoria\n",
    "print(df['Género'].value_counts().sort_values(ascending=False).head(15))\n",
    "\n"
   ]
  },
  {
   "cell_type": "code",
   "execution_count": 13,
   "id": "9ab2cc12-ce97-4728-8a1d-7162205bbdd6",
   "metadata": {},
   "outputs": [
    {
     "name": "stdout",
     "output_type": "stream",
     "text": [
      "GERAL        4223\n",
      "MASCULINO    3858\n",
      "FEMININO     2767\n",
      "Name: Género, dtype: int64\n"
     ]
    }
   ],
   "source": [
    "\n",
    "# Removemos os valores inválidos, dado que são muito poucos.\n",
    "df = df[df['Género'] != '.']\n",
    "\n",
    "# Verificamos novamente a frequência\n",
    "print(df['Género'].value_counts().sort_values(ascending=False).head(15))\n",
    "\n"
   ]
  },
  {
   "cell_type": "code",
   "execution_count": 14,
   "id": "b7785829-2b56-43ef-84ad-d15efd3053df",
   "metadata": {},
   "outputs": [
    {
     "name": "stdout",
     "output_type": "stream",
     "text": [
      "ANUAL      8420\n",
      "VERÃO      1508\n",
      "INVERNO     917\n",
      ".             3\n",
      "Name: Estação, dtype: int64\n"
     ]
    }
   ],
   "source": [
    "\n",
    "print(df['Estação'].value_counts().sort_values(ascending=False).head(15))\n",
    "\n"
   ]
  },
  {
   "cell_type": "code",
   "execution_count": 15,
   "id": "a27bb843-7d3b-46b3-b64b-685e9daa5b0c",
   "metadata": {},
   "outputs": [
    {
     "name": "stdout",
     "output_type": "stream",
     "text": [
      "ANUAL      8420\n",
      "VERÃO      1508\n",
      "INVERNO     917\n",
      "Name: Estação, dtype: int64\n"
     ]
    }
   ],
   "source": [
    "\n",
    "\n",
    "# Removemos os valores inválidos, dado que são muito poucos.\n",
    "df = df[df['Estação'] != '.']\n",
    "\n",
    "# Verificamos novamente a frequência\n",
    "print(df['Estação'].value_counts().sort_values(ascending=False).head(15))\n"
   ]
  },
  {
   "cell_type": "code",
   "execution_count": 16,
   "id": "f28133e8",
   "metadata": {},
   "outputs": [],
   "source": [
    "\n",
    "# Escolhemos a lista de variáveis dummy, isto é, para as quais serão criadas colunas diferentes para cada valor, de acordo com a análise anterior, para serem utilizadas pelo modelo.\n",
    "todummy_list = ['NomeMarca_Produto', 'Tipo', 'Unidade_Produto', 'Negócio', 'Segmento', 'Género', 'Estação']\n",
    "\n",
    "# Função para efetuar o dummying às variáveis presentes na lista acima definida\n",
    "def dummy_df(df, todummy_list):\n",
    "    for x in todummy_list:\n",
    "        dummies = pd.get_dummies(df[x], prefix=x, dummy_na=False)\n",
    "        df = df.drop(x, 1)\n",
    "        df = pd.concat([df, dummies], axis=1)\n",
    "    return df\n"
   ]
  },
  {
   "cell_type": "code",
   "execution_count": 17,
   "id": "dbb5ea03-de69-43ed-ac82-7b43becec575",
   "metadata": {},
   "outputs": [
    {
     "name": "stdout",
     "output_type": "stream",
     "text": [
      "   Total_Receitas_2018Q1  Total_Receitas_2018Q2  Total_Receitas_2018Q3  \\\n",
      "0               0.000000               0.000000               0.000000   \n",
      "1             176.666667             294.444444              88.333333   \n",
      "2               0.000000               0.000000               0.000000   \n",
      "3               0.000000               0.000000               0.000000   \n",
      "4             410.425926              99.833333              88.740741   \n",
      "\n",
      "   Total_Receitas_2018Q4  Total_Receitas_2019Q1  Total_Receitas_2019Q2  \\\n",
      "0               0.027778               0.009259               0.000000   \n",
      "1             265.000000             294.444444             176.666667   \n",
      "2              22.037037              44.074074               0.000000   \n",
      "3              47.962963               0.000000               0.000000   \n",
      "4             155.296296             166.388889              77.648148   \n",
      "\n",
      "   Total_Receitas_2019Q3  Total_Receitas_2019Q4  Total_Receitas_2020Q1  \\\n",
      "0               0.018519               0.000000               0.000000   \n",
      "1             257.962963             147.407407             147.407407   \n",
      "2               0.000000             110.185185             132.222222   \n",
      "3               0.000000               0.000000               0.000000   \n",
      "4             232.944444             133.111111             510.259259   \n",
      "\n",
      "   Total_Receitas_2020Q2  ...  Segmento_BOUTIQUE  Segmento_ESPORTIVO  \\\n",
      "0               0.018519  ...                  0                   0   \n",
      "1             737.037037  ...                  0                   1   \n",
      "2             440.740741  ...                  0                   1   \n",
      "3               0.000000  ...                  0                   1   \n",
      "4             354.962963  ...                  0                   1   \n",
      "\n",
      "   Segmento_GERAL  Segmento_INFANTIL  Género_FEMININO  Género_GERAL  \\\n",
      "0               1                  0                0             1   \n",
      "1               0                  0                0             1   \n",
      "2               0                  0                0             1   \n",
      "3               0                  0                0             1   \n",
      "4               0                  0                0             1   \n",
      "\n",
      "   Género_MASCULINO  Estação_ANUAL  Estação_INVERNO  Estação_VERÃO  \n",
      "0                 0              1                0              0  \n",
      "1                 0              1                0              0  \n",
      "2                 0              1                0              0  \n",
      "3                 0              1                0              0  \n",
      "4                 0              1                0              0  \n",
      "\n",
      "[5 rows x 487 columns]\n"
     ]
    },
    {
     "name": "stderr",
     "output_type": "stream",
     "text": [
      "C:\\Users\\silve\\AppData\\Local\\Temp\\ipykernel_7132\\3605348517.py:8: FutureWarning: In a future version of pandas all arguments of DataFrame.drop except for the argument 'labels' will be keyword-only.\n",
      "  df = df.drop(x, 1)\n",
      "C:\\Users\\silve\\AppData\\Local\\Temp\\ipykernel_7132\\3605348517.py:8: FutureWarning: In a future version of pandas all arguments of DataFrame.drop except for the argument 'labels' will be keyword-only.\n",
      "  df = df.drop(x, 1)\n",
      "C:\\Users\\silve\\AppData\\Local\\Temp\\ipykernel_7132\\3605348517.py:8: FutureWarning: In a future version of pandas all arguments of DataFrame.drop except for the argument 'labels' will be keyword-only.\n",
      "  df = df.drop(x, 1)\n",
      "C:\\Users\\silve\\AppData\\Local\\Temp\\ipykernel_7132\\3605348517.py:8: FutureWarning: In a future version of pandas all arguments of DataFrame.drop except for the argument 'labels' will be keyword-only.\n",
      "  df = df.drop(x, 1)\n",
      "C:\\Users\\silve\\AppData\\Local\\Temp\\ipykernel_7132\\3605348517.py:8: FutureWarning: In a future version of pandas all arguments of DataFrame.drop except for the argument 'labels' will be keyword-only.\n",
      "  df = df.drop(x, 1)\n",
      "C:\\Users\\silve\\AppData\\Local\\Temp\\ipykernel_7132\\3605348517.py:8: FutureWarning: In a future version of pandas all arguments of DataFrame.drop except for the argument 'labels' will be keyword-only.\n",
      "  df = df.drop(x, 1)\n",
      "C:\\Users\\silve\\AppData\\Local\\Temp\\ipykernel_7132\\3605348517.py:8: FutureWarning: In a future version of pandas all arguments of DataFrame.drop except for the argument 'labels' will be keyword-only.\n",
      "  df = df.drop(x, 1)\n"
     ]
    }
   ],
   "source": [
    "\n",
    "# Aplicamos a função e verificamos o resultado\n",
    "df = dummy_df(df, todummy_list)\n",
    "print(df.head(5))\n",
    "\n"
   ]
  },
  {
   "cell_type": "code",
   "execution_count": 18,
   "id": "e27e45b1-4b31-4685-96f0-86b88a1f3e3f",
   "metadata": {},
   "outputs": [
    {
     "data": {
      "text/plain": [
       "Total_Receitas_2018Q1          0\n",
       "Tipo_CAMISETA M/C ORIGINALS    0\n",
       "Tipo_CORDA                     0\n",
       "Tipo_COQUILHA                  0\n",
       "Tipo_COLLANT                   0\n",
       "dtype: int64"
      ]
     },
     "execution_count": 18,
     "metadata": {},
     "output_type": "execute_result"
    }
   ],
   "source": [
    "\n",
    "\n",
    "# Quais são os dados em falta?\n",
    "df.isnull().sum().sort_values(ascending=False).head()\n",
    "\n"
   ]
  },
  {
   "cell_type": "code",
   "execution_count": 19,
   "id": "33b94dfa-17f9-40da-97df-132b54ca47d7",
   "metadata": {},
   "outputs": [
    {
     "data": {
      "text/plain": [
       "Total_Receitas_2018Q1          0\n",
       "Tipo_CAMISETA M/C ORIGINALS    0\n",
       "Tipo_CORDA                     0\n",
       "Tipo_COQUILHA                  0\n",
       "Tipo_COLLANT                   0\n",
       "dtype: int64"
      ]
     },
     "execution_count": 19,
     "metadata": {},
     "output_type": "execute_result"
    }
   ],
   "source": [
    "\n",
    "\n",
    "# Quais são os dados em falta?\n",
    "df.isnull().sum().sort_values(ascending=False).head()\n",
    "\n"
   ]
  },
  {
   "cell_type": "code",
   "execution_count": 20,
   "id": "0441db36-59db-4bc4-9439-7453653f01ee",
   "metadata": {},
   "outputs": [],
   "source": [
    "\n",
    "\n",
    "# Use pyplot in matplotlib to plot histograms\n",
    "#%matplotlib inline\n",
    "import matplotlib.pyplot as plt\n",
    "\n",
    "def plot_histogram(x):\n",
    "    plt.hist(x, color='gray', alpha=0.5)\n",
    "    plt.title(\"Histogram of '{var_name}'\".format(var_name=x.name))\n",
    "    plt.xlabel(\"Value\")\n",
    "    plt.ylabel(\"Frequency\")\n",
    "    plt.show()\n",
    "\n",
    "    "
   ]
  },
  {
   "cell_type": "code",
   "execution_count": 21,
   "id": "18ab8f51-61af-4259-8184-db0c92e036e8",
   "metadata": {},
   "outputs": [
    {
     "data": {
      "image/png": "[encoded data removed]",
      "text/plain": [
       "<Figure size 640x480 with 1 Axes>"
      ]
     },
     "metadata": {},
     "output_type": "display_data"
    }
   ],
   "source": [
    "\n",
    "plot_histogram(df['Total_Unidades_Vendidas_2022Q4'])\n"
   ]
  },
  {
   "cell_type": "code",
   "execution_count": 22,
   "id": "e65bbf1d-230f-4495-b5f6-30743f0f2183",
   "metadata": {},
   "outputs": [],
   "source": [
    "\n",
    "# Verificamos a distribuição do total de vendas no período pré-covid entre todos os produtos.\n",
    "df2 = df.copy()\n",
    "df2 = df2.assign(Unidades_Totais2019=df2[\"Total_Unidades_Vendidas_2018Q1\"] + df2[\"Total_Unidades_Vendidas_2018Q2\"] + df2[\"Total_Unidades_Vendidas_2018Q3\"] + df2[\"Total_Unidades_Vendidas_2018Q4\"] \n",
    "               + df2[\"Total_Unidades_Vendidas_2019Q1\"] + df2[\"Total_Unidades_Vendidas_2019Q2\"] + df2[\"Total_Unidades_Vendidas_2019Q3\"] + df2[\"Total_Unidades_Vendidas_2019Q4\"])\n",
    "\n"
   ]
  },
  {
   "cell_type": "code",
   "execution_count": 23,
   "id": "a6176e0a-3de1-4226-88d5-e077717a2985",
   "metadata": {},
   "outputs": [
    {
     "name": "stdout",
     "output_type": "stream",
     "text": [
      "174.0     1\n",
      "135.0     1\n",
      "176.0     1\n",
      "145.0     1\n",
      "156.0     1\n",
      "154.0     1\n",
      "165.0     1\n",
      "170.0     1\n",
      "179.0     1\n",
      "113.0     1\n",
      "80.0      1\n",
      "96.0      1\n",
      "200.0     1\n",
      "88.0      1\n",
      "157.0     1\n",
      "193.0     1\n",
      "167.0     1\n",
      "122.0     1\n",
      "307.0     1\n",
      "126.0     1\n",
      "132.0     1\n",
      "609.0     1\n",
      "107.0     1\n",
      "68.0      1\n",
      "151.0     1\n",
      "236.0     1\n",
      "246.0     1\n",
      "266.0     1\n",
      "235.0     1\n",
      "326.0     1\n",
      "546.0     1\n",
      "169.0     1\n",
      "303.0     1\n",
      "108.0     1\n",
      "125.0     1\n",
      "199.0     1\n",
      "137.0     1\n",
      "202.0     1\n",
      "368.0     1\n",
      "119.0     1\n",
      "159.0     1\n",
      "571.0     1\n",
      "254.0     1\n",
      "1313.0    1\n",
      "146.0     1\n",
      "194.0     1\n",
      "1021.0    1\n",
      "932.0     1\n",
      "173.0     1\n",
      "160.0     1\n",
      "Name: Unidades_Totais2019, dtype: int64\n"
     ]
    }
   ],
   "source": [
    "print(df2['Unidades_Totais2019'].value_counts().sort_values(ascending=True).head(50))"
   ]
  },
  {
   "cell_type": "code",
   "execution_count": 24,
   "id": "2e595d05-f219-4eab-bf94-4d98715498be",
   "metadata": {},
   "outputs": [],
   "source": [
    "\n",
    "\n",
    "# Use PolynomialFeatures in sklearn.preprocessing to create two-way interactions for all features\n",
    "from itertools import combinations\n",
    "from sklearn.preprocessing import PolynomialFeatures\n",
    "\n",
    "def add_interactions(df):\n",
    "    # Get feature names\n",
    "    combos = list(combinations(list(df.columns), 2))\n",
    "    colnames = list(df.columns) + ['_'.join(x) for x in combos]\n",
    "    \n",
    "    # Find interactions\n",
    "    poly = PolynomialFeatures(interaction_only=True, include_bias=False)\n",
    "    df = poly.fit_transform(df)\n",
    "    df = pd.DataFrame(df)\n",
    "    df.columns = colnames\n",
    "    \n",
    "    # Remove interaction terms with all 0 values            \n",
    "    noint_indicies = [i for i, x in enumerate(list((df == 0).all())) if x]\n",
    "    df = df.drop(df.columns[noint_indicies], axis=1)\n",
    "    \n",
    "    return df\n",
    "\n"
   ]
  },
  {
   "cell_type": "code",
   "execution_count": 25,
   "id": "505c34cf-cb9b-4917-9ba3-282e50daf148",
   "metadata": {},
   "outputs": [
    {
     "name": "stdout",
     "output_type": "stream",
     "text": [
      "   Total_Receitas_2018Q1  Total_Receitas_2018Q2  Total_Receitas_2018Q3  \\\n",
      "0               0.000000               0.000000               0.000000   \n",
      "1             176.666667             294.444444              88.333333   \n",
      "2               0.000000               0.000000               0.000000   \n",
      "3               0.000000               0.000000               0.000000   \n",
      "4             410.425926              99.833333              88.740741   \n",
      "\n",
      "   Total_Receitas_2018Q4  Total_Receitas_2019Q1  Total_Receitas_2019Q2  \\\n",
      "0               0.027778               0.009259               0.000000   \n",
      "1             265.000000             294.444444             176.666667   \n",
      "2              22.037037              44.074074               0.000000   \n",
      "3              47.962963               0.000000               0.000000   \n",
      "4             155.296296             166.388889              77.648148   \n",
      "\n",
      "   Total_Receitas_2019Q3  Total_Receitas_2019Q4  Total_Receitas_2020Q1  \\\n",
      "0               0.018519               0.000000               0.000000   \n",
      "1             257.962963             147.407407             147.407407   \n",
      "2               0.000000             110.185185             132.222222   \n",
      "3               0.000000               0.000000               0.000000   \n",
      "4             232.944444             133.111111             510.259259   \n",
      "\n",
      "   Total_Receitas_2020Q2  ...  Segmento_INFANTIL_Estação_VERÃO  \\\n",
      "0               0.018519  ...                              0.0   \n",
      "1             737.037037  ...                              0.0   \n",
      "2             440.740741  ...                              0.0   \n",
      "3               0.000000  ...                              0.0   \n",
      "4             354.962963  ...                              0.0   \n",
      "\n",
      "   Género_FEMININO_Estação_ANUAL  Género_FEMININO_Estação_INVERNO  \\\n",
      "0                            0.0                              0.0   \n",
      "1                            0.0                              0.0   \n",
      "2                            0.0                              0.0   \n",
      "3                            0.0                              0.0   \n",
      "4                            0.0                              0.0   \n",
      "\n",
      "   Género_FEMININO_Estação_VERÃO  Género_GERAL_Estação_ANUAL  \\\n",
      "0                            0.0                         1.0   \n",
      "1                            0.0                         1.0   \n",
      "2                            0.0                         1.0   \n",
      "3                            0.0                         1.0   \n",
      "4                            0.0                         1.0   \n",
      "\n",
      "   Género_GERAL_Estação_INVERNO  Género_GERAL_Estação_VERÃO  \\\n",
      "0                           0.0                         0.0   \n",
      "1                           0.0                         0.0   \n",
      "2                           0.0                         0.0   \n",
      "3                           0.0                         0.0   \n",
      "4                           0.0                         0.0   \n",
      "\n",
      "   Género_MASCULINO_Estação_ANUAL  Género_MASCULINO_Estação_INVERNO  \\\n",
      "0                             0.0                               0.0   \n",
      "1                             0.0                               0.0   \n",
      "2                             0.0                               0.0   \n",
      "3                             0.0                               0.0   \n",
      "4                             0.0                               0.0   \n",
      "\n",
      "   Género_MASCULINO_Estação_VERÃO  \n",
      "0                             0.0  \n",
      "1                             0.0  \n",
      "2                             0.0  \n",
      "3                             0.0  \n",
      "4                             0.0  \n",
      "\n",
      "[5 rows x 14984 columns]\n"
     ]
    }
   ],
   "source": [
    "\n",
    "# Assign X as a DataFrame of features and y as a Series of the outcome variable\n",
    "df = add_interactions(df)\n",
    "print(df.head(5))\n",
    "\n"
   ]
  },
  {
   "cell_type": "code",
   "execution_count": 28,
   "id": "bf399fb0-9c07-44b4-8404-bca93b1808ba",
   "metadata": {},
   "outputs": [
    {
     "name": "stderr",
     "output_type": "stream",
     "text": [
      "C:\\Users\\silve\\AppData\\Local\\Temp\\ipykernel_7132\\3779654755.py:1: FutureWarning: In a future version of pandas all arguments of DataFrame.drop except for the argument 'labels' will be keyword-only.\n",
      "  X = df.drop('Total_Receitas_2022Q4', 1)\n"
     ]
    }
   ],
   "source": [
    "\n",
    "\n",
    "X = df.drop('Total_Receitas_2022Q4', 1)\n",
    "Y = df.Total_Receitas_2022Q4\n",
    "\n"
   ]
  },
  {
   "cell_type": "code",
   "execution_count": 31,
   "id": "fe529167-9d48-4ec3-9ffb-e1033108dae5",
   "metadata": {},
   "outputs": [],
   "source": [
    "\n",
    "\n",
    "\n",
    "\n",
    "# Use train_test_split in sklearn.cross_validation to split data into train and test sets\n",
    "from sklearn.model_selection import train_test_split\n",
    "\n",
    "X_train, X_test, y_train, y_test = train_test_split(X, Y, train_size=0.70, random_state=1)\n",
    "\n",
    "\n"
   ]
  },
  {
   "cell_type": "code",
   "execution_count": 33,
   "id": "45939f61-32f8-40be-8046-2429d31cf345",
   "metadata": {},
   "outputs": [
    {
     "name": "stdout",
     "output_type": "stream",
     "text": [
      "(10845, 14984)\n",
      "(10845, 14983)\n"
     ]
    }
   ],
   "source": [
    "\n",
    "\n",
    "\n",
    "# The total number of features have grown substantially after dummying and adding interaction terms\n",
    "print(df.shape)\n",
    "print(X.shape)\n",
    "\n"
   ]
  },
  {
   "cell_type": "code",
   "execution_count": 34,
   "id": "bbe4c9bb-4704-4f46-b804-5cb6d6cc3fc0",
   "metadata": {},
   "outputs": [
    {
     "name": "stderr",
     "output_type": "stream",
     "text": [
      "C:\\Users\\silve\\AppData\\Local\\Programs\\Python\\Python310\\lib\\site-packages\\sklearn\\feature_selection\\_univariate_selection.py:112: UserWarning: Features [   44    52    62 ... 14882 14884 14952] are constant.\n",
      "  warnings.warn(\"Features %s are constant.\" % constant_features_idx, UserWarning)\n",
      "C:\\Users\\silve\\AppData\\Local\\Programs\\Python\\Python310\\lib\\site-packages\\sklearn\\feature_selection\\_univariate_selection.py:113: RuntimeWarning: divide by zero encountered in divide\n",
      "  f = msb / msw\n",
      "C:\\Users\\silve\\AppData\\Local\\Programs\\Python\\Python310\\lib\\site-packages\\sklearn\\feature_selection\\_univariate_selection.py:113: RuntimeWarning: invalid value encountered in divide\n",
      "  f = msb / msw\n"
     ]
    }
   ],
   "source": [
    "\n",
    "\n",
    "\n",
    "\n",
    "# Such a large set of features can cause overfitting and also slow computing\n",
    "# Use feature selection to select the most important features\n",
    "import sklearn.feature_selection\n",
    "\n",
    "select = sklearn.feature_selection.SelectKBest(k=20)\n",
    "selected_features = select.fit(X_train, y_train)\n",
    "indices_selected = selected_features.get_support(indices=True)\n",
    "colnames_selected = [X.columns[i] for i in indices_selected]\n",
    "\n",
    "X_train_selected = X_train[colnames_selected]\n",
    "X_test_selected = X_test[colnames_selected]\n",
    "\n"
   ]
  },
  {
   "cell_type": "code",
   "execution_count": 35,
   "id": "882d57b5-652d-47a1-9ba1-c41cca73b983",
   "metadata": {},
   "outputs": [
    {
     "name": "stdout",
     "output_type": "stream",
     "text": [
      "['NomeMarca_Produto_ADIDAS_Tipo_TENIS', 'NomeMarca_Produto_BULLTERRIER_Estação_INVERNO', 'NomeMarca_Produto_DWJ_Tipo_SACO', 'NomeMarca_Produto_FORT SPUMA_Género_MASCULINO', 'NomeMarca_Produto_MACBOOT_Unidade_Produto_UN', 'NomeMarca_Produto_PENALTY_Tipo_FAIXA', 'NomeMarca_Produto_PENALTY_Tipo_LUVA MUSCULAÇÃO', 'NomeMarca_Produto_PENALTY_Tipo_VALVULA', 'NomeMarca_Produto_REALTEX_Tipo_LUVA', 'NomeMarca_Produto_ROLA MOCA_Tipo_BERMUDA', 'NomeMarca_Produto_SCALIBU_Tipo_AGULHA', 'NomeMarca_Produto_WILSON_Tipo_BOLA TÊNIS', 'Tipo_BERMUDA_Unidade_Produto_PR', 'Tipo_CHUTEIRA CAMPO_Segmento_GERAL', 'Tipo_TENIS_Género_GERAL', 'Tipo_VALVULA_Unidade_Produto_UN', 'Tipo_VALVULA_Negócio_ACESSÓRIOS', 'Tipo_VALVULA_Segmento_ESPORTIVO', 'Tipo_VALVULA_Género_GERAL', 'Tipo_VALVULA_Estação_ANUAL']\n"
     ]
    }
   ],
   "source": [
    "\n",
    "\n",
    "\n",
    "\n",
    "print(colnames_selected)\n",
    "\n",
    "\n"
   ]
  },
  {
   "cell_type": "code",
   "execution_count": 36,
   "id": "fc7eb4cf-eac7-4498-a0de-5a59f4bc0457",
   "metadata": {},
   "outputs": [],
   "source": [
    "\n",
    "\n",
    "# Function to build model and find model performance\n",
    "from sklearn.linear_model import LogisticRegression\n",
    "from sklearn.metrics import roc_auc_score\n",
    "\n",
    "def find_model_perf(X_train, y_train, X_test, y_test):\n",
    "    model = LogisticRegression()\n",
    "    model.fit(X_train, y_train)\n",
    "    y_hat = [x[1] for x in model.predict_proba(X_test)]\n",
    "    auc = roc_auc_score(y_test, y_hat)\n",
    "    \n",
    "    return auc\n",
    "\n"
   ]
  },
  {
   "cell_type": "code",
   "execution_count": 37,
   "id": "770fa18a-75e1-43e7-9ed5-bea30e5142c1",
   "metadata": {},
   "outputs": [
    {
     "ename": "ValueError",
     "evalue": "Unknown label type: 'continuous'",
     "output_type": "error",
     "traceback": [
      "\u001b[1;31m---------------------------------------------------------------------------\u001b[0m",
      "\u001b[1;31mValueError\u001b[0m                                Traceback (most recent call last)",
      "Cell \u001b[1;32mIn [37], line 2\u001b[0m\n\u001b[0;32m      1\u001b[0m \u001b[38;5;66;03m# Find performance of model using preprocessed data\u001b[39;00m\n\u001b[1;32m----> 2\u001b[0m auc_processed \u001b[38;5;241m=\u001b[39m \u001b[43mfind_model_perf\u001b[49m\u001b[43m(\u001b[49m\u001b[43mX_train_selected\u001b[49m\u001b[43m,\u001b[49m\u001b[43m \u001b[49m\u001b[43my_train\u001b[49m\u001b[43m,\u001b[49m\u001b[43m \u001b[49m\u001b[43mX_test_selected\u001b[49m\u001b[43m,\u001b[49m\u001b[43m \u001b[49m\u001b[43my_test\u001b[49m\u001b[43m)\u001b[49m\n\u001b[0;32m      3\u001b[0m \u001b[38;5;28mprint\u001b[39m(auc_processed)\n",
      "Cell \u001b[1;32mIn [36], line 7\u001b[0m, in \u001b[0;36mfind_model_perf\u001b[1;34m(X_train, y_train, X_test, y_test)\u001b[0m\n\u001b[0;32m      5\u001b[0m \u001b[38;5;28;01mdef\u001b[39;00m \u001b[38;5;21mfind_model_perf\u001b[39m(X_train, y_train, X_test, y_test):\n\u001b[0;32m      6\u001b[0m     model \u001b[38;5;241m=\u001b[39m LogisticRegression()\n\u001b[1;32m----> 7\u001b[0m     \u001b[43mmodel\u001b[49m\u001b[38;5;241;43m.\u001b[39;49m\u001b[43mfit\u001b[49m\u001b[43m(\u001b[49m\u001b[43mX_train\u001b[49m\u001b[43m,\u001b[49m\u001b[43m \u001b[49m\u001b[43my_train\u001b[49m\u001b[43m)\u001b[49m\n\u001b[0;32m      8\u001b[0m     y_hat \u001b[38;5;241m=\u001b[39m [x[\u001b[38;5;241m1\u001b[39m] \u001b[38;5;28;01mfor\u001b[39;00m x \u001b[38;5;129;01min\u001b[39;00m model\u001b[38;5;241m.\u001b[39mpredict_proba(X_test)]\n\u001b[0;32m      9\u001b[0m     auc \u001b[38;5;241m=\u001b[39m roc_auc_score(y_test, y_hat)\n",
      "File \u001b[1;32m~\\AppData\\Local\\Programs\\Python\\Python310\\lib\\site-packages\\sklearn\\linear_model\\_logistic.py:1204\u001b[0m, in \u001b[0;36mLogisticRegression.fit\u001b[1;34m(self, X, y, sample_weight)\u001b[0m\n\u001b[0;32m   1194\u001b[0m     _dtype \u001b[38;5;241m=\u001b[39m [np\u001b[38;5;241m.\u001b[39mfloat64, np\u001b[38;5;241m.\u001b[39mfloat32]\n\u001b[0;32m   1196\u001b[0m X, y \u001b[38;5;241m=\u001b[39m \u001b[38;5;28mself\u001b[39m\u001b[38;5;241m.\u001b[39m_validate_data(\n\u001b[0;32m   1197\u001b[0m     X,\n\u001b[0;32m   1198\u001b[0m     y,\n\u001b[1;32m   (...)\u001b[0m\n\u001b[0;32m   1202\u001b[0m     accept_large_sparse\u001b[38;5;241m=\u001b[39msolver \u001b[38;5;129;01mnot\u001b[39;00m \u001b[38;5;129;01min\u001b[39;00m [\u001b[38;5;124m\"\u001b[39m\u001b[38;5;124mliblinear\u001b[39m\u001b[38;5;124m\"\u001b[39m, \u001b[38;5;124m\"\u001b[39m\u001b[38;5;124msag\u001b[39m\u001b[38;5;124m\"\u001b[39m, \u001b[38;5;124m\"\u001b[39m\u001b[38;5;124msaga\u001b[39m\u001b[38;5;124m\"\u001b[39m],\n\u001b[0;32m   1203\u001b[0m )\n\u001b[1;32m-> 1204\u001b[0m \u001b[43mcheck_classification_targets\u001b[49m\u001b[43m(\u001b[49m\u001b[43my\u001b[49m\u001b[43m)\u001b[49m\n\u001b[0;32m   1205\u001b[0m \u001b[38;5;28mself\u001b[39m\u001b[38;5;241m.\u001b[39mclasses_ \u001b[38;5;241m=\u001b[39m np\u001b[38;5;241m.\u001b[39munique(y)\n\u001b[0;32m   1207\u001b[0m multi_class \u001b[38;5;241m=\u001b[39m _check_multi_class(\u001b[38;5;28mself\u001b[39m\u001b[38;5;241m.\u001b[39mmulti_class, solver, \u001b[38;5;28mlen\u001b[39m(\u001b[38;5;28mself\u001b[39m\u001b[38;5;241m.\u001b[39mclasses_))\n",
      "File \u001b[1;32m~\\AppData\\Local\\Programs\\Python\\Python310\\lib\\site-packages\\sklearn\\utils\\multiclass.py:207\u001b[0m, in \u001b[0;36mcheck_classification_targets\u001b[1;34m(y)\u001b[0m\n\u001b[0;32m    199\u001b[0m y_type \u001b[38;5;241m=\u001b[39m type_of_target(y, input_name\u001b[38;5;241m=\u001b[39m\u001b[38;5;124m\"\u001b[39m\u001b[38;5;124my\u001b[39m\u001b[38;5;124m\"\u001b[39m)\n\u001b[0;32m    200\u001b[0m \u001b[38;5;28;01mif\u001b[39;00m y_type \u001b[38;5;129;01mnot\u001b[39;00m \u001b[38;5;129;01min\u001b[39;00m [\n\u001b[0;32m    201\u001b[0m     \u001b[38;5;124m\"\u001b[39m\u001b[38;5;124mbinary\u001b[39m\u001b[38;5;124m\"\u001b[39m,\n\u001b[0;32m    202\u001b[0m     \u001b[38;5;124m\"\u001b[39m\u001b[38;5;124mmulticlass\u001b[39m\u001b[38;5;124m\"\u001b[39m,\n\u001b[1;32m   (...)\u001b[0m\n\u001b[0;32m    205\u001b[0m     \u001b[38;5;124m\"\u001b[39m\u001b[38;5;124mmultilabel-sequences\u001b[39m\u001b[38;5;124m\"\u001b[39m,\n\u001b[0;32m    206\u001b[0m ]:\n\u001b[1;32m--> 207\u001b[0m     \u001b[38;5;28;01mraise\u001b[39;00m \u001b[38;5;167;01mValueError\u001b[39;00m(\u001b[38;5;124m\"\u001b[39m\u001b[38;5;124mUnknown label type: \u001b[39m\u001b[38;5;132;01m%r\u001b[39;00m\u001b[38;5;124m\"\u001b[39m \u001b[38;5;241m%\u001b[39m y_type)\n",
      "\u001b[1;31mValueError\u001b[0m: Unknown label type: 'continuous'"
     ]
    }
   ],
   "source": [
    "\n",
    "\n",
    "# Find performance of model using preprocessed data\n",
    "auc_processed = find_model_perf(X_train_selected, y_train, X_test_selected, y_test)\n",
    "print(auc_processed)\n",
    "\n"
   ]
  },
  {
   "cell_type": "code",
   "execution_count": 39,
   "id": "1733bbd3-17c9-4904-9d2f-4421d1aa32ee",
   "metadata": {},
   "outputs": [
    {
     "name": "stdout",
     "output_type": "stream",
     "text": [
      "(10845, 14984)\n",
      "(10845, 14984)\n"
     ]
    }
   ],
   "source": [
    "# Drop missing values so model does not throw any error\n",
    "df_unprocessed = df\n",
    "df_unprocessed = df_unprocessed.dropna(axis=0, how='any')\n",
    "print(df.shape)\n",
    "print(df_unprocessed.shape)"
   ]
  },
  {
   "cell_type": "code",
   "execution_count": 44,
   "id": "76eab832-50a4-4ae7-b97c-464c8c85f880",
   "metadata": {},
   "outputs": [
    {
     "name": "stderr",
     "output_type": "stream",
     "text": [
      "C:\\Users\\silve\\AppData\\Local\\Temp\\ipykernel_7132\\187425290.py:4: FutureWarning: In a future version of pandas all arguments of DataFrame.drop except for the argument 'labels' will be keyword-only.\n",
      "  df_unprocessed = df_unprocessed.drop(col_name, 1)\n",
      "C:\\Users\\silve\\AppData\\Local\\Temp\\ipykernel_7132\\187425290.py:4: FutureWarning: In a future version of pandas all arguments of DataFrame.drop except for the argument 'labels' will be keyword-only.\n",
      "  df_unprocessed = df_unprocessed.drop(col_name, 1)\n",
      "C:\\Users\\silve\\AppData\\Local\\Temp\\ipykernel_7132\\187425290.py:4: FutureWarning: In a future version of pandas all arguments of DataFrame.drop except for the argument 'labels' will be keyword-only.\n",
      "  df_unprocessed = df_unprocessed.drop(col_name, 1)\n",
      "C:\\Users\\silve\\AppData\\Local\\Temp\\ipykernel_7132\\187425290.py:4: FutureWarning: In a future version of pandas all arguments of DataFrame.drop except for the argument 'labels' will be keyword-only.\n",
      "  df_unprocessed = df_unprocessed.drop(col_name, 1)\n",
      "C:\\Users\\silve\\AppData\\Local\\Temp\\ipykernel_7132\\187425290.py:4: FutureWarning: In a future version of pandas all arguments of DataFrame.drop except for the argument 'labels' will be keyword-only.\n",
      "  df_unprocessed = df_unprocessed.drop(col_name, 1)\n",
      "C:\\Users\\silve\\AppData\\Local\\Temp\\ipykernel_7132\\187425290.py:4: FutureWarning: In a future version of pandas all arguments of DataFrame.drop except for the argument 'labels' will be keyword-only.\n",
      "  df_unprocessed = df_unprocessed.drop(col_name, 1)\n",
      "C:\\Users\\silve\\AppData\\Local\\Temp\\ipykernel_7132\\187425290.py:4: FutureWarning: In a future version of pandas all arguments of DataFrame.drop except for the argument 'labels' will be keyword-only.\n",
      "  df_unprocessed = df_unprocessed.drop(col_name, 1)\n",
      "C:\\Users\\silve\\AppData\\Local\\Temp\\ipykernel_7132\\187425290.py:4: FutureWarning: In a future version of pandas all arguments of DataFrame.drop except for the argument 'labels' will be keyword-only.\n",
      "  df_unprocessed = df_unprocessed.drop(col_name, 1)\n",
      "C:\\Users\\silve\\AppData\\Local\\Temp\\ipykernel_7132\\187425290.py:4: FutureWarning: In a future version of pandas all arguments of DataFrame.drop except for the argument 'labels' will be keyword-only.\n",
      "  df_unprocessed = df_unprocessed.drop(col_name, 1)\n",
      "C:\\Users\\silve\\AppData\\Local\\Temp\\ipykernel_7132\\187425290.py:4: FutureWarning: In a future version of pandas all arguments of DataFrame.drop except for the argument 'labels' will be keyword-only.\n",
      "  df_unprocessed = df_unprocessed.drop(col_name, 1)\n",
      "C:\\Users\\silve\\AppData\\Local\\Temp\\ipykernel_7132\\187425290.py:4: FutureWarning: In a future version of pandas all arguments of DataFrame.drop except for the argument 'labels' will be keyword-only.\n",
      "  df_unprocessed = df_unprocessed.drop(col_name, 1)\n",
      "C:\\Users\\silve\\AppData\\Local\\Temp\\ipykernel_7132\\187425290.py:4: FutureWarning: In a future version of pandas all arguments of DataFrame.drop except for the argument 'labels' will be keyword-only.\n",
      "  df_unprocessed = df_unprocessed.drop(col_name, 1)\n",
      "C:\\Users\\silve\\AppData\\Local\\Temp\\ipykernel_7132\\187425290.py:4: FutureWarning: In a future version of pandas all arguments of DataFrame.drop except for the argument 'labels' will be keyword-only.\n",
      "  df_unprocessed = df_unprocessed.drop(col_name, 1)\n",
      "C:\\Users\\silve\\AppData\\Local\\Temp\\ipykernel_7132\\187425290.py:4: FutureWarning: In a future version of pandas all arguments of DataFrame.drop except for the argument 'labels' will be keyword-only.\n",
      "  df_unprocessed = df_unprocessed.drop(col_name, 1)\n",
      "C:\\Users\\silve\\AppData\\Local\\Temp\\ipykernel_7132\\187425290.py:4: FutureWarning: In a future version of pandas all arguments of DataFrame.drop except for the argument 'labels' will be keyword-only.\n",
      "  df_unprocessed = df_unprocessed.drop(col_name, 1)\n",
      "C:\\Users\\silve\\AppData\\Local\\Temp\\ipykernel_7132\\187425290.py:4: FutureWarning: In a future version of pandas all arguments of DataFrame.drop except for the argument 'labels' will be keyword-only.\n",
      "  df_unprocessed = df_unprocessed.drop(col_name, 1)\n",
      "C:\\Users\\silve\\AppData\\Local\\Temp\\ipykernel_7132\\187425290.py:4: FutureWarning: In a future version of pandas all arguments of DataFrame.drop except for the argument 'labels' will be keyword-only.\n",
      "  df_unprocessed = df_unprocessed.drop(col_name, 1)\n",
      "C:\\Users\\silve\\AppData\\Local\\Temp\\ipykernel_7132\\187425290.py:4: FutureWarning: In a future version of pandas all arguments of DataFrame.drop except for the argument 'labels' will be keyword-only.\n",
      "  df_unprocessed = df_unprocessed.drop(col_name, 1)\n",
      "C:\\Users\\silve\\AppData\\Local\\Temp\\ipykernel_7132\\187425290.py:4: FutureWarning: In a future version of pandas all arguments of DataFrame.drop except for the argument 'labels' will be keyword-only.\n",
      "  df_unprocessed = df_unprocessed.drop(col_name, 1)\n",
      "C:\\Users\\silve\\AppData\\Local\\Temp\\ipykernel_7132\\187425290.py:4: FutureWarning: In a future version of pandas all arguments of DataFrame.drop except for the argument 'labels' will be keyword-only.\n",
      "  df_unprocessed = df_unprocessed.drop(col_name, 1)\n",
      "C:\\Users\\silve\\AppData\\Local\\Temp\\ipykernel_7132\\187425290.py:4: FutureWarning: In a future version of pandas all arguments of DataFrame.drop except for the argument 'labels' will be keyword-only.\n",
      "  df_unprocessed = df_unprocessed.drop(col_name, 1)\n",
      "C:\\Users\\silve\\AppData\\Local\\Temp\\ipykernel_7132\\187425290.py:4: FutureWarning: In a future version of pandas all arguments of DataFrame.drop except for the argument 'labels' will be keyword-only.\n",
      "  df_unprocessed = df_unprocessed.drop(col_name, 1)\n",
      "C:\\Users\\silve\\AppData\\Local\\Temp\\ipykernel_7132\\187425290.py:4: FutureWarning: In a future version of pandas all arguments of DataFrame.drop except for the argument 'labels' will be keyword-only.\n",
      "  df_unprocessed = df_unprocessed.drop(col_name, 1)\n",
      "C:\\Users\\silve\\AppData\\Local\\Temp\\ipykernel_7132\\187425290.py:4: FutureWarning: In a future version of pandas all arguments of DataFrame.drop except for the argument 'labels' will be keyword-only.\n",
      "  df_unprocessed = df_unprocessed.drop(col_name, 1)\n",
      "C:\\Users\\silve\\AppData\\Local\\Temp\\ipykernel_7132\\187425290.py:4: FutureWarning: In a future version of pandas all arguments of DataFrame.drop except for the argument 'labels' will be keyword-only.\n",
      "  df_unprocessed = df_unprocessed.drop(col_name, 1)\n",
      "C:\\Users\\silve\\AppData\\Local\\Temp\\ipykernel_7132\\187425290.py:4: FutureWarning: In a future version of pandas all arguments of DataFrame.drop except for the argument 'labels' will be keyword-only.\n",
      "  df_unprocessed = df_unprocessed.drop(col_name, 1)\n",
      "C:\\Users\\silve\\AppData\\Local\\Temp\\ipykernel_7132\\187425290.py:4: FutureWarning: In a future version of pandas all arguments of DataFrame.drop except for the argument 'labels' will be keyword-only.\n",
      "  df_unprocessed = df_unprocessed.drop(col_name, 1)\n",
      "C:\\Users\\silve\\AppData\\Local\\Temp\\ipykernel_7132\\187425290.py:4: FutureWarning: In a future version of pandas all arguments of DataFrame.drop except for the argument 'labels' will be keyword-only.\n",
      "  df_unprocessed = df_unprocessed.drop(col_name, 1)\n",
      "C:\\Users\\silve\\AppData\\Local\\Temp\\ipykernel_7132\\187425290.py:4: FutureWarning: In a future version of pandas all arguments of DataFrame.drop except for the argument 'labels' will be keyword-only.\n",
      "  df_unprocessed = df_unprocessed.drop(col_name, 1)\n",
      "C:\\Users\\silve\\AppData\\Local\\Temp\\ipykernel_7132\\187425290.py:4: FutureWarning: In a future version of pandas all arguments of DataFrame.drop except for the argument 'labels' will be keyword-only.\n",
      "  df_unprocessed = df_unprocessed.drop(col_name, 1)\n",
      "C:\\Users\\silve\\AppData\\Local\\Temp\\ipykernel_7132\\187425290.py:4: FutureWarning: In a future version of pandas all arguments of DataFrame.drop except for the argument 'labels' will be keyword-only.\n",
      "  df_unprocessed = df_unprocessed.drop(col_name, 1)\n",
      "C:\\Users\\silve\\AppData\\Local\\Temp\\ipykernel_7132\\187425290.py:4: FutureWarning: In a future version of pandas all arguments of DataFrame.drop except for the argument 'labels' will be keyword-only.\n",
      "  df_unprocessed = df_unprocessed.drop(col_name, 1)\n",
      "C:\\Users\\silve\\AppData\\Local\\Temp\\ipykernel_7132\\187425290.py:4: FutureWarning: In a future version of pandas all arguments of DataFrame.drop except for the argument 'labels' will be keyword-only.\n",
      "  df_unprocessed = df_unprocessed.drop(col_name, 1)\n",
      "C:\\Users\\silve\\AppData\\Local\\Temp\\ipykernel_7132\\187425290.py:4: FutureWarning: In a future version of pandas all arguments of DataFrame.drop except for the argument 'labels' will be keyword-only.\n",
      "  df_unprocessed = df_unprocessed.drop(col_name, 1)\n",
      "C:\\Users\\silve\\AppData\\Local\\Temp\\ipykernel_7132\\187425290.py:4: FutureWarning: In a future version of pandas all arguments of DataFrame.drop except for the argument 'labels' will be keyword-only.\n",
      "  df_unprocessed = df_unprocessed.drop(col_name, 1)\n",
      "C:\\Users\\silve\\AppData\\Local\\Temp\\ipykernel_7132\\187425290.py:4: FutureWarning: In a future version of pandas all arguments of DataFrame.drop except for the argument 'labels' will be keyword-only.\n",
      "  df_unprocessed = df_unprocessed.drop(col_name, 1)\n",
      "C:\\Users\\silve\\AppData\\Local\\Temp\\ipykernel_7132\\187425290.py:4: FutureWarning: In a future version of pandas all arguments of DataFrame.drop except for the argument 'labels' will be keyword-only.\n",
      "  df_unprocessed = df_unprocessed.drop(col_name, 1)\n",
      "C:\\Users\\silve\\AppData\\Local\\Temp\\ipykernel_7132\\187425290.py:4: FutureWarning: In a future version of pandas all arguments of DataFrame.drop except for the argument 'labels' will be keyword-only.\n",
      "  df_unprocessed = df_unprocessed.drop(col_name, 1)\n",
      "C:\\Users\\silve\\AppData\\Local\\Temp\\ipykernel_7132\\187425290.py:4: FutureWarning: In a future version of pandas all arguments of DataFrame.drop except for the argument 'labels' will be keyword-only.\n",
      "  df_unprocessed = df_unprocessed.drop(col_name, 1)\n",
      "C:\\Users\\silve\\AppData\\Local\\Temp\\ipykernel_7132\\187425290.py:4: FutureWarning: In a future version of pandas all arguments of DataFrame.drop except for the argument 'labels' will be keyword-only.\n",
      "  df_unprocessed = df_unprocessed.drop(col_name, 1)\n",
      "C:\\Users\\silve\\AppData\\Local\\Temp\\ipykernel_7132\\187425290.py:4: FutureWarning: In a future version of pandas all arguments of DataFrame.drop except for the argument 'labels' will be keyword-only.\n",
      "  df_unprocessed = df_unprocessed.drop(col_name, 1)\n",
      "C:\\Users\\silve\\AppData\\Local\\Temp\\ipykernel_7132\\187425290.py:4: FutureWarning: In a future version of pandas all arguments of DataFrame.drop except for the argument 'labels' will be keyword-only.\n",
      "  df_unprocessed = df_unprocessed.drop(col_name, 1)\n",
      "C:\\Users\\silve\\AppData\\Local\\Temp\\ipykernel_7132\\187425290.py:4: FutureWarning: In a future version of pandas all arguments of DataFrame.drop except for the argument 'labels' will be keyword-only.\n",
      "  df_unprocessed = df_unprocessed.drop(col_name, 1)\n",
      "C:\\Users\\silve\\AppData\\Local\\Temp\\ipykernel_7132\\187425290.py:4: FutureWarning: In a future version of pandas all arguments of DataFrame.drop except for the argument 'labels' will be keyword-only.\n",
      "  df_unprocessed = df_unprocessed.drop(col_name, 1)\n",
      "C:\\Users\\silve\\AppData\\Local\\Temp\\ipykernel_7132\\187425290.py:4: FutureWarning: In a future version of pandas all arguments of DataFrame.drop except for the argument 'labels' will be keyword-only.\n",
      "  df_unprocessed = df_unprocessed.drop(col_name, 1)\n",
      "C:\\Users\\silve\\AppData\\Local\\Temp\\ipykernel_7132\\187425290.py:4: FutureWarning: In a future version of pandas all arguments of DataFrame.drop except for the argument 'labels' will be keyword-only.\n",
      "  df_unprocessed = df_unprocessed.drop(col_name, 1)\n",
      "C:\\Users\\silve\\AppData\\Local\\Temp\\ipykernel_7132\\187425290.py:4: FutureWarning: In a future version of pandas all arguments of DataFrame.drop except for the argument 'labels' will be keyword-only.\n",
      "  df_unprocessed = df_unprocessed.drop(col_name, 1)\n",
      "C:\\Users\\silve\\AppData\\Local\\Temp\\ipykernel_7132\\187425290.py:4: FutureWarning: In a future version of pandas all arguments of DataFrame.drop except for the argument 'labels' will be keyword-only.\n",
      "  df_unprocessed = df_unprocessed.drop(col_name, 1)\n",
      "C:\\Users\\silve\\AppData\\Local\\Temp\\ipykernel_7132\\187425290.py:4: FutureWarning: In a future version of pandas all arguments of DataFrame.drop except for the argument 'labels' will be keyword-only.\n",
      "  df_unprocessed = df_unprocessed.drop(col_name, 1)\n",
      "C:\\Users\\silve\\AppData\\Local\\Temp\\ipykernel_7132\\187425290.py:4: FutureWarning: In a future version of pandas all arguments of DataFrame.drop except for the argument 'labels' will be keyword-only.\n",
      "  df_unprocessed = df_unprocessed.drop(col_name, 1)\n",
      "C:\\Users\\silve\\AppData\\Local\\Temp\\ipykernel_7132\\187425290.py:4: FutureWarning: In a future version of pandas all arguments of DataFrame.drop except for the argument 'labels' will be keyword-only.\n",
      "  df_unprocessed = df_unprocessed.drop(col_name, 1)\n",
      "C:\\Users\\silve\\AppData\\Local\\Temp\\ipykernel_7132\\187425290.py:4: FutureWarning: In a future version of pandas all arguments of DataFrame.drop except for the argument 'labels' will be keyword-only.\n",
      "  df_unprocessed = df_unprocessed.drop(col_name, 1)\n",
      "C:\\Users\\silve\\AppData\\Local\\Temp\\ipykernel_7132\\187425290.py:4: FutureWarning: In a future version of pandas all arguments of DataFrame.drop except for the argument 'labels' will be keyword-only.\n",
      "  df_unprocessed = df_unprocessed.drop(col_name, 1)\n",
      "C:\\Users\\silve\\AppData\\Local\\Temp\\ipykernel_7132\\187425290.py:4: FutureWarning: In a future version of pandas all arguments of DataFrame.drop except for the argument 'labels' will be keyword-only.\n",
      "  df_unprocessed = df_unprocessed.drop(col_name, 1)\n",
      "C:\\Users\\silve\\AppData\\Local\\Temp\\ipykernel_7132\\187425290.py:4: FutureWarning: In a future version of pandas all arguments of DataFrame.drop except for the argument 'labels' will be keyword-only.\n",
      "  df_unprocessed = df_unprocessed.drop(col_name, 1)\n",
      "C:\\Users\\silve\\AppData\\Local\\Temp\\ipykernel_7132\\187425290.py:4: FutureWarning: In a future version of pandas all arguments of DataFrame.drop except for the argument 'labels' will be keyword-only.\n",
      "  df_unprocessed = df_unprocessed.drop(col_name, 1)\n",
      "C:\\Users\\silve\\AppData\\Local\\Temp\\ipykernel_7132\\187425290.py:4: FutureWarning: In a future version of pandas all arguments of DataFrame.drop except for the argument 'labels' will be keyword-only.\n",
      "  df_unprocessed = df_unprocessed.drop(col_name, 1)\n",
      "C:\\Users\\silve\\AppData\\Local\\Temp\\ipykernel_7132\\187425290.py:4: FutureWarning: In a future version of pandas all arguments of DataFrame.drop except for the argument 'labels' will be keyword-only.\n",
      "  df_unprocessed = df_unprocessed.drop(col_name, 1)\n",
      "C:\\Users\\silve\\AppData\\Local\\Temp\\ipykernel_7132\\187425290.py:4: FutureWarning: In a future version of pandas all arguments of DataFrame.drop except for the argument 'labels' will be keyword-only.\n",
      "  df_unprocessed = df_unprocessed.drop(col_name, 1)\n",
      "C:\\Users\\silve\\AppData\\Local\\Temp\\ipykernel_7132\\187425290.py:4: FutureWarning: In a future version of pandas all arguments of DataFrame.drop except for the argument 'labels' will be keyword-only.\n",
      "  df_unprocessed = df_unprocessed.drop(col_name, 1)\n",
      "C:\\Users\\silve\\AppData\\Local\\Temp\\ipykernel_7132\\187425290.py:4: FutureWarning: In a future version of pandas all arguments of DataFrame.drop except for the argument 'labels' will be keyword-only.\n",
      "  df_unprocessed = df_unprocessed.drop(col_name, 1)\n",
      "C:\\Users\\silve\\AppData\\Local\\Temp\\ipykernel_7132\\187425290.py:4: FutureWarning: In a future version of pandas all arguments of DataFrame.drop except for the argument 'labels' will be keyword-only.\n",
      "  df_unprocessed = df_unprocessed.drop(col_name, 1)\n",
      "C:\\Users\\silve\\AppData\\Local\\Temp\\ipykernel_7132\\187425290.py:4: FutureWarning: In a future version of pandas all arguments of DataFrame.drop except for the argument 'labels' will be keyword-only.\n",
      "  df_unprocessed = df_unprocessed.drop(col_name, 1)\n",
      "C:\\Users\\silve\\AppData\\Local\\Temp\\ipykernel_7132\\187425290.py:4: FutureWarning: In a future version of pandas all arguments of DataFrame.drop except for the argument 'labels' will be keyword-only.\n",
      "  df_unprocessed = df_unprocessed.drop(col_name, 1)\n",
      "C:\\Users\\silve\\AppData\\Local\\Temp\\ipykernel_7132\\187425290.py:4: FutureWarning: In a future version of pandas all arguments of DataFrame.drop except for the argument 'labels' will be keyword-only.\n",
      "  df_unprocessed = df_unprocessed.drop(col_name, 1)\n",
      "C:\\Users\\silve\\AppData\\Local\\Temp\\ipykernel_7132\\187425290.py:4: FutureWarning: In a future version of pandas all arguments of DataFrame.drop except for the argument 'labels' will be keyword-only.\n",
      "  df_unprocessed = df_unprocessed.drop(col_name, 1)\n",
      "C:\\Users\\silve\\AppData\\Local\\Temp\\ipykernel_7132\\187425290.py:4: FutureWarning: In a future version of pandas all arguments of DataFrame.drop except for the argument 'labels' will be keyword-only.\n",
      "  df_unprocessed = df_unprocessed.drop(col_name, 1)\n",
      "C:\\Users\\silve\\AppData\\Local\\Temp\\ipykernel_7132\\187425290.py:4: FutureWarning: In a future version of pandas all arguments of DataFrame.drop except for the argument 'labels' will be keyword-only.\n",
      "  df_unprocessed = df_unprocessed.drop(col_name, 1)\n",
      "C:\\Users\\silve\\AppData\\Local\\Temp\\ipykernel_7132\\187425290.py:4: FutureWarning: In a future version of pandas all arguments of DataFrame.drop except for the argument 'labels' will be keyword-only.\n",
      "  df_unprocessed = df_unprocessed.drop(col_name, 1)\n",
      "C:\\Users\\silve\\AppData\\Local\\Temp\\ipykernel_7132\\187425290.py:4: FutureWarning: In a future version of pandas all arguments of DataFrame.drop except for the argument 'labels' will be keyword-only.\n",
      "  df_unprocessed = df_unprocessed.drop(col_name, 1)\n",
      "C:\\Users\\silve\\AppData\\Local\\Temp\\ipykernel_7132\\187425290.py:4: FutureWarning: In a future version of pandas all arguments of DataFrame.drop except for the argument 'labels' will be keyword-only.\n",
      "  df_unprocessed = df_unprocessed.drop(col_name, 1)\n",
      "C:\\Users\\silve\\AppData\\Local\\Temp\\ipykernel_7132\\187425290.py:4: FutureWarning: In a future version of pandas all arguments of DataFrame.drop except for the argument 'labels' will be keyword-only.\n",
      "  df_unprocessed = df_unprocessed.drop(col_name, 1)\n",
      "C:\\Users\\silve\\AppData\\Local\\Temp\\ipykernel_7132\\187425290.py:4: FutureWarning: In a future version of pandas all arguments of DataFrame.drop except for the argument 'labels' will be keyword-only.\n",
      "  df_unprocessed = df_unprocessed.drop(col_name, 1)\n",
      "C:\\Users\\silve\\AppData\\Local\\Temp\\ipykernel_7132\\187425290.py:4: FutureWarning: In a future version of pandas all arguments of DataFrame.drop except for the argument 'labels' will be keyword-only.\n",
      "  df_unprocessed = df_unprocessed.drop(col_name, 1)\n",
      "C:\\Users\\silve\\AppData\\Local\\Temp\\ipykernel_7132\\187425290.py:4: FutureWarning: In a future version of pandas all arguments of DataFrame.drop except for the argument 'labels' will be keyword-only.\n",
      "  df_unprocessed = df_unprocessed.drop(col_name, 1)\n",
      "C:\\Users\\silve\\AppData\\Local\\Temp\\ipykernel_7132\\187425290.py:4: FutureWarning: In a future version of pandas all arguments of DataFrame.drop except for the argument 'labels' will be keyword-only.\n",
      "  df_unprocessed = df_unprocessed.drop(col_name, 1)\n",
      "C:\\Users\\silve\\AppData\\Local\\Temp\\ipykernel_7132\\187425290.py:4: FutureWarning: In a future version of pandas all arguments of DataFrame.drop except for the argument 'labels' will be keyword-only.\n",
      "  df_unprocessed = df_unprocessed.drop(col_name, 1)\n"
     ]
    },
    {
     "ename": "KeyboardInterrupt",
     "evalue": "",
     "output_type": "error",
     "traceback": [
      "\u001b[1;31m---------------------------------------------------------------------------\u001b[0m",
      "\u001b[1;31mKeyboardInterrupt\u001b[0m                         Traceback (most recent call last)",
      "Cell \u001b[1;32mIn [44], line 3\u001b[0m\n\u001b[0;32m      1\u001b[0m \u001b[38;5;66;03m# Remove non-numeric columns so model does not throw an error\u001b[39;00m\n\u001b[0;32m      2\u001b[0m \u001b[38;5;28;01mfor\u001b[39;00m col_name \u001b[38;5;129;01min\u001b[39;00m df_unprocessed\u001b[38;5;241m.\u001b[39mcolumns:\n\u001b[1;32m----> 3\u001b[0m     \u001b[38;5;28;01mif\u001b[39;00m \u001b[43mdf_unprocessed\u001b[49m\u001b[43m[\u001b[49m\u001b[43mcol_name\u001b[49m\u001b[43m]\u001b[49m\u001b[38;5;241m.\u001b[39mdtypes \u001b[38;5;129;01mnot\u001b[39;00m \u001b[38;5;129;01min\u001b[39;00m [\u001b[38;5;124m'\u001b[39m\u001b[38;5;124mint32\u001b[39m\u001b[38;5;124m'\u001b[39m,\u001b[38;5;124m'\u001b[39m\u001b[38;5;124mint64\u001b[39m\u001b[38;5;124m'\u001b[39m]:\n\u001b[0;32m      4\u001b[0m         df_unprocessed \u001b[38;5;241m=\u001b[39m df_unprocessed\u001b[38;5;241m.\u001b[39mdrop(col_name, \u001b[38;5;241m1\u001b[39m)\n",
      "File \u001b[1;32m~\\AppData\\Local\\Programs\\Python\\Python310\\lib\\site-packages\\pandas\\core\\frame.py:3756\u001b[0m, in \u001b[0;36mDataFrame.__getitem__\u001b[1;34m(self, key)\u001b[0m\n\u001b[0;32m   3753\u001b[0m     \u001b[38;5;28;01mfor\u001b[39;00m i \u001b[38;5;129;01min\u001b[39;00m \u001b[38;5;28mrange\u001b[39m(\u001b[38;5;28mlen\u001b[39m(\u001b[38;5;28mself\u001b[39m\u001b[38;5;241m.\u001b[39mcolumns)):\n\u001b[0;32m   3754\u001b[0m         \u001b[38;5;28;01myield\u001b[39;00m \u001b[38;5;28mself\u001b[39m\u001b[38;5;241m.\u001b[39m_get_column_array(i)\n\u001b[1;32m-> 3756\u001b[0m \u001b[38;5;28;01mdef\u001b[39;00m \u001b[38;5;21m__getitem__\u001b[39m(\u001b[38;5;28mself\u001b[39m, key):\n\u001b[0;32m   3757\u001b[0m     check_deprecated_indexers(key)\n\u001b[0;32m   3758\u001b[0m     key \u001b[38;5;241m=\u001b[39m lib\u001b[38;5;241m.\u001b[39mitem_from_zerodim(key)\n",
      "\u001b[1;31mKeyboardInterrupt\u001b[0m: "
     ]
    }
   ],
   "source": [
    "# Remove non-numeric columns so model does not throw an error\n",
    "for col_name in df_unprocessed.columns:\n",
    "    if df_unprocessed[col_name].dtypes not in ['int32','int64','float32','float64']:\n",
    "        df_unprocessed = df_unprocessed.drop(col_name, 1)"
   ]
  },
  {
   "cell_type": "code",
   "execution_count": 45,
   "id": "674779c7-fd23-4a19-8793-afdbb5d19f6c",
   "metadata": {},
   "outputs": [
    {
     "name": "stderr",
     "output_type": "stream",
     "text": [
      "C:\\Users\\silve\\AppData\\Local\\Temp\\ipykernel_7132\\1969130672.py:2: FutureWarning: In a future version of pandas all arguments of DataFrame.drop except for the argument 'labels' will be keyword-only.\n",
      "  X_unprocessed = df_unprocessed.drop('Total_Receitas_2022Q4', 1)\n"
     ]
    },
    {
     "ename": "KeyError",
     "evalue": "\"['Total_Receitas_2022Q4'] not found in axis\"",
     "output_type": "error",
     "traceback": [
      "\u001b[1;31m---------------------------------------------------------------------------\u001b[0m",
      "\u001b[1;31mKeyError\u001b[0m                                  Traceback (most recent call last)",
      "Cell \u001b[1;32mIn [45], line 2\u001b[0m\n\u001b[0;32m      1\u001b[0m \u001b[38;5;66;03m# Split into features and outcomes\u001b[39;00m\n\u001b[1;32m----> 2\u001b[0m X_unprocessed \u001b[38;5;241m=\u001b[39m \u001b[43mdf_unprocessed\u001b[49m\u001b[38;5;241;43m.\u001b[39;49m\u001b[43mdrop\u001b[49m\u001b[43m(\u001b[49m\u001b[38;5;124;43m'\u001b[39;49m\u001b[38;5;124;43mTotal_Receitas_2022Q4\u001b[39;49m\u001b[38;5;124;43m'\u001b[39;49m\u001b[43m,\u001b[49m\u001b[43m \u001b[49m\u001b[38;5;241;43m1\u001b[39;49m\u001b[43m)\u001b[49m\n\u001b[0;32m      3\u001b[0m y_unprocessed \u001b[38;5;241m=\u001b[39m df_unprocessed\u001b[38;5;241m.\u001b[39mTotal_Receitas_2022Q4\n",
      "File \u001b[1;32m~\\AppData\\Local\\Programs\\Python\\Python310\\lib\\site-packages\\pandas\\util\\_decorators.py:331\u001b[0m, in \u001b[0;36mdeprecate_nonkeyword_arguments.<locals>.decorate.<locals>.wrapper\u001b[1;34m(*args, **kwargs)\u001b[0m\n\u001b[0;32m    325\u001b[0m \u001b[38;5;28;01mif\u001b[39;00m \u001b[38;5;28mlen\u001b[39m(args) \u001b[38;5;241m>\u001b[39m num_allow_args:\n\u001b[0;32m    326\u001b[0m     warnings\u001b[38;5;241m.\u001b[39mwarn(\n\u001b[0;32m    327\u001b[0m         msg\u001b[38;5;241m.\u001b[39mformat(arguments\u001b[38;5;241m=\u001b[39m_format_argument_list(allow_args)),\n\u001b[0;32m    328\u001b[0m         \u001b[38;5;167;01mFutureWarning\u001b[39;00m,\n\u001b[0;32m    329\u001b[0m         stacklevel\u001b[38;5;241m=\u001b[39mfind_stack_level(),\n\u001b[0;32m    330\u001b[0m     )\n\u001b[1;32m--> 331\u001b[0m \u001b[38;5;28;01mreturn\u001b[39;00m func(\u001b[38;5;241m*\u001b[39margs, \u001b[38;5;241m*\u001b[39m\u001b[38;5;241m*\u001b[39mkwargs)\n",
      "File \u001b[1;32m~\\AppData\\Local\\Programs\\Python\\Python310\\lib\\site-packages\\pandas\\core\\frame.py:5396\u001b[0m, in \u001b[0;36mDataFrame.drop\u001b[1;34m(self, labels, axis, index, columns, level, inplace, errors)\u001b[0m\n\u001b[0;32m   5248\u001b[0m \u001b[38;5;129m@deprecate_nonkeyword_arguments\u001b[39m(version\u001b[38;5;241m=\u001b[39m\u001b[38;5;28;01mNone\u001b[39;00m, allowed_args\u001b[38;5;241m=\u001b[39m[\u001b[38;5;124m\"\u001b[39m\u001b[38;5;124mself\u001b[39m\u001b[38;5;124m\"\u001b[39m, \u001b[38;5;124m\"\u001b[39m\u001b[38;5;124mlabels\u001b[39m\u001b[38;5;124m\"\u001b[39m])\n\u001b[0;32m   5249\u001b[0m \u001b[38;5;28;01mdef\u001b[39;00m \u001b[38;5;21mdrop\u001b[39m(  \u001b[38;5;66;03m# type: ignore[override]\u001b[39;00m\n\u001b[0;32m   5250\u001b[0m     \u001b[38;5;28mself\u001b[39m,\n\u001b[1;32m   (...)\u001b[0m\n\u001b[0;32m   5257\u001b[0m     errors: IgnoreRaise \u001b[38;5;241m=\u001b[39m \u001b[38;5;124m\"\u001b[39m\u001b[38;5;124mraise\u001b[39m\u001b[38;5;124m\"\u001b[39m,\n\u001b[0;32m   5258\u001b[0m ) \u001b[38;5;241m-\u001b[39m\u001b[38;5;241m>\u001b[39m DataFrame \u001b[38;5;241m|\u001b[39m \u001b[38;5;28;01mNone\u001b[39;00m:\n\u001b[0;32m   5259\u001b[0m     \u001b[38;5;124;03m\"\"\"\u001b[39;00m\n\u001b[0;32m   5260\u001b[0m \u001b[38;5;124;03m    Drop specified labels from rows or columns.\u001b[39;00m\n\u001b[0;32m   5261\u001b[0m \n\u001b[1;32m   (...)\u001b[0m\n\u001b[0;32m   5394\u001b[0m \u001b[38;5;124;03m            weight  1.0     0.8\u001b[39;00m\n\u001b[0;32m   5395\u001b[0m \u001b[38;5;124;03m    \"\"\"\u001b[39;00m\n\u001b[1;32m-> 5396\u001b[0m     \u001b[38;5;28;01mreturn\u001b[39;00m \u001b[38;5;28;43msuper\u001b[39;49m\u001b[43m(\u001b[49m\u001b[43m)\u001b[49m\u001b[38;5;241;43m.\u001b[39;49m\u001b[43mdrop\u001b[49m\u001b[43m(\u001b[49m\n\u001b[0;32m   5397\u001b[0m \u001b[43m        \u001b[49m\u001b[43mlabels\u001b[49m\u001b[38;5;241;43m=\u001b[39;49m\u001b[43mlabels\u001b[49m\u001b[43m,\u001b[49m\n\u001b[0;32m   5398\u001b[0m \u001b[43m        \u001b[49m\u001b[43maxis\u001b[49m\u001b[38;5;241;43m=\u001b[39;49m\u001b[43maxis\u001b[49m\u001b[43m,\u001b[49m\n\u001b[0;32m   5399\u001b[0m \u001b[43m        \u001b[49m\u001b[43mindex\u001b[49m\u001b[38;5;241;43m=\u001b[39;49m\u001b[43mindex\u001b[49m\u001b[43m,\u001b[49m\n\u001b[0;32m   5400\u001b[0m \u001b[43m        \u001b[49m\u001b[43mcolumns\u001b[49m\u001b[38;5;241;43m=\u001b[39;49m\u001b[43mcolumns\u001b[49m\u001b[43m,\u001b[49m\n\u001b[0;32m   5401\u001b[0m \u001b[43m        \u001b[49m\u001b[43mlevel\u001b[49m\u001b[38;5;241;43m=\u001b[39;49m\u001b[43mlevel\u001b[49m\u001b[43m,\u001b[49m\n\u001b[0;32m   5402\u001b[0m \u001b[43m        \u001b[49m\u001b[43minplace\u001b[49m\u001b[38;5;241;43m=\u001b[39;49m\u001b[43minplace\u001b[49m\u001b[43m,\u001b[49m\n\u001b[0;32m   5403\u001b[0m \u001b[43m        \u001b[49m\u001b[43merrors\u001b[49m\u001b[38;5;241;43m=\u001b[39;49m\u001b[43merrors\u001b[49m\u001b[43m,\u001b[49m\n\u001b[0;32m   5404\u001b[0m \u001b[43m    \u001b[49m\u001b[43m)\u001b[49m\n",
      "File \u001b[1;32m~\\AppData\\Local\\Programs\\Python\\Python310\\lib\\site-packages\\pandas\\util\\_decorators.py:331\u001b[0m, in \u001b[0;36mdeprecate_nonkeyword_arguments.<locals>.decorate.<locals>.wrapper\u001b[1;34m(*args, **kwargs)\u001b[0m\n\u001b[0;32m    325\u001b[0m \u001b[38;5;28;01mif\u001b[39;00m \u001b[38;5;28mlen\u001b[39m(args) \u001b[38;5;241m>\u001b[39m num_allow_args:\n\u001b[0;32m    326\u001b[0m     warnings\u001b[38;5;241m.\u001b[39mwarn(\n\u001b[0;32m    327\u001b[0m         msg\u001b[38;5;241m.\u001b[39mformat(arguments\u001b[38;5;241m=\u001b[39m_format_argument_list(allow_args)),\n\u001b[0;32m    328\u001b[0m         \u001b[38;5;167;01mFutureWarning\u001b[39;00m,\n\u001b[0;32m    329\u001b[0m         stacklevel\u001b[38;5;241m=\u001b[39mfind_stack_level(),\n\u001b[0;32m    330\u001b[0m     )\n\u001b[1;32m--> 331\u001b[0m \u001b[38;5;28;01mreturn\u001b[39;00m func(\u001b[38;5;241m*\u001b[39margs, \u001b[38;5;241m*\u001b[39m\u001b[38;5;241m*\u001b[39mkwargs)\n",
      "File \u001b[1;32m~\\AppData\\Local\\Programs\\Python\\Python310\\lib\\site-packages\\pandas\\core\\generic.py:4505\u001b[0m, in \u001b[0;36mNDFrame.drop\u001b[1;34m(self, labels, axis, index, columns, level, inplace, errors)\u001b[0m\n\u001b[0;32m   4503\u001b[0m \u001b[38;5;28;01mfor\u001b[39;00m axis, labels \u001b[38;5;129;01min\u001b[39;00m axes\u001b[38;5;241m.\u001b[39mitems():\n\u001b[0;32m   4504\u001b[0m     \u001b[38;5;28;01mif\u001b[39;00m labels \u001b[38;5;129;01mis\u001b[39;00m \u001b[38;5;129;01mnot\u001b[39;00m \u001b[38;5;28;01mNone\u001b[39;00m:\n\u001b[1;32m-> 4505\u001b[0m         obj \u001b[38;5;241m=\u001b[39m \u001b[43mobj\u001b[49m\u001b[38;5;241;43m.\u001b[39;49m\u001b[43m_drop_axis\u001b[49m\u001b[43m(\u001b[49m\u001b[43mlabels\u001b[49m\u001b[43m,\u001b[49m\u001b[43m \u001b[49m\u001b[43maxis\u001b[49m\u001b[43m,\u001b[49m\u001b[43m \u001b[49m\u001b[43mlevel\u001b[49m\u001b[38;5;241;43m=\u001b[39;49m\u001b[43mlevel\u001b[49m\u001b[43m,\u001b[49m\u001b[43m \u001b[49m\u001b[43merrors\u001b[49m\u001b[38;5;241;43m=\u001b[39;49m\u001b[43merrors\u001b[49m\u001b[43m)\u001b[49m\n\u001b[0;32m   4507\u001b[0m \u001b[38;5;28;01mif\u001b[39;00m inplace:\n\u001b[0;32m   4508\u001b[0m     \u001b[38;5;28mself\u001b[39m\u001b[38;5;241m.\u001b[39m_update_inplace(obj)\n",
      "File \u001b[1;32m~\\AppData\\Local\\Programs\\Python\\Python310\\lib\\site-packages\\pandas\\core\\generic.py:4546\u001b[0m, in \u001b[0;36mNDFrame._drop_axis\u001b[1;34m(self, labels, axis, level, errors, only_slice)\u001b[0m\n\u001b[0;32m   4544\u001b[0m         new_axis \u001b[38;5;241m=\u001b[39m axis\u001b[38;5;241m.\u001b[39mdrop(labels, level\u001b[38;5;241m=\u001b[39mlevel, errors\u001b[38;5;241m=\u001b[39merrors)\n\u001b[0;32m   4545\u001b[0m     \u001b[38;5;28;01melse\u001b[39;00m:\n\u001b[1;32m-> 4546\u001b[0m         new_axis \u001b[38;5;241m=\u001b[39m \u001b[43maxis\u001b[49m\u001b[38;5;241;43m.\u001b[39;49m\u001b[43mdrop\u001b[49m\u001b[43m(\u001b[49m\u001b[43mlabels\u001b[49m\u001b[43m,\u001b[49m\u001b[43m \u001b[49m\u001b[43merrors\u001b[49m\u001b[38;5;241;43m=\u001b[39;49m\u001b[43merrors\u001b[49m\u001b[43m)\u001b[49m\n\u001b[0;32m   4547\u001b[0m     indexer \u001b[38;5;241m=\u001b[39m axis\u001b[38;5;241m.\u001b[39mget_indexer(new_axis)\n\u001b[0;32m   4549\u001b[0m \u001b[38;5;66;03m# Case for non-unique axis\u001b[39;00m\n\u001b[0;32m   4550\u001b[0m \u001b[38;5;28;01melse\u001b[39;00m:\n",
      "File \u001b[1;32m~\\AppData\\Local\\Programs\\Python\\Python310\\lib\\site-packages\\pandas\\core\\indexes\\base.py:6977\u001b[0m, in \u001b[0;36mIndex.drop\u001b[1;34m(self, labels, errors)\u001b[0m\n\u001b[0;32m   6975\u001b[0m \u001b[38;5;28;01mif\u001b[39;00m mask\u001b[38;5;241m.\u001b[39many():\n\u001b[0;32m   6976\u001b[0m     \u001b[38;5;28;01mif\u001b[39;00m errors \u001b[38;5;241m!=\u001b[39m \u001b[38;5;124m\"\u001b[39m\u001b[38;5;124mignore\u001b[39m\u001b[38;5;124m\"\u001b[39m:\n\u001b[1;32m-> 6977\u001b[0m         \u001b[38;5;28;01mraise\u001b[39;00m \u001b[38;5;167;01mKeyError\u001b[39;00m(\u001b[38;5;124mf\u001b[39m\u001b[38;5;124m\"\u001b[39m\u001b[38;5;132;01m{\u001b[39;00m\u001b[38;5;28mlist\u001b[39m(labels[mask])\u001b[38;5;132;01m}\u001b[39;00m\u001b[38;5;124m not found in axis\u001b[39m\u001b[38;5;124m\"\u001b[39m)\n\u001b[0;32m   6978\u001b[0m     indexer \u001b[38;5;241m=\u001b[39m indexer[\u001b[38;5;241m~\u001b[39mmask]\n\u001b[0;32m   6979\u001b[0m \u001b[38;5;28;01mreturn\u001b[39;00m \u001b[38;5;28mself\u001b[39m\u001b[38;5;241m.\u001b[39mdelete(indexer)\n",
      "\u001b[1;31mKeyError\u001b[0m: \"['Total_Receitas_2022Q4'] not found in axis\""
     ]
    }
   ],
   "source": [
    "# Split into features and outcomes\n",
    "X_unprocessed = df_unprocessed.drop('Total_Receitas_2022Q4', 1)\n",
    "y_unprocessed = df_unprocessed.Total_Receitas_2022Q4"
   ]
  },
  {
   "cell_type": "code",
   "execution_count": 46,
   "id": "b19c0c5d-feae-43de-b876-0730d63d0cfd",
   "metadata": {},
   "outputs": [
    {
     "name": "stdout",
     "output_type": "stream",
     "text": [
      "   Total_Receitas_2018Q1  Total_Receitas_2018Q2  Total_Receitas_2018Q3  \\\n",
      "0               0.000000               0.000000               0.000000   \n",
      "1             176.666667             294.444444              88.333333   \n",
      "2               0.000000               0.000000               0.000000   \n",
      "3               0.000000               0.000000               0.000000   \n",
      "4             410.425926              99.833333              88.740741   \n",
      "\n",
      "   Total_Receitas_2018Q4  Total_Receitas_2019Q1  Total_Receitas_2019Q2  \\\n",
      "0               0.027778               0.009259               0.000000   \n",
      "1             265.000000             294.444444             176.666667   \n",
      "2              22.037037              44.074074               0.000000   \n",
      "3              47.962963               0.000000               0.000000   \n",
      "4             155.296296             166.388889              77.648148   \n",
      "\n",
      "   Total_Receitas_2019Q3  Total_Receitas_2019Q4  Total_Receitas_2020Q1  \\\n",
      "0               0.018519               0.000000               0.000000   \n",
      "1             257.962963             147.407407             147.407407   \n",
      "2               0.000000             110.185185             132.222222   \n",
      "3               0.000000               0.000000               0.000000   \n",
      "4             232.944444             133.111111             510.259259   \n",
      "\n",
      "   Total_Receitas_2020Q2  ...  Segmento_INFANTIL_Estação_VERÃO  \\\n",
      "0               0.018519  ...                              0.0   \n",
      "1             737.037037  ...                              0.0   \n",
      "2             440.740741  ...                              0.0   \n",
      "3               0.000000  ...                              0.0   \n",
      "4             354.962963  ...                              0.0   \n",
      "\n",
      "   Género_FEMININO_Estação_ANUAL  Género_FEMININO_Estação_INVERNO  \\\n",
      "0                            0.0                              0.0   \n",
      "1                            0.0                              0.0   \n",
      "2                            0.0                              0.0   \n",
      "3                            0.0                              0.0   \n",
      "4                            0.0                              0.0   \n",
      "\n",
      "   Género_FEMININO_Estação_VERÃO  Género_GERAL_Estação_ANUAL  \\\n",
      "0                            0.0                         1.0   \n",
      "1                            0.0                         1.0   \n",
      "2                            0.0                         1.0   \n",
      "3                            0.0                         1.0   \n",
      "4                            0.0                         1.0   \n",
      "\n",
      "   Género_GERAL_Estação_INVERNO  Género_GERAL_Estação_VERÃO  \\\n",
      "0                           0.0                         0.0   \n",
      "1                           0.0                         0.0   \n",
      "2                           0.0                         0.0   \n",
      "3                           0.0                         0.0   \n",
      "4                           0.0                         0.0   \n",
      "\n",
      "   Género_MASCULINO_Estação_ANUAL  Género_MASCULINO_Estação_INVERNO  \\\n",
      "0                             0.0                               0.0   \n",
      "1                             0.0                               0.0   \n",
      "2                             0.0                               0.0   \n",
      "3                             0.0                               0.0   \n",
      "4                             0.0                               0.0   \n",
      "\n",
      "   Género_MASCULINO_Estação_VERÃO  \n",
      "0                             0.0  \n",
      "1                             0.0  \n",
      "2                             0.0  \n",
      "3                             0.0  \n",
      "4                             0.0  \n",
      "\n",
      "[5 rows x 14983 columns]\n"
     ]
    }
   ],
   "source": [
    "# Take a look again at what the unprocessed feature set looks like\n",
    "print(X_unprocessed.head(5))"
   ]
  },
  {
   "cell_type": "code",
   "execution_count": 47,
   "id": "cb4d9a17-dccb-4fdc-a1e0-5669eec9c245",
   "metadata": {},
   "outputs": [
    {
     "ename": "ValueError",
     "evalue": "Unknown label type: 'continuous'",
     "output_type": "error",
     "traceback": [
      "\u001b[1;31m---------------------------------------------------------------------------\u001b[0m",
      "\u001b[1;31mValueError\u001b[0m                                Traceback (most recent call last)",
      "Cell \u001b[1;32mIn [47], line 6\u001b[0m\n\u001b[0;32m      1\u001b[0m \u001b[38;5;66;03m# Split unprocessed data into train and test set\u001b[39;00m\n\u001b[0;32m      2\u001b[0m \u001b[38;5;66;03m# Build model and assess performance\u001b[39;00m\n\u001b[0;32m      3\u001b[0m X_train_unprocessed, X_test_unprocessed, y_train, y_test \u001b[38;5;241m=\u001b[39m train_test_split(\n\u001b[0;32m      4\u001b[0m     X_unprocessed, y_unprocessed, train_size\u001b[38;5;241m=\u001b[39m\u001b[38;5;241m0.70\u001b[39m, random_state\u001b[38;5;241m=\u001b[39m\u001b[38;5;241m1\u001b[39m)\n\u001b[1;32m----> 6\u001b[0m auc_unprocessed \u001b[38;5;241m=\u001b[39m \u001b[43mfind_model_perf\u001b[49m\u001b[43m(\u001b[49m\u001b[43mX_train_unprocessed\u001b[49m\u001b[43m,\u001b[49m\u001b[43m \u001b[49m\u001b[43my_train\u001b[49m\u001b[43m,\u001b[49m\u001b[43m \u001b[49m\u001b[43mX_test_unprocessed\u001b[49m\u001b[43m,\u001b[49m\u001b[43m \u001b[49m\u001b[43my_test\u001b[49m\u001b[43m)\u001b[49m\n\u001b[0;32m      7\u001b[0m \u001b[38;5;28mprint\u001b[39m(auc_unprocessed)\n",
      "Cell \u001b[1;32mIn [36], line 7\u001b[0m, in \u001b[0;36mfind_model_perf\u001b[1;34m(X_train, y_train, X_test, y_test)\u001b[0m\n\u001b[0;32m      5\u001b[0m \u001b[38;5;28;01mdef\u001b[39;00m \u001b[38;5;21mfind_model_perf\u001b[39m(X_train, y_train, X_test, y_test):\n\u001b[0;32m      6\u001b[0m     model \u001b[38;5;241m=\u001b[39m LogisticRegression()\n\u001b[1;32m----> 7\u001b[0m     \u001b[43mmodel\u001b[49m\u001b[38;5;241;43m.\u001b[39;49m\u001b[43mfit\u001b[49m\u001b[43m(\u001b[49m\u001b[43mX_train\u001b[49m\u001b[43m,\u001b[49m\u001b[43m \u001b[49m\u001b[43my_train\u001b[49m\u001b[43m)\u001b[49m\n\u001b[0;32m      8\u001b[0m     y_hat \u001b[38;5;241m=\u001b[39m [x[\u001b[38;5;241m1\u001b[39m] \u001b[38;5;28;01mfor\u001b[39;00m x \u001b[38;5;129;01min\u001b[39;00m model\u001b[38;5;241m.\u001b[39mpredict_proba(X_test)]\n\u001b[0;32m      9\u001b[0m     auc \u001b[38;5;241m=\u001b[39m roc_auc_score(y_test, y_hat)\n",
      "File \u001b[1;32m~\\AppData\\Local\\Programs\\Python\\Python310\\lib\\site-packages\\sklearn\\linear_model\\_logistic.py:1204\u001b[0m, in \u001b[0;36mLogisticRegression.fit\u001b[1;34m(self, X, y, sample_weight)\u001b[0m\n\u001b[0;32m   1194\u001b[0m     _dtype \u001b[38;5;241m=\u001b[39m [np\u001b[38;5;241m.\u001b[39mfloat64, np\u001b[38;5;241m.\u001b[39mfloat32]\n\u001b[0;32m   1196\u001b[0m X, y \u001b[38;5;241m=\u001b[39m \u001b[38;5;28mself\u001b[39m\u001b[38;5;241m.\u001b[39m_validate_data(\n\u001b[0;32m   1197\u001b[0m     X,\n\u001b[0;32m   1198\u001b[0m     y,\n\u001b[1;32m   (...)\u001b[0m\n\u001b[0;32m   1202\u001b[0m     accept_large_sparse\u001b[38;5;241m=\u001b[39msolver \u001b[38;5;129;01mnot\u001b[39;00m \u001b[38;5;129;01min\u001b[39;00m [\u001b[38;5;124m\"\u001b[39m\u001b[38;5;124mliblinear\u001b[39m\u001b[38;5;124m\"\u001b[39m, \u001b[38;5;124m\"\u001b[39m\u001b[38;5;124msag\u001b[39m\u001b[38;5;124m\"\u001b[39m, \u001b[38;5;124m\"\u001b[39m\u001b[38;5;124msaga\u001b[39m\u001b[38;5;124m\"\u001b[39m],\n\u001b[0;32m   1203\u001b[0m )\n\u001b[1;32m-> 1204\u001b[0m \u001b[43mcheck_classification_targets\u001b[49m\u001b[43m(\u001b[49m\u001b[43my\u001b[49m\u001b[43m)\u001b[49m\n\u001b[0;32m   1205\u001b[0m \u001b[38;5;28mself\u001b[39m\u001b[38;5;241m.\u001b[39mclasses_ \u001b[38;5;241m=\u001b[39m np\u001b[38;5;241m.\u001b[39munique(y)\n\u001b[0;32m   1207\u001b[0m multi_class \u001b[38;5;241m=\u001b[39m _check_multi_class(\u001b[38;5;28mself\u001b[39m\u001b[38;5;241m.\u001b[39mmulti_class, solver, \u001b[38;5;28mlen\u001b[39m(\u001b[38;5;28mself\u001b[39m\u001b[38;5;241m.\u001b[39mclasses_))\n",
      "File \u001b[1;32m~\\AppData\\Local\\Programs\\Python\\Python310\\lib\\site-packages\\sklearn\\utils\\multiclass.py:207\u001b[0m, in \u001b[0;36mcheck_classification_targets\u001b[1;34m(y)\u001b[0m\n\u001b[0;32m    199\u001b[0m y_type \u001b[38;5;241m=\u001b[39m type_of_target(y, input_name\u001b[38;5;241m=\u001b[39m\u001b[38;5;124m\"\u001b[39m\u001b[38;5;124my\u001b[39m\u001b[38;5;124m\"\u001b[39m)\n\u001b[0;32m    200\u001b[0m \u001b[38;5;28;01mif\u001b[39;00m y_type \u001b[38;5;129;01mnot\u001b[39;00m \u001b[38;5;129;01min\u001b[39;00m [\n\u001b[0;32m    201\u001b[0m     \u001b[38;5;124m\"\u001b[39m\u001b[38;5;124mbinary\u001b[39m\u001b[38;5;124m\"\u001b[39m,\n\u001b[0;32m    202\u001b[0m     \u001b[38;5;124m\"\u001b[39m\u001b[38;5;124mmulticlass\u001b[39m\u001b[38;5;124m\"\u001b[39m,\n\u001b[1;32m   (...)\u001b[0m\n\u001b[0;32m    205\u001b[0m     \u001b[38;5;124m\"\u001b[39m\u001b[38;5;124mmultilabel-sequences\u001b[39m\u001b[38;5;124m\"\u001b[39m,\n\u001b[0;32m    206\u001b[0m ]:\n\u001b[1;32m--> 207\u001b[0m     \u001b[38;5;28;01mraise\u001b[39;00m \u001b[38;5;167;01mValueError\u001b[39;00m(\u001b[38;5;124m\"\u001b[39m\u001b[38;5;124mUnknown label type: \u001b[39m\u001b[38;5;132;01m%r\u001b[39;00m\u001b[38;5;124m\"\u001b[39m \u001b[38;5;241m%\u001b[39m y_type)\n",
      "\u001b[1;31mValueError\u001b[0m: Unknown label type: 'continuous'"
     ]
    }
   ],
   "source": [
    "# Split unprocessed data into train and test set\n",
    "# Build model and assess performance\n",
    "X_train_unprocessed, X_test_unprocessed, y_train, y_test = train_test_split(\n",
    "    X_unprocessed, y_unprocessed, train_size=0.70, random_state=1)\n",
    "\n",
    "auc_unprocessed = find_model_perf(X_train_unprocessed, y_train, X_test_unprocessed, y_test)\n",
    "print(auc_unprocessed)"
   ]
  },
  {
   "cell_type": "code",
   "execution_count": null,
   "id": "24b79bbe-3b97-43a1-ba43-dd33f93591c3",
   "metadata": {},
   "outputs": [],
   "source": []
  },
  {
   "cell_type": "code",
   "execution_count": null,
   "id": "c24ca768-8fc5-40a2-92b0-751dc58df8f4",
   "metadata": {},
   "outputs": [],
   "source": []
  }
 ],
 "metadata": {
  "kernelspec": {
   "display_name": "Python 3 (ipykernel)",
   "language": "python",
   "name": "python3"
  },
  "language_info": {
   "codemirror_mode": {
    "name": "ipython",
    "version": 3
   },
   "file_extension": ".py",
   "mimetype": "text/x-python",
   "name": "python",
   "nbconvert_exporter": "python",
   "pygments_lexer": "ipython3",
   "version": "3.10.8"
  },
  "vscode": {
   "interpreter": {
    "hash": "dae545736ee78e012acd08c370c6df0e68e8a318016cb2f8480f264d55cb96c2"
   }
  }
 },
 "nbformat": 4,
 "nbformat_minor": 5
}
