{
 "cells": [
  {
   "cell_type": "code",
   "execution_count": 1,
   "id": "09fac7bc",
   "metadata": {},
   "outputs": [
    {
     "name": "stdout",
     "output_type": "stream",
     "text": [
      "Requirement already satisfied: pandas in c:\\users\\hmoreira\\anaconda3\\lib\\site-packages (1.4.4)\n",
      "Requirement already satisfied: numpy>=1.18.5 in c:\\users\\hmoreira\\anaconda3\\lib\\site-packages (from pandas) (1.21.5)\n",
      "Requirement already satisfied: pytz>=2020.1 in c:\\users\\hmoreira\\anaconda3\\lib\\site-packages (from pandas) (2022.1)\n",
      "Requirement already satisfied: python-dateutil>=2.8.1 in c:\\users\\hmoreira\\anaconda3\\lib\\site-packages (from pandas) (2.8.2)\n",
      "Requirement already satisfied: six>=1.5 in c:\\users\\hmoreira\\anaconda3\\lib\\site-packages (from python-dateutil>=2.8.1->pandas) (1.16.0)\n",
      "Note: you may need to restart the kernel to use updated packages.\n",
      "Requirement already satisfied: xlrd in c:\\users\\hmoreira\\anaconda3\\lib\\site-packages (2.0.1)\n",
      "Note: you may need to restart the kernel to use updated packages.\n",
      "Requirement already satisfied: openpyxl in c:\\users\\hmoreira\\anaconda3\\lib\\site-packages (3.0.10)\n",
      "Requirement already satisfied: et_xmlfile in c:\\users\\hmoreira\\anaconda3\\lib\\site-packages (from openpyxl) (1.1.0)\n",
      "Note: you may need to restart the kernel to use updated packages.\n"
     ]
    }
   ],
   "source": [
    "%pip install pandas\n",
    "%pip install xlrd\n",
    "%pip install openpyxl\n"
   ]
  },
  {
   "cell_type": "code",
   "execution_count": 2,
   "id": "471bbf23",
   "metadata": {},
   "outputs": [],
   "source": [
    "import pandas as pd"
   ]
  },
  {
   "cell_type": "code",
   "execution_count": 4,
   "id": "1264d175",
   "metadata": {},
   "outputs": [],
   "source": [
    "dataset_prod_1 = pd.read_excel(\"#DATASET/Produtos/Produtos/Produtos_1.xls\",\"Produtos\")\n",
    "dataset_prod_2 = pd.read_excel(\"#DATASET/Produtos/Produtos/Produtos_2.xls\",\"Query\")\n",
    "dataset_prod_3 = pd.read_excel(\"#DATASET/Produtos/Produtos/Produtos_3.xls\",\"Query\")\n",
    "dataset_prod_4 = pd.read_excel(\"#DATASET/Produtos/Produtos/Produtos_4.xls\",\"Query\")\n",
    "dataset_prod_5 = pd.read_excel(\"#DATASET/Produtos/Produtos/Produtos_5.xls\",\"Query\")\n",
    "dataset_prod_6 = pd.read_excel(\"#DATASET/Produtos/Produtos/Produtos_6.xls\",\"Query\")\n",
    "dataset_prod_7 = pd.read_excel(\"#DATASET/Produtos/Produtos/Produtos_7.xls\",\"Query\")"
   ]
  },
  {
   "cell_type": "code",
   "execution_count": 13,
   "id": "c908960b",
   "metadata": {},
   "outputs": [],
   "source": [
    "dataset_prod_merged = pd.concat([dataset_prod_1,dataset_prod_2,dataset_prod_3,dataset_prod_4,dataset_prod_5,dataset_prod_6,dataset_prod_7])"
   ]
  },
  {
   "cell_type": "code",
   "execution_count": 15,
   "id": "83e06f9f",
   "metadata": {},
   "outputs": [
    {
     "name": "stdout",
     "output_type": "stream",
     "text": [
      "      Código                           Nome                      Descrição  \\\n",
      "0          1              TESTE HOMOLOGACAO              TESTE HOMOLOGACAO   \n",
      "1          2      PENALTY 353026-645 TACTEL      PENALTY 353026-645 TACTEL   \n",
      "2          3      PENALTY 353028-650 TACTEL      PENALTY 353028-650 TACTEL   \n",
      "3          4      PENALTY 353028-625 TACTEL      PENALTY 353028-625 TACTEL   \n",
      "4          5  PENALTY 353025-652 MICROFIBRA  PENALTY 353025-652 MICROFIBRA   \n",
      "...      ...                            ...                            ...   \n",
      "1400  396297       COLUMBIA 1464091/464 MHO       COLUMBIA 1464091/464 MHO   \n",
      "1401  396298       COLUMBIA 1911321/011 PTO       COLUMBIA 1911321/011 PTO   \n",
      "1402  396299       COLUMBIA 1682201/030 CZA       COLUMBIA 1682201/030 CZA   \n",
      "1403  396300       COLUMBIA 1682201/010 PTO       COLUMBIA 1682201/010 PTO   \n",
      "1404  396301        KILDARE 232N MALTE CITY        KILDARE 232N MALTE CITY   \n",
      "\n",
      "     Unidade  Fornecedor  Marca  Estoque  Situação Tributária  IPI de Entrada  \\\n",
      "0         UN         NaN    0.0      NaN                  0.0             0.0   \n",
      "1         UN         NaN    0.0      NaN                  NaN             0.0   \n",
      "2         UN         NaN    0.0      NaN                  NaN             0.0   \n",
      "3         UN         NaN    0.0      NaN                  NaN             0.0   \n",
      "4         UN         NaN    0.0      NaN                  NaN             0.0   \n",
      "...      ...         ...    ...      ...                  ...             ...   \n",
      "1400      UN         NaN    NaN      NaN                  0.0             NaN   \n",
      "1401      UN         NaN    NaN      NaN                  0.0             NaN   \n",
      "1402      UN         NaN    NaN      NaN                  0.0             NaN   \n",
      "1403      UN         NaN    NaN      NaN                  0.0             NaN   \n",
      "1404      PR         NaN    NaN      NaN                  0.0             NaN   \n",
      "\n",
      "      IPI de Saída  ...  Classificação13  Classificação14  Classificação15  \\\n",
      "0              0.0  ...                3                0              230   \n",
      "1              0.0  ...                3                2                1   \n",
      "2              0.0  ...                3                2                1   \n",
      "3              0.0  ...                3                2                1   \n",
      "4              0.0  ...                3                2                1   \n",
      "...            ...  ...              ...              ...              ...   \n",
      "1400           NaN  ...                1                2              203   \n",
      "1401           NaN  ...                1                2              203   \n",
      "1402           NaN  ...                1                2              203   \n",
      "1403           NaN  ...                1                2              203   \n",
      "1404           NaN  ...                2                3              173   \n",
      "\n",
      "      Marcação       CEST  EAN  NCM  Código do Benefício  \\\n",
      "0            0  1234567.0  NaN  NaN                  NaN   \n",
      "1            0        NaN  NaN  NaN                  NaN   \n",
      "2            0        NaN  NaN  NaN                  NaN   \n",
      "3            0        NaN  NaN  NaN                  NaN   \n",
      "4            0        NaN  NaN  NaN                  NaN   \n",
      "...        ...        ...  ...  ...                  ...   \n",
      "1400         3        NaN  NaN  NaN                  NaN   \n",
      "1401         3        NaN  NaN  NaN                  NaN   \n",
      "1402         3        NaN  NaN  NaN                  NaN   \n",
      "1403         3        NaN  NaN  NaN                  NaN   \n",
      "1404         1        NaN  NaN  NaN                  NaN   \n",
      "\n",
      "      Descrição para Internet  Habilitado para Internet  \n",
      "0                         NaN                       NaN  \n",
      "1                         NaN                       NaN  \n",
      "2                         NaN                       NaN  \n",
      "3                         NaN                       NaN  \n",
      "4                         NaN                       NaN  \n",
      "...                       ...                       ...  \n",
      "1400                      NaN                       NaN  \n",
      "1401                      NaN                       NaN  \n",
      "1402                      NaN                       NaN  \n",
      "1403                      NaN                       NaN  \n",
      "1404                      NaN                       NaN  \n",
      "\n",
      "[394615 rows x 51 columns]\n"
     ]
    }
   ],
   "source": [
    "print(dataset_prod_merged)"
   ]
  },
  {
   "cell_type": "code",
   "execution_count": 16,
   "id": "294b5e37",
   "metadata": {},
   "outputs": [
    {
     "name": "stdout",
     "output_type": "stream",
     "text": [
      "394615\n",
      "Size is correct!\n",
      "Number of columns is correct\n",
      "Concatenation was correctly made!\n"
     ]
    }
   ],
   "source": [
    "print(len(dataset_prod_merged))\n",
    "size_all_prod_datasets = len(dataset_prod_1) + len(dataset_prod_2) + len(dataset_prod_4)+ len(dataset_prod_3)+ len(dataset_prod_5)+ len(dataset_prod_6)+ len(dataset_prod_7)\n",
    "if len(dataset_prod_merged) == size_all_prod_datasets :\n",
    "    print(\"Size is correct!\")\n",
    "\n",
    "if len(dataset_prod_merged.columns) == len(dataset_prod_1.columns):\n",
    "    print(\"Number of columns is correct\")\n",
    "\n",
    "print(\"Concatenation was correctly made!\")"
   ]
  },
  {
   "cell_type": "code",
   "execution_count": 18,
   "id": "762f37bd",
   "metadata": {},
   "outputs": [
    {
     "name": "stdout",
     "output_type": "stream",
     "text": [
      "Index(['Código', 'Nome', 'Descrição', 'Unidade', 'Fornecedor', 'Marca',\n",
      "       'Estoque', 'Situação Tributária', 'IPI de Entrada', 'IPI de Saída',\n",
      "       'ICMS de entrada', 'Base de ICMS reduzida na entrada', 'ICMS de saída',\n",
      "       'Base de ICMS reduzida na saída', 'Referência', 'Localização',\n",
      "       'Não Incluir na Lista de Preços', 'Margem', 'Classificação Fiscal',\n",
      "       'Classificação1', 'Classificação2', 'Classificação3', 'Classificação4',\n",
      "       'Classificação5', 'Classificação6', 'Classificação7', 'Classificação8',\n",
      "       'Classificação9', 'Observações', 'Código Anterior',\n",
      "       'Data da última atualização', 'Nome da marca', 'Complemento',\n",
      "       'Desconto Promocional', 'Saldo', 'Lucratividade', 'Coleção',\n",
      "       'Comprador', 'Classificação10', 'Classificação11', 'Classificação12',\n",
      "       'Classificação13', 'Classificação14', 'Classificação15', 'Marcação',\n",
      "       'CEST', 'EAN', 'NCM', 'Código do Benefício', 'Descrição para Internet',\n",
      "       'Habilitado para Internet'],\n",
      "      dtype='object')\n"
     ]
    }
   ],
   "source": [
    "print(dataset_prod_merged.columns)"
   ]
  },
  {
   "cell_type": "code",
   "execution_count": 19,
   "id": "8d7bc003",
   "metadata": {},
   "outputs": [],
   "source": [
    "ds_prod = dataset_prod_merged[[\"Código\",\"Nome\",\"Unidade\",\"Referência\",\"Data da última atualização\",\"Nome da marca\", \"Complemento\", \"Classificação11\",\"Classificação12\",\"Classificação13\",\"Classificação14\",\"Classificação15\"]]\n"
   ]
  },
  {
   "cell_type": "code",
   "execution_count": 20,
   "id": "5e94f17b",
   "metadata": {},
   "outputs": [
    {
     "name": "stdout",
     "output_type": "stream",
     "text": [
      "Index(['Código', 'Nome', 'Unidade', 'Data da última atualização',\n",
      "       'Nome da marca', 'Classificação11', 'Classificação12',\n",
      "       'Classificação13', 'Classificação14', 'Classificação15'],\n",
      "      dtype='object')\n"
     ]
    }
   ],
   "source": [
    "print(ds_prod.columns)"
   ]
  },
  {
   "cell_type": "code",
   "execution_count": 29,
   "id": "f1aa8e0f",
   "metadata": {},
   "outputs": [],
   "source": [
    "ds_cl_prod = pd.read_excel(\"DATASET/Produtos/Produtos/Classificacoes_dos_produtos.xlsx\",nrows=900)"
   ]
  },
  {
   "cell_type": "code",
   "execution_count": 32,
   "id": "ab5b3240",
   "metadata": {},
   "outputs": [],
   "source": [
    "ds_cl_prod_merged = ds_cl_prod[[\"Classificação\",\"Código\",\"Nome\"]]"
   ]
  },
  {
   "cell_type": "markdown",
   "id": "07d0f416",
   "metadata": {},
   "source": [
    "ds_cl_prod_11 = ds_cl_prod_merged.log[ds_cl_prod_merged['Classificação'] == 11].rename(columns={\"Código\":\"Código_Class_11\",\"Nome\":\"Nome_Class_11\"})"
   ]
  },
  {
   "cell_type": "code",
   "execution_count": 33,
   "id": "2d446b8b",
   "metadata": {},
   "outputs": [],
   "source": [
    "ds_cl_prod_11 = ds_cl_prod_merged.loc[ds_cl_prod_merged['Classificação'] == 11].rename(columns={\"Código\":\"Código_Class_11\",\"Nome\":\"Nome_Class_11\"})\n",
    "ds_cl_prod_12 = ds_cl_prod_merged.loc[ds_cl_prod_merged['Classificação'] == 12].rename(columns={\"Código\":\"Código_Class_12\",\"Nome\":\"Nome_Class_12\"})\n",
    "ds_cl_prod_13 = ds_cl_prod_merged.loc[ds_cl_prod_merged['Classificação'] == 13].rename(columns={\"Código\":\"Código_Class_13\",\"Nome\":\"Nome_Class_13\"})\n",
    "ds_cl_prod_14 = ds_cl_prod_merged.loc[ds_cl_prod_merged['Classificação'] == 14].rename(columns={\"Código\":\"Código_Class_14\",\"Nome\":\"Nome_Class_14\"})\n",
    "ds_cl_prod_15 = ds_cl_prod_merged.loc[ds_cl_prod_merged['Classificação'] == 15].rename(columns={\"Código\":\"Código_Class_15\",\"Nome\":\"Nome_Class_15\"})\n"
   ]
  },
  {
   "cell_type": "code",
   "execution_count": 34,
   "id": "a4e0ee00",
   "metadata": {},
   "outputs": [
    {
     "name": "stdout",
     "output_type": "stream",
     "text": [
      "     Classificação  Código_Class_15       Nome_Class_15\n",
      "300             15                0                   .\n",
      "301             15                1              ABRIGO\n",
      "302             15                2              AGULHA\n",
      "303             15                3              AJUSTE\n",
      "304             15                4             ALICATE\n",
      "..             ...              ...                 ...\n",
      "667             15              376            ELASTICO\n",
      "668             15              377  ESCADA TREINAMENTO\n",
      "669             15              378         PORTA DOLAR\n",
      "670             15              379              ESCOVA\n",
      "671             15              380         TENIS ELBOW\n",
      "\n",
      "[372 rows x 3 columns]\n"
     ]
    }
   ],
   "source": [
    "print(ds_cl_prod_15)"
   ]
  },
  {
   "cell_type": "code",
   "execution_count": 35,
   "id": "72c5f2d1",
   "metadata": {},
   "outputs": [],
   "source": [
    "ds_prod = pd.merge(ds_prod,ds_cl_prod_11[['Código_Class_11','Nome_Class_11']], left_on='Classificação11', right_on='Código_Class_11', how='left').drop(columns=[\"Código_Class_11\"])\n",
    "ds_prod = pd.merge(ds_prod,ds_cl_prod_12[['Código_Class_12','Nome_Class_12']], left_on='Classificação12', right_on='Código_Class_12', how='left').drop(columns=[\"Código_Class_12\"])\n",
    "ds_prod = pd.merge(ds_prod,ds_cl_prod_13[['Código_Class_13','Nome_Class_13']], left_on='Classificação13', right_on='Código_Class_13', how='left').drop(columns=[\"Código_Class_13\"])\n",
    "ds_prod = pd.merge(ds_prod,ds_cl_prod_14[['Código_Class_14','Nome_Class_14']], left_on='Classificação14', right_on='Código_Class_14', how='left').drop(columns=[\"Código_Class_14\"])\n",
    "ds_prod = pd.merge(ds_prod,ds_cl_prod_15[['Código_Class_15','Nome_Class_15']], left_on='Classificação15', right_on='Código_Class_15', how='left').drop(columns=[\"Código_Class_15\"])"
   ]
  },
  {
   "cell_type": "code",
   "execution_count": 36,
   "id": "cbfd0c36",
   "metadata": {},
   "outputs": [
    {
     "name": "stdout",
     "output_type": "stream",
     "text": [
      "        Código                      Nome Unidade Data da última atualização  \\\n",
      "394610  396297  COLUMBIA 1464091/464 MHO      UN        2022-11-25 00:00:00   \n",
      "394611  396298  COLUMBIA 1911321/011 PTO      UN        2022-11-25 00:00:00   \n",
      "394612  396299  COLUMBIA 1682201/030 CZA      UN        2022-11-25 00:00:00   \n",
      "394613  396300  COLUMBIA 1682201/010 PTO      UN        2022-11-25 00:00:00   \n",
      "394614  396301   KILDARE 232N MALTE CITY      PR        2022-11-28 00:00:00   \n",
      "\n",
      "       Nome da marca  Classificação11  Classificação12  Classificação13  \\\n",
      "394610      COLUMBIA                3                2                1   \n",
      "394611      COLUMBIA                3                2                1   \n",
      "394612      COLUMBIA                3                2                1   \n",
      "394613      COLUMBIA                3                2                1   \n",
      "394614       KILDARE                1                3                2   \n",
      "\n",
      "        Classificação14  Classificação15 Nome_Class_11 Nome_Class_12  \\\n",
      "394610                2              203    CONFECÇÕES     ESPORTIVO   \n",
      "394611                2              203    CONFECÇÕES     ESPORTIVO   \n",
      "394612                2              203    CONFECÇÕES     ESPORTIVO   \n",
      "394613                2              203    CONFECÇÕES     ESPORTIVO   \n",
      "394614                3              173      CALÇADOS         GERAL   \n",
      "\n",
      "       Nome_Class_13 Nome_Class_14     Nome_Class_15  \n",
      "394610      FEMININO       INVERNO             TOUCA  \n",
      "394611      FEMININO       INVERNO             TOUCA  \n",
      "394612      FEMININO       INVERNO             TOUCA  \n",
      "394613      FEMININO       INVERNO             TOUCA  \n",
      "394614     MASCULINO         ANUAL  SAPATO SAPATENIS  \n"
     ]
    }
   ],
   "source": [
    "print(ds_prod.tail())"
   ]
  },
  {
   "cell_type": "code",
   "execution_count": 39,
   "id": "c94cc286",
   "metadata": {},
   "outputs": [],
   "source": [
    "dataset_detMov_2018_1 = pd.read_excel(\"DATASET/DetalheMovimentacao/DetalheMovimentacao_2018_Esportes_1.xls\",\"Query\")\n",
    "dataset_detMov_2018_2 = pd.read_excel(\"DATASET/DetalheMovimentacao/DetalheMovimentacao_2018_Esportes_2.xls\",\"Query\")\n",
    "dataset_detMov_2019_1 = pd.read_excel(\"DATASET/DetalheMovimentacao/DetalheMovimentacao_2019_Esportes_1.xls\",\"Query\")\n",
    "dataset_detMov_2019_2 = pd.read_excel(\"DATASET/DetalheMovimentacao/DetalheMovimentacao_2019_Esportes_2.xls\",\"Query\")\n",
    "dataset_detMov_2020_1 = pd.read_excel(\"DATASET/DetalheMovimentacao/DetalheMovimentacao_2020_Esportes_1.xls\",\"Query\")\n",
    "dataset_detMov_2020_2 = pd.read_excel(\"DATASET/DetalheMovimentacao/DetalheMovimentacao_2020_Esportes_2.xls\",\"Query\")\n",
    "dataset_detMov_2021_1 = pd.read_excel(\"DATASET/DetalheMovimentacao/DetalheMovimentacao_2021_Esportes_1.xls\",\"Query\")\n",
    "dataset_detMov_2021_2 = pd.read_excel(\"DATASET/DetalheMovimentacao/DetalheMovimentacao_2021_Esportes_2.xls\",\"Query\")\n",
    "dataset_detMov_2022 = pd.read_excel(\"DATASET/DetalheMovimentacao/DetalheMovimentacao_2022_Esportes.xls\",\"Query\")\n"
   ]
  },
  {
   "cell_type": "code",
   "execution_count": 40,
   "id": "adc95d5c",
   "metadata": {},
   "outputs": [],
   "source": [
    "dataset_detMov_merged = pd.concat([dataset_detMov_2018_1,dataset_detMov_2018_2,dataset_detMov_2019_1,dataset_detMov_2019_2,dataset_detMov_2020_1,dataset_detMov_2020_2,dataset_detMov_2021_1,dataset_detMov_2021_2,dataset_detMov_2022])"
   ]
  },
  {
   "cell_type": "code",
   "execution_count": 41,
   "id": "4a7d0184",
   "metadata": {},
   "outputs": [
    {
     "name": "stdout",
     "output_type": "stream",
     "text": [
      "       Empresa  Emitente Série  Número  Item    Data do Movimento  Operação  \\\n",
      "0            6         0   NaN   17710    47  2018-01-03 00:00:00         1   \n",
      "1            6         0   NaN   17710    48  2018-01-03 00:00:00         1   \n",
      "2            6         0   NaN   17710    49  2018-01-03 00:00:00         1   \n",
      "3            6         0   NaN   17710    50  2018-01-03 00:00:00         1   \n",
      "4            6         0   NaN   17710    51  2018-01-03 00:00:00         1   \n",
      "...        ...       ...   ...     ...   ...                  ...       ...   \n",
      "52790        6     26326    NE  358090     2  2022-11-16 00:00:00         4   \n",
      "52791        6     26326    NE  358090     3  2022-11-16 00:00:00         4   \n",
      "52792        6     26326    NE  358090     4  2022-11-16 00:00:00         4   \n",
      "52793        6     26326    NE  358090     5  2022-11-16 00:00:00         4   \n",
      "52794        6     26326    NE  358090     6  2022-11-16 00:00:00         4   \n",
      "\n",
      "       Origem ou Destino  Comprador ou Vendedor  Produto  ...  Situação  \\\n",
      "0                   5005                   15.0   265755  ...         1   \n",
      "1                   5005                   15.0   340832  ...         1   \n",
      "2                   5005                   15.0   237311  ...         1   \n",
      "3                   5005                   15.0   237311  ...         1   \n",
      "4                   5005                   15.0   237311  ...         1   \n",
      "...                  ...                    ...      ...  ...       ...   \n",
      "52790              26326                    9.0   392742  ...         1   \n",
      "52791              26326                    9.0   392742  ...         1   \n",
      "52792              26326                    9.0   392742  ...         1   \n",
      "52793              26326                    9.0   392742  ...         1   \n",
      "52794              26326                    9.0   392742  ...         1   \n",
      "\n",
      "        Pedido  Encalhe  Icm do Frete  Preço para Conferência  \\\n",
      "0          NaN      NaN           NaN                     NaN   \n",
      "1          NaN      NaN           NaN                     NaN   \n",
      "2          NaN      NaN           NaN                     NaN   \n",
      "3          NaN      NaN           NaN                     NaN   \n",
      "4          NaN      NaN           NaN                     NaN   \n",
      "...        ...      ...           ...                     ...   \n",
      "52790  18658.0      NaN           NaN                     0.0   \n",
      "52791  18658.0      NaN           NaN                     0.0   \n",
      "52792  18658.0      NaN           NaN                     0.0   \n",
      "52793  18658.0      NaN           NaN                     0.0   \n",
      "52794  18658.0      NaN           NaN                     0.0   \n",
      "\n",
      "       Capítulo do IPI  Série da Devolução  Número da Devolução  Base ST  \\\n",
      "0                  NaN                 NaN                  NaN      NaN   \n",
      "1                  NaN                 NaN                  NaN      NaN   \n",
      "2                  NaN                 NaN                  NaN      NaN   \n",
      "3                  NaN                 NaN                  NaN      NaN   \n",
      "4                  NaN                 NaN                  NaN      NaN   \n",
      "...                ...                 ...                  ...      ...   \n",
      "52790             64.0                 NaN                  NaN      0.0   \n",
      "52791             64.0                 NaN                  NaN      0.0   \n",
      "52792             64.0                 NaN                  NaN      0.0   \n",
      "52793             64.0                 NaN                  NaN      0.0   \n",
      "52794             64.0                 NaN                  NaN      0.0   \n",
      "\n",
      "       Valor ST  \n",
      "0           NaN  \n",
      "1           NaN  \n",
      "2           NaN  \n",
      "3           NaN  \n",
      "4           NaN  \n",
      "...         ...  \n",
      "52790       0.0  \n",
      "52791       0.0  \n",
      "52792       0.0  \n",
      "52793       0.0  \n",
      "52794       0.0  \n",
      "\n",
      "[366893 rows x 34 columns]\n"
     ]
    }
   ],
   "source": [
    "print(dataset_detMov_merged)"
   ]
  },
  {
   "cell_type": "code",
   "execution_count": 42,
   "id": "6e9ca45b",
   "metadata": {},
   "outputs": [],
   "source": [
    "dataset_detMov = dataset_detMov_merged[[\"Série\", \"Número\", \"Item\", \"Data do Movimento\",\"Operação\",\"Produto\",\"Tamanho\",\"Quantidade\",\"Valor original\"]]"
   ]
  },
  {
   "cell_type": "code",
   "execution_count": 44,
   "id": "cda7d8bd",
   "metadata": {},
   "outputs": [],
   "source": [
    "ds_tam_aux = pd.read_excel(\"DATASET/Tamanhos/Tamanhos.xls\",\"Tamanhos\")\n",
    "ds_tam = ds_tam_aux.rename(columns={\"Código\":\"Código_Tamanho\",\"Nome\":\"Nome_Tamanho\"})"
   ]
  },
  {
   "cell_type": "code",
   "execution_count": 45,
   "id": "40a2cb98",
   "metadata": {},
   "outputs": [],
   "source": [
    "dataset_detMov = pd.merge(dataset_detMov,ds_tam, left_on='Tamanho', right_on='Código_Tamanho', how='left').drop(columns=[\"Código_Tamanho\"])"
   ]
  },
  {
   "cell_type": "code",
   "execution_count": 46,
   "id": "74cca79b",
   "metadata": {},
   "outputs": [
    {
     "name": "stdout",
     "output_type": "stream",
     "text": [
      "          Data do Movimento  Operação  Produto  Tamanho  Quantidade  \\\n",
      "366888  2022-11-16 00:00:00         4   392742      390         2.0   \n",
      "366889  2022-11-16 00:00:00         4   392742      400         3.0   \n",
      "366890  2022-11-16 00:00:00         4   392742      410         3.0   \n",
      "366891  2022-11-16 00:00:00         4   392742      420         2.0   \n",
      "366892  2022-11-16 00:00:00         4   392742      430         1.0   \n",
      "\n",
      "        Valor original Nome_Tamanho  \n",
      "366888       67.274074           39  \n",
      "366889       67.274074           40  \n",
      "366890       67.274074           41  \n",
      "366891       67.274074           42  \n",
      "366892       67.274074           43  \n"
     ]
    }
   ],
   "source": [
    "print(dataset_detMov.tail())"
   ]
  },
  {
   "cell_type": "code",
   "execution_count": 47,
   "id": "fb4ae3c6",
   "metadata": {},
   "outputs": [],
   "source": [
    "\n",
    "\n",
    "ds_prod = ds_prod.rename(columns={\"Referência\":\"Referência_Produto\", \"Complemento\":\"Complemento_Produto\",\"Código\":\"Código_Produto\",\"Nome\":\"Nome_Produto\", \"Unidade\":\"Unidade_Produto\", \"Data da última atualização\":\"DataUltimaAtualização_Produto\",\"Nome da marca\": \"NomeMarca_Produto\",\"Classificação11\": \"Classificação11_Produto\",\"Classificação12\": \"Classificação12_Produto\",\"Classificação13\": \"Classificação14_Produto\",\"Classificação14\": \"Classificação16_Produto\",\"Classificação15\": \"Classificação15_Produto\", \"Nome_Class_11\": \"Nome_Class_11_Produto\", \"Nome_Class_12\": \"Nome_Class_12_Produto\", \"Nome_Class_13\": \"Nome_Class_13_Produto\", \"Nome_Class_14\": \"Nome_Class_14_Produto\", \"Nome_Class_15\": \"Nome_Class_15_Produto\"})\n",
    "\n",
    "dataset_detMov = pd.merge(dataset_detMov, ds_prod, left_on='Produto', right_on='Código_Produto', how='left').drop(columns=[\"Código_Produto\"])\n"
   ]
  },
  {
   "cell_type": "code",
   "execution_count": 48,
   "id": "43ba0703",
   "metadata": {},
   "outputs": [
    {
     "name": "stdout",
     "output_type": "stream",
     "text": [
      "     Data do Movimento  Operação  Produto  Tamanho  Quantidade  \\\n",
      "0  2018-01-03 00:00:00         1   265755      130         3.0   \n",
      "1  2018-01-03 00:00:00         1   340832      130         3.0   \n",
      "2  2018-01-03 00:00:00         1   237311       95         2.0   \n",
      "3  2018-01-03 00:00:00         1   237311      100         2.0   \n",
      "4  2018-01-03 00:00:00         1   237311      105         2.0   \n",
      "\n",
      "   Valor original Nome_Tamanho                Nome_Produto Unidade_Produto  \\\n",
      "0        3.314815            U  SPEEDO 570003 VME/JOANINHA              UN   \n",
      "1        3.888889            U            SPEEDO 689032 AZ              UN   \n",
      "2        7.868519          095           SPEEDO 019019 MHO              UN   \n",
      "3        7.868519          100           SPEEDO 019019 MHO              UN   \n",
      "4        7.868519          105           SPEEDO 019019 MHO              UN   \n",
      "\n",
      "  DataUltimaAtualização_Produto  ... Classificação11_Produto  \\\n",
      "0           2019-10-16 00:00:00  ...                     2.0   \n",
      "1           2017-08-25 00:00:00  ...                     2.0   \n",
      "2           2021-10-05 00:00:00  ...                     3.0   \n",
      "3           2021-10-05 00:00:00  ...                     3.0   \n",
      "4           2021-10-05 00:00:00  ...                     3.0   \n",
      "\n",
      "   Classificação12_Produto  Classificação14_Produto  Classificação16_Produto  \\\n",
      "0                      2.0                      3.0                      3.0   \n",
      "1                      2.0                      3.0                      3.0   \n",
      "2                      2.0                      2.0                      3.0   \n",
      "3                      2.0                      2.0                      3.0   \n",
      "4                      2.0                      2.0                      3.0   \n",
      "\n",
      "   Classificação15_Produto  Nome_Class_11_Produto Nome_Class_12_Produto  \\\n",
      "0                     24.0             ACESSÓRIOS             ESPORTIVO   \n",
      "1                    138.0             ACESSÓRIOS             ESPORTIVO   \n",
      "2                    254.0             CONFECÇÕES             ESPORTIVO   \n",
      "3                    254.0             CONFECÇÕES             ESPORTIVO   \n",
      "4                    254.0             CONFECÇÕES             ESPORTIVO   \n",
      "\n",
      "  Nome_Class_13_Produto Nome_Class_14_Produto Nome_Class_15_Produto  \n",
      "0                 GERAL                 ANUAL                  BOIA  \n",
      "1                 GERAL                 ANUAL               POCHETE  \n",
      "2             MASCULINO                 ANUAL           SUNGA SUNGA  \n",
      "3             MASCULINO                 ANUAL           SUNGA SUNGA  \n",
      "4             MASCULINO                 ANUAL           SUNGA SUNGA  \n",
      "\n",
      "[5 rows x 21 columns]\n"
     ]
    }
   ],
   "source": [
    "print(dataset_detMov.head(5))"
   ]
  },
  {
   "cell_type": "code",
   "execution_count": 56,
   "id": "ac65c52f",
   "metadata": {},
   "outputs": [],
   "source": [
    "dataset_detMov.to_excel('Dataset_Treated.xlsx', 'Data')"
   ]
  },
  {
   "cell_type": "code",
   "execution_count": null,
   "id": "98324fcc",
   "metadata": {},
   "outputs": [],
   "source": []
  }
 ],
 "metadata": {
  "kernelspec": {
   "display_name": "Python 3.10.9 64-bit (microsoft store)",
   "language": "python",
   "name": "python3"
  },
  "language_info": {
   "codemirror_mode": {
    "name": "ipython",
    "version": 3
   },
   "file_extension": ".py",
   "mimetype": "text/x-python",
   "name": "python",
   "nbconvert_exporter": "python",
   "pygments_lexer": "ipython3",
   "version": "3.10.9"
  },
  "vscode": {
   "interpreter": {
    "hash": "dae545736ee78e012acd08c370c6df0e68e8a318016cb2f8480f264d55cb96c2"
   }
  }
 },
 "nbformat": 4,
 "nbformat_minor": 5
}
