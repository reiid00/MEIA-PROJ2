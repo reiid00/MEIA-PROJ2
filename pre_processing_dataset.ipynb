{
 "cells": [
  {
   "cell_type": "markdown",
   "id": "0c2290f0-c6af-452e-b708-1b8e485da4af",
   "metadata": {},
   "source": [
    "\n",
    "# Pré-Processamento: Aprendizagem Automática\n",
    "\n",
    "## Objetivo\n",
    "Para um dataset com o histórico de vendas diárias de diversos produtos, será necessário desenvolver uma função que divide os dados de vendas em diferentes dataframes, um para cada produto, criando e treinando dois modelos para um desses dataframes, um para receitas e outro para o nº de unidades vendidas, armazenando o modelo resultado (função Y=mx +b) e prevendo as receitas e o nº de unidades vendidas num ficheiro .csv, para dps este ficheiro ser consumido pelo método de otimização, permitindo que o mesmo usufrua das previsões obtidas. \n",
    "\n",
    "Deverão existir dois modelos por produto, um para prever as unidades vendidas no dia seguinte e outro para prever o lucro de vendas do dia seguinte. O período de vendas utilizado será diário ou semanal (a determinar), sendo esta escolha fruto de análise. É importante salientar que o modelo de otimização terá como objetivo otimizar as quantidades a ter em stock durante X semanas, sendo X um valor configurável que representa a periodicidade média de reabastecimento de stock por produto utilizado pela loja, sendo este período representado no mesmo intervalo temporal dos modelos, isto é, em dias ou semanas (a determinar)."
   ]
  },
  {
   "cell_type": "code",
   "execution_count": 34,
   "id": "09fac7bc",
   "metadata": {
    "scrolled": true
   },
   "outputs": [
    {
     "name": "stdout",
     "output_type": "stream",
     "text": [
      "Requirement already satisfied: statsmodels in c:\\users\\silve\\appdata\\local\\programs\\python\\python310\\lib\\site-packages (0.13.5)\n",
      "Requirement already satisfied: numpy>=1.22.3 in c:\\users\\silve\\appdata\\local\\programs\\python\\python310\\lib\\site-packages (from statsmodels) (1.23.5)\n",
      "Requirement already satisfied: pandas>=0.25 in c:\\users\\silve\\appdata\\local\\programs\\python\\python310\\lib\\site-packages (from statsmodels) (1.5.2)\n",
      "Requirement already satisfied: patsy>=0.5.2 in c:\\users\\silve\\appdata\\local\\programs\\python\\python310\\lib\\site-packages (from statsmodels) (0.5.3)\n",
      "Requirement already satisfied: scipy>=1.3 in c:\\users\\silve\\appdata\\local\\programs\\python\\python310\\lib\\site-packages (from statsmodels) (1.9.3)\n",
      "Requirement already satisfied: packaging>=21.3 in c:\\users\\silve\\appdata\\local\\programs\\python\\python310\\lib\\site-packages (from statsmodels) (21.3)\n",
      "Requirement already satisfied: pyparsing!=3.0.5,>=2.0.2 in c:\\users\\silve\\appdata\\local\\programs\\python\\python310\\lib\\site-packages (from packaging>=21.3->statsmodels) (3.0.9)\n",
      "Requirement already satisfied: python-dateutil>=2.8.1 in c:\\users\\silve\\appdata\\local\\programs\\python\\python310\\lib\\site-packages (from pandas>=0.25->statsmodels) (2.8.2)\n",
      "Requirement already satisfied: pytz>=2020.1 in c:\\users\\silve\\appdata\\local\\programs\\python\\python310\\lib\\site-packages (from pandas>=0.25->statsmodels) (2022.6)\n",
      "Requirement already satisfied: six in c:\\users\\silve\\appdata\\local\\programs\\python\\python310\\lib\\site-packages (from patsy>=0.5.2->statsmodels) (1.16.0)\n",
      "Note: you may need to restart the kernel to use updated packages.\n"
     ]
    },
    {
     "name": "stderr",
     "output_type": "stream",
     "text": [
      "\n",
      "[notice] A new release of pip available: 22.2.2 -> 22.3.1\n",
      "[notice] To update, run: python.exe -m pip install --upgrade pip\n"
     ]
    }
   ],
   "source": [
    "%pip install pandas\n",
    "%pip install xlrd\n",
    "%pip install openpyxl\n",
    "%pip install unidecode\n",
    "%pip install scikit-learn\n",
    "%pip install matplotlib\n",
    "%pip install seaborn\n",
    "%pip install statsmodels"
   ]
  },
  {
   "cell_type": "code",
   "execution_count": 35,
   "id": "471bbf23",
   "metadata": {},
   "outputs": [],
   "source": [
    "\n",
    "import numpy as np\n",
    "import pandas as pd\n",
    "import matplotlib.pyplot as plt\n",
    "import seaborn as sns\n",
    "\n",
    "from sklearn.preprocessing import MinMaxScaler\n",
    "from sklearn.linear_model import LinearRegression\n",
    "from sklearn.metrics import mean_squared_error, mean_absolute_error, r2_score\n",
    "from sklearn.ensemble import RandomForestRegressor\n",
    "from datetime import datetime\n",
    "from sklearn.model_selection import train_test_split\n",
    "from numpy import sqrt\n",
    "from sklearn.linear_model import LogisticRegression\n",
    "from sklearn.metrics import mean_squared_error, mean_absolute_error, r2_score\n"
   ]
  },
  {
   "cell_type": "code",
   "execution_count": null,
   "id": "2c4bdbff",
   "metadata": {},
   "outputs": [],
   "source": [
    "\n",
    "\n",
    "# Lemos o dataset\n",
    "df = pd.read_csv('dataset/revenue.csv')\n",
    "\n",
    "# Verificamos o dataset carregado\n",
    "print(df.head(5))\n"
   ]
  },
  {
   "cell_type": "code",
   "execution_count": null,
   "id": "fcd32b90-c967-4531-b5e0-bc05367ef895",
   "metadata": {},
   "outputs": [],
   "source": [
    "\n",
    "# Verificamos o período do dataset\n",
    "def revenue_duration(data):\n",
    "    data.date = pd.to_datetime(data.date)\n",
    "    number_of_days = data.date.max() - data.date.min()\n",
    "    number_of_years = number_of_days.days / 365\n",
    "    print(number_of_days.days, 'dias')\n",
    "    print(number_of_years, 'anos')\n",
    "    \n",
    "revenue_duration(df)\n"
   ]
  },
  {
   "cell_type": "code",
   "execution_count": null,
   "id": "67bef129-8da7-4d44-9604-d5a6c08292da",
   "metadata": {},
   "outputs": [],
   "source": [
    "\n",
    "# Verificamos que cada produto tem vários registos por dia, dado que para cada produto existem mais registos do que o total de dias acima ilustrado, sendo estes\n",
    "# referentes às diferentes lojas em que foram vendidos. Porém, para efeitos de análise, iremos agrupar as vendas diárias de cada produto em todas as lojas numa só linha.\n",
    "print(df['product_id'].value_counts().sort_values(ascending=False).head(15))\n",
    "\n"
   ]
  },
  {
   "cell_type": "code",
   "execution_count": null,
   "id": "10b8d687-b27a-4934-b70d-86400c130df4",
   "metadata": {},
   "outputs": [],
   "source": [
    "\n",
    "\n",
    "# Verificamos as percentagens de dados em falta\n",
    "percent_missing = df.isnull().sum() * 100 / len(df)\n",
    "percent_missing.sort_values(ascending=False).head()\n",
    "\n"
   ]
  },
  {
   "cell_type": "code",
   "execution_count": null,
   "id": "87d5e533-2ea5-4b52-86d2-19e89786bb44",
   "metadata": {},
   "outputs": [],
   "source": [
    "\n",
    "\n",
    "# Verificamos a distribuição das colunas de valores de promoção que estão preenchidas\n",
    "print(df[df['product_id'] == 'P0004']['promo_type_1'].value_counts().sort_values(ascending=False).head(15))\n",
    "\n"
   ]
  },
  {
   "cell_type": "code",
   "execution_count": null,
   "id": "9f78df1e-ec02-441b-9ff3-e6dde818959d",
   "metadata": {},
   "outputs": [],
   "source": [
    "\n",
    "\n",
    "# Verificamos a distribuição das colunas de valores de promoção que estão preenchidas\n",
    "print(df[df['product_id'] == 'P0004']['promo_type_2'].value_counts().sort_values(ascending=False).head(15))\n",
    "\n"
   ]
  },
  {
   "cell_type": "code",
   "execution_count": null,
   "id": "6a603550-82aa-48d9-81a4-8c3b7742a97e",
   "metadata": {},
   "outputs": [],
   "source": [
    "\n",
    "\n",
    "# Removemos as colunas cujas percentagens de inutilização são evidentemente superiores ao aceitável\n",
    "df = df.drop(columns=[\"promo_bin_2\", \"promo_discount_2\", \"promo_discount_type_2\", \"promo_bin_1\"])\n",
    "\n",
    "# Removemos as colunas cuja distribuição é quase 100% para um determinado valor, dado que não terão impacto no modelo\n",
    "df = df.drop(columns=[\"promo_type_1\",\"promo_type_2\"])\n",
    "print(df.head(5))\n",
    "\n"
   ]
  },
  {
   "cell_type": "code",
   "execution_count": null,
   "id": "fec7de6c-e001-4b5e-b39d-3f58b18a188f",
   "metadata": {},
   "outputs": [],
   "source": [
    "\n",
    "\n",
    "# Verificamos novamente as percentagens de dados em falta\n",
    "percent_missing = df.isnull().sum() * 100 / len(df)\n",
    "percent_missing.sort_values(ascending=False).head()\n",
    "\n"
   ]
  },
  {
   "cell_type": "code",
   "execution_count": null,
   "id": "3071a35a-5a8b-45c0-b233-6a9aa91b3a99",
   "metadata": {},
   "outputs": [],
   "source": [
    "\n",
    "\n",
    "# Agrupamos as vendas diárias por produto. \n",
    "# Para manter o preço diário de cada produto, como este pode variar de loja para loja, inferimos a média do preço diário de cada produto entre todas as lojas.\n",
    "df['year'] = df.date.dt.year\n",
    "df['month'] = df.date.dt.month\n",
    "df['week'] = df.date.dt.isocalendar().week\n",
    "df2 = df.groupby([\"product_id\", \"year\", \"month\", \"week\"]).agg({'revenue': ['sum'], 'revenue': ['sum'], 'stock': ['sum'], 'price': ['mean']}).reset_index()\n",
    "df2.columns = df2.columns.droplevel(1)\n",
    "df2['date'] = df2.apply(lambda row: datetime.strptime(f'{row.year} {row.week} 1', '%G %V %u'), axis=1)\n",
    "\n",
    "print(df2.head(15))\n",
    "\n"
   ]
  },
  {
   "cell_type": "code",
   "execution_count": null,
   "id": "f5d1a85b-66b3-4456-ac6d-ecd8f26bdffa",
   "metadata": {},
   "outputs": [],
   "source": [
    "\n",
    "# Verificamos novamente a quantidade de registos por produto, sendo que este valor deverá diminuir drasticamente face à análise igual feita anteriormente\n",
    "# Assim, a quantidade agora deverá ser igual para todos os produtos, tendo como valor o total de semanas do dataset.\n",
    "print(df2['product_id'].value_counts().sort_values(ascending=False).head(15))\n",
    "\n"
   ]
  },
  {
   "cell_type": "code",
   "execution_count": null,
   "id": "59334e12",
   "metadata": {},
   "outputs": [],
   "source": [
    "\n",
    "# Exportamos o Dataset já agrupado caso seja pretendido analisar os dados ao pormenor. (opcional)\n",
    "#df2.to_csv('dataset/revenue_grouped.csv')\n",
    "\n"
   ]
  },
  {
   "cell_type": "code",
   "execution_count": null,
   "id": "988554ab-cc5f-41d8-85f1-23dd922dea99",
   "metadata": {},
   "outputs": [],
   "source": [
    "\n",
    "\n",
    "# Verificamos novamente as percentagens de dados em falta, já com as vendas agrupadas\n",
    "percent_missing = df2.isnull().sum() * 100 / len(df2)\n",
    "percent_missing.sort_values(ascending=False).head()\n",
    "\n"
   ]
  },
  {
   "cell_type": "code",
   "execution_count": null,
   "id": "b50931b5-033f-4bd1-b67d-82a855d514a3",
   "metadata": {},
   "outputs": [],
   "source": [
    "\n",
    "\n",
    "# Dividimos o dataframe por produto, dado que irá ser treinado um modelo de previsão para cada um.\n",
    "dfByProdList = df2.groupby(\"product_id\")\n",
    "\n",
    "print(len(dfByProdList))\n",
    "\n",
    "    "
   ]
  },
  {
   "cell_type": "code",
   "execution_count": 68,
   "id": "b567a326-e671-4e63-9577-f892bdb7f389",
   "metadata": {},
   "outputs": [
    {
     "name": "stdout",
     "output_type": "stream",
     "text": [
      "  product_id  year  month  week  sales  revenue   stock    price       date\n",
      "0      P0001  2017      1     1   24.0   127.17  1318.0  6.25000 2017-01-02\n",
      "1      P0001  2017      1     2   21.0   112.97  1174.0  6.31713 2017-01-09\n",
      "2      P0001  2017      1     3   15.0    82.65  1040.0  6.50000 2017-01-16\n",
      "3      P0001  2017      1     4    8.0    44.08   961.0  6.50000 2017-01-23\n",
      "4      P0001  2017      1     5    2.0    11.02   266.0  6.50000 2017-01-30\n"
     ]
    }
   ],
   "source": [
    "\n",
    "# Para efeitos de análise, iremos inicialmente começar por criar um modelo somente para alguns produtos de teste.\n",
    "product_df_Test1 = dfByProdList.get_group('P0001')\n",
    "product_df_Test2 = dfByProdList.get_group('P0748')\n",
    "product_df_Test3 = dfByProdList.get_group('P0125')\n",
    "print(product_df_Test1.head())\n",
    "\n"
   ]
  },
  {
   "cell_type": "code",
   "execution_count": null,
   "id": "f45e5474-cb24-497a-b5ae-058fb80c435e",
   "metadata": {},
   "outputs": [],
   "source": [
    "\n",
    "\n",
    "# Verificamos a distribuição de vendas diárias para os produtos de teste\n",
    "def sales_per_day(product_sales_data, title):\n",
    "    fig, ax = plt.subplots(figsize=(7,4))\n",
    "    plt.hist(product_sales_data.sales, color='mediumblue')\n",
    "    \n",
    "    ax.set(xlabel = \"Sales Per day\", ylabel = \"Count\", title = title)\n",
    "    \n",
    "def revenue_per_day(product_sales_data, title):\n",
    "    fig, ax = plt.subplots(figsize=(7,4))\n",
    "    plt.hist(product_sales_data.revenue, color='mediumblue')\n",
    "    \n",
    "    ax.set(xlabel = \"Revenue Per day ($)\", ylabel = \"Count\", title = title )\n",
    "\n",
    "\n",
    "sales_per_day(product_df_Test1, \"Distribuição de Vendas Diárias (Produto 1)\")\n",
    "sales_per_day(product_df_Test2, \"Distribuição de Vendas Diárias (Produto 2)\")\n",
    "sales_per_day(product_df_Test3, \"Distribuição de Vendas Diárias (Produto 3)\")\n",
    "revenue_per_day(product_df_Test1, \"Distribuição de Receitas Diárias (Produto 1)\")\n",
    "revenue_per_day(product_df_Test2, \"Distribuição de Receitas Diárias (Produto 2)\")\n",
    "revenue_per_day(product_df_Test3, \"Distribuição de Receitas Diárias (Produto 3)\")\n",
    "\n",
    "\n"
   ]
  },
  {
   "cell_type": "code",
   "execution_count": null,
   "id": "e8287889-9801-4873-9add-e050ea4d9de0",
   "metadata": {},
   "outputs": [],
   "source": [
    "\n",
    "\n",
    "# Verificamos a média de vendas e receitas diárias\n",
    "avg_monthly_sales1 = product_df_Test1.sales.mean()\n",
    "avg_monthly_sales2 = product_df_Test2.sales.mean()\n",
    "avg_monthly_sales3 = product_df_Test3.sales.mean()\n",
    "avg_monthly_revenue1 = product_df_Test1.revenue.mean()\n",
    "avg_monthly_revenue2 = product_df_Test2.revenue.mean()\n",
    "avg_monthly_revenue3 = product_df_Test3.revenue.mean()\n",
    "print(f\"Média de vendas diárias (Produto 1): {avg_monthly_sales1}\")\n",
    "print(f\"Média de vendas diárias (Produto 2): {avg_monthly_sales2}\")\n",
    "print(f\"Média de vendas diárias (Produto 3): {avg_monthly_sales3}\")\n",
    "print(f\"Média de receitas diárias (Produto 1): ${avg_monthly_revenue1}\")\n",
    "print(f\"Média de receitas diárias (Produto 2): ${avg_monthly_revenue2}\")\n",
    "print(f\"Média de receitas diárias (Produto 3): ${avg_monthly_revenue3}\")\n",
    "\n"
   ]
  },
  {
   "cell_type": "code",
   "execution_count": null,
   "id": "98600068-a2fe-44e2-ad5e-5aa4c0a611db",
   "metadata": {},
   "outputs": [],
   "source": [
    "\n",
    "def time_plot(data, title):\n",
    "    fig, ax = plt.subplots(figsize=(15,5))\n",
    "    sns.lineplot(x = 'date', y = 'sales', data=data, ax=ax, color='blue', label='Total de Vendas')\n",
    "    sns.lineplot(x = 'date', y = 'revenue', data=data, ax=ax, color='green', label='Total de Receitas') \n",
    "    \n",
    "    ax.set(xlabel = \"Date\", ylabel = \"Sales\", title = title)\n",
    "    \n",
    "    sns.despine()\n",
    "    \n",
    "# Verificamos o histórico de vendas diárias dos produtos ao longo do tempo\n",
    "time_plot(product_df_Test1, 'Vendas Diárias ao longo do tempo (Produto 1)')\n",
    "time_plot(product_df_Test2, 'Vendas Diárias ao longo do tempo (Produto 2)')\n",
    "time_plot(product_df_Test3, 'Vendas Diárias ao longo do tempo (Produto 3)')\n",
    "\n"
   ]
  },
  {
   "cell_type": "code",
   "execution_count": null,
   "id": "f9f26f92-e507-4365-8cef-414ad908426e",
   "metadata": {},
   "outputs": [],
   "source": [
    "# Deteção de outliers recorrendo a Tukey IQR\n",
    "def find_outliers_tukey(x):\n",
    "    q1 = np.percentile(x, 25)\n",
    "    q3 = np.percentile(x, 75)\n",
    "    iqr = q3-q1 \n",
    "    floor = q1 - 1.5*iqr\n",
    "    ceiling = q3 + 1.5*iqr\n",
    "    outlier_indices = list(x.index[(x < floor)|(x > ceiling)])\n",
    "    outlier_values = list(x[outlier_indices])\n",
    "    return outlier_indices, outlier_values\n"
   ]
  },
  {
   "cell_type": "code",
   "execution_count": null,
   "id": "a175ba37-098b-4590-8b94-c9b4a6c678e2",
   "metadata": {},
   "outputs": [],
   "source": [
    "\n",
    "\n",
    "# Verificamos se existem outliers a ter em consideração\n",
    "tukey_values_sales1 = find_outliers_tukey(product_df_Test1['sales'])\n",
    "tukey_values_sales2 = find_outliers_tukey(product_df_Test2['sales'])\n",
    "tukey_values_sales3 = find_outliers_tukey(product_df_Test3['sales'])\n",
    "tukey_values_revenue1 = find_outliers_tukey(product_df_Test1['revenue'])\n",
    "tukey_values_revenue2 = find_outliers_tukey(product_df_Test2['revenue'])\n",
    "tukey_values_revenue3 = find_outliers_tukey(product_df_Test3['revenue'])\n",
    "print(f\"Outliers das Vendas (Produto 1):\\n {np.sort(tukey_values_sales1)}\\n\")\n",
    "print(f\"Outliers das Vendas (Produto 2):\\n {np.sort(tukey_values_sales2)}\\n\")\n",
    "print(f\"Outliers das Vendas (Produto 3):\\n {np.sort(tukey_values_sales3)}\\n\")\n",
    "print(f\"Outliers das Receitas (Produto 1):\\n {np.sort(tukey_values_revenue1)}\\n\")\n",
    "print(f\"Outliers das Receitas (Produto 2):\\n {np.sort(tukey_values_revenue2)}\\n\")\n",
    "print(f\"Outliers das Receitas (Produto 3):\\n {np.sort(tukey_values_revenue3)}\\n\")\n",
    "\n"
   ]
  },
  {
   "cell_type": "code",
   "execution_count": null,
   "id": "2ae3df91",
   "metadata": {},
   "outputs": [],
   "source": [
    "\n",
    "\n",
    "# Verificamos se existem valores em falta para este produto\n",
    "percent_missing1 = product_df_Test1.isnull().sum()\n",
    "percent_missing1.sort_values(ascending=False).head()\n",
    "percent_missing2 = product_df_Test2.isnull().sum()\n",
    "percent_missing2.sort_values(ascending=False).head()\n",
    "percent_missing3 = product_df_Test3.isnull().sum()\n",
    "percent_missing3.sort_values(ascending=False).head()\n"
   ]
  },
  {
   "cell_type": "code",
   "execution_count": 111,
   "id": "4766a855",
   "metadata": {},
   "outputs": [
    {
     "name": "stdout",
     "output_type": "stream",
     "text": [
      "  product_id  year  month  week  sales  revenue   stock    price       date  \\\n",
      "0      P0001  2017      1     1     24      127  1318.0  6.25000 2017-01-02   \n",
      "1      P0001  2017      1     2     21      112  1174.0  6.31713 2017-01-09   \n",
      "2      P0001  2017      1     3     15       82  1040.0  6.50000 2017-01-16   \n",
      "3      P0001  2017      1     4      8       44   961.0  6.50000 2017-01-23   \n",
      "4      P0001  2017      1     5      2       11   266.0  6.50000 2017-01-30   \n",
      "\n",
      "   prev_sales  prev_revenue  \n",
      "0           0             0  \n",
      "1          24           127  \n",
      "2          21           112  \n",
      "3          15            82  \n",
      "4           8            44  \n"
     ]
    }
   ],
   "source": [
    "\n",
    "# Função de preparação pré-previsão, sendo que esta foi separada para poder ser melhorada após análise do desempenho dos modelos obtidos\n",
    "def prepareBeforePredict(dataframe):\n",
    "    # Copiamos o dataframe original para evitar alterações ao mesmo\n",
    "    dataframe1 = dataframe.copy()\n",
    "\n",
    "    # Criamos uma nova coluna com o nº de vendas e receitas da semana imediatamente anterior\n",
    "    dataframe1['prev_sales'] = dataframe1['sales'].shift(1)\n",
    "    dataframe1['prev_revenue'] = dataframe1['revenue'].shift(1)\n",
    "\n",
    "    # Preenchemos a primeira linha com o valor 0, dado que não existe registo anterior\n",
    "    dataframe1['prev_sales'] = dataframe1['prev_sales'].fillna(0)\n",
    "    dataframe1['prev_revenue'] = dataframe1['prev_revenue'].fillna(0)\n",
    "\n",
    "    return dataframe1\n",
    "\n",
    "\n",
    "# Verificamos o resultado da preparação\n",
    "print(prepareBeforePredict(product_df_Test1).head())\n",
    "\n",
    "\n"
   ]
  },
  {
   "cell_type": "code",
   "execution_count": 185,
   "id": "98571e89",
   "metadata": {},
   "outputs": [],
   "source": [
    "\n",
    "\n",
    "# Função de previsão, devolvendo as métricas de avaliação de desempenho dos modelos obtidos\n",
    "def find_model_perf(X_train, y_train, X_test, y_test, model):\n",
    "    model.fit(X_train, y_train)\n",
    "    y_pred = model.predict(X_test)\n",
    "\n",
    "    # Calculamos o MSE\n",
    "    mse = mean_squared_error(y_test, y_pred)\n",
    "\n",
    "    # Calculamos o RMSE\n",
    "    rmse = sqrt(mse)\n",
    "\n",
    "    # Calculamos o MAE\n",
    "    mae = mean_absolute_error(y_test, y_pred)\n",
    "\n",
    "    # Calculamos o R^2 score\n",
    "    r2 = r2_score(y_test, y_pred)\n",
    "\n",
    "    return y_pred, rmse, mae, r2\n",
    "    \n",
    "\n",
    "\n",
    "# Função total de previsão, recorrendo às funções de preparação e previsão\n",
    "def predict(dataframe, model):\n",
    "    X_sales = dataframe.drop(columns = ['revenue', 'date', 'product_id','sales','stock','price','prev_revenue'], axis = 1)\n",
    "    y_sales = dataframe.sales\n",
    "    X_revenue = dataframe.drop(columns = ['revenue', 'date', 'product_id','sales','stock','price','prev_sales'], axis = 1)\n",
    "    y_revenue = dataframe.revenue\n",
    "\n",
    "    X_train_sales, X_test_sales, y_train_sales, y_test_sales = train_test_split(X_sales, y_sales, train_size=0.7, random_state=1)\n",
    "    X_train_revenue, X_test_revenue, y_train_revenue, y_test_revenue = train_test_split(X_revenue, y_revenue, train_size=0.7, random_state=1)\n",
    "\n",
    "    y_pred_sales, rmse_sales, mae_sales, r2_sales = find_model_perf(X_train_sales, y_train_sales, X_test_sales, y_test_sales, model)\n",
    "    y_pred_revenue, rmse_revenue, mae_revenue, r2_revenue = find_model_perf(X_train_revenue, y_train_revenue, X_test_revenue, y_test_revenue, model)\n",
    "\n",
    "    return y_pred_sales, y_pred_revenue, rmse_sales, rmse_revenue, mae_sales, mae_revenue, r2_sales, r2_revenue\n",
    "\n"
   ]
  },
  {
   "cell_type": "code",
   "execution_count": 188,
   "id": "5e242cd4",
   "metadata": {},
   "outputs": [
    {
     "name": "stdout",
     "output_type": "stream",
     "text": [
      "RMSE das Vendas (Produto 1): 13.565976348413493\n",
      "RMSE das Vendas (Produto 2): 5.063236478416116\n",
      "RMSE das Vendas (Produto 3): 246.7797239297774\n",
      "Média RMSE das Vendas: 88.46964558553566\n",
      "\n",
      "RMSE das Receitas (Produto 1): 91.09394679591583\n",
      "RMSE das Receitas (Produto 2): 86.24594852144439\n",
      "RMSE das Receitas (Produto 3): 746.5237772502628\n",
      "Média RMSE das Receitas: 307.95455752254105\n",
      "\n",
      "MAE das Vendas (Produto 1): 8.857142857142858\n",
      "MAE das Vendas (Produto 2): 2.909090909090909\n",
      "MAE das Vendas (Produto 3): 174.55357142857142\n",
      "Média MAE das Vendas: 62.10660173160173\n",
      "\n",
      "MAE das Receitas (Produto 1): 61.892857142857146\n",
      "MAE das Receitas (Produto 2): 46.18181818181818\n",
      "MAE das Receitas (Produto 3): 535.8214285714286\n",
      "Média MAE das Receitas: 214.63203463203465\n",
      "\n",
      "R2 Score das Vendas (Produto 1): 0.17938276256762808\n",
      "R2 Score das Vendas (Produto 2): 0.7906317494600432\n",
      "R2 Score das Vendas (Produto 3): -0.16883351640148048\n",
      "Média R2 Score das Vendas: 0.26706033187539696\n",
      "\n",
      "R2 Score das Receitas (Produto 1): 0.1737027091725385\n",
      "R2 Score das Receitas (Produto 2): 0.7608956113640482\n",
      "R2 Score das Receitas (Produto 3): -0.23933727544843597\n",
      "Média R2 Score das Receitas: 0.23175368169605023\n"
     ]
    }
   ],
   "source": [
    "\n",
    "model = LogisticRegression(solver='liblinear', max_iter=10000, dual=False)\n",
    "\n",
    "# Verificamos a variação do desempenho dos modelos de previsão em alguns produtos diferentes\n",
    "product_df_Test1_prep = prepareBeforePredict(product_df_Test1)\n",
    "product_df_Test2_prep = prepareBeforePredict(product_df_Test2)\n",
    "product_df_Test3_prep = prepareBeforePredict(product_df_Test3)\n",
    "y_pred_sales1, y_pred_revenue1, rmse_sales1, rmse_revenue1, mae_sales1, mae_revenue1, r2_sales1, r2_revenue1 = predict(product_df_Test1_prep, model)\n",
    "y_pred_sales2, y_pred_revenue2, rmse_sales2, rmse_revenue2, mae_sales2, mae_revenue2, r2_sales2, r2_revenue2 = predict(product_df_Test2_prep, model)\n",
    "y_pred_sales3, y_pred_revenue3, rmse_sales3, rmse_revenue3, mae_sales3, mae_revenue3, r2_sales3, r2_revenue3 = predict(product_df_Test3_prep, model)\n",
    "\n",
    "print(f\"RMSE das Vendas (Produto 1): {rmse_sales1}\")\n",
    "print(f\"RMSE das Vendas (Produto 2): {rmse_sales2}\")\n",
    "print(f\"RMSE das Vendas (Produto 3): {rmse_sales3}\")\n",
    "print(f\"Média RMSE das Vendas: {(rmse_sales1 + rmse_sales2 + rmse_sales3)/3}\")\n",
    "print(f\"\\nRMSE das Receitas (Produto 1): {rmse_revenue1}\")\n",
    "print(f\"RMSE das Receitas (Produto 2): {rmse_revenue2}\")\n",
    "print(f\"RMSE das Receitas (Produto 3): {rmse_revenue3}\")\n",
    "print(f\"Média RMSE das Receitas: {(rmse_revenue1 + rmse_revenue2 + rmse_revenue3)/3}\")\n",
    "print(f\"\\nMAE das Vendas (Produto 1): {mae_sales1}\")\n",
    "print(f\"MAE das Vendas (Produto 2): {mae_sales2}\")\n",
    "print(f\"MAE das Vendas (Produto 3): {mae_sales3}\")\n",
    "print(f\"Média MAE das Vendas: {(mae_sales1 + mae_sales2 + mae_sales3)/3}\")\n",
    "print(f\"\\nMAE das Receitas (Produto 1): {mae_revenue1}\")\n",
    "print(f\"MAE das Receitas (Produto 2): {mae_revenue2}\")\n",
    "print(f\"MAE das Receitas (Produto 3): {mae_revenue3}\")\n",
    "print(f\"Média MAE das Receitas: {(mae_revenue1 + mae_revenue2 + mae_revenue3)/3}\")\n",
    "print(f\"\\nR2 Score das Vendas (Produto 1): {r2_sales1}\")\n",
    "print(f\"R2 Score das Vendas (Produto 2): {r2_sales2}\")\n",
    "print(f\"R2 Score das Vendas (Produto 3): {r2_sales3}\")\n",
    "print(f\"Média R2 Score das Vendas: {(r2_sales1 + r2_sales2 + r2_sales3)/3}\")\n",
    "print(f\"\\nR2 Score das Receitas (Produto 1): {r2_revenue1}\")\n",
    "print(f\"R2 Score das Receitas (Produto 2): {r2_revenue2}\")\n",
    "print(f\"R2 Score das Receitas (Produto 3): {r2_revenue3}\")\n",
    "print(f\"Média R2 Score das Receitas: {(r2_revenue1 + r2_revenue2 + r2_revenue3)/3}\")\n",
    "\n"
   ]
  },
  {
   "cell_type": "code",
   "execution_count": 215,
   "id": "2b292f66-1af9-4e8c-8546-d4b9e2be7026",
   "metadata": {},
   "outputs": [
    {
     "name": "stderr",
     "output_type": "stream",
     "text": [
      "C:\\Users\\silve\\AppData\\Local\\Temp\\ipykernel_10220\\2121814376.py:10: RuntimeWarning: invalid value encountered in sqrt\n",
      "  rmse = sqrt(mse)\n"
     ]
    },
    {
     "name": "stdout",
     "output_type": "stream",
     "text": [
      "  product_id  rmse_sales  rmse_revenue  r2_sales  r2_revenue  mae_sales  \\\n",
      "0      P0001   13.565976     91.093947  0.179383    0.173703   8.857143   \n",
      "0      P0002    0.504878     95.594220 -0.139175   -0.138605   0.176471   \n",
      "0      P0004    3.503797     13.174766 -0.288191   -0.546871   2.404255   \n",
      "0      P0005    3.696040    127.559720 -0.638680   -0.511147   2.767857   \n",
      "0      P0006    2.151657     42.322396 -0.409774   -0.405079   1.148148   \n",
      "\n",
      "   mae_revenue  \n",
      "0    61.892857  \n",
      "0    33.352941  \n",
      "0     9.702128  \n",
      "0    96.589286  \n",
      "0    22.592593  \n"
     ]
    }
   ],
   "source": [
    "\n",
    "# Escolhemos o modelo que iremos utilizar, cujas configurações serão analisadas com base nos resultados obtidos para efeitos de otimização\n",
    "model = LogisticRegression(solver='liblinear', max_iter=1000, dual=False)\n",
    "\n",
    "# Criamos um dataframe onde serão armazenados os resultados dos modelos obtidos para posterior análise/comparação\n",
    "modelResults = pd.DataFrame(columns=[\"product_id\", \"rmse_sales\", \"rmse_revenue\", \"r2_sales\", \"r2_revenue\"])\n",
    "\n",
    "# Iteramos a lista de dataframes, treinando um modelo para cada produto e armazenando os respetivos resultados\n",
    "for name, group in dfByProdList:\n",
    "    group_prep = prepareBeforePredict(group)\n",
    "    \n",
    "    if(len(group_prep.sales.unique()) > 3) & (len(group_prep.revenue.unique()) > 3):\n",
    "        y_pred_sales, y_pred_revenue, rmse_sales, rmse_revenue, mae_sales, mae_revenue, r2_sales, r2_revenue = predict(group_prep, model)\n",
    "\n",
    "        modelResults = pd.concat([modelResults,  pd.DataFrame.from_records([{\"product_id\": name, \"rmse_sales\": rmse_sales, \"rmse_revenue\": rmse_revenue, \"mae_sales\": mae_sales, \n",
    "            \"mae_revenue\": mae_revenue, \"r2_sales\": r2_sales, \"r2_revenue\": r2_revenue}])])\n",
    "    \n",
    "\n",
    "print(modelResults.head())"
   ]
  },
  {
   "cell_type": "code",
   "execution_count": 216,
   "id": "a57aa060",
   "metadata": {},
   "outputs": [
    {
     "name": "stdout",
     "output_type": "stream",
     "text": [
      "Média MAE de Receitas (Produto 1): 89.25037857767218\n",
      "Média MAE de Vendas (Produto 1): 379.6481369861401\n",
      "Média MAE de Receitas (Produto 1): 47.8289502907254\n",
      "Média MAE de Vendas (Produto 1): 420.3800217324849\n",
      "Média R2 Score  de Vendas (Produto 1): -0.1455607354931213\n",
      "Média R2 Score de Receitas (Produto 1): -0.1509255750976627\n"
     ]
    }
   ],
   "source": [
    "\n",
    "\n",
    "# Verificamos a média do desempenho dos modelos para todos os produtos válidos (com dados suficientes para prever)\n",
    "print(f\"Média MAE de Receitas (Produto 1): {modelResults[modelResults['r2_sales'] > -1].rmse_sales.mean()}\")\n",
    "print(f\"Média MAE de Vendas (Produto 1): {modelResults[modelResults['r2_revenue'] > -1].rmse_revenue.mean()}\")\n",
    "print(f\"Média MAE de Receitas (Produto 1): {modelResults[modelResults['r2_sales'] > -1].mae_sales.mean()}\")\n",
    "print(f\"Média MAE de Vendas (Produto 1): {modelResults[modelResults['r2_revenue'] > -1].mae_revenue.mean()}\")\n",
    "print(f\"Média R2 Score  de Vendas (Produto 1): {modelResults[modelResults['r2_sales'] > -1].r2_sales.mean()}\")\n",
    "print(f\"Média R2 Score de Receitas (Produto 1): {modelResults[modelResults['r2_revenue'] > -1].r2_revenue.mean()}\")\n",
    "\n",
    "\n"
   ]
  },
  {
   "cell_type": "code",
   "execution_count": 217,
   "id": "a3c5f490",
   "metadata": {},
   "outputs": [
    {
     "data": {
      "image/png": "[encoded data removed]",
      "text/plain": [
       "<Figure size 700x400 with 1 Axes>"
      ]
     },
     "metadata": {},
     "output_type": "display_data"
    },
    {
     "data": {
      "image/png": "[encoded data removed]",
      "text/plain": [
       "<Figure size 700x400 with 1 Axes>"
      ]
     },
     "metadata": {},
     "output_type": "display_data"
    }
   ],
   "source": [
    "\n",
    "def r2_distribution_sales(modelResults, title):\n",
    "    fig, ax = plt.subplots(figsize=(7,4))\n",
    "    plt.hist(modelResults.r2_sales, color='mediumblue')\n",
    "    \n",
    "    ax.set(xlabel = \"Week\", ylabel = \"R2 Score\", title = title )\n",
    "\n",
    "def r2_distribution_revenue(modelResults, title):\n",
    "    fig, ax = plt.subplots(figsize=(7,4))\n",
    "    plt.hist(modelResults.r2_revenue, color='mediumblue')\n",
    "    \n",
    "    ax.set(xlabel = \"Week\", ylabel = \"R2 Score\", title = title )\n",
    "\n",
    "\n",
    "# Verificamos a distribuição do R2 Score de todos os modelos obtidos\n",
    "r2_distribution_sales(modelResults[modelResults['r2_sales'] > -1], \"Distribuição de R2 Score de Receitas e Vendas\")\n",
    "r2_distribution_revenue(modelResults[modelResults['r2_revenue'] > -1], \"Distribuição de R2 Score de Receitas e Vendas\")\n",
    "\n"
   ]
  },
  {
   "cell_type": "code",
   "execution_count": 58,
   "id": "0f0db2bc",
   "metadata": {},
   "outputs": [],
   "source": [
    "\n",
    "from datetime import datetime\n",
    "\n",
    "XArima = product_df_Test1.date\n",
    "yArima = product_df_Test1.sales\n",
    "XArima_train , XArima_test,yArima_train,yArima_test = train_test_split(XArima, yArima, train_size=0.7, random_state=None)\n",
    "\n"
   ]
  },
  {
   "cell_type": "code",
   "execution_count": 59,
   "id": "f9688d38",
   "metadata": {},
   "outputs": [
    {
     "name": "stdout",
     "output_type": "stream",
     "text": [
      "2017-01-02 00:00:00\n"
     ]
    }
   ],
   "source": [
    "print(XArima[0])"
   ]
  },
  {
   "cell_type": "code",
   "execution_count": 60,
   "id": "a53a304a",
   "metadata": {},
   "outputs": [],
   "source": [
    "from statsmodels.tsa.arima.model import ARIMA\n",
    "\n",
    "def find_model_perf_arima(X_train,y_train,X_test,y_test):\n",
    "\n",
    "    model = ARIMA(X_train, y_train)\n",
    "    model = model.fit()\n",
    "    y_pred = model.predict(X_test)\n",
    "\n",
    "    # Compute the MSE\n",
    "    mse = mean_squared_error(y_test, y_pred)\n",
    "\n",
    "    # Compute the RMSE\n",
    "    rmse = sqrt(mse)\n",
    "\n",
    "    # Compute the MAE\n",
    "    mae = mean_absolute_error(y_test, y_pred)\n",
    "\n",
    "    # Compute the R^2 score\n",
    "    r2 = r2_score(y_test, y_pred)\n",
    "\n",
    "    print(f\"RMSE: {rmse}\")\n",
    "    print(f\"MAE: {mae}\")\n",
    "    print(f\"R2 Score: {r2}\")"
   ]
  },
  {
   "cell_type": "code",
   "execution_count": 61,
   "id": "478d78ed",
   "metadata": {},
   "outputs": [
    {
     "name": "stderr",
     "output_type": "stream",
     "text": [
      "c:\\Users\\silve\\AppData\\Local\\Programs\\Python\\Python310\\lib\\site-packages\\statsmodels\\tsa\\base\\tsa_model.py:471: ValueWarning: An unsupported index was provided and will be ignored when e.g. forecasting.\n",
      "  self._init_dates(dates, freq)\n",
      "c:\\Users\\silve\\AppData\\Local\\Programs\\Python\\Python310\\lib\\site-packages\\statsmodels\\tsa\\base\\tsa_model.py:471: ValueWarning: An unsupported index was provided and will be ignored when e.g. forecasting.\n",
      "  self._init_dates(dates, freq)\n",
      "c:\\Users\\silve\\AppData\\Local\\Programs\\Python\\Python310\\lib\\site-packages\\statsmodels\\tsa\\base\\tsa_model.py:471: ValueWarning: An unsupported index was provided and will be ignored when e.g. forecasting.\n",
      "  self._init_dates(dates, freq)\n"
     ]
    },
    {
     "ename": "UFuncTypeError",
     "evalue": "ufunc 'subtract' cannot use operands with types dtype('<M8[ns]') and dtype('O')",
     "output_type": "error",
     "traceback": [
      "\u001b[1;31m---------------------------------------------------------------------------\u001b[0m",
      "\u001b[1;31mUFuncTypeError\u001b[0m                            Traceback (most recent call last)",
      "Cell \u001b[1;32mIn [61], line 2\u001b[0m\n\u001b[0;32m      1\u001b[0m \u001b[38;5;66;03m# Find performance of model using preprocessed data\u001b[39;00m\n\u001b[1;32m----> 2\u001b[0m \u001b[43mfind_model_perf_arima\u001b[49m\u001b[43m(\u001b[49m\u001b[43mXArima_train\u001b[49m\u001b[43m,\u001b[49m\u001b[43m \u001b[49m\u001b[43myArima_train\u001b[49m\u001b[43m,\u001b[49m\u001b[43m \u001b[49m\u001b[43mXArima_test\u001b[49m\u001b[43m,\u001b[49m\u001b[43m \u001b[49m\u001b[43myArima_test\u001b[49m\u001b[43m)\u001b[49m\n",
      "Cell \u001b[1;32mIn [60], line 6\u001b[0m, in \u001b[0;36mfind_model_perf_arima\u001b[1;34m(X_train, y_train, X_test, y_test)\u001b[0m\n\u001b[0;32m      3\u001b[0m \u001b[38;5;28;01mdef\u001b[39;00m \u001b[38;5;21mfind_model_perf_arima\u001b[39m(X_train,y_train,X_test,y_test):\n\u001b[0;32m      5\u001b[0m     model \u001b[38;5;241m=\u001b[39m ARIMA(X_train, y_train)\n\u001b[1;32m----> 6\u001b[0m     model \u001b[38;5;241m=\u001b[39m \u001b[43mmodel\u001b[49m\u001b[38;5;241;43m.\u001b[39;49m\u001b[43mfit\u001b[49m\u001b[43m(\u001b[49m\u001b[43m)\u001b[49m\n\u001b[0;32m      7\u001b[0m     y_pred \u001b[38;5;241m=\u001b[39m model\u001b[38;5;241m.\u001b[39mpredict(X_test)\n\u001b[0;32m      9\u001b[0m     \u001b[38;5;66;03m# Compute the MSE\u001b[39;00m\n",
      "File \u001b[1;32mc:\\Users\\silve\\AppData\\Local\\Programs\\Python\\Python310\\lib\\site-packages\\statsmodels\\tsa\\arima\\model.py:390\u001b[0m, in \u001b[0;36mARIMA.fit\u001b[1;34m(self, start_params, transformed, includes_fixed, method, method_kwargs, gls, gls_kwargs, cov_type, cov_kwds, return_params, low_memory)\u001b[0m\n\u001b[0;32m    387\u001b[0m \u001b[39melse\u001b[39;00m:\n\u001b[0;32m    388\u001b[0m     method_kwargs\u001b[39m.\u001b[39msetdefault(\u001b[39m'\u001b[39m\u001b[39mdisp\u001b[39m\u001b[39m'\u001b[39m, \u001b[39m0\u001b[39m)\n\u001b[1;32m--> 390\u001b[0m     res \u001b[39m=\u001b[39m \u001b[39msuper\u001b[39m()\u001b[39m.\u001b[39mfit(\n\u001b[0;32m    391\u001b[0m         return_params\u001b[39m=\u001b[39mreturn_params, low_memory\u001b[39m=\u001b[39mlow_memory,\n\u001b[0;32m    392\u001b[0m         cov_type\u001b[39m=\u001b[39mcov_type, cov_kwds\u001b[39m=\u001b[39mcov_kwds, \u001b[39m*\u001b[39m\u001b[39m*\u001b[39mmethod_kwargs)\n\u001b[0;32m    393\u001b[0m     \u001b[39mif\u001b[39;00m \u001b[39mnot\u001b[39;00m return_params:\n\u001b[0;32m    394\u001b[0m         res\u001b[39m.\u001b[39mfit_details \u001b[39m=\u001b[39m res\u001b[39m.\u001b[39mmlefit\n",
      "File \u001b[1;32mc:\\Users\\silve\\AppData\\Local\\Programs\\Python\\Python310\\lib\\site-packages\\statsmodels\\tsa\\statespace\\mlemodel.py:650\u001b[0m, in \u001b[0;36mMLEModel.fit\u001b[1;34m(self, start_params, transformed, includes_fixed, cov_type, cov_kwds, method, maxiter, full_output, disp, callback, return_params, optim_score, optim_complex_step, optim_hessian, flags, low_memory, **kwargs)\u001b[0m\n\u001b[0;32m    530\u001b[0m \u001b[39m\"\"\"\u001b[39;00m\n\u001b[0;32m    531\u001b[0m \u001b[39mFits the model by maximum likelihood via Kalman filter.\u001b[39;00m\n\u001b[0;32m    532\u001b[0m \n\u001b[1;32m   (...)\u001b[0m\n\u001b[0;32m    647\u001b[0m \u001b[39mstatsmodels.tsa.statespace.structural.UnobservedComponentsResults\u001b[39;00m\n\u001b[0;32m    648\u001b[0m \u001b[39m\"\"\"\u001b[39;00m\n\u001b[0;32m    649\u001b[0m \u001b[39mif\u001b[39;00m start_params \u001b[39mis\u001b[39;00m \u001b[39mNone\u001b[39;00m:\n\u001b[1;32m--> 650\u001b[0m     start_params \u001b[39m=\u001b[39m \u001b[39mself\u001b[39;49m\u001b[39m.\u001b[39;49mstart_params\n\u001b[0;32m    651\u001b[0m     transformed \u001b[39m=\u001b[39m \u001b[39mTrue\u001b[39;00m\n\u001b[0;32m    652\u001b[0m     includes_fixed \u001b[39m=\u001b[39m \u001b[39mTrue\u001b[39;00m\n",
      "File \u001b[1;32mc:\\Users\\silve\\AppData\\Local\\Programs\\Python\\Python310\\lib\\site-packages\\statsmodels\\tsa\\statespace\\sarimax.py:947\u001b[0m, in \u001b[0;36mSARIMAX.start_params\u001b[1;34m(self)\u001b[0m\n\u001b[0;32m    945\u001b[0m \u001b[39mif\u001b[39;00m \u001b[39mself\u001b[39m\u001b[39m.\u001b[39m_k_exog \u001b[39m>\u001b[39m \u001b[39m0\u001b[39m:\n\u001b[0;32m    946\u001b[0m     params_exog \u001b[39m=\u001b[39m np\u001b[39m.\u001b[39mlinalg\u001b[39m.\u001b[39mpinv(exog)\u001b[39m.\u001b[39mdot(endog)\n\u001b[1;32m--> 947\u001b[0m     endog \u001b[39m=\u001b[39m endog \u001b[39m-\u001b[39;49m np\u001b[39m.\u001b[39;49mdot(exog, params_exog)\n\u001b[0;32m    948\u001b[0m \u001b[39mif\u001b[39;00m \u001b[39mself\u001b[39m\u001b[39m.\u001b[39mstate_regression:\n\u001b[0;32m    949\u001b[0m     params_exog \u001b[39m=\u001b[39m []\n",
      "\u001b[1;31mUFuncTypeError\u001b[0m: ufunc 'subtract' cannot use operands with types dtype('<M8[ns]') and dtype('O')"
     ]
    }
   ],
   "source": [
    "\n",
    "\n",
    "# Find performance of model using preprocessed data\n",
    "find_model_perf_arima(XArima_train, yArima_train, XArima_test, yArima_test)\n",
    "\n"
   ]
  }
 ],
 "metadata": {
  "kernelspec": {
   "display_name": "Python 3.10.8 64-bit",
   "language": "python",
   "name": "python3"
  },
  "language_info": {
   "codemirror_mode": {
    "name": "ipython",
    "version": 3
   },
   "file_extension": ".py",
   "mimetype": "text/x-python",
   "name": "python",
   "nbconvert_exporter": "python",
   "pygments_lexer": "ipython3",
   "version": "3.10.8"
  },
  "vscode": {
   "interpreter": {
    "hash": "9133b8b5d84a1735604583a1a1c6e3e8f92c372edb4af1b624b4e793d168e89d"
   }
  }
 },
 "nbformat": 4,
 "nbformat_minor": 5
}
