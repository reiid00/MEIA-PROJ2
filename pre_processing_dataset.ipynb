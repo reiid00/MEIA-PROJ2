{
 "cells": [
  {
   "cell_type": "markdown",
   "id": "0c2290f0-c6af-452e-b708-1b8e485da4af",
   "metadata": {},
   "source": [
    "\n",
    "# Pré-Processamento: Processamento de Dados e Preparação do Dataset\n",
    "\n",
    "## Objetivo\n",
    "  A apartir de um conjunto de dados não tratados referente às receitas de uma loja de desporto, efetuar as associações necessárias, eliminando toda a informação considerada desnecessária para o âmbito do nosso projeto, gerando um dataset final a ser, posteriormente, importado no pré-processamento de dados. \n"
   ]
  },
  {
   "cell_type": "code",
   "execution_count": 1,
   "id": "09fac7bc",
   "metadata": {
    "scrolled": true
   },
   "outputs": [
    {
     "name": "stdout",
     "output_type": "stream",
     "text": [
      "Requirement already satisfied: pandas in c:\\users\\reidp\\appdata\\local\\packages\\pythonsoftwarefoundation.python.3.10_qbz5n2kfra8p0\\localcache\\local-packages\\python310\\site-packages (1.5.2)\n",
      "Requirement already satisfied: numpy>=1.21.0 in c:\\users\\reidp\\appdata\\local\\packages\\pythonsoftwarefoundation.python.3.10_qbz5n2kfra8p0\\localcache\\local-packages\\python310\\site-packages (from pandas) (1.23.5)\n",
      "Requirement already satisfied: pytz>=2020.1 in c:\\users\\reidp\\appdata\\local\\packages\\pythonsoftwarefoundation.python.3.10_qbz5n2kfra8p0\\localcache\\local-packages\\python310\\site-packages (from pandas) (2022.6)\n",
      "Requirement already satisfied: python-dateutil>=2.8.1 in c:\\users\\reidp\\appdata\\local\\packages\\pythonsoftwarefoundation.python.3.10_qbz5n2kfra8p0\\localcache\\local-packages\\python310\\site-packages (from pandas) (2.8.2)\n",
      "Requirement already satisfied: six>=1.5 in c:\\users\\reidp\\appdata\\local\\packages\\pythonsoftwarefoundation.python.3.10_qbz5n2kfra8p0\\localcache\\local-packages\\python310\\site-packages (from python-dateutil>=2.8.1->pandas) (1.16.0)\n",
      "Note: you may need to restart the kernel to use updated packages.\n",
      "Requirement already satisfied: xlrd in c:\\users\\reidp\\appdata\\local\\packages\\pythonsoftwarefoundation.python.3.10_qbz5n2kfra8p0\\localcache\\local-packages\\python310\\site-packages (2.0.1)\n",
      "Note: you may need to restart the kernel to use updated packages.\n",
      "Requirement already satisfied: openpyxl in c:\\users\\reidp\\appdata\\local\\packages\\pythonsoftwarefoundation.python.3.10_qbz5n2kfra8p0\\localcache\\local-packages\\python310\\site-packages (3.0.10)\n",
      "Requirement already satisfied: et-xmlfile in c:\\users\\reidp\\appdata\\local\\packages\\pythonsoftwarefoundation.python.3.10_qbz5n2kfra8p0\\localcache\\local-packages\\python310\\site-packages (from openpyxl) (1.1.0)\n",
      "Note: you may need to restart the kernel to use updated packages.\n",
      "Requirement already satisfied: unidecode in c:\\users\\reidp\\appdata\\local\\packages\\pythonsoftwarefoundation.python.3.10_qbz5n2kfra8p0\\localcache\\local-packages\\python310\\site-packages (1.3.6)\n",
      "Note: you may need to restart the kernel to use updated packages.\n",
      "Requirement already satisfied: scikit-learn in c:\\users\\reidp\\appdata\\local\\packages\\pythonsoftwarefoundation.python.3.10_qbz5n2kfra8p0\\localcache\\local-packages\\python310\\site-packages (1.2.0)\n",
      "Requirement already satisfied: numpy>=1.17.3 in c:\\users\\reidp\\appdata\\local\\packages\\pythonsoftwarefoundation.python.3.10_qbz5n2kfra8p0\\localcache\\local-packages\\python310\\site-packages (from scikit-learn) (1.23.5)\n",
      "Requirement already satisfied: joblib>=1.1.1 in c:\\users\\reidp\\appdata\\local\\packages\\pythonsoftwarefoundation.python.3.10_qbz5n2kfra8p0\\localcache\\local-packages\\python310\\site-packages (from scikit-learn) (1.2.0)\n",
      "Requirement already satisfied: scipy>=1.3.2 in c:\\users\\reidp\\appdata\\local\\packages\\pythonsoftwarefoundation.python.3.10_qbz5n2kfra8p0\\localcache\\local-packages\\python310\\site-packages (from scikit-learn) (1.10.0)\n",
      "Requirement already satisfied: threadpoolctl>=2.0.0 in c:\\users\\reidp\\appdata\\local\\packages\\pythonsoftwarefoundation.python.3.10_qbz5n2kfra8p0\\localcache\\local-packages\\python310\\site-packages (from scikit-learn) (3.1.0)\n",
      "Note: you may need to restart the kernel to use updated packages.\n",
      "Requirement already satisfied: matplotlib in c:\\users\\reidp\\appdata\\local\\packages\\pythonsoftwarefoundation.python.3.10_qbz5n2kfra8p0\\localcache\\local-packages\\python310\\site-packages (3.6.2)Note: you may need to restart the kernel to use updated packages.\n",
      "\n",
      "Requirement already satisfied: python-dateutil>=2.7 in c:\\users\\reidp\\appdata\\local\\packages\\pythonsoftwarefoundation.python.3.10_qbz5n2kfra8p0\\localcache\\local-packages\\python310\\site-packages (from matplotlib) (2.8.2)\n",
      "Requirement already satisfied: kiwisolver>=1.0.1 in c:\\users\\reidp\\appdata\\local\\packages\\pythonsoftwarefoundation.python.3.10_qbz5n2kfra8p0\\localcache\\local-packages\\python310\\site-packages (from matplotlib) (1.4.4)\n",
      "Requirement already satisfied: pyparsing>=2.2.1 in c:\\users\\reidp\\appdata\\local\\packages\\pythonsoftwarefoundation.python.3.10_qbz5n2kfra8p0\\localcache\\local-packages\\python310\\site-packages (from matplotlib) (3.0.9)\n",
      "Requirement already satisfied: contourpy>=1.0.1 in c:\\users\\reidp\\appdata\\local\\packages\\pythonsoftwarefoundation.python.3.10_qbz5n2kfra8p0\\localcache\\local-packages\\python310\\site-packages (from matplotlib) (1.0.6)\n",
      "Requirement already satisfied: numpy>=1.19 in c:\\users\\reidp\\appdata\\local\\packages\\pythonsoftwarefoundation.python.3.10_qbz5n2kfra8p0\\localcache\\local-packages\\python310\\site-packages (from matplotlib) (1.23.5)\n",
      "Requirement already satisfied: fonttools>=4.22.0 in c:\\users\\reidp\\appdata\\local\\packages\\pythonsoftwarefoundation.python.3.10_qbz5n2kfra8p0\\localcache\\local-packages\\python310\\site-packages (from matplotlib) (4.38.0)\n",
      "Requirement already satisfied: pillow>=6.2.0 in c:\\users\\reidp\\appdata\\local\\packages\\pythonsoftwarefoundation.python.3.10_qbz5n2kfra8p0\\localcache\\local-packages\\python310\\site-packages (from matplotlib) (9.4.0)\n",
      "Requirement already satisfied: packaging>=20.0 in c:\\users\\reidp\\appdata\\local\\packages\\pythonsoftwarefoundation.python.3.10_qbz5n2kfra8p0\\localcache\\local-packages\\python310\\site-packages (from matplotlib) (21.3)\n",
      "Requirement already satisfied: cycler>=0.10 in c:\\users\\reidp\\appdata\\local\\packages\\pythonsoftwarefoundation.python.3.10_qbz5n2kfra8p0\\localcache\\local-packages\\python310\\site-packages (from matplotlib) (0.11.0)\n",
      "Requirement already satisfied: six>=1.5 in c:\\users\\reidp\\appdata\\local\\packages\\pythonsoftwarefoundation.python.3.10_qbz5n2kfra8p0\\localcache\\local-packages\\python310\\site-packages (from python-dateutil>=2.7->matplotlib) (1.16.0)\n",
      "Requirement already satisfied: seaborn in c:\\users\\reidp\\appdata\\local\\packages\\pythonsoftwarefoundation.python.3.10_qbz5n2kfra8p0\\localcache\\local-packages\\python310\\site-packages (0.12.2)\n",
      "Requirement already satisfied: numpy!=1.24.0,>=1.17 in c:\\users\\reidp\\appdata\\local\\packages\\pythonsoftwarefoundation.python.3.10_qbz5n2kfra8p0\\localcache\\local-packages\\python310\\site-packages (from seaborn) (1.23.5)\n",
      "Requirement already satisfied: pandas>=0.25 in c:\\users\\reidp\\appdata\\local\\packages\\pythonsoftwarefoundation.python.3.10_qbz5n2kfra8p0\\localcache\\local-packages\\python310\\site-packages (from seaborn) (1.5.2)\n",
      "Requirement already satisfied: matplotlib!=3.6.1,>=3.1 in c:\\users\\reidp\\appdata\\local\\packages\\pythonsoftwarefoundation.python.3.10_qbz5n2kfra8p0\\localcache\\local-packages\\python310\\site-packages (from seaborn) (3.6.2)\n",
      "Requirement already satisfied: pyparsing>=2.2.1 in c:\\users\\reidp\\appdata\\local\\packages\\pythonsoftwarefoundation.python.3.10_qbz5n2kfra8p0\\localcache\\local-packages\\python310\\site-packages (from matplotlib!=3.6.1,>=3.1->seaborn) (3.0.9)\n",
      "Requirement already satisfied: kiwisolver>=1.0.1 in c:\\users\\reidp\\appdata\\local\\packages\\pythonsoftwarefoundation.python.3.10_qbz5n2kfra8p0\\localcache\\local-packages\\python310\\site-packages (from matplotlib!=3.6.1,>=3.1->seaborn) (1.4.4)\n",
      "Requirement already satisfied: cycler>=0.10 in c:\\users\\reidp\\appdata\\local\\packages\\pythonsoftwarefoundation.python.3.10_qbz5n2kfra8p0\\localcache\\local-packages\\python310\\site-packages (from matplotlib!=3.6.1,>=3.1->seaborn) (0.11.0)\n",
      "Requirement already satisfied: contourpy>=1.0.1 in c:\\users\\reidp\\appdata\\local\\packages\\pythonsoftwarefoundation.python.3.10_qbz5n2kfra8p0\\localcache\\local-packages\\python310\\site-packages (from matplotlib!=3.6.1,>=3.1->seaborn) (1.0.6)\n",
      "Requirement already satisfied: python-dateutil>=2.7 in c:\\users\\reidp\\appdata\\local\\packages\\pythonsoftwarefoundation.python.3.10_qbz5n2kfra8p0\\localcache\\local-packages\\python310\\site-packages (from matplotlib!=3.6.1,>=3.1->seaborn) (2.8.2)\n",
      "Requirement already satisfied: fonttools>=4.22.0 in c:\\users\\reidp\\appdata\\local\\packages\\pythonsoftwarefoundation.python.3.10_qbz5n2kfra8p0\\localcache\\local-packages\\python310\\site-packages (from matplotlib!=3.6.1,>=3.1->seaborn) (4.38.0)\n",
      "Requirement already satisfied: pillow>=6.2.0 in c:\\users\\reidp\\appdata\\local\\packages\\pythonsoftwarefoundation.python.3.10_qbz5n2kfra8p0\\localcache\\local-packages\\python310\\site-packages (from matplotlib!=3.6.1,>=3.1->seaborn) (9.4.0)\n",
      "Requirement already satisfied: packaging>=20.0 in c:\\users\\reidp\\appdata\\local\\packages\\pythonsoftwarefoundation.python.3.10_qbz5n2kfra8p0\\localcache\\local-packages\\python310\\site-packages (from matplotlib!=3.6.1,>=3.1->seaborn) (21.3)\n",
      "Requirement already satisfied: pytz>=2020.1 in c:\\users\\reidp\\appdata\\local\\packages\\pythonsoftwarefoundation.python.3.10_qbz5n2kfra8p0\\localcache\\local-packages\\python310\\site-packages (from pandas>=0.25->seaborn) (2022.6)\n",
      "Requirement already satisfied: six>=1.5 in c:\\users\\reidp\\appdata\\local\\packages\\pythonsoftwarefoundation.python.3.10_qbz5n2kfra8p0\\localcache\\local-packages\\python310\\site-packages (from python-dateutil>=2.7->matplotlib!=3.6.1,>=3.1->seaborn) (1.16.0)\n",
      "Note: you may need to restart the kernel to use updated packages.\n"
     ]
    }
   ],
   "source": [
    "%pip install pandas\n",
    "%pip install xlrd\n",
    "%pip install openpyxl\n",
    "%pip install unidecode\n",
    "%pip install scikit-learn\n",
    "%pip install matplotlib\n",
    "%pip install seaborn\n",
    "%pip install statsmodels"
   ]
  },
  {
   "cell_type": "code",
   "execution_count": 2,
   "id": "471bbf23",
   "metadata": {},
   "outputs": [],
   "source": [
    "\n",
    "import numpy as np\n",
    "import pandas as pd\n",
    "import matplotlib.pyplot as plt\n",
    "import seaborn as sns\n",
    "\n",
    "from sklearn.preprocessing import MinMaxScaler\n",
    "from sklearn.linear_model import LinearRegression\n",
    "from sklearn.metrics import mean_squared_error, mean_absolute_error, r2_score\n",
    "from sklearn.ensemble import RandomForestRegressor\n",
    "from datetime import datetime\n",
    "# Use train_test_split in sklearn.cross_validation to split data into train and test sets\n",
    "from sklearn.model_selection import train_test_split\n"
   ]
  },
  {
   "cell_type": "code",
   "execution_count": 3,
   "id": "2c4bdbff",
   "metadata": {},
   "outputs": [
    {
     "name": "stderr",
     "output_type": "stream",
     "text": [
      "C:\\Users\\reidp\\AppData\\Local\\Temp\\ipykernel_6860\\2804483899.py:2: DtypeWarning: Columns (10,12) have mixed types. Specify dtype option on import or set low_memory=False.\n",
      "  df = pd.read_csv('dataset/sales.csv')\n"
     ]
    },
    {
     "name": "stdout",
     "output_type": "stream",
     "text": [
      "  product_id store_id        date  sales  revenue  stock  price promo_type_1  \\\n",
      "0      P0001    S0002  2017-01-02    0.0     0.00    8.0   6.25         PR14   \n",
      "1      P0001    S0012  2017-01-02    1.0     5.30    0.0   6.25         PR14   \n",
      "2      P0001    S0013  2017-01-02    2.0    10.59    0.0   6.25         PR14   \n",
      "3      P0001    S0023  2017-01-02    0.0     0.00    6.0   6.25         PR14   \n",
      "4      P0001    S0025  2017-01-02    0.0     0.00    1.0   6.25         PR14   \n",
      "\n",
      "  promo_bin_1 promo_type_2 promo_bin_2  promo_discount_2 promo_discount_type_2  \n",
      "0         NaN         PR03         NaN               NaN                   NaN  \n",
      "1         NaN         PR03         NaN               NaN                   NaN  \n",
      "2         NaN         PR03         NaN               NaN                   NaN  \n",
      "3         NaN         PR03         NaN               NaN                   NaN  \n",
      "4         NaN         PR03         NaN               NaN                   NaN  \n"
     ]
    }
   ],
   "source": [
    "\n",
    "\n",
    "# Lemos o dataset\n",
    "df = pd.read_csv('dataset/sales.csv')\n",
    "\n",
    "# Verificamos o dataset carregado\n",
    "print(df.head(5))\n"
   ]
  },
  {
   "cell_type": "code",
   "execution_count": 4,
   "id": "fcd32b90-c967-4531-b5e0-bc05367ef895",
   "metadata": {},
   "outputs": [
    {
     "name": "stdout",
     "output_type": "stream",
     "text": [
      "1091 dias\n",
      "2.989041095890411 anos\n"
     ]
    }
   ],
   "source": [
    "\n",
    "# Verificamos o período do dataset\n",
    "def sales_duration(data):\n",
    "    data.date = pd.to_datetime(data.date)\n",
    "    number_of_days = data.date.max() - data.date.min()\n",
    "    number_of_years = number_of_days.days / 365\n",
    "    print(number_of_days.days, 'dias')\n",
    "    print(number_of_years, 'anos')\n",
    "    \n",
    "sales_duration(df)\n"
   ]
  },
  {
   "cell_type": "code",
   "execution_count": 5,
   "id": "67bef129-8da7-4d44-9604-d5a6c08292da",
   "metadata": {},
   "outputs": [
    {
     "name": "stdout",
     "output_type": "stream",
     "text": [
      "P0125    140997\n",
      "P0364    140569\n",
      "P0261    139651\n",
      "P0333    139632\n",
      "P0664    139486\n",
      "P0390    139332\n",
      "P0131    139014\n",
      "P0536    138856\n",
      "P0499    138228\n",
      "P0116    137142\n",
      "P0569    137132\n",
      "P0372    136738\n",
      "P0103    135841\n",
      "P0642    134062\n",
      "P0129    133990\n",
      "Name: product_id, dtype: int64\n"
     ]
    }
   ],
   "source": [
    "\n",
    "# Verificamos que cada produto tem vários registos por dia, dado que para cada produto existem mais registos do que o total de dias acima ilustrado, sendo estes\n",
    "# referentes às diferentes lojas em que foram vendidos. Porém, para efeitos de análise, iremos agrupar as vendas diárias de cada produto em todas as lojas numa só linha.\n",
    "print(df['product_id'].value_counts().sort_values(ascending=False).head(15))\n",
    "\n"
   ]
  },
  {
   "cell_type": "code",
   "execution_count": 6,
   "id": "10b8d687-b27a-4934-b70d-86400c130df4",
   "metadata": {},
   "outputs": [
    {
     "data": {
      "text/plain": [
       "promo_bin_2              99.696317\n",
       "promo_discount_2         99.696317\n",
       "promo_discount_type_2    99.696317\n",
       "promo_bin_1              86.370028\n",
       "sales                     6.120647\n",
       "dtype: float64"
      ]
     },
     "execution_count": 6,
     "metadata": {},
     "output_type": "execute_result"
    }
   ],
   "source": [
    "\n",
    "\n",
    "# Verificamos as percentagens de dados em falta\n",
    "percent_missing = df.isnull().sum() * 100 / len(df)\n",
    "percent_missing.sort_values(ascending=False).head()\n",
    "\n"
   ]
  },
  {
   "cell_type": "code",
   "execution_count": 7,
   "id": "87d5e533-2ea5-4b52-86d2-19e89786bb44",
   "metadata": {},
   "outputs": [
    {
     "name": "stdout",
     "output_type": "stream",
     "text": [
      "PR14    2092\n",
      "Name: promo_type_1, dtype: int64\n"
     ]
    }
   ],
   "source": [
    "\n",
    "\n",
    "# Verificamos a distribuição das colunas de valores de promoção que estão preenchidas\n",
    "print(df[df['product_id'] == 'P0004']['promo_type_1'].value_counts().sort_values(ascending=False).head(15))\n",
    "\n"
   ]
  },
  {
   "cell_type": "code",
   "execution_count": 8,
   "id": "9f78df1e-ec02-441b-9ff3-e6dde818959d",
   "metadata": {},
   "outputs": [
    {
     "name": "stdout",
     "output_type": "stream",
     "text": [
      "PR03    2092\n",
      "Name: promo_type_2, dtype: int64\n"
     ]
    }
   ],
   "source": [
    "\n",
    "\n",
    "# Verificamos a distribuição das colunas de valores de promoção que estão preenchidas\n",
    "print(df[df['product_id'] == 'P0004']['promo_type_2'].value_counts().sort_values(ascending=False).head(15))\n",
    "\n"
   ]
  },
  {
   "cell_type": "code",
   "execution_count": 9,
   "id": "6a603550-82aa-48d9-81a4-8c3b7742a97e",
   "metadata": {},
   "outputs": [
    {
     "name": "stdout",
     "output_type": "stream",
     "text": [
      "  product_id store_id       date  sales  revenue  stock  price\n",
      "0      P0001    S0002 2017-01-02    0.0     0.00    8.0   6.25\n",
      "1      P0001    S0012 2017-01-02    1.0     5.30    0.0   6.25\n",
      "2      P0001    S0013 2017-01-02    2.0    10.59    0.0   6.25\n",
      "3      P0001    S0023 2017-01-02    0.0     0.00    6.0   6.25\n",
      "4      P0001    S0025 2017-01-02    0.0     0.00    1.0   6.25\n"
     ]
    }
   ],
   "source": [
    "\n",
    "\n",
    "# Removemos as colunas cujas percentagens de inutilização são evidentemente superiores ao aceitável\n",
    "df = df.drop(columns=[\"promo_bin_2\", \"promo_discount_2\", \"promo_discount_type_2\", \"promo_bin_1\"])\n",
    "\n",
    "# Removemos as colunas cuja distribuição é quase 100% para um determinado valor, dado que não terão impacto no modelo\n",
    "df = df.drop(columns=[\"promo_type_1\",\"promo_type_2\"])\n",
    "print(df.head(5))\n",
    "\n"
   ]
  },
  {
   "cell_type": "code",
   "execution_count": 10,
   "id": "fec7de6c-e001-4b5e-b39d-3f58b18a188f",
   "metadata": {},
   "outputs": [
    {
     "data": {
      "text/plain": [
       "sales         6.120647\n",
       "revenue       6.120647\n",
       "stock         6.120647\n",
       "price         2.940045\n",
       "product_id    0.000000\n",
       "dtype: float64"
      ]
     },
     "execution_count": 10,
     "metadata": {},
     "output_type": "execute_result"
    }
   ],
   "source": [
    "\n",
    "\n",
    "# Verificamos novamente as percentagens de dados em falta\n",
    "percent_missing = df.isnull().sum() * 100 / len(df)\n",
    "percent_missing.sort_values(ascending=False).head()\n",
    "\n"
   ]
  },
  {
   "cell_type": "code",
   "execution_count": 11,
   "id": "3071a35a-5a8b-45c0-b233-6a9aa91b3a99",
   "metadata": {},
   "outputs": [
    {
     "name": "stdout",
     "output_type": "stream",
     "text": [
      "   product_id  year  month  week  sales  revenue   stock    price       date\n",
      "0       P0001  2017      1     1   24.0   127.17  1318.0  6.25000 2017-01-02\n",
      "1       P0001  2017      1     2   21.0   112.97  1174.0  6.31713 2017-01-09\n",
      "2       P0001  2017      1     3   15.0    82.65  1040.0  6.50000 2017-01-16\n",
      "3       P0001  2017      1     4    8.0    44.08   961.0  6.50000 2017-01-23\n",
      "4       P0001  2017      1     5    2.0    11.02   266.0  6.50000 2017-01-30\n",
      "5       P0001  2017      2     5   10.0    55.10   638.0  6.50000 2017-01-30\n",
      "6       P0001  2017      2     6   18.0    99.18   804.0  6.50000 2017-02-06\n",
      "7       P0001  2017      2     7    5.0    27.55   742.0  6.50000 2017-02-13\n",
      "8       P0001  2017      2     8    2.0    11.02   704.0  6.50000 2017-02-20\n",
      "9       P0001  2017      2     9    1.0     5.51   195.0  6.50000 2017-02-27\n",
      "10      P0001  2017      3     9    6.0    33.06   466.0  6.50000 2017-02-27\n",
      "11      P0001  2017      3    10   11.0    60.60   607.0  6.50000 2017-03-06\n",
      "12      P0001  2017      3    11    7.0    38.57   473.0  6.50000 2017-03-13\n",
      "13      P0001  2017      3    12    6.0    33.06   408.0  6.50000 2017-03-20\n",
      "14      P0001  2017      3    13    3.0    16.53   264.0  6.50000 2017-03-27\n"
     ]
    }
   ],
   "source": [
    "\n",
    "\n",
    "# Agrupamos as vendas diárias por produto. \n",
    "# Para manter o preço diário de cada produto, como este pode variar de loja para loja, inferimos a média do preço diário de cada produto entre todas as lojas.\n",
    "df['year'] = df.date.dt.year\n",
    "df['month'] = df.date.dt.month\n",
    "df['week'] = df.date.dt.isocalendar().week\n",
    "df2 = df.groupby([\"product_id\", \"year\", \"month\", \"week\"]).agg({'sales': ['sum'], 'revenue': ['sum'], 'stock': ['sum'], 'price': ['mean']}).reset_index()\n",
    "df2.columns = df2.columns.droplevel(1)\n",
    "df2['date'] = df2.apply(lambda row: datetime.strptime(f'{row.year} {row.week} 1', '%G %V %u'), axis=1)\n",
    "\n",
    "print(df2.head(15))\n",
    "\n"
   ]
  },
  {
   "cell_type": "code",
   "execution_count": 12,
   "id": "f5d1a85b-66b3-4456-ac6d-ecd8f26bdffa",
   "metadata": {},
   "outputs": [
    {
     "name": "stdout",
     "output_type": "stream",
     "text": [
      "P0001    186\n",
      "P0536    186\n",
      "P0611    186\n",
      "P0609    186\n",
      "P0608    186\n",
      "P0602    186\n",
      "P0599    186\n",
      "P0591    186\n",
      "P0590    186\n",
      "P0587    186\n",
      "P0585    186\n",
      "P0583    186\n",
      "P0579    186\n",
      "P0574    186\n",
      "P0572    186\n",
      "Name: product_id, dtype: int64\n"
     ]
    }
   ],
   "source": [
    "\n",
    "# Verificamos novamente a quantidade de registos por produto, sendo que este valor deverá diminuir drasticamente face à análise igual feita anteriormente\n",
    "# Assim, a quantidade agora deverá ser igual para todos os produtos, tendo como valor o total de dias do dataset previamente visto.\n",
    "print(df2['product_id'].value_counts().sort_values(ascending=False).head(15))\n",
    "\n"
   ]
  },
  {
   "cell_type": "code",
   "execution_count": 13,
   "id": "59334e12",
   "metadata": {},
   "outputs": [],
   "source": [
    "\n",
    "# Exportamos o Dataset já agrupado caso seja pretendido analisar os dados ao pormenor. (opcional)\n",
    "#df2.to_csv('dataset/sales_grouped.csv')\n",
    "\n"
   ]
  },
  {
   "cell_type": "code",
   "execution_count": 14,
   "id": "988554ab-cc5f-41d8-85f1-23dd922dea99",
   "metadata": {},
   "outputs": [
    {
     "data": {
      "text/plain": [
       "price         2.041694\n",
       "product_id    0.000000\n",
       "year          0.000000\n",
       "month         0.000000\n",
       "week          0.000000\n",
       "dtype: float64"
      ]
     },
     "execution_count": 14,
     "metadata": {},
     "output_type": "execute_result"
    }
   ],
   "source": [
    "\n",
    "\n",
    "# Verificamos novamente as percentagens de dados em falta, já com as vendas agrupadas\n",
    "percent_missing = df2.isnull().sum() * 100 / len(df2)\n",
    "percent_missing.sort_values(ascending=False).head()\n",
    "\n"
   ]
  },
  {
   "cell_type": "code",
   "execution_count": 15,
   "id": "0441db36-59db-4bc4-9439-7453653f01ee",
   "metadata": {},
   "outputs": [],
   "source": [
    "\n",
    "\n",
    "# Utilizamos pyplot em matplotlib para criar plot histograms\n",
    "import matplotlib.pyplot as plt\n",
    "\n",
    "def plot_histogram(x):\n",
    "    plt.hist(x, color='gray', alpha=0.5)\n",
    "    plt.title(\"Histogram of '{var_name}'\".format(var_name=x.name))\n",
    "    plt.xlabel(\"Value\")\n",
    "    plt.ylabel(\"Frequency\")\n",
    "    plt.show()\n",
    "\n",
    "    "
   ]
  },
  {
   "cell_type": "code",
   "execution_count": 16,
   "id": "18ab8f51-61af-4259-8184-db0c92e036e8",
   "metadata": {},
   "outputs": [
    {
     "data": {
      "image/png": "[encoded data removed]",
      "text/plain": [
       "<Figure size 640x480 with 1 Axes>"
      ]
     },
     "metadata": {},
     "output_type": "display_data"
    }
   ],
   "source": [
    "\n",
    "plot_histogram(df2['price'])\n"
   ]
  },
  {
   "cell_type": "code",
   "execution_count": 17,
   "id": "b50931b5-033f-4bd1-b67d-82a855d514a3",
   "metadata": {},
   "outputs": [
    {
     "name": "stdout",
     "output_type": "stream",
     "text": [
      "649\n"
     ]
    }
   ],
   "source": [
    "\n",
    "\n",
    "# Dividimos o dataframe por produto, dado que irá ser treinado um modelo de previsão para cada um.\n",
    "dfByProdList = df2.groupby(\"product_id\")\n",
    "\n",
    "print(len(dfByProdList))\n",
    "\n",
    "    "
   ]
  },
  {
   "cell_type": "code",
   "execution_count": 18,
   "id": "b567a326-e671-4e63-9577-f892bdb7f389",
   "metadata": {},
   "outputs": [
    {
     "name": "stdout",
     "output_type": "stream",
     "text": [
      "  product_id  year  month  week  sales  revenue   stock    price       date\n",
      "0      P0001  2017      1     1   24.0   127.17  1318.0  6.25000 2017-01-02\n",
      "1      P0001  2017      1     2   21.0   112.97  1174.0  6.31713 2017-01-09\n",
      "2      P0001  2017      1     3   15.0    82.65  1040.0  6.50000 2017-01-16\n",
      "3      P0001  2017      1     4    8.0    44.08   961.0  6.50000 2017-01-23\n",
      "4      P0001  2017      1     5    2.0    11.02   266.0  6.50000 2017-01-30\n"
     ]
    }
   ],
   "source": [
    "\n",
    "# Para efeitos de análise, iremos inicialmente começar por criar um modelo somente para um produto.\n",
    "product_df = dfByProdList.get_group('P0001')\n",
    "print(product_df.head())\n",
    "\n"
   ]
  },
  {
   "cell_type": "code",
   "execution_count": 19,
   "id": "f45e5474-cb24-497a-b5ae-058fb80c435e",
   "metadata": {},
   "outputs": [
    {
     "data": {
      "image/png": "[encoded data removed]",
      "text/plain": [
       "<Figure size 700x400 with 1 Axes>"
      ]
     },
     "metadata": {},
     "output_type": "display_data"
    },
    {
     "data": {
      "image/png": "[encoded data removed]",
      "text/plain": [
       "<Figure size 700x400 with 1 Axes>"
      ]
     },
     "metadata": {},
     "output_type": "display_data"
    }
   ],
   "source": [
    "\n",
    "\n",
    "# Verificamos a distribuição de vendas diárias para este produto\n",
    "def sales_per_day(product_sales_data):\n",
    "    fig, ax = plt.subplots(figsize=(7,4))\n",
    "    plt.hist(product_sales_data.sales, color='mediumblue')\n",
    "    \n",
    "    ax.set(xlabel = \"Sales Per day\",\n",
    "           ylabel = \"Count\",\n",
    "           title = \"Distribuição de Vendas Diárias\")\n",
    "    \n",
    "def revenue_per_day(product_sales_data):\n",
    "    fig, ax = plt.subplots(figsize=(7,4))\n",
    "    plt.hist(product_sales_data.revenue, color='mediumblue')\n",
    "    \n",
    "    ax.set(xlabel = \"Sales Per day ($)\",\n",
    "           ylabel = \"Count\",\n",
    "           title = \"Distribuição de Receitas Diárias\")\n",
    "    \n",
    "sales_per_day(product_df)\n",
    "revenue_per_day(product_df)\n",
    "\n"
   ]
  },
  {
   "cell_type": "code",
   "execution_count": 20,
   "id": "e8287889-9801-4873-9add-e050ea4d9de0",
   "metadata": {},
   "outputs": [
    {
     "name": "stdout",
     "output_type": "stream",
     "text": [
      "Média de vendas diárias: 15.96236559139785\n",
      "Média de receitas diárias: $113.59376344086022\n"
     ]
    }
   ],
   "source": [
    "\n",
    "\n",
    "# Verificamos a média de vendas e receitas diárias\n",
    "avg_monthly_sales = product_df.sales.mean()\n",
    "avg_monthly_revenue = product_df.revenue.mean()\n",
    "print(f\"Média de vendas diárias: {avg_monthly_sales}\")\n",
    "print(f\"Média de receitas diárias: ${avg_monthly_revenue}\")\n",
    "\n"
   ]
  },
  {
   "cell_type": "code",
   "execution_count": 21,
   "id": "98600068-a2fe-44e2-ad5e-5aa4c0a611db",
   "metadata": {},
   "outputs": [
    {
     "data": {
      "image/png": "[encoded data removed]",
      "text/plain": [
       "<Figure size 1500x500 with 1 Axes>"
      ]
     },
     "metadata": {},
     "output_type": "display_data"
    }
   ],
   "source": [
    "\n",
    "def time_plot(data, title):\n",
    "    fig, ax = plt.subplots(figsize=(15,5))\n",
    "    sns.lineplot(x = 'date', y = 'sales', data=data, ax=ax, color='blue', label='Total de Vendas')\n",
    "    sns.lineplot(x = 'date', y = 'revenue', data=data, ax=ax, color='green', label='Total de Receitas') \n",
    "    \n",
    "    ax.set(xlabel = \"Date\",\n",
    "           ylabel = \"Sales\",\n",
    "           title = title)\n",
    "    \n",
    "    sns.despine()\n",
    "    \n",
    "# Verificamos o histórico de vendas diárias do produto ao longo do tempo\n",
    "time_plot(product_df, 'Vendas Diárias ao longo do tempo')\n"
   ]
  },
  {
   "cell_type": "code",
   "execution_count": 22,
   "id": "f9f26f92-e507-4365-8cef-414ad908426e",
   "metadata": {},
   "outputs": [],
   "source": [
    "# Deteção de outliers recorrendo a Tukey IQR\n",
    "def find_outliers_tukey(x):\n",
    "    q1 = np.percentile(x, 25)\n",
    "    q3 = np.percentile(x, 75)\n",
    "    iqr = q3-q1 \n",
    "    floor = q1 - 1.5*iqr\n",
    "    ceiling = q3 + 1.5*iqr\n",
    "    outlier_indices = list(x.index[(x < floor)|(x > ceiling)])\n",
    "    outlier_values = list(x[outlier_indices])\n",
    "    return outlier_indices, outlier_values\n"
   ]
  },
  {
   "cell_type": "code",
   "execution_count": 23,
   "id": "a175ba37-098b-4590-8b94-c9b4a6c678e2",
   "metadata": {},
   "outputs": [
    {
     "name": "stdout",
     "output_type": "stream",
     "text": [
      "[53. 54. 57. 62. 63. 67. 74. 88.]\n",
      "[423.28 434.22 503.36]\n"
     ]
    }
   ],
   "source": [
    "\n",
    "# Verificamos se existem outliers a ter em consideração\n",
    "tukey_indices1, tukey_values1 = find_outliers_tukey(product_df['sales'])\n",
    "tukey_indices2, tukey_values2 = find_outliers_tukey(product_df['revenue'])\n",
    "print(np.sort(tukey_values1))\n",
    "print(np.sort(tukey_values2))\n",
    "\n",
    "\n"
   ]
  },
  {
   "cell_type": "code",
   "execution_count": 24,
   "id": "2ae3df91",
   "metadata": {},
   "outputs": [
    {
     "data": {
      "text/plain": [
       "product_id    0\n",
       "year          0\n",
       "month         0\n",
       "week          0\n",
       "sales         0\n",
       "dtype: int64"
      ]
     },
     "execution_count": 24,
     "metadata": {},
     "output_type": "execute_result"
    }
   ],
   "source": [
    "\n",
    "\n",
    "# Verificamos se existem valores em falta para este produto\n",
    "percent_missing = product_df.isnull().sum()\n",
    "percent_missing.sort_values(ascending=False).head()\n",
    "\n"
   ]
  },
  {
   "cell_type": "code",
   "execution_count": 25,
   "id": "4766a855",
   "metadata": {},
   "outputs": [],
   "source": [
    "\n",
    "\n",
    "\n",
    "\n",
    "product_df1 = product_df.copy()\n",
    "\n",
    "# Create a new column called 'prev_sales' that lags the 'sales' column by one day\n",
    "product_df1['prev_sales'] = product_df1['sales'].shift(1)\n",
    "product_df1['prev_revenue'] = product_df1['revenue'].shift(1)\n",
    "\n",
    "# Fill the first row of the 'prev_sales' column with 0\n",
    "product_df1['prev_sales'] = product_df1['prev_sales'].fillna(0)\n",
    "product_df1['prev_revenue'] = product_df1['prev_revenue'].fillna(0)\n",
    "product_df1 = product_df1.astype({'revenue':'int', 'prev_revenue':'int'})\n",
    "\n",
    "# Reset the index of the dataframe\n",
    "# Create a new column called 'prev_quarter_sales' that lags the 'sales' column by one quarter\n",
    "#product_df1['prev_quarter_sales'] = product_df1'year', 'quarter'])['sales'].rolling(3).sum()\n",
    "\n",
    "# Fill the first row of the 'prev_quarter_sales' column with 0\n",
    "#product_df1['prev_quarter_sales'] = product_df1['prev_quarter_sales'].fillna(0)\n",
    "\n",
    "\n",
    "# X_train, X_test, y_train, y_test = train_test_split(X, y, train_size=0.70, random_state=1)\n",
    "# # X_train = np.array(X_train).reshape((-1, 1))\n",
    "# # X_test = np.array(X_test).reshape((-1, 1))\n",
    "\n",
    "# print(product_df1.head())\n",
    "\n"
   ]
  },
  {
   "cell_type": "code",
   "execution_count": 26,
   "id": "9ad7c17c",
   "metadata": {},
   "outputs": [
    {
     "name": "stdout",
     "output_type": "stream",
     "text": [
      "  product_id  year  month  week  sales  revenue   stock    price       date  \\\n",
      "0      P0001  2017      1     1   24.0      127  1318.0  6.25000 2017-01-02   \n",
      "1      P0001  2017      1     2   21.0      112  1174.0  6.31713 2017-01-09   \n",
      "2      P0001  2017      1     3   15.0       82  1040.0  6.50000 2017-01-16   \n",
      "3      P0001  2017      1     4    8.0       44   961.0  6.50000 2017-01-23   \n",
      "4      P0001  2017      1     5    2.0       11   266.0  6.50000 2017-01-30   \n",
      "\n",
      "   prev_sales  prev_revenue  \n",
      "0         0.0             0  \n",
      "1        24.0           127  \n",
      "2        21.0           112  \n",
      "3        15.0            82  \n",
      "4         8.0            44  \n"
     ]
    },
    {
     "name": "stderr",
     "output_type": "stream",
     "text": [
      "C:\\Users\\reidp\\AppData\\Local\\Temp\\ipykernel_6860\\2375898180.py:1: FutureWarning: In a future version of pandas all arguments of DataFrame.drop except for the argument 'labels' will be keyword-only.\n",
      "  X = product_df1.drop(['revenue', 'date', 'product_id','sales','stock','price','prev_revenue'], 1)\n",
      "C:\\Users\\reidp\\AppData\\Local\\Temp\\ipykernel_6860\\2375898180.py:3: FutureWarning: In a future version of pandas all arguments of DataFrame.drop except for the argument 'labels' will be keyword-only.\n",
      "  X2 = product_df1.drop(['revenue', 'date', 'product_id','sales','stock','price','prev_sales'], 1)\n"
     ]
    }
   ],
   "source": [
    "\n",
    "\n",
    "X = product_df1.drop(['revenue', 'date', 'product_id','sales','stock','price','prev_revenue'], 1)\n",
    "y = product_df1.sales\n",
    "X2 = product_df1.drop(['revenue', 'date', 'product_id','sales','stock','price','prev_sales'], 1)\n",
    "y2 = product_df1.revenue\n",
    "\n",
    "X_train, X_test, y_train, y_test = train_test_split(X, y, train_size=0.7, random_state=1)\n",
    "X2_train, X2_test, y2_train, y2_test = train_test_split(X2, y2, train_size=0.7, random_state=1)\n",
    "# X_train = np.array(X_train).reshape((-1, 1))\n",
    "# X_test = np.array(X_test).reshape((-1, 1))\n",
    "\n",
    "print(product_df1.head())\n",
    "\n"
   ]
  },
  {
   "cell_type": "code",
   "execution_count": null,
   "id": "f5ae7817",
   "metadata": {},
   "outputs": [],
   "source": []
  },
  {
   "cell_type": "code",
   "execution_count": 27,
   "id": "bfff8738",
   "metadata": {},
   "outputs": [
    {
     "name": "stdout",
     "output_type": "stream",
     "text": [
      "(186, 4)\n",
      "(186, 4)\n",
      "(186,)\n",
      "(186,)\n",
      "(130, 4)\n",
      "(130, 4)\n",
      "(130,)\n",
      "(130,)\n"
     ]
    }
   ],
   "source": [
    "\n",
    "\n",
    "# The total number of features have grown substantially after dummying and adding interaction terms\n",
    "print(X.shape)\n",
    "print(X2.shape)\n",
    "print(y.shape)\n",
    "print(y2.shape)\n",
    "print(X_train.shape)\n",
    "print(X2_train.shape)\n",
    "print(y_train.shape)\n",
    "print(y2_train.shape)\n",
    "\n"
   ]
  },
  {
   "cell_type": "code",
   "execution_count": 28,
   "id": "98571e89",
   "metadata": {},
   "outputs": [],
   "source": [
    "\n",
    "\n",
    "# Function to build model and find model performance\n",
    "from numpy import sqrt\n",
    "from sklearn.linear_model import LogisticRegression\n",
    "from sklearn.metrics import mean_squared_error, mean_absolute_error, r2_score\n",
    "\n",
    "def find_model_perf(X_train, y_train, X_test, y_test):\n",
    "    model = LogisticRegression(solver='lbfgs', max_iter=100)\n",
    "    model.fit(X_train, y_train)\n",
    "    y_pred = model.predict(X_test)\n",
    "\n",
    "    # Compute the MSE\n",
    "    mse = mean_squared_error(y_test, y_pred)\n",
    "\n",
    "    # Compute the RMSE\n",
    "    rmse = sqrt(mse)\n",
    "\n",
    "    # Compute the MAE\n",
    "    mae = mean_absolute_error(y_test, y_pred)\n",
    "\n",
    "    # Compute the R^2 score\n",
    "    r2 = r2_score(y_test, y_pred)\n",
    "\n",
    "    print(f\"RMSE: {rmse}\")\n",
    "    print(f\"MAE: {mae}\")\n",
    "    print(f\"R2 Score: {r2}\")\n",
    "\n",
    "    # Y_hat = [x[1] for x in model.predict(X_test)]\n",
    "    # auc = roc_auc_score(Y_test, Y_hat)\n",
    "    \n",
    "    \n",
    "\n"
   ]
  },
  {
   "cell_type": "code",
   "execution_count": 89,
   "id": "0f0db2bc",
   "metadata": {},
   "outputs": [],
   "source": [
    "\n",
    "from datetime import datetime\n",
    "\n",
    "XArima = product_df1.date\n",
    "yArima = product_df1.sales\n",
    "XArima_train , XArima_test,yArima_train,yArima_test = train_test_split(XArima, yArima, train_size=0.7, random_state=None)\n",
    "\n"
   ]
  },
  {
   "cell_type": "code",
   "execution_count": 90,
   "id": "f9688d38",
   "metadata": {},
   "outputs": [
    {
     "name": "stdout",
     "output_type": "stream",
     "text": [
      "2017-01-02 00:00:00\n"
     ]
    }
   ],
   "source": [
    "print(XArima[0])"
   ]
  },
  {
   "cell_type": "code",
   "execution_count": 91,
   "id": "a53a304a",
   "metadata": {},
   "outputs": [],
   "source": [
    "from statsmodels.tsa.arima.model import ARIMA\n",
    "\n",
    "def find_model_perf_arima(X_train,y_train,X_test,y_test):\n",
    "\n",
    "    model = ARIMA(X_train, y_train)\n",
    "    model = model.fit()\n",
    "    y_pred = model.predict(X_test)\n",
    "\n",
    "    # Compute the MSE\n",
    "    mse = mean_squared_error(y_test, y_pred)\n",
    "\n",
    "    # Compute the RMSE\n",
    "    rmse = sqrt(mse)\n",
    "\n",
    "    # Compute the MAE\n",
    "    mae = mean_absolute_error(y_test, y_pred)\n",
    "\n",
    "    # Compute the R^2 score\n",
    "    r2 = r2_score(y_test, y_pred)\n",
    "\n",
    "    print(f\"RMSE: {rmse}\")\n",
    "    print(f\"MAE: {mae}\")\n",
    "    print(f\"R2 Score: {r2}\")"
   ]
  },
  {
   "cell_type": "code",
   "execution_count": 92,
   "id": "478d78ed",
   "metadata": {},
   "outputs": [
    {
     "name": "stderr",
     "output_type": "stream",
     "text": [
      "C:\\Users\\reidp\\AppData\\Local\\Packages\\PythonSoftwareFoundation.Python.3.10_qbz5n2kfra8p0\\LocalCache\\local-packages\\Python310\\site-packages\\statsmodels\\tsa\\base\\tsa_model.py:471: ValueWarning: An unsupported index was provided and will be ignored when e.g. forecasting.\n",
      "  self._init_dates(dates, freq)\n",
      "C:\\Users\\reidp\\AppData\\Local\\Packages\\PythonSoftwareFoundation.Python.3.10_qbz5n2kfra8p0\\LocalCache\\local-packages\\Python310\\site-packages\\statsmodels\\tsa\\base\\tsa_model.py:471: ValueWarning: An unsupported index was provided and will be ignored when e.g. forecasting.\n",
      "  self._init_dates(dates, freq)\n",
      "C:\\Users\\reidp\\AppData\\Local\\Packages\\PythonSoftwareFoundation.Python.3.10_qbz5n2kfra8p0\\LocalCache\\local-packages\\Python310\\site-packages\\statsmodels\\tsa\\base\\tsa_model.py:471: ValueWarning: An unsupported index was provided and will be ignored when e.g. forecasting.\n",
      "  self._init_dates(dates, freq)\n"
     ]
    },
    {
     "ename": "UFuncTypeError",
     "evalue": "ufunc 'subtract' cannot use operands with types dtype('<M8[ns]') and dtype('O')",
     "output_type": "error",
     "traceback": [
      "\u001b[1;31m---------------------------------------------------------------------------\u001b[0m",
      "\u001b[1;31mUFuncTypeError\u001b[0m                            Traceback (most recent call last)",
      "Cell \u001b[1;32mIn[92], line 2\u001b[0m\n\u001b[0;32m      1\u001b[0m \u001b[39m# Find performance of model using preprocessed data\u001b[39;00m\n\u001b[1;32m----> 2\u001b[0m find_model_perf_arima(XArima_train, yArima_train, XArima_test, yArima_test)\n",
      "Cell \u001b[1;32mIn[91], line 6\u001b[0m, in \u001b[0;36mfind_model_perf_arima\u001b[1;34m(X_train, y_train, X_test, y_test)\u001b[0m\n\u001b[0;32m      3\u001b[0m \u001b[39mdef\u001b[39;00m \u001b[39mfind_model_perf_arima\u001b[39m(X_train,y_train,X_test,y_test):\n\u001b[0;32m      5\u001b[0m     model \u001b[39m=\u001b[39m ARIMA(X_train, y_train)\n\u001b[1;32m----> 6\u001b[0m     model \u001b[39m=\u001b[39m model\u001b[39m.\u001b[39;49mfit()\n\u001b[0;32m      7\u001b[0m     y_pred \u001b[39m=\u001b[39m model\u001b[39m.\u001b[39mpredict(X_test)\n\u001b[0;32m      9\u001b[0m     \u001b[39m# Compute the MSE\u001b[39;00m\n",
      "File \u001b[1;32m~\\AppData\\Local\\Packages\\PythonSoftwareFoundation.Python.3.10_qbz5n2kfra8p0\\LocalCache\\local-packages\\Python310\\site-packages\\statsmodels\\tsa\\arima\\model.py:390\u001b[0m, in \u001b[0;36mARIMA.fit\u001b[1;34m(self, start_params, transformed, includes_fixed, method, method_kwargs, gls, gls_kwargs, cov_type, cov_kwds, return_params, low_memory)\u001b[0m\n\u001b[0;32m    387\u001b[0m \u001b[39melse\u001b[39;00m:\n\u001b[0;32m    388\u001b[0m     method_kwargs\u001b[39m.\u001b[39msetdefault(\u001b[39m'\u001b[39m\u001b[39mdisp\u001b[39m\u001b[39m'\u001b[39m, \u001b[39m0\u001b[39m)\n\u001b[1;32m--> 390\u001b[0m     res \u001b[39m=\u001b[39m \u001b[39msuper\u001b[39m()\u001b[39m.\u001b[39mfit(\n\u001b[0;32m    391\u001b[0m         return_params\u001b[39m=\u001b[39mreturn_params, low_memory\u001b[39m=\u001b[39mlow_memory,\n\u001b[0;32m    392\u001b[0m         cov_type\u001b[39m=\u001b[39mcov_type, cov_kwds\u001b[39m=\u001b[39mcov_kwds, \u001b[39m*\u001b[39m\u001b[39m*\u001b[39mmethod_kwargs)\n\u001b[0;32m    393\u001b[0m     \u001b[39mif\u001b[39;00m \u001b[39mnot\u001b[39;00m return_params:\n\u001b[0;32m    394\u001b[0m         res\u001b[39m.\u001b[39mfit_details \u001b[39m=\u001b[39m res\u001b[39m.\u001b[39mmlefit\n",
      "File \u001b[1;32m~\\AppData\\Local\\Packages\\PythonSoftwareFoundation.Python.3.10_qbz5n2kfra8p0\\LocalCache\\local-packages\\Python310\\site-packages\\statsmodels\\tsa\\statespace\\mlemodel.py:650\u001b[0m, in \u001b[0;36mMLEModel.fit\u001b[1;34m(self, start_params, transformed, includes_fixed, cov_type, cov_kwds, method, maxiter, full_output, disp, callback, return_params, optim_score, optim_complex_step, optim_hessian, flags, low_memory, **kwargs)\u001b[0m\n\u001b[0;32m    530\u001b[0m \u001b[39m\"\"\"\u001b[39;00m\n\u001b[0;32m    531\u001b[0m \u001b[39mFits the model by maximum likelihood via Kalman filter.\u001b[39;00m\n\u001b[0;32m    532\u001b[0m \n\u001b[1;32m   (...)\u001b[0m\n\u001b[0;32m    647\u001b[0m \u001b[39mstatsmodels.tsa.statespace.structural.UnobservedComponentsResults\u001b[39;00m\n\u001b[0;32m    648\u001b[0m \u001b[39m\"\"\"\u001b[39;00m\n\u001b[0;32m    649\u001b[0m \u001b[39mif\u001b[39;00m start_params \u001b[39mis\u001b[39;00m \u001b[39mNone\u001b[39;00m:\n\u001b[1;32m--> 650\u001b[0m     start_params \u001b[39m=\u001b[39m \u001b[39mself\u001b[39;49m\u001b[39m.\u001b[39;49mstart_params\n\u001b[0;32m    651\u001b[0m     transformed \u001b[39m=\u001b[39m \u001b[39mTrue\u001b[39;00m\n\u001b[0;32m    652\u001b[0m     includes_fixed \u001b[39m=\u001b[39m \u001b[39mTrue\u001b[39;00m\n",
      "File \u001b[1;32m~\\AppData\\Local\\Packages\\PythonSoftwareFoundation.Python.3.10_qbz5n2kfra8p0\\LocalCache\\local-packages\\Python310\\site-packages\\statsmodels\\tsa\\statespace\\sarimax.py:947\u001b[0m, in \u001b[0;36mSARIMAX.start_params\u001b[1;34m(self)\u001b[0m\n\u001b[0;32m    945\u001b[0m \u001b[39mif\u001b[39;00m \u001b[39mself\u001b[39m\u001b[39m.\u001b[39m_k_exog \u001b[39m>\u001b[39m \u001b[39m0\u001b[39m:\n\u001b[0;32m    946\u001b[0m     params_exog \u001b[39m=\u001b[39m np\u001b[39m.\u001b[39mlinalg\u001b[39m.\u001b[39mpinv(exog)\u001b[39m.\u001b[39mdot(endog)\n\u001b[1;32m--> 947\u001b[0m     endog \u001b[39m=\u001b[39m endog \u001b[39m-\u001b[39;49m np\u001b[39m.\u001b[39;49mdot(exog, params_exog)\n\u001b[0;32m    948\u001b[0m \u001b[39mif\u001b[39;00m \u001b[39mself\u001b[39m\u001b[39m.\u001b[39mstate_regression:\n\u001b[0;32m    949\u001b[0m     params_exog \u001b[39m=\u001b[39m []\n",
      "\u001b[1;31mUFuncTypeError\u001b[0m: ufunc 'subtract' cannot use operands with types dtype('<M8[ns]') and dtype('O')"
     ]
    }
   ],
   "source": [
    "\n",
    "\n",
    "# Find performance of model using preprocessed data\n",
    "find_model_perf_arima(XArima_train, yArima_train, XArima_test, yArima_test)\n",
    "\n"
   ]
  },
  {
   "cell_type": "code",
   "execution_count": 30,
   "id": "2e6acce7",
   "metadata": {},
   "outputs": [
    {
     "name": "stderr",
     "output_type": "stream",
     "text": [
      "C:\\Users\\reidp\\AppData\\Local\\Packages\\PythonSoftwareFoundation.Python.3.10_qbz5n2kfra8p0\\LocalCache\\local-packages\\Python310\\site-packages\\sklearn\\linear_model\\_logistic.py:458: ConvergenceWarning: lbfgs failed to converge (status=1):\n",
      "STOP: TOTAL NO. of ITERATIONS REACHED LIMIT.\n",
      "\n",
      "Increase the number of iterations (max_iter) or scale the data as shown in:\n",
      "    https://scikit-learn.org/stable/modules/preprocessing.html\n",
      "Please also refer to the documentation for alternative solver options:\n",
      "    https://scikit-learn.org/stable/modules/linear_model.html#logistic-regression\n",
      "  n_iter_i = _check_optimize_result(\n"
     ]
    },
    {
     "name": "stdout",
     "output_type": "stream",
     "text": [
      "RMSE: 95.73176812621519\n",
      "MAE: 63.5\n",
      "R2 Score: 0.08742314209069513\n"
     ]
    }
   ],
   "source": [
    "\n",
    "# Find performance of model using preprocessed data\n",
    "find_model_perf(X2_train, y2_train, X2_test, y2_test)\n"
   ]
  },
  {
   "cell_type": "code",
   "execution_count": 31,
   "id": "2b292f66-1af9-4e8c-8546-d4b9e2be7026",
   "metadata": {},
   "outputs": [
    {
     "name": "stderr",
     "output_type": "stream",
     "text": [
      "C:\\Users\\reidp\\AppData\\Local\\Temp\\ipykernel_9624\\3355640037.py:15: FutureWarning: In a future version of pandas all arguments of DataFrame.drop except for the argument 'labels' will be keyword-only.\n",
      "  X_sales = group.drop(['revenue', 'date', 'product_id','sales','stock','price','prev_revenue'], 1)\n",
      "C:\\Users\\reidp\\AppData\\Local\\Temp\\ipykernel_9624\\3355640037.py:17: FutureWarning: In a future version of pandas all arguments of DataFrame.drop except for the argument 'labels' will be keyword-only.\n",
      "  X_revenue = group.drop(['revenue', 'date', 'product_id','sales','stock','price','prev_sales'], 1)\n",
      "C:\\Users\\reidp\\AppData\\Local\\Packages\\PythonSoftwareFoundation.Python.3.10_qbz5n2kfra8p0\\LocalCache\\local-packages\\Python310\\site-packages\\sklearn\\linear_model\\_logistic.py:458: ConvergenceWarning: lbfgs failed to converge (status=1):\n",
      "STOP: TOTAL NO. of ITERATIONS REACHED LIMIT.\n",
      "\n",
      "Increase the number of iterations (max_iter) or scale the data as shown in:\n",
      "    https://scikit-learn.org/stable/modules/preprocessing.html\n",
      "Please also refer to the documentation for alternative solver options:\n",
      "    https://scikit-learn.org/stable/modules/linear_model.html#logistic-regression\n",
      "  n_iter_i = _check_optimize_result(\n",
      "C:\\Users\\reidp\\AppData\\Local\\Packages\\PythonSoftwareFoundation.Python.3.10_qbz5n2kfra8p0\\LocalCache\\local-packages\\Python310\\site-packages\\sklearn\\linear_model\\_logistic.py:458: ConvergenceWarning: lbfgs failed to converge (status=1):\n",
      "STOP: TOTAL NO. of ITERATIONS REACHED LIMIT.\n",
      "\n",
      "Increase the number of iterations (max_iter) or scale the data as shown in:\n",
      "    https://scikit-learn.org/stable/modules/preprocessing.html\n",
      "Please also refer to the documentation for alternative solver options:\n",
      "    https://scikit-learn.org/stable/modules/linear_model.html#logistic-regression\n",
      "  n_iter_i = _check_optimize_result(\n"
     ]
    },
    {
     "ename": "ValueError",
     "evalue": "The feature names should match those that were passed during fit.\nFeature names unseen at fit time:\n- prev_revenue\nFeature names seen at fit time, yet now missing:\n- prev_sales\n",
     "output_type": "error",
     "traceback": [
      "\u001b[1;31m---------------------------------------------------------------------------\u001b[0m",
      "\u001b[1;31mValueError\u001b[0m                                Traceback (most recent call last)",
      "Cell \u001b[1;32mIn[31], line 29\u001b[0m\n\u001b[0;32m     27\u001b[0m model2 \u001b[39m=\u001b[39m LogisticRegression(solver\u001b[39m=\u001b[39m\u001b[39m'\u001b[39m\u001b[39mlbfgs\u001b[39m\u001b[39m'\u001b[39m, max_iter\u001b[39m=\u001b[39m\u001b[39m100\u001b[39m)\n\u001b[0;32m     28\u001b[0m model2\u001b[39m.\u001b[39mfit(X_train_sales, y_train_revenue)\n\u001b[1;32m---> 29\u001b[0m y_pred_revenue \u001b[39m=\u001b[39m model2\u001b[39m.\u001b[39;49mpredict(X_test_revenue)\n\u001b[0;32m     31\u001b[0m \u001b[39m# Compute the MSE\u001b[39;00m\n\u001b[0;32m     32\u001b[0m mse_sales \u001b[39m=\u001b[39m mean_squared_error(y_test_sales, y_pred_sales)\n",
      "File \u001b[1;32m~\\AppData\\Local\\Packages\\PythonSoftwareFoundation.Python.3.10_qbz5n2kfra8p0\\LocalCache\\local-packages\\Python310\\site-packages\\sklearn\\linear_model\\_base.py:420\u001b[0m, in \u001b[0;36mLinearClassifierMixin.predict\u001b[1;34m(self, X)\u001b[0m\n\u001b[0;32m    406\u001b[0m \u001b[39m\"\"\"\u001b[39;00m\n\u001b[0;32m    407\u001b[0m \u001b[39mPredict class labels for samples in X.\u001b[39;00m\n\u001b[0;32m    408\u001b[0m \n\u001b[1;32m   (...)\u001b[0m\n\u001b[0;32m    417\u001b[0m \u001b[39m    Vector containing the class labels for each sample.\u001b[39;00m\n\u001b[0;32m    418\u001b[0m \u001b[39m\"\"\"\u001b[39;00m\n\u001b[0;32m    419\u001b[0m xp, _ \u001b[39m=\u001b[39m get_namespace(X)\n\u001b[1;32m--> 420\u001b[0m scores \u001b[39m=\u001b[39m \u001b[39mself\u001b[39;49m\u001b[39m.\u001b[39;49mdecision_function(X)\n\u001b[0;32m    421\u001b[0m \u001b[39mif\u001b[39;00m \u001b[39mlen\u001b[39m(scores\u001b[39m.\u001b[39mshape) \u001b[39m==\u001b[39m \u001b[39m1\u001b[39m:\n\u001b[0;32m    422\u001b[0m     indices \u001b[39m=\u001b[39m xp\u001b[39m.\u001b[39mastype(scores \u001b[39m>\u001b[39m \u001b[39m0\u001b[39m, \u001b[39mint\u001b[39m)\n",
      "File \u001b[1;32m~\\AppData\\Local\\Packages\\PythonSoftwareFoundation.Python.3.10_qbz5n2kfra8p0\\LocalCache\\local-packages\\Python310\\site-packages\\sklearn\\linear_model\\_base.py:401\u001b[0m, in \u001b[0;36mLinearClassifierMixin.decision_function\u001b[1;34m(self, X)\u001b[0m\n\u001b[0;32m    398\u001b[0m check_is_fitted(\u001b[39mself\u001b[39m)\n\u001b[0;32m    399\u001b[0m xp, _ \u001b[39m=\u001b[39m get_namespace(X)\n\u001b[1;32m--> 401\u001b[0m X \u001b[39m=\u001b[39m \u001b[39mself\u001b[39;49m\u001b[39m.\u001b[39;49m_validate_data(X, accept_sparse\u001b[39m=\u001b[39;49m\u001b[39m\"\u001b[39;49m\u001b[39mcsr\u001b[39;49m\u001b[39m\"\u001b[39;49m, reset\u001b[39m=\u001b[39;49m\u001b[39mFalse\u001b[39;49;00m)\n\u001b[0;32m    402\u001b[0m scores \u001b[39m=\u001b[39m safe_sparse_dot(X, \u001b[39mself\u001b[39m\u001b[39m.\u001b[39mcoef_\u001b[39m.\u001b[39mT, dense_output\u001b[39m=\u001b[39m\u001b[39mTrue\u001b[39;00m) \u001b[39m+\u001b[39m \u001b[39mself\u001b[39m\u001b[39m.\u001b[39mintercept_\n\u001b[0;32m    403\u001b[0m \u001b[39mreturn\u001b[39;00m xp\u001b[39m.\u001b[39mreshape(scores, \u001b[39m-\u001b[39m\u001b[39m1\u001b[39m) \u001b[39mif\u001b[39;00m scores\u001b[39m.\u001b[39mshape[\u001b[39m1\u001b[39m] \u001b[39m==\u001b[39m \u001b[39m1\u001b[39m \u001b[39melse\u001b[39;00m scores\n",
      "File \u001b[1;32m~\\AppData\\Local\\Packages\\PythonSoftwareFoundation.Python.3.10_qbz5n2kfra8p0\\LocalCache\\local-packages\\Python310\\site-packages\\sklearn\\base.py:518\u001b[0m, in \u001b[0;36mBaseEstimator._validate_data\u001b[1;34m(self, X, y, reset, validate_separately, **check_params)\u001b[0m\n\u001b[0;32m    453\u001b[0m \u001b[39mdef\u001b[39;00m \u001b[39m_validate_data\u001b[39m(\n\u001b[0;32m    454\u001b[0m     \u001b[39mself\u001b[39m,\n\u001b[0;32m    455\u001b[0m     X\u001b[39m=\u001b[39m\u001b[39m\"\u001b[39m\u001b[39mno_validation\u001b[39m\u001b[39m\"\u001b[39m,\n\u001b[1;32m   (...)\u001b[0m\n\u001b[0;32m    459\u001b[0m     \u001b[39m*\u001b[39m\u001b[39m*\u001b[39mcheck_params,\n\u001b[0;32m    460\u001b[0m ):\n\u001b[0;32m    461\u001b[0m     \u001b[39m\"\"\"Validate input data and set or check the `n_features_in_` attribute.\u001b[39;00m\n\u001b[0;32m    462\u001b[0m \n\u001b[0;32m    463\u001b[0m \u001b[39m    Parameters\u001b[39;00m\n\u001b[1;32m   (...)\u001b[0m\n\u001b[0;32m    516\u001b[0m \u001b[39m        validated.\u001b[39;00m\n\u001b[0;32m    517\u001b[0m \u001b[39m    \"\"\"\u001b[39;00m\n\u001b[1;32m--> 518\u001b[0m     \u001b[39mself\u001b[39;49m\u001b[39m.\u001b[39;49m_check_feature_names(X, reset\u001b[39m=\u001b[39;49mreset)\n\u001b[0;32m    520\u001b[0m     \u001b[39mif\u001b[39;00m y \u001b[39mis\u001b[39;00m \u001b[39mNone\u001b[39;00m \u001b[39mand\u001b[39;00m \u001b[39mself\u001b[39m\u001b[39m.\u001b[39m_get_tags()[\u001b[39m\"\u001b[39m\u001b[39mrequires_y\u001b[39m\u001b[39m\"\u001b[39m]:\n\u001b[0;32m    521\u001b[0m         \u001b[39mraise\u001b[39;00m \u001b[39mValueError\u001b[39;00m(\n\u001b[0;32m    522\u001b[0m             \u001b[39mf\u001b[39m\u001b[39m\"\u001b[39m\u001b[39mThis \u001b[39m\u001b[39m{\u001b[39;00m\u001b[39mself\u001b[39m\u001b[39m.\u001b[39m\u001b[39m__class__\u001b[39m\u001b[39m.\u001b[39m\u001b[39m__name__\u001b[39m\u001b[39m}\u001b[39;00m\u001b[39m estimator \u001b[39m\u001b[39m\"\u001b[39m\n\u001b[0;32m    523\u001b[0m             \u001b[39m\"\u001b[39m\u001b[39mrequires y to be passed, but the target y is None.\u001b[39m\u001b[39m\"\u001b[39m\n\u001b[0;32m    524\u001b[0m         )\n",
      "File \u001b[1;32m~\\AppData\\Local\\Packages\\PythonSoftwareFoundation.Python.3.10_qbz5n2kfra8p0\\LocalCache\\local-packages\\Python310\\site-packages\\sklearn\\base.py:451\u001b[0m, in \u001b[0;36mBaseEstimator._check_feature_names\u001b[1;34m(self, X, reset)\u001b[0m\n\u001b[0;32m    446\u001b[0m \u001b[39mif\u001b[39;00m \u001b[39mnot\u001b[39;00m missing_names \u001b[39mand\u001b[39;00m \u001b[39mnot\u001b[39;00m unexpected_names:\n\u001b[0;32m    447\u001b[0m     message \u001b[39m+\u001b[39m\u001b[39m=\u001b[39m (\n\u001b[0;32m    448\u001b[0m         \u001b[39m\"\u001b[39m\u001b[39mFeature names must be in the same order as they were in fit.\u001b[39m\u001b[39m\\n\u001b[39;00m\u001b[39m\"\u001b[39m\n\u001b[0;32m    449\u001b[0m     )\n\u001b[1;32m--> 451\u001b[0m \u001b[39mraise\u001b[39;00m \u001b[39mValueError\u001b[39;00m(message)\n",
      "\u001b[1;31mValueError\u001b[0m: The feature names should match those that were passed during fit.\nFeature names unseen at fit time:\n- prev_revenue\nFeature names seen at fit time, yet now missing:\n- prev_sales\n"
     ]
    }
   ],
   "source": [
    "\n",
    "\n",
    "modelResults = pd.DataFrame(columns=[\"product_id\", \"mse_sales\", \"mse_revenue\", \"rmse_sales\", \"rmse_revenue\", \"r2_sales\", \"r2_revenue\"])\n",
    "\n",
    "# Iteramos a lista de dataframes\n",
    "for name, group in dfByProdList:\n",
    "    # Create a new column called 'prev_sales' that lags the 'sales' column by one day\n",
    "    group['prev_sales'] = group['sales'].shift(1)\n",
    "    group['prev_revenue'] = group['revenue'].shift(1)\n",
    "\n",
    "    # Fill the first row of the 'prev_sales' column with 0\n",
    "    group['prev_sales'] = group['prev_sales'].fillna(0)\n",
    "    group['prev_revenue'] = group['prev_revenue'].fillna(0)\n",
    "    \n",
    "    group = group.astype({'revenue':'int', 'prev_revenue':'int'})\n",
    "\n",
    "    X_sales = group.drop(['revenue', 'date', 'product_id','sales','stock','price','prev_revenue'], 1)\n",
    "    y_sales = group.sales\n",
    "    X_revenue = group.drop(['revenue', 'date', 'product_id','sales','stock','price','prev_sales'], 1)\n",
    "    y_revenue = group.revenue\n",
    "\n",
    "    X_train_sales, X_test_sales, y_train_sales, y_test_sales = train_test_split(X_sales, y_sales, train_size=0.7, random_state=1)\n",
    "    X_train_revenue, X_test_revenue, y_train_revenue, y_test_revenue = train_test_split(X_revenue, y_revenue, train_size=0.7, random_state=1)\n",
    "\n",
    "    model = LogisticRegression(solver='lbfgs', max_iter=100)\n",
    "    model.fit(X_train_sales, y_train_revenue)\n",
    "    y_pred_sales = model.predict(X_test_sales)\n",
    "\n",
    "    model2 = LogisticRegression(solver='lbfgs', max_iter=100)\n",
    "    model2.fit(X_train_sales, y_train_revenue)\n",
    "    y_pred_revenue = model2.predict(X_test_revenue)\n",
    "\n",
    "    # Compute the MSE\n",
    "    mse_sales = mean_squared_error(y_test_sales, y_pred_sales)\n",
    "    mse_revenue = mean_squared_error(y_test_revenue, y_pred_revenue)\n",
    "\n",
    "    # Compute the RMSE\n",
    "    rmse_sales = sqrt(mse_sales)\n",
    "    rmse_revenue = sqrt(mse_revenue)\n",
    "\n",
    "    # Compute the MAE\n",
    "    mae_sales = mean_absolute_error(y_test_sales, y_pred_sales)\n",
    "    mae_revenue = mean_absolute_error(y_test_revenue, y_pred_revenue)\n",
    "\n",
    "    # Compute the R^2 score\n",
    "    r2_sales = r2_score(y_test_sales, y_pred_sales)\n",
    "    r2_revenue = r2_score(y_test_revenue, y_pred_revenue)\n",
    "\n",
    "    modelResults = modelResults.append({\"product_id\": name, \"rmse_sales\": rmse_sales, \"rmse_revenue\": rmse_revenue, \"mae_sales\": mae_sales, \"mae_revenue\": mae_revenue,\n",
    "        \"r2_sales\": r2_sales, \"r2_revenue\": r2_revenue}, ignore_index=True)\n",
    "    \n"
   ]
  },
  {
   "cell_type": "code",
   "execution_count": null,
   "id": "49ae1e7b",
   "metadata": {},
   "outputs": [],
   "source": [
    "\n",
    "\n",
    "print(modelResults.head())\n"
   ]
  }
 ],
 "metadata": {
  "kernelspec": {
   "display_name": "Python 3",
   "language": "python",
   "name": "python3"
  },
  "language_info": {
   "codemirror_mode": {
    "name": "ipython",
    "version": 3
   },
   "file_extension": ".py",
   "mimetype": "text/x-python",
   "name": "python",
   "nbconvert_exporter": "python",
   "pygments_lexer": "ipython3",
   "version": "3.10.9"
  },
  "vscode": {
   "interpreter": {
    "hash": "dae545736ee78e012acd08c370c6df0e68e8a318016cb2f8480f264d55cb96c2"
   }
  }
 },
 "nbformat": 4,
 "nbformat_minor": 5
}
