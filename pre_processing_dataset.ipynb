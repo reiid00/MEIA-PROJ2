{
 "cells": [
  {
   "cell_type": "markdown",
   "id": "0c2290f0-c6af-452e-b708-1b8e485da4af",
   "metadata": {},
   "source": [
    "\n",
    "# Pré-Processamento: Processamento de Dados e Preparação do Dataset\n",
    "\n",
    "## Objetivo\n",
    "  A apartir de um conjunto de dados não tratados referente às receitas de uma loja de desporto, efetuar as associações necessárias, eliminando toda a informação considerada desnecessária para o âmbito do nosso projeto, gerando um dataset final a ser, posteriormente, importado no pré-processamento de dados. \n"
   ]
  },
  {
   "cell_type": "code",
   "execution_count": 1,
   "id": "09fac7bc",
   "metadata": {
    "scrolled": true
   },
   "outputs": [
    {
     "name": "stdout",
     "output_type": "stream",
     "text": [
      "Requirement already satisfied: pandas in c:\\users\\silve\\appdata\\local\\programs\\python\\python310\\lib\\site-packages (1.5.2)\n",
      "Requirement already satisfied: numpy>=1.21.0 in c:\\users\\silve\\appdata\\local\\programs\\python\\python310\\lib\\site-packages (from pandas) (1.23.5)\n",
      "Requirement already satisfied: pytz>=2020.1 in c:\\users\\silve\\appdata\\local\\programs\\python\\python310\\lib\\site-packages (from pandas) (2022.6)\n",
      "Requirement already satisfied: python-dateutil>=2.8.1 in c:\\users\\silve\\appdata\\local\\programs\\python\\python310\\lib\\site-packages (from pandas) (2.8.2)\n",
      "Requirement already satisfied: six>=1.5 in c:\\users\\silve\\appdata\\local\\programs\\python\\python310\\lib\\site-packages (from python-dateutil>=2.8.1->pandas) (1.16.0)\n",
      "Note: you may need to restart the kernel to use updated packages.\n"
     ]
    },
    {
     "name": "stderr",
     "output_type": "stream",
     "text": [
      "\n",
      "[notice] A new release of pip available: 22.2.2 -> 22.3.1\n",
      "[notice] To update, run: python.exe -m pip install --upgrade pip\n"
     ]
    },
    {
     "name": "stdout",
     "output_type": "stream",
     "text": [
      "Requirement already satisfied: xlrd in c:\\users\\silve\\appdata\\local\\programs\\python\\python310\\lib\\site-packages (2.0.1)\n",
      "Note: you may need to restart the kernel to use updated packages.\n"
     ]
    },
    {
     "name": "stderr",
     "output_type": "stream",
     "text": [
      "\n",
      "[notice] A new release of pip available: 22.2.2 -> 22.3.1\n",
      "[notice] To update, run: python.exe -m pip install --upgrade pip\n"
     ]
    },
    {
     "name": "stdout",
     "output_type": "stream",
     "text": [
      "Requirement already satisfied: openpyxl in c:\\users\\silve\\appdata\\local\\programs\\python\\python310\\lib\\site-packages (3.0.10)\n",
      "Requirement already satisfied: et-xmlfile in c:\\users\\silve\\appdata\\local\\programs\\python\\python310\\lib\\site-packages (from openpyxl) (1.1.0)\n",
      "Note: you may need to restart the kernel to use updated packages.\n"
     ]
    },
    {
     "name": "stderr",
     "output_type": "stream",
     "text": [
      "\n",
      "[notice] A new release of pip available: 22.2.2 -> 22.3.1\n",
      "[notice] To update, run: python.exe -m pip install --upgrade pip\n"
     ]
    },
    {
     "name": "stdout",
     "output_type": "stream",
     "text": [
      "Requirement already satisfied: unidecode in c:\\users\\silve\\appdata\\local\\programs\\python\\python310\\lib\\site-packages (1.3.6)\n",
      "Note: you may need to restart the kernel to use updated packages.\n"
     ]
    },
    {
     "name": "stderr",
     "output_type": "stream",
     "text": [
      "\n",
      "[notice] A new release of pip available: 22.2.2 -> 22.3.1\n",
      "[notice] To update, run: python.exe -m pip install --upgrade pip\n"
     ]
    },
    {
     "name": "stdout",
     "output_type": "stream",
     "text": [
      "Requirement already satisfied: scikit-learn in c:\\users\\silve\\appdata\\local\\programs\\python\\python310\\lib\\site-packages (1.2.0)\n",
      "Requirement already satisfied: numpy>=1.17.3 in c:\\users\\silve\\appdata\\local\\programs\\python\\python310\\lib\\site-packages (from scikit-learn) (1.23.5)\n",
      "Requirement already satisfied: scipy>=1.3.2 in c:\\users\\silve\\appdata\\local\\programs\\python\\python310\\lib\\site-packages (from scikit-learn) (1.9.3)\n",
      "Requirement already satisfied: joblib>=1.1.1 in c:\\users\\silve\\appdata\\local\\programs\\python\\python310\\lib\\site-packages (from scikit-learn) (1.2.0)\n",
      "Requirement already satisfied: threadpoolctl>=2.0.0 in c:\\users\\silve\\appdata\\local\\programs\\python\\python310\\lib\\site-packages (from scikit-learn) (3.1.0)\n",
      "Note: you may need to restart the kernel to use updated packages.\n"
     ]
    },
    {
     "name": "stderr",
     "output_type": "stream",
     "text": [
      "\n",
      "[notice] A new release of pip available: 22.2.2 -> 22.3.1\n",
      "[notice] To update, run: python.exe -m pip install --upgrade pip\n"
     ]
    },
    {
     "name": "stdout",
     "output_type": "stream",
     "text": [
      "Requirement already satisfied: matplotlib in c:\\users\\silve\\appdata\\local\\programs\\python\\python310\\lib\\site-packages (3.6.2)\n",
      "Requirement already satisfied: cycler>=0.10 in c:\\users\\silve\\appdata\\local\\programs\\python\\python310\\lib\\site-packages (from matplotlib) (0.11.0)\n",
      "Requirement already satisfied: pillow>=6.2.0 in c:\\users\\silve\\appdata\\local\\programs\\python\\python310\\lib\\site-packages (from matplotlib) (9.3.0)\n",
      "Requirement already satisfied: python-dateutil>=2.7 in c:\\users\\silve\\appdata\\local\\programs\\python\\python310\\lib\\site-packages (from matplotlib) (2.8.2)\n",
      "Requirement already satisfied: numpy>=1.19 in c:\\users\\silve\\appdata\\local\\programs\\python\\python310\\lib\\site-packages (from matplotlib) (1.23.5)\n",
      "Requirement already satisfied: packaging>=20.0 in c:\\users\\silve\\appdata\\local\\programs\\python\\python310\\lib\\site-packages (from matplotlib) (21.3)\n",
      "Requirement already satisfied: fonttools>=4.22.0 in c:\\users\\silve\\appdata\\local\\programs\\python\\python310\\lib\\site-packages (from matplotlib) (4.38.0)\n",
      "Requirement already satisfied: contourpy>=1.0.1 in c:\\users\\silve\\appdata\\local\\programs\\python\\python310\\lib\\site-packages (from matplotlib) (1.0.6)\n",
      "Requirement already satisfied: pyparsing>=2.2.1 in c:\\users\\silve\\appdata\\local\\programs\\python\\python310\\lib\\site-packages (from matplotlib) (3.0.9)\n",
      "Requirement already satisfied: kiwisolver>=1.0.1 in c:\\users\\silve\\appdata\\local\\programs\\python\\python310\\lib\\site-packages (from matplotlib) (1.4.4)\n",
      "Requirement already satisfied: six>=1.5 in c:\\users\\silve\\appdata\\local\\programs\\python\\python310\\lib\\site-packages (from python-dateutil>=2.7->matplotlib) (1.16.0)\n",
      "Note: you may need to restart the kernel to use updated packages.\n"
     ]
    },
    {
     "name": "stderr",
     "output_type": "stream",
     "text": [
      "\n",
      "[notice] A new release of pip available: 22.2.2 -> 22.3.1\n",
      "[notice] To update, run: python.exe -m pip install --upgrade pip\n"
     ]
    }
   ],
   "source": [
    "%pip install pandas\n",
    "%pip install xlrd\n",
    "%pip install openpyxl\n",
    "%pip install unidecode\n",
    "%pip install scikit-learn\n",
    "%pip install matplotlib\n",
    "%pip install seaborn"
   ]
  },
  {
   "cell_type": "code",
   "execution_count": 2,
   "id": "471bbf23",
   "metadata": {},
   "outputs": [
    {
     "name": "stderr",
     "output_type": "stream",
     "text": [
      "C:\\Users\\silve\\AppData\\Local\\Temp\\ipykernel_17308\\1947858182.py:4: DtypeWarning: Columns (10,12) have mixed types. Specify dtype option on import or set low_memory=False.\n",
      "  df = pd.read_csv('dataset/sales.csv')\n"
     ]
    }
   ],
   "source": [
    "\n",
    "import numpy as np\n",
    "import pandas as pd\n",
    "import matplotlib.pyplot as plt\n",
    "import seaborn as sns\n",
    "\n",
    "df = pd.read_csv('dataset/sales.csv')\n"
   ]
  },
  {
   "cell_type": "code",
   "execution_count": 3,
   "id": "feaa997c",
   "metadata": {},
   "outputs": [
    {
     "name": "stdout",
     "output_type": "stream",
     "text": [
      "  product_id store_id        date  sales  revenue  stock  price promo_type_1  \\\n",
      "0      P0001    S0002  2017-01-02    0.0     0.00    8.0   6.25         PR14   \n",
      "1      P0001    S0012  2017-01-02    1.0     5.30    0.0   6.25         PR14   \n",
      "2      P0001    S0013  2017-01-02    2.0    10.59    0.0   6.25         PR14   \n",
      "3      P0001    S0023  2017-01-02    0.0     0.00    6.0   6.25         PR14   \n",
      "4      P0001    S0025  2017-01-02    0.0     0.00    1.0   6.25         PR14   \n",
      "\n",
      "  promo_bin_1 promo_type_2 promo_bin_2  promo_discount_2 promo_discount_type_2  \n",
      "0         NaN         PR03         NaN               NaN                   NaN  \n",
      "1         NaN         PR03         NaN               NaN                   NaN  \n",
      "2         NaN         PR03         NaN               NaN                   NaN  \n",
      "3         NaN         PR03         NaN               NaN                   NaN  \n",
      "4         NaN         PR03         NaN               NaN                   NaN  \n"
     ]
    }
   ],
   "source": [
    "\n",
    "# Verificamos o dataset carregado\n",
    "print(df.head(5))\n",
    "\n"
   ]
  },
  {
   "cell_type": "code",
   "execution_count": 88,
   "id": "fcd32b90-c967-4531-b5e0-bc05367ef895",
   "metadata": {},
   "outputs": [
    {
     "name": "stdout",
     "output_type": "stream",
     "text": [
      "1091 dias\n",
      "2.989041095890411 anos\n"
     ]
    }
   ],
   "source": [
    "\n",
    "# Verificamos o período do dataset\n",
    "def sales_duration(data):\n",
    "    data.date = pd.to_datetime(data.date)\n",
    "    number_of_days = data.date.max() - data.date.min()\n",
    "    number_of_years = number_of_days.days / 365\n",
    "    print(number_of_days.days, 'dias')\n",
    "    print(number_of_years, 'anos')\n",
    "    \n",
    "sales_duration(df)\n"
   ]
  },
  {
   "cell_type": "code",
   "execution_count": 10,
   "id": "67bef129-8da7-4d44-9604-d5a6c08292da",
   "metadata": {},
   "outputs": [
    {
     "name": "stdout",
     "output_type": "stream",
     "text": [
      "P0125    140997\n",
      "P0364    140569\n",
      "P0261    139651\n",
      "P0333    139632\n",
      "P0664    139486\n",
      "P0390    139332\n",
      "P0131    139014\n",
      "P0536    138856\n",
      "P0499    138228\n",
      "P0116    137142\n",
      "P0569    137132\n",
      "P0372    136738\n",
      "P0103    135841\n",
      "P0642    134062\n",
      "P0129    133990\n",
      "Name: product_id, dtype: int64\n"
     ]
    }
   ],
   "source": [
    "\n",
    "# Verificamos que cada produto tem vários registos por dia, dado que para cada produto existem mais registos do que o total de dias acima ilustrado, sendo estes\n",
    "# referentes às diferentes lojas em que foram vendidos. Porém, para efeitos de análise, iremos agrupar as vendas diárias de cada produto em todas as lojas numa só linha.\n",
    "print(df['product_id'].value_counts().sort_values(ascending=False).head(15))\n",
    "\n"
   ]
  },
  {
   "cell_type": "code",
   "execution_count": 19,
   "id": "10b8d687-b27a-4934-b70d-86400c130df4",
   "metadata": {},
   "outputs": [
    {
     "data": {
      "text/plain": [
       "promo_bin_2              99.696317\n",
       "promo_discount_2         99.696317\n",
       "promo_discount_type_2    99.696317\n",
       "promo_bin_1              86.370028\n",
       "sales                     6.120647\n",
       "dtype: float64"
      ]
     },
     "execution_count": 19,
     "metadata": {},
     "output_type": "execute_result"
    }
   ],
   "source": [
    "\n",
    "\n",
    "# Verificamos as percentagens de dados em falta\n",
    "percent_missing = df.isnull().sum() * 100 / len(df)\n",
    "percent_missing.sort_values(ascending=False).head()\n",
    "\n"
   ]
  },
  {
   "cell_type": "code",
   "execution_count": 35,
   "id": "87d5e533-2ea5-4b52-86d2-19e89786bb44",
   "metadata": {},
   "outputs": [
    {
     "ename": "KeyError",
     "evalue": "'promo_type_1'",
     "output_type": "error",
     "traceback": [
      "\u001b[1;31m---------------------------------------------------------------------------\u001b[0m",
      "\u001b[1;31mKeyError\u001b[0m                                  Traceback (most recent call last)",
      "File \u001b[1;32m~\\AppData\\Local\\Programs\\Python\\Python310\\lib\\site-packages\\pandas\\core\\indexes\\base.py:3803\u001b[0m, in \u001b[0;36mIndex.get_loc\u001b[1;34m(self, key, method, tolerance)\u001b[0m\n\u001b[0;32m   3802\u001b[0m \u001b[38;5;28;01mtry\u001b[39;00m:\n\u001b[1;32m-> 3803\u001b[0m     \u001b[38;5;28;01mreturn\u001b[39;00m \u001b[38;5;28;43mself\u001b[39;49m\u001b[38;5;241;43m.\u001b[39;49m\u001b[43m_engine\u001b[49m\u001b[38;5;241;43m.\u001b[39;49m\u001b[43mget_loc\u001b[49m\u001b[43m(\u001b[49m\u001b[43mcasted_key\u001b[49m\u001b[43m)\u001b[49m\n\u001b[0;32m   3804\u001b[0m \u001b[38;5;28;01mexcept\u001b[39;00m \u001b[38;5;167;01mKeyError\u001b[39;00m \u001b[38;5;28;01mas\u001b[39;00m err:\n",
      "File \u001b[1;32m~\\AppData\\Local\\Programs\\Python\\Python310\\lib\\site-packages\\pandas\\_libs\\index.pyx:138\u001b[0m, in \u001b[0;36mpandas._libs.index.IndexEngine.get_loc\u001b[1;34m()\u001b[0m\n",
      "File \u001b[1;32m~\\AppData\\Local\\Programs\\Python\\Python310\\lib\\site-packages\\pandas\\_libs\\index.pyx:165\u001b[0m, in \u001b[0;36mpandas._libs.index.IndexEngine.get_loc\u001b[1;34m()\u001b[0m\n",
      "File \u001b[1;32mpandas\\_libs\\hashtable_class_helper.pxi:5745\u001b[0m, in \u001b[0;36mpandas._libs.hashtable.PyObjectHashTable.get_item\u001b[1;34m()\u001b[0m\n",
      "File \u001b[1;32mpandas\\_libs\\hashtable_class_helper.pxi:5753\u001b[0m, in \u001b[0;36mpandas._libs.hashtable.PyObjectHashTable.get_item\u001b[1;34m()\u001b[0m\n",
      "\u001b[1;31mKeyError\u001b[0m: 'promo_type_1'",
      "\nThe above exception was the direct cause of the following exception:\n",
      "\u001b[1;31mKeyError\u001b[0m                                  Traceback (most recent call last)",
      "Cell \u001b[1;32mIn [35], line 2\u001b[0m\n\u001b[0;32m      1\u001b[0m \u001b[38;5;66;03m# Verificamos a distribuição das colunas de valores de promoção\u001b[39;00m\n\u001b[1;32m----> 2\u001b[0m \u001b[38;5;28mprint\u001b[39m(\u001b[43mdf\u001b[49m\u001b[43m[\u001b[49m\u001b[38;5;124;43m'\u001b[39;49m\u001b[38;5;124;43mpromo_type_1\u001b[39;49m\u001b[38;5;124;43m'\u001b[39;49m\u001b[43m]\u001b[49m\u001b[38;5;241m.\u001b[39mvalue_counts()\u001b[38;5;241m.\u001b[39msort_values(ascending\u001b[38;5;241m=\u001b[39m\u001b[38;5;28;01mFalse\u001b[39;00m)\u001b[38;5;241m.\u001b[39mhead(\u001b[38;5;241m15\u001b[39m))\n",
      "File \u001b[1;32m~\\AppData\\Local\\Programs\\Python\\Python310\\lib\\site-packages\\pandas\\core\\frame.py:3805\u001b[0m, in \u001b[0;36mDataFrame.__getitem__\u001b[1;34m(self, key)\u001b[0m\n\u001b[0;32m   3803\u001b[0m \u001b[38;5;28;01mif\u001b[39;00m \u001b[38;5;28mself\u001b[39m\u001b[38;5;241m.\u001b[39mcolumns\u001b[38;5;241m.\u001b[39mnlevels \u001b[38;5;241m>\u001b[39m \u001b[38;5;241m1\u001b[39m:\n\u001b[0;32m   3804\u001b[0m     \u001b[38;5;28;01mreturn\u001b[39;00m \u001b[38;5;28mself\u001b[39m\u001b[38;5;241m.\u001b[39m_getitem_multilevel(key)\n\u001b[1;32m-> 3805\u001b[0m indexer \u001b[38;5;241m=\u001b[39m \u001b[38;5;28;43mself\u001b[39;49m\u001b[38;5;241;43m.\u001b[39;49m\u001b[43mcolumns\u001b[49m\u001b[38;5;241;43m.\u001b[39;49m\u001b[43mget_loc\u001b[49m\u001b[43m(\u001b[49m\u001b[43mkey\u001b[49m\u001b[43m)\u001b[49m\n\u001b[0;32m   3806\u001b[0m \u001b[38;5;28;01mif\u001b[39;00m is_integer(indexer):\n\u001b[0;32m   3807\u001b[0m     indexer \u001b[38;5;241m=\u001b[39m [indexer]\n",
      "File \u001b[1;32m~\\AppData\\Local\\Programs\\Python\\Python310\\lib\\site-packages\\pandas\\core\\indexes\\base.py:3805\u001b[0m, in \u001b[0;36mIndex.get_loc\u001b[1;34m(self, key, method, tolerance)\u001b[0m\n\u001b[0;32m   3803\u001b[0m     \u001b[38;5;28;01mreturn\u001b[39;00m \u001b[38;5;28mself\u001b[39m\u001b[38;5;241m.\u001b[39m_engine\u001b[38;5;241m.\u001b[39mget_loc(casted_key)\n\u001b[0;32m   3804\u001b[0m \u001b[38;5;28;01mexcept\u001b[39;00m \u001b[38;5;167;01mKeyError\u001b[39;00m \u001b[38;5;28;01mas\u001b[39;00m err:\n\u001b[1;32m-> 3805\u001b[0m     \u001b[38;5;28;01mraise\u001b[39;00m \u001b[38;5;167;01mKeyError\u001b[39;00m(key) \u001b[38;5;28;01mfrom\u001b[39;00m \u001b[38;5;21;01merr\u001b[39;00m\n\u001b[0;32m   3806\u001b[0m \u001b[38;5;28;01mexcept\u001b[39;00m \u001b[38;5;167;01mTypeError\u001b[39;00m:\n\u001b[0;32m   3807\u001b[0m     \u001b[38;5;66;03m# If we have a listlike key, _check_indexing_error will raise\u001b[39;00m\n\u001b[0;32m   3808\u001b[0m     \u001b[38;5;66;03m#  InvalidIndexError. Otherwise we fall through and re-raise\u001b[39;00m\n\u001b[0;32m   3809\u001b[0m     \u001b[38;5;66;03m#  the TypeError.\u001b[39;00m\n\u001b[0;32m   3810\u001b[0m     \u001b[38;5;28mself\u001b[39m\u001b[38;5;241m.\u001b[39m_check_indexing_error(key)\n",
      "\u001b[1;31mKeyError\u001b[0m: 'promo_type_1'"
     ]
    }
   ],
   "source": [
    "\n",
    "\n",
    "# Verificamos a distribuição das colunas de valores de promoção que estão preenchidas\n",
    "print(df[df['product_id'] == 'P0004']['promo_type_1'].value_counts().sort_values(ascending=False).head(15))\n",
    "\n"
   ]
  },
  {
   "cell_type": "code",
   "execution_count": null,
   "id": "9f78df1e-ec02-441b-9ff3-e6dde818959d",
   "metadata": {},
   "outputs": [],
   "source": [
    "\n",
    "\n",
    "# Verificamos a distribuição das colunas de valores de promoção que estão preenchidas\n",
    "print(df[df['product_id'] == 'P0004']['promo_type_2'].value_counts().sort_values(ascending=False).head(15))\n",
    "\n"
   ]
  },
  {
   "cell_type": "code",
   "execution_count": 34,
   "id": "6a603550-82aa-48d9-81a4-8c3b7742a97e",
   "metadata": {},
   "outputs": [
    {
     "name": "stdout",
     "output_type": "stream",
     "text": [
      "  product_id store_id        date  sales  revenue  stock  price\n",
      "0      P0001    S0002  2017-01-02    0.0     0.00    8.0   6.25\n",
      "1      P0001    S0012  2017-01-02    1.0     5.30    0.0   6.25\n",
      "2      P0001    S0013  2017-01-02    2.0    10.59    0.0   6.25\n",
      "3      P0001    S0023  2017-01-02    0.0     0.00    6.0   6.25\n",
      "4      P0001    S0025  2017-01-02    0.0     0.00    1.0   6.25\n"
     ]
    }
   ],
   "source": [
    "\n",
    "\n",
    "# Removemos as colunas cujas percentagens de inutilização são evidentemente superiores ao aceitável\n",
    "df = df.drop(columns=[\"promo_bin_2\", \"promo_discount_2\", \"promo_discount_type_2\", \"promo_bin_1\"])\n",
    "\n",
    "# Removemos as colunas cuja distribuição é quase 100% para um determinado valor, dado que não terão impacto no modelo\n",
    "df = df.drop(columns=[\"promo_type_1\",\"promo_type_2\"])\n",
    "print(df.head(5))\n",
    "\n"
   ]
  },
  {
   "cell_type": "code",
   "execution_count": 46,
   "id": "fec7de6c-e001-4b5e-b39d-3f58b18a188f",
   "metadata": {},
   "outputs": [
    {
     "data": {
      "text/plain": [
       "sales         6.120647\n",
       "revenue       6.120647\n",
       "stock         6.120647\n",
       "price         2.940045\n",
       "product_id    0.000000\n",
       "dtype: float64"
      ]
     },
     "execution_count": 46,
     "metadata": {},
     "output_type": "execute_result"
    }
   ],
   "source": [
    "\n",
    "\n",
    "# Verificamos novamente as percentagens de dados em falta\n",
    "percent_missing = df.isnull().sum() * 100 / len(df)\n",
    "percent_missing.sort_values(ascending=False).head()\n",
    "\n"
   ]
  },
  {
   "cell_type": "code",
   "execution_count": 41,
   "id": "3071a35a-5a8b-45c0-b233-6a9aa91b3a99",
   "metadata": {},
   "outputs": [
    {
     "name": "stdout",
     "output_type": "stream",
     "text": [
      "   product_id        date  sales  revenue  stock  price\n",
      "0       P0001  2017-01-02    6.0    31.79  195.0   6.25\n",
      "1       P0001  2017-01-03    1.0     5.30  194.0   6.25\n",
      "2       P0001  2017-01-04    2.0    10.60  192.0   6.25\n",
      "3       P0001  2017-01-05    1.0     5.30  191.0   6.25\n",
      "4       P0001  2017-01-06    3.0    15.90  188.0   6.25\n",
      "5       P0001  2017-01-07    9.0    47.68  180.0   6.25\n",
      "6       P0001  2017-01-08    2.0    10.60  178.0   6.25\n",
      "7       P0001  2017-01-09    1.0     5.30  177.0   6.25\n",
      "8       P0001  2017-01-10    1.0     5.30  176.0   6.25\n",
      "9       P0001  2017-01-11    4.0    21.20  173.0   6.25\n",
      "10      P0001  2017-01-12    3.0    15.90  168.0   6.25\n",
      "11      P0001  2017-01-13    4.0    21.19  164.0   6.25\n",
      "12      P0001  2017-01-14    4.0    22.04  160.0   6.50\n",
      "13      P0001  2017-01-15    4.0    22.04  156.0   6.50\n",
      "14      P0001  2017-01-16    1.0     5.51  155.0   6.50\n"
     ]
    }
   ],
   "source": [
    "\n",
    "\n",
    "# Agrupamos as vendas diárias por produto. \n",
    "# Para manter o preço diário de cada produto, como este pode variar de loja para loja, inferimos a média do preço diário de cada produto entre todas as lojas.\n",
    "df2 = df.groupby([\"product_id\", \"date\"]).agg({'sales': ['sum'], 'revenue': ['sum'], 'stock': ['sum'], 'price': ['mean']}).reset_index()\n",
    "df2.columns = df2.columns.droplevel(1)\n",
    "\n",
    "print(df2.head(15))\n",
    "\n"
   ]
  },
  {
   "cell_type": "code",
   "execution_count": 53,
   "id": "f5d1a85b-66b3-4456-ac6d-ecd8f26bdffa",
   "metadata": {},
   "outputs": [
    {
     "name": "stdout",
     "output_type": "stream",
     "text": [
      "P0001    1092\n",
      "P0705    1092\n",
      "P0372    1092\n",
      "P0611    1092\n",
      "P0534    1092\n",
      "P0609    1092\n",
      "P0608    1092\n",
      "P0602    1092\n",
      "P0599    1092\n",
      "P0591    1092\n",
      "P0590    1092\n",
      "P0587    1092\n",
      "P0585    1092\n",
      "P0583    1092\n",
      "P0579    1092\n",
      "Name: product_id, dtype: int64\n"
     ]
    }
   ],
   "source": [
    "\n",
    "# Verificamos novamente a quantidade de registos por produto, sendo que este valor deverá diminuir drasticamente face à análise igual feita anteriormente\n",
    "# Assim, a quantidade agora deverá ser igual para todos os produtos, tendo como valor o total de dias do dataset previamente visto.\n",
    "print(df2['product_id'].value_counts().sort_values(ascending=False).head(15))\n",
    "\n"
   ]
  },
  {
   "cell_type": "code",
   "execution_count": 44,
   "id": "59334e12",
   "metadata": {},
   "outputs": [],
   "source": [
    "\n",
    "# Exportamos o Dataset já agrupado caso seja pretendido analisar os dados ao pormenor. (opcional)\n",
    "#df2.to_csv('dataset/sales_grouped.csv')\n",
    "\n"
   ]
  },
  {
   "cell_type": "code",
   "execution_count": 49,
   "id": "988554ab-cc5f-41d8-85f1-23dd922dea99",
   "metadata": {},
   "outputs": [
    {
     "data": {
      "text/plain": [
       "price         1.873005\n",
       "product_id    0.000000\n",
       "date          0.000000\n",
       "sales         0.000000\n",
       "revenue       0.000000\n",
       "dtype: float64"
      ]
     },
     "execution_count": 49,
     "metadata": {},
     "output_type": "execute_result"
    }
   ],
   "source": [
    "\n",
    "\n",
    "# Verificamos novamente as percentagens de dados em falta, já com as vendas agrupadas\n",
    "percent_missing = df2.isnull().sum() * 100 / len(df2)\n",
    "percent_missing.sort_values(ascending=False).head()\n",
    "\n"
   ]
  },
  {
   "cell_type": "code",
   "execution_count": 68,
   "id": "f9f26f92-e507-4365-8cef-414ad908426e",
   "metadata": {},
   "outputs": [],
   "source": [
    "\n",
    "def find_outliers_tukey(x):\n",
    "    q1 = np.percentile(x, 25)\n",
    "    q3 = np.percentile(x, 75)\n",
    "    iqr = q3-q1 \n",
    "    floor = q1 - 1.5*iqr\n",
    "    ceiling = q3 + 1.5*iqr\n",
    "    outlier_indices = list(x.index[(x < floor)|(x > ceiling)])\n",
    "    outlier_values = list(x[outlier_indices])\n",
    "\n",
    "    return outlier_indices, outlier_values\n"
   ]
  },
  {
   "cell_type": "code",
   "execution_count": 74,
   "id": "a175ba37-098b-4590-8b94-c9b4a6c678e2",
   "metadata": {},
   "outputs": [
    {
     "name": "stdout",
     "output_type": "stream",
     "text": [
      "[]\n"
     ]
    }
   ],
   "source": [
    "\n",
    "\n",
    "tukey_indices, tukey_values = find_outliers_tukey(df2['price'])\n",
    "print(np.sort(tukey_values))\n",
    "\n"
   ]
  },
  {
   "cell_type": "code",
   "execution_count": 75,
   "id": "0441db36-59db-4bc4-9439-7453653f01ee",
   "metadata": {},
   "outputs": [],
   "source": [
    "\n",
    "\n",
    "# Utilizamos pyplot em matplotlib para criar plot histograms\n",
    "import matplotlib.pyplot as plt\n",
    "\n",
    "def plot_histogram(x):\n",
    "    plt.hist(x, color='gray', alpha=0.5)\n",
    "    plt.title(\"Histogram of '{var_name}'\".format(var_name=x.name))\n",
    "    plt.xlabel(\"Value\")\n",
    "    plt.ylabel(\"Frequency\")\n",
    "    plt.show()\n",
    "\n",
    "    "
   ]
  },
  {
   "cell_type": "code",
   "execution_count": 76,
   "id": "18ab8f51-61af-4259-8184-db0c92e036e8",
   "metadata": {},
   "outputs": [
    {
     "data": {
      "image/png": "[encoded data removed]",
      "text/plain": [
       "<Figure size 640x480 with 1 Axes>"
      ]
     },
     "metadata": {},
     "output_type": "display_data"
    }
   ],
   "source": [
    "\n",
    "plot_histogram(df2['price'])\n"
   ]
  },
  {
   "cell_type": "code",
   "execution_count": 81,
   "id": "b50931b5-033f-4bd1-b67d-82a855d514a3",
   "metadata": {},
   "outputs": [
    {
     "name": "stdout",
     "output_type": "stream",
     "text": [
      "649\n"
     ]
    }
   ],
   "source": [
    "\n",
    "\n",
    "# Dividimos o dataframe por produto, dado que irá ser treinado um modelo de previsão para cada um.\n",
    "dfByProdList = df2.groupby(\"product_id\")\n",
    "\n",
    "print(len(dfByProdList))\n",
    "\n",
    "    "
   ]
  },
  {
   "cell_type": "code",
   "execution_count": 84,
   "id": "b567a326-e671-4e63-9577-f892bdb7f389",
   "metadata": {},
   "outputs": [
    {
     "name": "stdout",
     "output_type": "stream",
     "text": [
      "  product_id        date  sales  revenue  stock  price\n",
      "0      P0001  2017-01-02    6.0    31.79  195.0   6.25\n",
      "1      P0001  2017-01-03    1.0     5.30  194.0   6.25\n",
      "2      P0001  2017-01-04    2.0    10.60  192.0   6.25\n",
      "3      P0001  2017-01-05    1.0     5.30  191.0   6.25\n",
      "4      P0001  2017-01-06    3.0    15.90  188.0   6.25\n"
     ]
    }
   ],
   "source": [
    "\n",
    "# Para efeitos de análise, iremos inicialmente começar por criar um modelo somente para um produto.\n",
    "product_df = dfByProdList.get_group('P0001')\n",
    "print(product_df.head())\n",
    "\n",
    "\n"
   ]
  },
  {
   "cell_type": "code",
   "execution_count": 96,
   "id": "f45e5474-cb24-497a-b5ae-058fb80c435e",
   "metadata": {},
   "outputs": [
    {
     "data": {
      "image/png": "[encoded data removed]",
      "text/plain": [
       "<Figure size 700x400 with 1 Axes>"
      ]
     },
     "metadata": {},
     "output_type": "display_data"
    },
    {
     "data": {
      "image/png": "[encoded data removed]",
      "text/plain": [
       "<Figure size 700x400 with 1 Axes>"
      ]
     },
     "metadata": {},
     "output_type": "display_data"
    }
   ],
   "source": [
    "\n",
    "\n",
    "# Verificamos a distribuição de vendas diárias para este produto\n",
    "def sales_per_day(product_sales_data):\n",
    "    fig, ax = plt.subplots(figsize=(7,4))\n",
    "    plt.hist(product_sales_data.sales, color='mediumblue')\n",
    "    \n",
    "    ax.set(xlabel = \"Sales Per day\",\n",
    "           ylabel = \"Count\",\n",
    "           title = \"Distribuição de Vendas Diárias\")\n",
    "    \n",
    "def revenue_per_day(product_sales_data):\n",
    "    fig, ax = plt.subplots(figsize=(7,4))\n",
    "    plt.hist(product_sales_data.revenue, color='mediumblue')\n",
    "    \n",
    "    ax.set(xlabel = \"Sales Per day ($)\",\n",
    "           ylabel = \"Count\",\n",
    "           title = \"Distribuição de Receitas Diárias\")\n",
    "    \n",
    "sales_per_day(product_df)\n",
    "revenue_per_day(product_df)\n",
    "\n"
   ]
  },
  {
   "cell_type": "code",
   "execution_count": 94,
   "id": "e8287889-9801-4873-9add-e050ea4d9de0",
   "metadata": {},
   "outputs": [
    {
     "name": "stdout",
     "output_type": "stream",
     "text": [
      "Média de vendas diárias: 2.718864468864469\n",
      "Média de receitas diárias: $19.34838827838828\n"
     ]
    }
   ],
   "source": [
    "\n",
    "\n",
    "# Verificamos a média de vendas e receitas diárias\n",
    "avg_monthly_sales = product_df.sales.mean()\n",
    "avg_monthly_revenue = product_df.revenue.mean()\n",
    "print(f\"Média de vendas diárias: {avg_monthly_sales}\")\n",
    "print(f\"Média de receitas diárias: ${avg_monthly_revenue}\")\n",
    "\n"
   ]
  },
  {
   "cell_type": "code",
   "execution_count": 113,
   "id": "98600068-a2fe-44e2-ad5e-5aa4c0a611db",
   "metadata": {},
   "outputs": [
    {
     "data": {
      "image/png": "[encoded data removed]",
      "text/plain": [
       "<Figure size 1500x500 with 1 Axes>"
      ]
     },
     "metadata": {},
     "output_type": "display_data"
    }
   ],
   "source": [
    "\n",
    "def time_plot(data, title):\n",
    "    fig, ax = plt.subplots(figsize=(15,5))\n",
    "    sns.lineplot(x = 'date', y = 'sales', data=data, ax=ax, color='blue', label='Total de Vendas')\n",
    "    sns.lineplot(x = 'date', y = 'revenue', data=data, ax=ax, color='green', label='Total de Receitas') \n",
    "    \n",
    "    ax.set(xlabel = \"Date\",\n",
    "           ylabel = \"Sales\",\n",
    "           title = title)\n",
    "    \n",
    "    sns.despine()\n",
    "    \n",
    "# Verificamos o histórico de vendas diárias do produto ao longo do tempo\n",
    "time_plot(product_df, 'Vendas Diárias ao longo do tempo')\n"
   ]
  },
  {
   "cell_type": "code",
   "execution_count": 98,
   "id": "2b292f66-1af9-4e8c-8546-d4b9e2be7026",
   "metadata": {},
   "outputs": [],
   "source": [
    "\n",
    "\n",
    "# Iteramos a lista de dataframes\n",
    "for name, group in dfByProdList:\n",
    "    product_df = group\n",
    "    #print(name)\n",
    "    # You can now access the data for each group using the product_df dataframe\n",
    "\n"
   ]
  },
  {
   "cell_type": "code",
   "execution_count": 24,
   "id": "2e595d05-f219-4eab-bf94-4d98715498be",
   "metadata": {},
   "outputs": [],
   "source": [
    "\n",
    "\n",
    "# Use PolynomialFeatures in sklearn.preprocessing to create two-way interactions for all features\n",
    "from itertools import combinations\n",
    "from sklearn.preprocessing import PolynomialFeatures\n",
    "\n",
    "def add_interactions(df):\n",
    "    # Get feature names\n",
    "    combos = list(combinations(list(df.columns), 2))\n",
    "    colnames = list(df.columns) + ['_'.join(x) for x in combos]\n",
    "    \n",
    "    # Find interactions\n",
    "    poly = PolynomialFeatures(interaction_only=True, include_bias=False)\n",
    "    df = poly.fit_transform(df)\n",
    "    df = pd.DataFrame(df)\n",
    "    df.columns = colnames\n",
    "    \n",
    "    # Remove interaction terms with all 0 values            \n",
    "    noint_indicies = [i for i, x in enumerate(list((df == 0).all())) if x]\n",
    "    df = df.drop(df.columns[noint_indicies], axis=1)\n",
    "    \n",
    "    return df\n",
    "\n"
   ]
  },
  {
   "cell_type": "code",
   "execution_count": 25,
   "id": "505c34cf-cb9b-4917-9ba3-282e50daf148",
   "metadata": {},
   "outputs": [
    {
     "name": "stdout",
     "output_type": "stream",
     "text": [
      "   Total_Receitas_2018Q1  Total_Receitas_2018Q2  Total_Receitas_2018Q3  \\\n",
      "0               0.000000               0.000000               0.000000   \n",
      "1             176.666667             294.444444              88.333333   \n",
      "2               0.000000               0.000000               0.000000   \n",
      "3               0.000000               0.000000               0.000000   \n",
      "4             410.425926              99.833333              88.740741   \n",
      "\n",
      "   Total_Receitas_2018Q4  Total_Receitas_2019Q1  Total_Receitas_2019Q2  \\\n",
      "0               0.027778               0.009259               0.000000   \n",
      "1             265.000000             294.444444             176.666667   \n",
      "2              22.037037              44.074074               0.000000   \n",
      "3              47.962963               0.000000               0.000000   \n",
      "4             155.296296             166.388889              77.648148   \n",
      "\n",
      "   Total_Receitas_2019Q3  Total_Receitas_2019Q4  Total_Receitas_2020Q1  \\\n",
      "0               0.018519               0.000000               0.000000   \n",
      "1             257.962963             147.407407             147.407407   \n",
      "2               0.000000             110.185185             132.222222   \n",
      "3               0.000000               0.000000               0.000000   \n",
      "4             232.944444             133.111111             510.259259   \n",
      "\n",
      "   Total_Receitas_2020Q2  ...  Segmento_INFANTIL_Estação_VERÃO  \\\n",
      "0               0.018519  ...                              0.0   \n",
      "1             737.037037  ...                              0.0   \n",
      "2             440.740741  ...                              0.0   \n",
      "3               0.000000  ...                              0.0   \n",
      "4             354.962963  ...                              0.0   \n",
      "\n",
      "   Género_FEMININO_Estação_ANUAL  Género_FEMININO_Estação_INVERNO  \\\n",
      "0                            0.0                              0.0   \n",
      "1                            0.0                              0.0   \n",
      "2                            0.0                              0.0   \n",
      "3                            0.0                              0.0   \n",
      "4                            0.0                              0.0   \n",
      "\n",
      "   Género_FEMININO_Estação_VERÃO  Género_GERAL_Estação_ANUAL  \\\n",
      "0                            0.0                         1.0   \n",
      "1                            0.0                         1.0   \n",
      "2                            0.0                         1.0   \n",
      "3                            0.0                         1.0   \n",
      "4                            0.0                         1.0   \n",
      "\n",
      "   Género_GERAL_Estação_INVERNO  Género_GERAL_Estação_VERÃO  \\\n",
      "0                           0.0                         0.0   \n",
      "1                           0.0                         0.0   \n",
      "2                           0.0                         0.0   \n",
      "3                           0.0                         0.0   \n",
      "4                           0.0                         0.0   \n",
      "\n",
      "   Género_MASCULINO_Estação_ANUAL  Género_MASCULINO_Estação_INVERNO  \\\n",
      "0                             0.0                               0.0   \n",
      "1                             0.0                               0.0   \n",
      "2                             0.0                               0.0   \n",
      "3                             0.0                               0.0   \n",
      "4                             0.0                               0.0   \n",
      "\n",
      "   Género_MASCULINO_Estação_VERÃO  \n",
      "0                             0.0  \n",
      "1                             0.0  \n",
      "2                             0.0  \n",
      "3                             0.0  \n",
      "4                             0.0  \n",
      "\n",
      "[5 rows x 14984 columns]\n"
     ]
    }
   ],
   "source": [
    "\n",
    "# Assign X as a DataFrame of features and y as a Series of the outcome variable\n",
    "df = add_interactions(df)\n",
    "print(df.head(5))\n",
    "\n"
   ]
  },
  {
   "cell_type": "code",
   "execution_count": 28,
   "id": "bf399fb0-9c07-44b4-8404-bca93b1808ba",
   "metadata": {},
   "outputs": [
    {
     "name": "stderr",
     "output_type": "stream",
     "text": [
      "C:\\Users\\silve\\AppData\\Local\\Temp\\ipykernel_7132\\3779654755.py:1: FutureWarning: In a future version of pandas all arguments of DataFrame.drop except for the argument 'labels' will be keyword-only.\n",
      "  X = df.drop('Total_Receitas_2022Q4', 1)\n"
     ]
    }
   ],
   "source": [
    "\n",
    "\n",
    "X = df.drop('Total_Receitas_2022Q4', 1)\n",
    "Y = df.Total_Receitas_2022Q4\n",
    "\n"
   ]
  },
  {
   "cell_type": "code",
   "execution_count": 31,
   "id": "fe529167-9d48-4ec3-9ffb-e1033108dae5",
   "metadata": {},
   "outputs": [],
   "source": [
    "\n",
    "\n",
    "\n",
    "\n",
    "# Use train_test_split in sklearn.cross_validation to split data into train and test sets\n",
    "from sklearn.model_selection import train_test_split\n",
    "\n",
    "X_train, X_test, y_train, y_test = train_test_split(X, Y, train_size=0.70, random_state=1)\n",
    "\n",
    "\n"
   ]
  },
  {
   "cell_type": "code",
   "execution_count": 33,
   "id": "45939f61-32f8-40be-8046-2429d31cf345",
   "metadata": {},
   "outputs": [
    {
     "name": "stdout",
     "output_type": "stream",
     "text": [
      "(10845, 14984)\n",
      "(10845, 14983)\n"
     ]
    }
   ],
   "source": [
    "\n",
    "\n",
    "\n",
    "# The total number of features have grown substantially after dummying and adding interaction terms\n",
    "print(df.shape)\n",
    "print(X.shape)\n",
    "\n"
   ]
  },
  {
   "cell_type": "code",
   "execution_count": 34,
   "id": "bbe4c9bb-4704-4f46-b804-5cb6d6cc3fc0",
   "metadata": {},
   "outputs": [
    {
     "name": "stderr",
     "output_type": "stream",
     "text": [
      "C:\\Users\\silve\\AppData\\Local\\Programs\\Python\\Python310\\lib\\site-packages\\sklearn\\feature_selection\\_univariate_selection.py:112: UserWarning: Features [   44    52    62 ... 14882 14884 14952] are constant.\n",
      "  warnings.warn(\"Features %s are constant.\" % constant_features_idx, UserWarning)\n",
      "C:\\Users\\silve\\AppData\\Local\\Programs\\Python\\Python310\\lib\\site-packages\\sklearn\\feature_selection\\_univariate_selection.py:113: RuntimeWarning: divide by zero encountered in divide\n",
      "  f = msb / msw\n",
      "C:\\Users\\silve\\AppData\\Local\\Programs\\Python\\Python310\\lib\\site-packages\\sklearn\\feature_selection\\_univariate_selection.py:113: RuntimeWarning: invalid value encountered in divide\n",
      "  f = msb / msw\n"
     ]
    }
   ],
   "source": [
    "\n",
    "\n",
    "\n",
    "\n",
    "# Such a large set of features can cause overfitting and also slow computing\n",
    "# Use feature selection to select the most important features\n",
    "import sklearn.feature_selection\n",
    "\n",
    "select = sklearn.feature_selection.SelectKBest(k=20)\n",
    "selected_features = select.fit(X_train, y_train)\n",
    "indices_selected = selected_features.get_support(indices=True)\n",
    "colnames_selected = [X.columns[i] for i in indices_selected]\n",
    "\n",
    "X_train_selected = X_train[colnames_selected]\n",
    "X_test_selected = X_test[colnames_selected]\n",
    "\n"
   ]
  },
  {
   "cell_type": "code",
   "execution_count": 35,
   "id": "882d57b5-652d-47a1-9ba1-c41cca73b983",
   "metadata": {},
   "outputs": [
    {
     "name": "stdout",
     "output_type": "stream",
     "text": [
      "['NomeMarca_Produto_ADIDAS_Tipo_TENIS', 'NomeMarca_Produto_BULLTERRIER_Estação_INVERNO', 'NomeMarca_Produto_DWJ_Tipo_SACO', 'NomeMarca_Produto_FORT SPUMA_Género_MASCULINO', 'NomeMarca_Produto_MACBOOT_Unidade_Produto_UN', 'NomeMarca_Produto_PENALTY_Tipo_FAIXA', 'NomeMarca_Produto_PENALTY_Tipo_LUVA MUSCULAÇÃO', 'NomeMarca_Produto_PENALTY_Tipo_VALVULA', 'NomeMarca_Produto_REALTEX_Tipo_LUVA', 'NomeMarca_Produto_ROLA MOCA_Tipo_BERMUDA', 'NomeMarca_Produto_SCALIBU_Tipo_AGULHA', 'NomeMarca_Produto_WILSON_Tipo_BOLA TÊNIS', 'Tipo_BERMUDA_Unidade_Produto_PR', 'Tipo_CHUTEIRA CAMPO_Segmento_GERAL', 'Tipo_TENIS_Género_GERAL', 'Tipo_VALVULA_Unidade_Produto_UN', 'Tipo_VALVULA_Negócio_ACESSÓRIOS', 'Tipo_VALVULA_Segmento_ESPORTIVO', 'Tipo_VALVULA_Género_GERAL', 'Tipo_VALVULA_Estação_ANUAL']\n"
     ]
    }
   ],
   "source": [
    "\n",
    "\n",
    "\n",
    "\n",
    "print(colnames_selected)\n",
    "\n",
    "\n"
   ]
  },
  {
   "cell_type": "code",
   "execution_count": 36,
   "id": "fc7eb4cf-eac7-4498-a0de-5a59f4bc0457",
   "metadata": {},
   "outputs": [],
   "source": [
    "\n",
    "\n",
    "# Function to build model and find model performance\n",
    "from sklearn.linear_model import LogisticRegression\n",
    "from sklearn.metrics import roc_auc_score\n",
    "\n",
    "def find_model_perf(X_train, y_train, X_test, y_test):\n",
    "    model = LogisticRegression()\n",
    "    model.fit(X_train, y_train)\n",
    "    y_hat = [x[1] for x in model.predict_proba(X_test)]\n",
    "    auc = roc_auc_score(y_test, y_hat)\n",
    "    \n",
    "    return auc\n",
    "\n"
   ]
  },
  {
   "cell_type": "code",
   "execution_count": 37,
   "id": "770fa18a-75e1-43e7-9ed5-bea30e5142c1",
   "metadata": {},
   "outputs": [
    {
     "ename": "ValueError",
     "evalue": "Unknown label type: 'continuous'",
     "output_type": "error",
     "traceback": [
      "\u001b[1;31m---------------------------------------------------------------------------\u001b[0m",
      "\u001b[1;31mValueError\u001b[0m                                Traceback (most recent call last)",
      "Cell \u001b[1;32mIn [37], line 2\u001b[0m\n\u001b[0;32m      1\u001b[0m \u001b[38;5;66;03m# Find performance of model using preprocessed data\u001b[39;00m\n\u001b[1;32m----> 2\u001b[0m auc_processed \u001b[38;5;241m=\u001b[39m \u001b[43mfind_model_perf\u001b[49m\u001b[43m(\u001b[49m\u001b[43mX_train_selected\u001b[49m\u001b[43m,\u001b[49m\u001b[43m \u001b[49m\u001b[43my_train\u001b[49m\u001b[43m,\u001b[49m\u001b[43m \u001b[49m\u001b[43mX_test_selected\u001b[49m\u001b[43m,\u001b[49m\u001b[43m \u001b[49m\u001b[43my_test\u001b[49m\u001b[43m)\u001b[49m\n\u001b[0;32m      3\u001b[0m \u001b[38;5;28mprint\u001b[39m(auc_processed)\n",
      "Cell \u001b[1;32mIn [36], line 7\u001b[0m, in \u001b[0;36mfind_model_perf\u001b[1;34m(X_train, y_train, X_test, y_test)\u001b[0m\n\u001b[0;32m      5\u001b[0m \u001b[38;5;28;01mdef\u001b[39;00m \u001b[38;5;21mfind_model_perf\u001b[39m(X_train, y_train, X_test, y_test):\n\u001b[0;32m      6\u001b[0m     model \u001b[38;5;241m=\u001b[39m LogisticRegression()\n\u001b[1;32m----> 7\u001b[0m     \u001b[43mmodel\u001b[49m\u001b[38;5;241;43m.\u001b[39;49m\u001b[43mfit\u001b[49m\u001b[43m(\u001b[49m\u001b[43mX_train\u001b[49m\u001b[43m,\u001b[49m\u001b[43m \u001b[49m\u001b[43my_train\u001b[49m\u001b[43m)\u001b[49m\n\u001b[0;32m      8\u001b[0m     y_hat \u001b[38;5;241m=\u001b[39m [x[\u001b[38;5;241m1\u001b[39m] \u001b[38;5;28;01mfor\u001b[39;00m x \u001b[38;5;129;01min\u001b[39;00m model\u001b[38;5;241m.\u001b[39mpredict_proba(X_test)]\n\u001b[0;32m      9\u001b[0m     auc \u001b[38;5;241m=\u001b[39m roc_auc_score(y_test, y_hat)\n",
      "File \u001b[1;32m~\\AppData\\Local\\Programs\\Python\\Python310\\lib\\site-packages\\sklearn\\linear_model\\_logistic.py:1204\u001b[0m, in \u001b[0;36mLogisticRegression.fit\u001b[1;34m(self, X, y, sample_weight)\u001b[0m\n\u001b[0;32m   1194\u001b[0m     _dtype \u001b[38;5;241m=\u001b[39m [np\u001b[38;5;241m.\u001b[39mfloat64, np\u001b[38;5;241m.\u001b[39mfloat32]\n\u001b[0;32m   1196\u001b[0m X, y \u001b[38;5;241m=\u001b[39m \u001b[38;5;28mself\u001b[39m\u001b[38;5;241m.\u001b[39m_validate_data(\n\u001b[0;32m   1197\u001b[0m     X,\n\u001b[0;32m   1198\u001b[0m     y,\n\u001b[1;32m   (...)\u001b[0m\n\u001b[0;32m   1202\u001b[0m     accept_large_sparse\u001b[38;5;241m=\u001b[39msolver \u001b[38;5;129;01mnot\u001b[39;00m \u001b[38;5;129;01min\u001b[39;00m [\u001b[38;5;124m\"\u001b[39m\u001b[38;5;124mliblinear\u001b[39m\u001b[38;5;124m\"\u001b[39m, \u001b[38;5;124m\"\u001b[39m\u001b[38;5;124msag\u001b[39m\u001b[38;5;124m\"\u001b[39m, \u001b[38;5;124m\"\u001b[39m\u001b[38;5;124msaga\u001b[39m\u001b[38;5;124m\"\u001b[39m],\n\u001b[0;32m   1203\u001b[0m )\n\u001b[1;32m-> 1204\u001b[0m \u001b[43mcheck_classification_targets\u001b[49m\u001b[43m(\u001b[49m\u001b[43my\u001b[49m\u001b[43m)\u001b[49m\n\u001b[0;32m   1205\u001b[0m \u001b[38;5;28mself\u001b[39m\u001b[38;5;241m.\u001b[39mclasses_ \u001b[38;5;241m=\u001b[39m np\u001b[38;5;241m.\u001b[39munique(y)\n\u001b[0;32m   1207\u001b[0m multi_class \u001b[38;5;241m=\u001b[39m _check_multi_class(\u001b[38;5;28mself\u001b[39m\u001b[38;5;241m.\u001b[39mmulti_class, solver, \u001b[38;5;28mlen\u001b[39m(\u001b[38;5;28mself\u001b[39m\u001b[38;5;241m.\u001b[39mclasses_))\n",
      "File \u001b[1;32m~\\AppData\\Local\\Programs\\Python\\Python310\\lib\\site-packages\\sklearn\\utils\\multiclass.py:207\u001b[0m, in \u001b[0;36mcheck_classification_targets\u001b[1;34m(y)\u001b[0m\n\u001b[0;32m    199\u001b[0m y_type \u001b[38;5;241m=\u001b[39m type_of_target(y, input_name\u001b[38;5;241m=\u001b[39m\u001b[38;5;124m\"\u001b[39m\u001b[38;5;124my\u001b[39m\u001b[38;5;124m\"\u001b[39m)\n\u001b[0;32m    200\u001b[0m \u001b[38;5;28;01mif\u001b[39;00m y_type \u001b[38;5;129;01mnot\u001b[39;00m \u001b[38;5;129;01min\u001b[39;00m [\n\u001b[0;32m    201\u001b[0m     \u001b[38;5;124m\"\u001b[39m\u001b[38;5;124mbinary\u001b[39m\u001b[38;5;124m\"\u001b[39m,\n\u001b[0;32m    202\u001b[0m     \u001b[38;5;124m\"\u001b[39m\u001b[38;5;124mmulticlass\u001b[39m\u001b[38;5;124m\"\u001b[39m,\n\u001b[1;32m   (...)\u001b[0m\n\u001b[0;32m    205\u001b[0m     \u001b[38;5;124m\"\u001b[39m\u001b[38;5;124mmultilabel-sequences\u001b[39m\u001b[38;5;124m\"\u001b[39m,\n\u001b[0;32m    206\u001b[0m ]:\n\u001b[1;32m--> 207\u001b[0m     \u001b[38;5;28;01mraise\u001b[39;00m \u001b[38;5;167;01mValueError\u001b[39;00m(\u001b[38;5;124m\"\u001b[39m\u001b[38;5;124mUnknown label type: \u001b[39m\u001b[38;5;132;01m%r\u001b[39;00m\u001b[38;5;124m\"\u001b[39m \u001b[38;5;241m%\u001b[39m y_type)\n",
      "\u001b[1;31mValueError\u001b[0m: Unknown label type: 'continuous'"
     ]
    }
   ],
   "source": [
    "\n",
    "\n",
    "# Find performance of model using preprocessed data\n",
    "auc_processed = find_model_perf(X_train_selected, y_train, X_test_selected, y_test)\n",
    "print(auc_processed)\n",
    "\n"
   ]
  },
  {
   "cell_type": "code",
   "execution_count": 39,
   "id": "1733bbd3-17c9-4904-9d2f-4421d1aa32ee",
   "metadata": {},
   "outputs": [
    {
     "name": "stdout",
     "output_type": "stream",
     "text": [
      "(10845, 14984)\n",
      "(10845, 14984)\n"
     ]
    }
   ],
   "source": [
    "# Drop missing values so model does not throw any error\n",
    "df_unprocessed = df\n",
    "df_unprocessed = df_unprocessed.dropna(axis=0, how='any')\n",
    "print(df.shape)\n",
    "print(df_unprocessed.shape)"
   ]
  },
  {
   "cell_type": "code",
   "execution_count": 44,
   "id": "76eab832-50a4-4ae7-b97c-464c8c85f880",
   "metadata": {},
   "outputs": [
    {
     "name": "stderr",
     "output_type": "stream",
     "text": [
      "C:\\Users\\silve\\AppData\\Local\\Temp\\ipykernel_7132\\187425290.py:4: FutureWarning: In a future version of pandas all arguments of DataFrame.drop except for the argument 'labels' will be keyword-only.\n",
      "  df_unprocessed = df_unprocessed.drop(col_name, 1)\n",
      "C:\\Users\\silve\\AppData\\Local\\Temp\\ipykernel_7132\\187425290.py:4: FutureWarning: In a future version of pandas all arguments of DataFrame.drop except for the argument 'labels' will be keyword-only.\n",
      "  df_unprocessed = df_unprocessed.drop(col_name, 1)\n",
      "C:\\Users\\silve\\AppData\\Local\\Temp\\ipykernel_7132\\187425290.py:4: FutureWarning: In a future version of pandas all arguments of DataFrame.drop except for the argument 'labels' will be keyword-only.\n",
      "  df_unprocessed = df_unprocessed.drop(col_name, 1)\n",
      "C:\\Users\\silve\\AppData\\Local\\Temp\\ipykernel_7132\\187425290.py:4: FutureWarning: In a future version of pandas all arguments of DataFrame.drop except for the argument 'labels' will be keyword-only.\n",
      "  df_unprocessed = df_unprocessed.drop(col_name, 1)\n",
      "C:\\Users\\silve\\AppData\\Local\\Temp\\ipykernel_7132\\187425290.py:4: FutureWarning: In a future version of pandas all arguments of DataFrame.drop except for the argument 'labels' will be keyword-only.\n",
      "  df_unprocessed = df_unprocessed.drop(col_name, 1)\n",
      "C:\\Users\\silve\\AppData\\Local\\Temp\\ipykernel_7132\\187425290.py:4: FutureWarning: In a future version of pandas all arguments of DataFrame.drop except for the argument 'labels' will be keyword-only.\n",
      "  df_unprocessed = df_unprocessed.drop(col_name, 1)\n",
      "C:\\Users\\silve\\AppData\\Local\\Temp\\ipykernel_7132\\187425290.py:4: FutureWarning: In a future version of pandas all arguments of DataFrame.drop except for the argument 'labels' will be keyword-only.\n",
      "  df_unprocessed = df_unprocessed.drop(col_name, 1)\n",
      "C:\\Users\\silve\\AppData\\Local\\Temp\\ipykernel_7132\\187425290.py:4: FutureWarning: In a future version of pandas all arguments of DataFrame.drop except for the argument 'labels' will be keyword-only.\n",
      "  df_unprocessed = df_unprocessed.drop(col_name, 1)\n",
      "C:\\Users\\silve\\AppData\\Local\\Temp\\ipykernel_7132\\187425290.py:4: FutureWarning: In a future version of pandas all arguments of DataFrame.drop except for the argument 'labels' will be keyword-only.\n",
      "  df_unprocessed = df_unprocessed.drop(col_name, 1)\n",
      "C:\\Users\\silve\\AppData\\Local\\Temp\\ipykernel_7132\\187425290.py:4: FutureWarning: In a future version of pandas all arguments of DataFrame.drop except for the argument 'labels' will be keyword-only.\n",
      "  df_unprocessed = df_unprocessed.drop(col_name, 1)\n",
      "C:\\Users\\silve\\AppData\\Local\\Temp\\ipykernel_7132\\187425290.py:4: FutureWarning: In a future version of pandas all arguments of DataFrame.drop except for the argument 'labels' will be keyword-only.\n",
      "  df_unprocessed = df_unprocessed.drop(col_name, 1)\n",
      "C:\\Users\\silve\\AppData\\Local\\Temp\\ipykernel_7132\\187425290.py:4: FutureWarning: In a future version of pandas all arguments of DataFrame.drop except for the argument 'labels' will be keyword-only.\n",
      "  df_unprocessed = df_unprocessed.drop(col_name, 1)\n",
      "C:\\Users\\silve\\AppData\\Local\\Temp\\ipykernel_7132\\187425290.py:4: FutureWarning: In a future version of pandas all arguments of DataFrame.drop except for the argument 'labels' will be keyword-only.\n",
      "  df_unprocessed = df_unprocessed.drop(col_name, 1)\n",
      "C:\\Users\\silve\\AppData\\Local\\Temp\\ipykernel_7132\\187425290.py:4: FutureWarning: In a future version of pandas all arguments of DataFrame.drop except for the argument 'labels' will be keyword-only.\n",
      "  df_unprocessed = df_unprocessed.drop(col_name, 1)\n",
      "C:\\Users\\silve\\AppData\\Local\\Temp\\ipykernel_7132\\187425290.py:4: FutureWarning: In a future version of pandas all arguments of DataFrame.drop except for the argument 'labels' will be keyword-only.\n",
      "  df_unprocessed = df_unprocessed.drop(col_name, 1)\n",
      "C:\\Users\\silve\\AppData\\Local\\Temp\\ipykernel_7132\\187425290.py:4: FutureWarning: In a future version of pandas all arguments of DataFrame.drop except for the argument 'labels' will be keyword-only.\n",
      "  df_unprocessed = df_unprocessed.drop(col_name, 1)\n",
      "C:\\Users\\silve\\AppData\\Local\\Temp\\ipykernel_7132\\187425290.py:4: FutureWarning: In a future version of pandas all arguments of DataFrame.drop except for the argument 'labels' will be keyword-only.\n",
      "  df_unprocessed = df_unprocessed.drop(col_name, 1)\n",
      "C:\\Users\\silve\\AppData\\Local\\Temp\\ipykernel_7132\\187425290.py:4: FutureWarning: In a future version of pandas all arguments of DataFrame.drop except for the argument 'labels' will be keyword-only.\n",
      "  df_unprocessed = df_unprocessed.drop(col_name, 1)\n",
      "C:\\Users\\silve\\AppData\\Local\\Temp\\ipykernel_7132\\187425290.py:4: FutureWarning: In a future version of pandas all arguments of DataFrame.drop except for the argument 'labels' will be keyword-only.\n",
      "  df_unprocessed = df_unprocessed.drop(col_name, 1)\n",
      "C:\\Users\\silve\\AppData\\Local\\Temp\\ipykernel_7132\\187425290.py:4: FutureWarning: In a future version of pandas all arguments of DataFrame.drop except for the argument 'labels' will be keyword-only.\n",
      "  df_unprocessed = df_unprocessed.drop(col_name, 1)\n",
      "C:\\Users\\silve\\AppData\\Local\\Temp\\ipykernel_7132\\187425290.py:4: FutureWarning: In a future version of pandas all arguments of DataFrame.drop except for the argument 'labels' will be keyword-only.\n",
      "  df_unprocessed = df_unprocessed.drop(col_name, 1)\n",
      "C:\\Users\\silve\\AppData\\Local\\Temp\\ipykernel_7132\\187425290.py:4: FutureWarning: In a future version of pandas all arguments of DataFrame.drop except for the argument 'labels' will be keyword-only.\n",
      "  df_unprocessed = df_unprocessed.drop(col_name, 1)\n",
      "C:\\Users\\silve\\AppData\\Local\\Temp\\ipykernel_7132\\187425290.py:4: FutureWarning: In a future version of pandas all arguments of DataFrame.drop except for the argument 'labels' will be keyword-only.\n",
      "  df_unprocessed = df_unprocessed.drop(col_name, 1)\n",
      "C:\\Users\\silve\\AppData\\Local\\Temp\\ipykernel_7132\\187425290.py:4: FutureWarning: In a future version of pandas all arguments of DataFrame.drop except for the argument 'labels' will be keyword-only.\n",
      "  df_unprocessed = df_unprocessed.drop(col_name, 1)\n",
      "C:\\Users\\silve\\AppData\\Local\\Temp\\ipykernel_7132\\187425290.py:4: FutureWarning: In a future version of pandas all arguments of DataFrame.drop except for the argument 'labels' will be keyword-only.\n",
      "  df_unprocessed = df_unprocessed.drop(col_name, 1)\n",
      "C:\\Users\\silve\\AppData\\Local\\Temp\\ipykernel_7132\\187425290.py:4: FutureWarning: In a future version of pandas all arguments of DataFrame.drop except for the argument 'labels' will be keyword-only.\n",
      "  df_unprocessed = df_unprocessed.drop(col_name, 1)\n",
      "C:\\Users\\silve\\AppData\\Local\\Temp\\ipykernel_7132\\187425290.py:4: FutureWarning: In a future version of pandas all arguments of DataFrame.drop except for the argument 'labels' will be keyword-only.\n",
      "  df_unprocessed = df_unprocessed.drop(col_name, 1)\n",
      "C:\\Users\\silve\\AppData\\Local\\Temp\\ipykernel_7132\\187425290.py:4: FutureWarning: In a future version of pandas all arguments of DataFrame.drop except for the argument 'labels' will be keyword-only.\n",
      "  df_unprocessed = df_unprocessed.drop(col_name, 1)\n",
      "C:\\Users\\silve\\AppData\\Local\\Temp\\ipykernel_7132\\187425290.py:4: FutureWarning: In a future version of pandas all arguments of DataFrame.drop except for the argument 'labels' will be keyword-only.\n",
      "  df_unprocessed = df_unprocessed.drop(col_name, 1)\n",
      "C:\\Users\\silve\\AppData\\Local\\Temp\\ipykernel_7132\\187425290.py:4: FutureWarning: In a future version of pandas all arguments of DataFrame.drop except for the argument 'labels' will be keyword-only.\n",
      "  df_unprocessed = df_unprocessed.drop(col_name, 1)\n",
      "C:\\Users\\silve\\AppData\\Local\\Temp\\ipykernel_7132\\187425290.py:4: FutureWarning: In a future version of pandas all arguments of DataFrame.drop except for the argument 'labels' will be keyword-only.\n",
      "  df_unprocessed = df_unprocessed.drop(col_name, 1)\n",
      "C:\\Users\\silve\\AppData\\Local\\Temp\\ipykernel_7132\\187425290.py:4: FutureWarning: In a future version of pandas all arguments of DataFrame.drop except for the argument 'labels' will be keyword-only.\n",
      "  df_unprocessed = df_unprocessed.drop(col_name, 1)\n",
      "C:\\Users\\silve\\AppData\\Local\\Temp\\ipykernel_7132\\187425290.py:4: FutureWarning: In a future version of pandas all arguments of DataFrame.drop except for the argument 'labels' will be keyword-only.\n",
      "  df_unprocessed = df_unprocessed.drop(col_name, 1)\n",
      "C:\\Users\\silve\\AppData\\Local\\Temp\\ipykernel_7132\\187425290.py:4: FutureWarning: In a future version of pandas all arguments of DataFrame.drop except for the argument 'labels' will be keyword-only.\n",
      "  df_unprocessed = df_unprocessed.drop(col_name, 1)\n",
      "C:\\Users\\silve\\AppData\\Local\\Temp\\ipykernel_7132\\187425290.py:4: FutureWarning: In a future version of pandas all arguments of DataFrame.drop except for the argument 'labels' will be keyword-only.\n",
      "  df_unprocessed = df_unprocessed.drop(col_name, 1)\n",
      "C:\\Users\\silve\\AppData\\Local\\Temp\\ipykernel_7132\\187425290.py:4: FutureWarning: In a future version of pandas all arguments of DataFrame.drop except for the argument 'labels' will be keyword-only.\n",
      "  df_unprocessed = df_unprocessed.drop(col_name, 1)\n",
      "C:\\Users\\silve\\AppData\\Local\\Temp\\ipykernel_7132\\187425290.py:4: FutureWarning: In a future version of pandas all arguments of DataFrame.drop except for the argument 'labels' will be keyword-only.\n",
      "  df_unprocessed = df_unprocessed.drop(col_name, 1)\n",
      "C:\\Users\\silve\\AppData\\Local\\Temp\\ipykernel_7132\\187425290.py:4: FutureWarning: In a future version of pandas all arguments of DataFrame.drop except for the argument 'labels' will be keyword-only.\n",
      "  df_unprocessed = df_unprocessed.drop(col_name, 1)\n",
      "C:\\Users\\silve\\AppData\\Local\\Temp\\ipykernel_7132\\187425290.py:4: FutureWarning: In a future version of pandas all arguments of DataFrame.drop except for the argument 'labels' will be keyword-only.\n",
      "  df_unprocessed = df_unprocessed.drop(col_name, 1)\n",
      "C:\\Users\\silve\\AppData\\Local\\Temp\\ipykernel_7132\\187425290.py:4: FutureWarning: In a future version of pandas all arguments of DataFrame.drop except for the argument 'labels' will be keyword-only.\n",
      "  df_unprocessed = df_unprocessed.drop(col_name, 1)\n",
      "C:\\Users\\silve\\AppData\\Local\\Temp\\ipykernel_7132\\187425290.py:4: FutureWarning: In a future version of pandas all arguments of DataFrame.drop except for the argument 'labels' will be keyword-only.\n",
      "  df_unprocessed = df_unprocessed.drop(col_name, 1)\n",
      "C:\\Users\\silve\\AppData\\Local\\Temp\\ipykernel_7132\\187425290.py:4: FutureWarning: In a future version of pandas all arguments of DataFrame.drop except for the argument 'labels' will be keyword-only.\n",
      "  df_unprocessed = df_unprocessed.drop(col_name, 1)\n",
      "C:\\Users\\silve\\AppData\\Local\\Temp\\ipykernel_7132\\187425290.py:4: FutureWarning: In a future version of pandas all arguments of DataFrame.drop except for the argument 'labels' will be keyword-only.\n",
      "  df_unprocessed = df_unprocessed.drop(col_name, 1)\n",
      "C:\\Users\\silve\\AppData\\Local\\Temp\\ipykernel_7132\\187425290.py:4: FutureWarning: In a future version of pandas all arguments of DataFrame.drop except for the argument 'labels' will be keyword-only.\n",
      "  df_unprocessed = df_unprocessed.drop(col_name, 1)\n",
      "C:\\Users\\silve\\AppData\\Local\\Temp\\ipykernel_7132\\187425290.py:4: FutureWarning: In a future version of pandas all arguments of DataFrame.drop except for the argument 'labels' will be keyword-only.\n",
      "  df_unprocessed = df_unprocessed.drop(col_name, 1)\n",
      "C:\\Users\\silve\\AppData\\Local\\Temp\\ipykernel_7132\\187425290.py:4: FutureWarning: In a future version of pandas all arguments of DataFrame.drop except for the argument 'labels' will be keyword-only.\n",
      "  df_unprocessed = df_unprocessed.drop(col_name, 1)\n",
      "C:\\Users\\silve\\AppData\\Local\\Temp\\ipykernel_7132\\187425290.py:4: FutureWarning: In a future version of pandas all arguments of DataFrame.drop except for the argument 'labels' will be keyword-only.\n",
      "  df_unprocessed = df_unprocessed.drop(col_name, 1)\n",
      "C:\\Users\\silve\\AppData\\Local\\Temp\\ipykernel_7132\\187425290.py:4: FutureWarning: In a future version of pandas all arguments of DataFrame.drop except for the argument 'labels' will be keyword-only.\n",
      "  df_unprocessed = df_unprocessed.drop(col_name, 1)\n",
      "C:\\Users\\silve\\AppData\\Local\\Temp\\ipykernel_7132\\187425290.py:4: FutureWarning: In a future version of pandas all arguments of DataFrame.drop except for the argument 'labels' will be keyword-only.\n",
      "  df_unprocessed = df_unprocessed.drop(col_name, 1)\n",
      "C:\\Users\\silve\\AppData\\Local\\Temp\\ipykernel_7132\\187425290.py:4: FutureWarning: In a future version of pandas all arguments of DataFrame.drop except for the argument 'labels' will be keyword-only.\n",
      "  df_unprocessed = df_unprocessed.drop(col_name, 1)\n",
      "C:\\Users\\silve\\AppData\\Local\\Temp\\ipykernel_7132\\187425290.py:4: FutureWarning: In a future version of pandas all arguments of DataFrame.drop except for the argument 'labels' will be keyword-only.\n",
      "  df_unprocessed = df_unprocessed.drop(col_name, 1)\n",
      "C:\\Users\\silve\\AppData\\Local\\Temp\\ipykernel_7132\\187425290.py:4: FutureWarning: In a future version of pandas all arguments of DataFrame.drop except for the argument 'labels' will be keyword-only.\n",
      "  df_unprocessed = df_unprocessed.drop(col_name, 1)\n",
      "C:\\Users\\silve\\AppData\\Local\\Temp\\ipykernel_7132\\187425290.py:4: FutureWarning: In a future version of pandas all arguments of DataFrame.drop except for the argument 'labels' will be keyword-only.\n",
      "  df_unprocessed = df_unprocessed.drop(col_name, 1)\n",
      "C:\\Users\\silve\\AppData\\Local\\Temp\\ipykernel_7132\\187425290.py:4: FutureWarning: In a future version of pandas all arguments of DataFrame.drop except for the argument 'labels' will be keyword-only.\n",
      "  df_unprocessed = df_unprocessed.drop(col_name, 1)\n",
      "C:\\Users\\silve\\AppData\\Local\\Temp\\ipykernel_7132\\187425290.py:4: FutureWarning: In a future version of pandas all arguments of DataFrame.drop except for the argument 'labels' will be keyword-only.\n",
      "  df_unprocessed = df_unprocessed.drop(col_name, 1)\n",
      "C:\\Users\\silve\\AppData\\Local\\Temp\\ipykernel_7132\\187425290.py:4: FutureWarning: In a future version of pandas all arguments of DataFrame.drop except for the argument 'labels' will be keyword-only.\n",
      "  df_unprocessed = df_unprocessed.drop(col_name, 1)\n",
      "C:\\Users\\silve\\AppData\\Local\\Temp\\ipykernel_7132\\187425290.py:4: FutureWarning: In a future version of pandas all arguments of DataFrame.drop except for the argument 'labels' will be keyword-only.\n",
      "  df_unprocessed = df_unprocessed.drop(col_name, 1)\n",
      "C:\\Users\\silve\\AppData\\Local\\Temp\\ipykernel_7132\\187425290.py:4: FutureWarning: In a future version of pandas all arguments of DataFrame.drop except for the argument 'labels' will be keyword-only.\n",
      "  df_unprocessed = df_unprocessed.drop(col_name, 1)\n",
      "C:\\Users\\silve\\AppData\\Local\\Temp\\ipykernel_7132\\187425290.py:4: FutureWarning: In a future version of pandas all arguments of DataFrame.drop except for the argument 'labels' will be keyword-only.\n",
      "  df_unprocessed = df_unprocessed.drop(col_name, 1)\n",
      "C:\\Users\\silve\\AppData\\Local\\Temp\\ipykernel_7132\\187425290.py:4: FutureWarning: In a future version of pandas all arguments of DataFrame.drop except for the argument 'labels' will be keyword-only.\n",
      "  df_unprocessed = df_unprocessed.drop(col_name, 1)\n",
      "C:\\Users\\silve\\AppData\\Local\\Temp\\ipykernel_7132\\187425290.py:4: FutureWarning: In a future version of pandas all arguments of DataFrame.drop except for the argument 'labels' will be keyword-only.\n",
      "  df_unprocessed = df_unprocessed.drop(col_name, 1)\n",
      "C:\\Users\\silve\\AppData\\Local\\Temp\\ipykernel_7132\\187425290.py:4: FutureWarning: In a future version of pandas all arguments of DataFrame.drop except for the argument 'labels' will be keyword-only.\n",
      "  df_unprocessed = df_unprocessed.drop(col_name, 1)\n",
      "C:\\Users\\silve\\AppData\\Local\\Temp\\ipykernel_7132\\187425290.py:4: FutureWarning: In a future version of pandas all arguments of DataFrame.drop except for the argument 'labels' will be keyword-only.\n",
      "  df_unprocessed = df_unprocessed.drop(col_name, 1)\n",
      "C:\\Users\\silve\\AppData\\Local\\Temp\\ipykernel_7132\\187425290.py:4: FutureWarning: In a future version of pandas all arguments of DataFrame.drop except for the argument 'labels' will be keyword-only.\n",
      "  df_unprocessed = df_unprocessed.drop(col_name, 1)\n",
      "C:\\Users\\silve\\AppData\\Local\\Temp\\ipykernel_7132\\187425290.py:4: FutureWarning: In a future version of pandas all arguments of DataFrame.drop except for the argument 'labels' will be keyword-only.\n",
      "  df_unprocessed = df_unprocessed.drop(col_name, 1)\n",
      "C:\\Users\\silve\\AppData\\Local\\Temp\\ipykernel_7132\\187425290.py:4: FutureWarning: In a future version of pandas all arguments of DataFrame.drop except for the argument 'labels' will be keyword-only.\n",
      "  df_unprocessed = df_unprocessed.drop(col_name, 1)\n",
      "C:\\Users\\silve\\AppData\\Local\\Temp\\ipykernel_7132\\187425290.py:4: FutureWarning: In a future version of pandas all arguments of DataFrame.drop except for the argument 'labels' will be keyword-only.\n",
      "  df_unprocessed = df_unprocessed.drop(col_name, 1)\n",
      "C:\\Users\\silve\\AppData\\Local\\Temp\\ipykernel_7132\\187425290.py:4: FutureWarning: In a future version of pandas all arguments of DataFrame.drop except for the argument 'labels' will be keyword-only.\n",
      "  df_unprocessed = df_unprocessed.drop(col_name, 1)\n",
      "C:\\Users\\silve\\AppData\\Local\\Temp\\ipykernel_7132\\187425290.py:4: FutureWarning: In a future version of pandas all arguments of DataFrame.drop except for the argument 'labels' will be keyword-only.\n",
      "  df_unprocessed = df_unprocessed.drop(col_name, 1)\n",
      "C:\\Users\\silve\\AppData\\Local\\Temp\\ipykernel_7132\\187425290.py:4: FutureWarning: In a future version of pandas all arguments of DataFrame.drop except for the argument 'labels' will be keyword-only.\n",
      "  df_unprocessed = df_unprocessed.drop(col_name, 1)\n",
      "C:\\Users\\silve\\AppData\\Local\\Temp\\ipykernel_7132\\187425290.py:4: FutureWarning: In a future version of pandas all arguments of DataFrame.drop except for the argument 'labels' will be keyword-only.\n",
      "  df_unprocessed = df_unprocessed.drop(col_name, 1)\n",
      "C:\\Users\\silve\\AppData\\Local\\Temp\\ipykernel_7132\\187425290.py:4: FutureWarning: In a future version of pandas all arguments of DataFrame.drop except for the argument 'labels' will be keyword-only.\n",
      "  df_unprocessed = df_unprocessed.drop(col_name, 1)\n",
      "C:\\Users\\silve\\AppData\\Local\\Temp\\ipykernel_7132\\187425290.py:4: FutureWarning: In a future version of pandas all arguments of DataFrame.drop except for the argument 'labels' will be keyword-only.\n",
      "  df_unprocessed = df_unprocessed.drop(col_name, 1)\n",
      "C:\\Users\\silve\\AppData\\Local\\Temp\\ipykernel_7132\\187425290.py:4: FutureWarning: In a future version of pandas all arguments of DataFrame.drop except for the argument 'labels' will be keyword-only.\n",
      "  df_unprocessed = df_unprocessed.drop(col_name, 1)\n",
      "C:\\Users\\silve\\AppData\\Local\\Temp\\ipykernel_7132\\187425290.py:4: FutureWarning: In a future version of pandas all arguments of DataFrame.drop except for the argument 'labels' will be keyword-only.\n",
      "  df_unprocessed = df_unprocessed.drop(col_name, 1)\n",
      "C:\\Users\\silve\\AppData\\Local\\Temp\\ipykernel_7132\\187425290.py:4: FutureWarning: In a future version of pandas all arguments of DataFrame.drop except for the argument 'labels' will be keyword-only.\n",
      "  df_unprocessed = df_unprocessed.drop(col_name, 1)\n",
      "C:\\Users\\silve\\AppData\\Local\\Temp\\ipykernel_7132\\187425290.py:4: FutureWarning: In a future version of pandas all arguments of DataFrame.drop except for the argument 'labels' will be keyword-only.\n",
      "  df_unprocessed = df_unprocessed.drop(col_name, 1)\n"
     ]
    },
    {
     "ename": "KeyboardInterrupt",
     "evalue": "",
     "output_type": "error",
     "traceback": [
      "\u001b[1;31m---------------------------------------------------------------------------\u001b[0m",
      "\u001b[1;31mKeyboardInterrupt\u001b[0m                         Traceback (most recent call last)",
      "Cell \u001b[1;32mIn [44], line 3\u001b[0m\n\u001b[0;32m      1\u001b[0m \u001b[38;5;66;03m# Remove non-numeric columns so model does not throw an error\u001b[39;00m\n\u001b[0;32m      2\u001b[0m \u001b[38;5;28;01mfor\u001b[39;00m col_name \u001b[38;5;129;01min\u001b[39;00m df_unprocessed\u001b[38;5;241m.\u001b[39mcolumns:\n\u001b[1;32m----> 3\u001b[0m     \u001b[38;5;28;01mif\u001b[39;00m \u001b[43mdf_unprocessed\u001b[49m\u001b[43m[\u001b[49m\u001b[43mcol_name\u001b[49m\u001b[43m]\u001b[49m\u001b[38;5;241m.\u001b[39mdtypes \u001b[38;5;129;01mnot\u001b[39;00m \u001b[38;5;129;01min\u001b[39;00m [\u001b[38;5;124m'\u001b[39m\u001b[38;5;124mint32\u001b[39m\u001b[38;5;124m'\u001b[39m,\u001b[38;5;124m'\u001b[39m\u001b[38;5;124mint64\u001b[39m\u001b[38;5;124m'\u001b[39m]:\n\u001b[0;32m      4\u001b[0m         df_unprocessed \u001b[38;5;241m=\u001b[39m df_unprocessed\u001b[38;5;241m.\u001b[39mdrop(col_name, \u001b[38;5;241m1\u001b[39m)\n",
      "File \u001b[1;32m~\\AppData\\Local\\Programs\\Python\\Python310\\lib\\site-packages\\pandas\\core\\frame.py:3756\u001b[0m, in \u001b[0;36mDataFrame.__getitem__\u001b[1;34m(self, key)\u001b[0m\n\u001b[0;32m   3753\u001b[0m     \u001b[38;5;28;01mfor\u001b[39;00m i \u001b[38;5;129;01min\u001b[39;00m \u001b[38;5;28mrange\u001b[39m(\u001b[38;5;28mlen\u001b[39m(\u001b[38;5;28mself\u001b[39m\u001b[38;5;241m.\u001b[39mcolumns)):\n\u001b[0;32m   3754\u001b[0m         \u001b[38;5;28;01myield\u001b[39;00m \u001b[38;5;28mself\u001b[39m\u001b[38;5;241m.\u001b[39m_get_column_array(i)\n\u001b[1;32m-> 3756\u001b[0m \u001b[38;5;28;01mdef\u001b[39;00m \u001b[38;5;21m__getitem__\u001b[39m(\u001b[38;5;28mself\u001b[39m, key):\n\u001b[0;32m   3757\u001b[0m     check_deprecated_indexers(key)\n\u001b[0;32m   3758\u001b[0m     key \u001b[38;5;241m=\u001b[39m lib\u001b[38;5;241m.\u001b[39mitem_from_zerodim(key)\n",
      "\u001b[1;31mKeyboardInterrupt\u001b[0m: "
     ]
    }
   ],
   "source": [
    "# Remove non-numeric columns so model does not throw an error\n",
    "for col_name in df_unprocessed.columns:\n",
    "    if df_unprocessed[col_name].dtypes not in ['int32','int64','float32','float64']:\n",
    "        df_unprocessed = df_unprocessed.drop(col_name, 1)"
   ]
  },
  {
   "cell_type": "code",
   "execution_count": 45,
   "id": "674779c7-fd23-4a19-8793-afdbb5d19f6c",
   "metadata": {},
   "outputs": [
    {
     "name": "stderr",
     "output_type": "stream",
     "text": [
      "C:\\Users\\silve\\AppData\\Local\\Temp\\ipykernel_7132\\1969130672.py:2: FutureWarning: In a future version of pandas all arguments of DataFrame.drop except for the argument 'labels' will be keyword-only.\n",
      "  X_unprocessed = df_unprocessed.drop('Total_Receitas_2022Q4', 1)\n"
     ]
    },
    {
     "ename": "KeyError",
     "evalue": "\"['Total_Receitas_2022Q4'] not found in axis\"",
     "output_type": "error",
     "traceback": [
      "\u001b[1;31m---------------------------------------------------------------------------\u001b[0m",
      "\u001b[1;31mKeyError\u001b[0m                                  Traceback (most recent call last)",
      "Cell \u001b[1;32mIn [45], line 2\u001b[0m\n\u001b[0;32m      1\u001b[0m \u001b[38;5;66;03m# Split into features and outcomes\u001b[39;00m\n\u001b[1;32m----> 2\u001b[0m X_unprocessed \u001b[38;5;241m=\u001b[39m \u001b[43mdf_unprocessed\u001b[49m\u001b[38;5;241;43m.\u001b[39;49m\u001b[43mdrop\u001b[49m\u001b[43m(\u001b[49m\u001b[38;5;124;43m'\u001b[39;49m\u001b[38;5;124;43mTotal_Receitas_2022Q4\u001b[39;49m\u001b[38;5;124;43m'\u001b[39;49m\u001b[43m,\u001b[49m\u001b[43m \u001b[49m\u001b[38;5;241;43m1\u001b[39;49m\u001b[43m)\u001b[49m\n\u001b[0;32m      3\u001b[0m y_unprocessed \u001b[38;5;241m=\u001b[39m df_unprocessed\u001b[38;5;241m.\u001b[39mTotal_Receitas_2022Q4\n",
      "File \u001b[1;32m~\\AppData\\Local\\Programs\\Python\\Python310\\lib\\site-packages\\pandas\\util\\_decorators.py:331\u001b[0m, in \u001b[0;36mdeprecate_nonkeyword_arguments.<locals>.decorate.<locals>.wrapper\u001b[1;34m(*args, **kwargs)\u001b[0m\n\u001b[0;32m    325\u001b[0m \u001b[38;5;28;01mif\u001b[39;00m \u001b[38;5;28mlen\u001b[39m(args) \u001b[38;5;241m>\u001b[39m num_allow_args:\n\u001b[0;32m    326\u001b[0m     warnings\u001b[38;5;241m.\u001b[39mwarn(\n\u001b[0;32m    327\u001b[0m         msg\u001b[38;5;241m.\u001b[39mformat(arguments\u001b[38;5;241m=\u001b[39m_format_argument_list(allow_args)),\n\u001b[0;32m    328\u001b[0m         \u001b[38;5;167;01mFutureWarning\u001b[39;00m,\n\u001b[0;32m    329\u001b[0m         stacklevel\u001b[38;5;241m=\u001b[39mfind_stack_level(),\n\u001b[0;32m    330\u001b[0m     )\n\u001b[1;32m--> 331\u001b[0m \u001b[38;5;28;01mreturn\u001b[39;00m func(\u001b[38;5;241m*\u001b[39margs, \u001b[38;5;241m*\u001b[39m\u001b[38;5;241m*\u001b[39mkwargs)\n",
      "File \u001b[1;32m~\\AppData\\Local\\Programs\\Python\\Python310\\lib\\site-packages\\pandas\\core\\frame.py:5396\u001b[0m, in \u001b[0;36mDataFrame.drop\u001b[1;34m(self, labels, axis, index, columns, level, inplace, errors)\u001b[0m\n\u001b[0;32m   5248\u001b[0m \u001b[38;5;129m@deprecate_nonkeyword_arguments\u001b[39m(version\u001b[38;5;241m=\u001b[39m\u001b[38;5;28;01mNone\u001b[39;00m, allowed_args\u001b[38;5;241m=\u001b[39m[\u001b[38;5;124m\"\u001b[39m\u001b[38;5;124mself\u001b[39m\u001b[38;5;124m\"\u001b[39m, \u001b[38;5;124m\"\u001b[39m\u001b[38;5;124mlabels\u001b[39m\u001b[38;5;124m\"\u001b[39m])\n\u001b[0;32m   5249\u001b[0m \u001b[38;5;28;01mdef\u001b[39;00m \u001b[38;5;21mdrop\u001b[39m(  \u001b[38;5;66;03m# type: ignore[override]\u001b[39;00m\n\u001b[0;32m   5250\u001b[0m     \u001b[38;5;28mself\u001b[39m,\n\u001b[1;32m   (...)\u001b[0m\n\u001b[0;32m   5257\u001b[0m     errors: IgnoreRaise \u001b[38;5;241m=\u001b[39m \u001b[38;5;124m\"\u001b[39m\u001b[38;5;124mraise\u001b[39m\u001b[38;5;124m\"\u001b[39m,\n\u001b[0;32m   5258\u001b[0m ) \u001b[38;5;241m-\u001b[39m\u001b[38;5;241m>\u001b[39m DataFrame \u001b[38;5;241m|\u001b[39m \u001b[38;5;28;01mNone\u001b[39;00m:\n\u001b[0;32m   5259\u001b[0m     \u001b[38;5;124;03m\"\"\"\u001b[39;00m\n\u001b[0;32m   5260\u001b[0m \u001b[38;5;124;03m    Drop specified labels from rows or columns.\u001b[39;00m\n\u001b[0;32m   5261\u001b[0m \n\u001b[1;32m   (...)\u001b[0m\n\u001b[0;32m   5394\u001b[0m \u001b[38;5;124;03m            weight  1.0     0.8\u001b[39;00m\n\u001b[0;32m   5395\u001b[0m \u001b[38;5;124;03m    \"\"\"\u001b[39;00m\n\u001b[1;32m-> 5396\u001b[0m     \u001b[38;5;28;01mreturn\u001b[39;00m \u001b[38;5;28;43msuper\u001b[39;49m\u001b[43m(\u001b[49m\u001b[43m)\u001b[49m\u001b[38;5;241;43m.\u001b[39;49m\u001b[43mdrop\u001b[49m\u001b[43m(\u001b[49m\n\u001b[0;32m   5397\u001b[0m \u001b[43m        \u001b[49m\u001b[43mlabels\u001b[49m\u001b[38;5;241;43m=\u001b[39;49m\u001b[43mlabels\u001b[49m\u001b[43m,\u001b[49m\n\u001b[0;32m   5398\u001b[0m \u001b[43m        \u001b[49m\u001b[43maxis\u001b[49m\u001b[38;5;241;43m=\u001b[39;49m\u001b[43maxis\u001b[49m\u001b[43m,\u001b[49m\n\u001b[0;32m   5399\u001b[0m \u001b[43m        \u001b[49m\u001b[43mindex\u001b[49m\u001b[38;5;241;43m=\u001b[39;49m\u001b[43mindex\u001b[49m\u001b[43m,\u001b[49m\n\u001b[0;32m   5400\u001b[0m \u001b[43m        \u001b[49m\u001b[43mcolumns\u001b[49m\u001b[38;5;241;43m=\u001b[39;49m\u001b[43mcolumns\u001b[49m\u001b[43m,\u001b[49m\n\u001b[0;32m   5401\u001b[0m \u001b[43m        \u001b[49m\u001b[43mlevel\u001b[49m\u001b[38;5;241;43m=\u001b[39;49m\u001b[43mlevel\u001b[49m\u001b[43m,\u001b[49m\n\u001b[0;32m   5402\u001b[0m \u001b[43m        \u001b[49m\u001b[43minplace\u001b[49m\u001b[38;5;241;43m=\u001b[39;49m\u001b[43minplace\u001b[49m\u001b[43m,\u001b[49m\n\u001b[0;32m   5403\u001b[0m \u001b[43m        \u001b[49m\u001b[43merrors\u001b[49m\u001b[38;5;241;43m=\u001b[39;49m\u001b[43merrors\u001b[49m\u001b[43m,\u001b[49m\n\u001b[0;32m   5404\u001b[0m \u001b[43m    \u001b[49m\u001b[43m)\u001b[49m\n",
      "File \u001b[1;32m~\\AppData\\Local\\Programs\\Python\\Python310\\lib\\site-packages\\pandas\\util\\_decorators.py:331\u001b[0m, in \u001b[0;36mdeprecate_nonkeyword_arguments.<locals>.decorate.<locals>.wrapper\u001b[1;34m(*args, **kwargs)\u001b[0m\n\u001b[0;32m    325\u001b[0m \u001b[38;5;28;01mif\u001b[39;00m \u001b[38;5;28mlen\u001b[39m(args) \u001b[38;5;241m>\u001b[39m num_allow_args:\n\u001b[0;32m    326\u001b[0m     warnings\u001b[38;5;241m.\u001b[39mwarn(\n\u001b[0;32m    327\u001b[0m         msg\u001b[38;5;241m.\u001b[39mformat(arguments\u001b[38;5;241m=\u001b[39m_format_argument_list(allow_args)),\n\u001b[0;32m    328\u001b[0m         \u001b[38;5;167;01mFutureWarning\u001b[39;00m,\n\u001b[0;32m    329\u001b[0m         stacklevel\u001b[38;5;241m=\u001b[39mfind_stack_level(),\n\u001b[0;32m    330\u001b[0m     )\n\u001b[1;32m--> 331\u001b[0m \u001b[38;5;28;01mreturn\u001b[39;00m func(\u001b[38;5;241m*\u001b[39margs, \u001b[38;5;241m*\u001b[39m\u001b[38;5;241m*\u001b[39mkwargs)\n",
      "File \u001b[1;32m~\\AppData\\Local\\Programs\\Python\\Python310\\lib\\site-packages\\pandas\\core\\generic.py:4505\u001b[0m, in \u001b[0;36mNDFrame.drop\u001b[1;34m(self, labels, axis, index, columns, level, inplace, errors)\u001b[0m\n\u001b[0;32m   4503\u001b[0m \u001b[38;5;28;01mfor\u001b[39;00m axis, labels \u001b[38;5;129;01min\u001b[39;00m axes\u001b[38;5;241m.\u001b[39mitems():\n\u001b[0;32m   4504\u001b[0m     \u001b[38;5;28;01mif\u001b[39;00m labels \u001b[38;5;129;01mis\u001b[39;00m \u001b[38;5;129;01mnot\u001b[39;00m \u001b[38;5;28;01mNone\u001b[39;00m:\n\u001b[1;32m-> 4505\u001b[0m         obj \u001b[38;5;241m=\u001b[39m \u001b[43mobj\u001b[49m\u001b[38;5;241;43m.\u001b[39;49m\u001b[43m_drop_axis\u001b[49m\u001b[43m(\u001b[49m\u001b[43mlabels\u001b[49m\u001b[43m,\u001b[49m\u001b[43m \u001b[49m\u001b[43maxis\u001b[49m\u001b[43m,\u001b[49m\u001b[43m \u001b[49m\u001b[43mlevel\u001b[49m\u001b[38;5;241;43m=\u001b[39;49m\u001b[43mlevel\u001b[49m\u001b[43m,\u001b[49m\u001b[43m \u001b[49m\u001b[43merrors\u001b[49m\u001b[38;5;241;43m=\u001b[39;49m\u001b[43merrors\u001b[49m\u001b[43m)\u001b[49m\n\u001b[0;32m   4507\u001b[0m \u001b[38;5;28;01mif\u001b[39;00m inplace:\n\u001b[0;32m   4508\u001b[0m     \u001b[38;5;28mself\u001b[39m\u001b[38;5;241m.\u001b[39m_update_inplace(obj)\n",
      "File \u001b[1;32m~\\AppData\\Local\\Programs\\Python\\Python310\\lib\\site-packages\\pandas\\core\\generic.py:4546\u001b[0m, in \u001b[0;36mNDFrame._drop_axis\u001b[1;34m(self, labels, axis, level, errors, only_slice)\u001b[0m\n\u001b[0;32m   4544\u001b[0m         new_axis \u001b[38;5;241m=\u001b[39m axis\u001b[38;5;241m.\u001b[39mdrop(labels, level\u001b[38;5;241m=\u001b[39mlevel, errors\u001b[38;5;241m=\u001b[39merrors)\n\u001b[0;32m   4545\u001b[0m     \u001b[38;5;28;01melse\u001b[39;00m:\n\u001b[1;32m-> 4546\u001b[0m         new_axis \u001b[38;5;241m=\u001b[39m \u001b[43maxis\u001b[49m\u001b[38;5;241;43m.\u001b[39;49m\u001b[43mdrop\u001b[49m\u001b[43m(\u001b[49m\u001b[43mlabels\u001b[49m\u001b[43m,\u001b[49m\u001b[43m \u001b[49m\u001b[43merrors\u001b[49m\u001b[38;5;241;43m=\u001b[39;49m\u001b[43merrors\u001b[49m\u001b[43m)\u001b[49m\n\u001b[0;32m   4547\u001b[0m     indexer \u001b[38;5;241m=\u001b[39m axis\u001b[38;5;241m.\u001b[39mget_indexer(new_axis)\n\u001b[0;32m   4549\u001b[0m \u001b[38;5;66;03m# Case for non-unique axis\u001b[39;00m\n\u001b[0;32m   4550\u001b[0m \u001b[38;5;28;01melse\u001b[39;00m:\n",
      "File \u001b[1;32m~\\AppData\\Local\\Programs\\Python\\Python310\\lib\\site-packages\\pandas\\core\\indexes\\base.py:6977\u001b[0m, in \u001b[0;36mIndex.drop\u001b[1;34m(self, labels, errors)\u001b[0m\n\u001b[0;32m   6975\u001b[0m \u001b[38;5;28;01mif\u001b[39;00m mask\u001b[38;5;241m.\u001b[39many():\n\u001b[0;32m   6976\u001b[0m     \u001b[38;5;28;01mif\u001b[39;00m errors \u001b[38;5;241m!=\u001b[39m \u001b[38;5;124m\"\u001b[39m\u001b[38;5;124mignore\u001b[39m\u001b[38;5;124m\"\u001b[39m:\n\u001b[1;32m-> 6977\u001b[0m         \u001b[38;5;28;01mraise\u001b[39;00m \u001b[38;5;167;01mKeyError\u001b[39;00m(\u001b[38;5;124mf\u001b[39m\u001b[38;5;124m\"\u001b[39m\u001b[38;5;132;01m{\u001b[39;00m\u001b[38;5;28mlist\u001b[39m(labels[mask])\u001b[38;5;132;01m}\u001b[39;00m\u001b[38;5;124m not found in axis\u001b[39m\u001b[38;5;124m\"\u001b[39m)\n\u001b[0;32m   6978\u001b[0m     indexer \u001b[38;5;241m=\u001b[39m indexer[\u001b[38;5;241m~\u001b[39mmask]\n\u001b[0;32m   6979\u001b[0m \u001b[38;5;28;01mreturn\u001b[39;00m \u001b[38;5;28mself\u001b[39m\u001b[38;5;241m.\u001b[39mdelete(indexer)\n",
      "\u001b[1;31mKeyError\u001b[0m: \"['Total_Receitas_2022Q4'] not found in axis\""
     ]
    }
   ],
   "source": [
    "# Split into features and outcomes\n",
    "X_unprocessed = df_unprocessed.drop('Total_Receitas_2022Q4', 1)\n",
    "y_unprocessed = df_unprocessed.Total_Receitas_2022Q4"
   ]
  },
  {
   "cell_type": "code",
   "execution_count": 46,
   "id": "b19c0c5d-feae-43de-b876-0730d63d0cfd",
   "metadata": {},
   "outputs": [
    {
     "name": "stdout",
     "output_type": "stream",
     "text": [
      "   Total_Receitas_2018Q1  Total_Receitas_2018Q2  Total_Receitas_2018Q3  \\\n",
      "0               0.000000               0.000000               0.000000   \n",
      "1             176.666667             294.444444              88.333333   \n",
      "2               0.000000               0.000000               0.000000   \n",
      "3               0.000000               0.000000               0.000000   \n",
      "4             410.425926              99.833333              88.740741   \n",
      "\n",
      "   Total_Receitas_2018Q4  Total_Receitas_2019Q1  Total_Receitas_2019Q2  \\\n",
      "0               0.027778               0.009259               0.000000   \n",
      "1             265.000000             294.444444             176.666667   \n",
      "2              22.037037              44.074074               0.000000   \n",
      "3              47.962963               0.000000               0.000000   \n",
      "4             155.296296             166.388889              77.648148   \n",
      "\n",
      "   Total_Receitas_2019Q3  Total_Receitas_2019Q4  Total_Receitas_2020Q1  \\\n",
      "0               0.018519               0.000000               0.000000   \n",
      "1             257.962963             147.407407             147.407407   \n",
      "2               0.000000             110.185185             132.222222   \n",
      "3               0.000000               0.000000               0.000000   \n",
      "4             232.944444             133.111111             510.259259   \n",
      "\n",
      "   Total_Receitas_2020Q2  ...  Segmento_INFANTIL_Estação_VERÃO  \\\n",
      "0               0.018519  ...                              0.0   \n",
      "1             737.037037  ...                              0.0   \n",
      "2             440.740741  ...                              0.0   \n",
      "3               0.000000  ...                              0.0   \n",
      "4             354.962963  ...                              0.0   \n",
      "\n",
      "   Género_FEMININO_Estação_ANUAL  Género_FEMININO_Estação_INVERNO  \\\n",
      "0                            0.0                              0.0   \n",
      "1                            0.0                              0.0   \n",
      "2                            0.0                              0.0   \n",
      "3                            0.0                              0.0   \n",
      "4                            0.0                              0.0   \n",
      "\n",
      "   Género_FEMININO_Estação_VERÃO  Género_GERAL_Estação_ANUAL  \\\n",
      "0                            0.0                         1.0   \n",
      "1                            0.0                         1.0   \n",
      "2                            0.0                         1.0   \n",
      "3                            0.0                         1.0   \n",
      "4                            0.0                         1.0   \n",
      "\n",
      "   Género_GERAL_Estação_INVERNO  Género_GERAL_Estação_VERÃO  \\\n",
      "0                           0.0                         0.0   \n",
      "1                           0.0                         0.0   \n",
      "2                           0.0                         0.0   \n",
      "3                           0.0                         0.0   \n",
      "4                           0.0                         0.0   \n",
      "\n",
      "   Género_MASCULINO_Estação_ANUAL  Género_MASCULINO_Estação_INVERNO  \\\n",
      "0                             0.0                               0.0   \n",
      "1                             0.0                               0.0   \n",
      "2                             0.0                               0.0   \n",
      "3                             0.0                               0.0   \n",
      "4                             0.0                               0.0   \n",
      "\n",
      "   Género_MASCULINO_Estação_VERÃO  \n",
      "0                             0.0  \n",
      "1                             0.0  \n",
      "2                             0.0  \n",
      "3                             0.0  \n",
      "4                             0.0  \n",
      "\n",
      "[5 rows x 14983 columns]\n"
     ]
    }
   ],
   "source": [
    "# Take a look again at what the unprocessed feature set looks like\n",
    "print(X_unprocessed.head(5))"
   ]
  },
  {
   "cell_type": "code",
   "execution_count": 47,
   "id": "cb4d9a17-dccb-4fdc-a1e0-5669eec9c245",
   "metadata": {},
   "outputs": [
    {
     "ename": "ValueError",
     "evalue": "Unknown label type: 'continuous'",
     "output_type": "error",
     "traceback": [
      "\u001b[1;31m---------------------------------------------------------------------------\u001b[0m",
      "\u001b[1;31mValueError\u001b[0m                                Traceback (most recent call last)",
      "Cell \u001b[1;32mIn [47], line 6\u001b[0m\n\u001b[0;32m      1\u001b[0m \u001b[38;5;66;03m# Split unprocessed data into train and test set\u001b[39;00m\n\u001b[0;32m      2\u001b[0m \u001b[38;5;66;03m# Build model and assess performance\u001b[39;00m\n\u001b[0;32m      3\u001b[0m X_train_unprocessed, X_test_unprocessed, y_train, y_test \u001b[38;5;241m=\u001b[39m train_test_split(\n\u001b[0;32m      4\u001b[0m     X_unprocessed, y_unprocessed, train_size\u001b[38;5;241m=\u001b[39m\u001b[38;5;241m0.70\u001b[39m, random_state\u001b[38;5;241m=\u001b[39m\u001b[38;5;241m1\u001b[39m)\n\u001b[1;32m----> 6\u001b[0m auc_unprocessed \u001b[38;5;241m=\u001b[39m \u001b[43mfind_model_perf\u001b[49m\u001b[43m(\u001b[49m\u001b[43mX_train_unprocessed\u001b[49m\u001b[43m,\u001b[49m\u001b[43m \u001b[49m\u001b[43my_train\u001b[49m\u001b[43m,\u001b[49m\u001b[43m \u001b[49m\u001b[43mX_test_unprocessed\u001b[49m\u001b[43m,\u001b[49m\u001b[43m \u001b[49m\u001b[43my_test\u001b[49m\u001b[43m)\u001b[49m\n\u001b[0;32m      7\u001b[0m \u001b[38;5;28mprint\u001b[39m(auc_unprocessed)\n",
      "Cell \u001b[1;32mIn [36], line 7\u001b[0m, in \u001b[0;36mfind_model_perf\u001b[1;34m(X_train, y_train, X_test, y_test)\u001b[0m\n\u001b[0;32m      5\u001b[0m \u001b[38;5;28;01mdef\u001b[39;00m \u001b[38;5;21mfind_model_perf\u001b[39m(X_train, y_train, X_test, y_test):\n\u001b[0;32m      6\u001b[0m     model \u001b[38;5;241m=\u001b[39m LogisticRegression()\n\u001b[1;32m----> 7\u001b[0m     \u001b[43mmodel\u001b[49m\u001b[38;5;241;43m.\u001b[39;49m\u001b[43mfit\u001b[49m\u001b[43m(\u001b[49m\u001b[43mX_train\u001b[49m\u001b[43m,\u001b[49m\u001b[43m \u001b[49m\u001b[43my_train\u001b[49m\u001b[43m)\u001b[49m\n\u001b[0;32m      8\u001b[0m     y_hat \u001b[38;5;241m=\u001b[39m [x[\u001b[38;5;241m1\u001b[39m] \u001b[38;5;28;01mfor\u001b[39;00m x \u001b[38;5;129;01min\u001b[39;00m model\u001b[38;5;241m.\u001b[39mpredict_proba(X_test)]\n\u001b[0;32m      9\u001b[0m     auc \u001b[38;5;241m=\u001b[39m roc_auc_score(y_test, y_hat)\n",
      "File \u001b[1;32m~\\AppData\\Local\\Programs\\Python\\Python310\\lib\\site-packages\\sklearn\\linear_model\\_logistic.py:1204\u001b[0m, in \u001b[0;36mLogisticRegression.fit\u001b[1;34m(self, X, y, sample_weight)\u001b[0m\n\u001b[0;32m   1194\u001b[0m     _dtype \u001b[38;5;241m=\u001b[39m [np\u001b[38;5;241m.\u001b[39mfloat64, np\u001b[38;5;241m.\u001b[39mfloat32]\n\u001b[0;32m   1196\u001b[0m X, y \u001b[38;5;241m=\u001b[39m \u001b[38;5;28mself\u001b[39m\u001b[38;5;241m.\u001b[39m_validate_data(\n\u001b[0;32m   1197\u001b[0m     X,\n\u001b[0;32m   1198\u001b[0m     y,\n\u001b[1;32m   (...)\u001b[0m\n\u001b[0;32m   1202\u001b[0m     accept_large_sparse\u001b[38;5;241m=\u001b[39msolver \u001b[38;5;129;01mnot\u001b[39;00m \u001b[38;5;129;01min\u001b[39;00m [\u001b[38;5;124m\"\u001b[39m\u001b[38;5;124mliblinear\u001b[39m\u001b[38;5;124m\"\u001b[39m, \u001b[38;5;124m\"\u001b[39m\u001b[38;5;124msag\u001b[39m\u001b[38;5;124m\"\u001b[39m, \u001b[38;5;124m\"\u001b[39m\u001b[38;5;124msaga\u001b[39m\u001b[38;5;124m\"\u001b[39m],\n\u001b[0;32m   1203\u001b[0m )\n\u001b[1;32m-> 1204\u001b[0m \u001b[43mcheck_classification_targets\u001b[49m\u001b[43m(\u001b[49m\u001b[43my\u001b[49m\u001b[43m)\u001b[49m\n\u001b[0;32m   1205\u001b[0m \u001b[38;5;28mself\u001b[39m\u001b[38;5;241m.\u001b[39mclasses_ \u001b[38;5;241m=\u001b[39m np\u001b[38;5;241m.\u001b[39munique(y)\n\u001b[0;32m   1207\u001b[0m multi_class \u001b[38;5;241m=\u001b[39m _check_multi_class(\u001b[38;5;28mself\u001b[39m\u001b[38;5;241m.\u001b[39mmulti_class, solver, \u001b[38;5;28mlen\u001b[39m(\u001b[38;5;28mself\u001b[39m\u001b[38;5;241m.\u001b[39mclasses_))\n",
      "File \u001b[1;32m~\\AppData\\Local\\Programs\\Python\\Python310\\lib\\site-packages\\sklearn\\utils\\multiclass.py:207\u001b[0m, in \u001b[0;36mcheck_classification_targets\u001b[1;34m(y)\u001b[0m\n\u001b[0;32m    199\u001b[0m y_type \u001b[38;5;241m=\u001b[39m type_of_target(y, input_name\u001b[38;5;241m=\u001b[39m\u001b[38;5;124m\"\u001b[39m\u001b[38;5;124my\u001b[39m\u001b[38;5;124m\"\u001b[39m)\n\u001b[0;32m    200\u001b[0m \u001b[38;5;28;01mif\u001b[39;00m y_type \u001b[38;5;129;01mnot\u001b[39;00m \u001b[38;5;129;01min\u001b[39;00m [\n\u001b[0;32m    201\u001b[0m     \u001b[38;5;124m\"\u001b[39m\u001b[38;5;124mbinary\u001b[39m\u001b[38;5;124m\"\u001b[39m,\n\u001b[0;32m    202\u001b[0m     \u001b[38;5;124m\"\u001b[39m\u001b[38;5;124mmulticlass\u001b[39m\u001b[38;5;124m\"\u001b[39m,\n\u001b[1;32m   (...)\u001b[0m\n\u001b[0;32m    205\u001b[0m     \u001b[38;5;124m\"\u001b[39m\u001b[38;5;124mmultilabel-sequences\u001b[39m\u001b[38;5;124m\"\u001b[39m,\n\u001b[0;32m    206\u001b[0m ]:\n\u001b[1;32m--> 207\u001b[0m     \u001b[38;5;28;01mraise\u001b[39;00m \u001b[38;5;167;01mValueError\u001b[39;00m(\u001b[38;5;124m\"\u001b[39m\u001b[38;5;124mUnknown label type: \u001b[39m\u001b[38;5;132;01m%r\u001b[39;00m\u001b[38;5;124m\"\u001b[39m \u001b[38;5;241m%\u001b[39m y_type)\n",
      "\u001b[1;31mValueError\u001b[0m: Unknown label type: 'continuous'"
     ]
    }
   ],
   "source": [
    "# Split unprocessed data into train and test set\n",
    "# Build model and assess performance\n",
    "X_train_unprocessed, X_test_unprocessed, y_train, y_test = train_test_split(\n",
    "    X_unprocessed, y_unprocessed, train_size=0.70, random_state=1)\n",
    "\n",
    "auc_unprocessed = find_model_perf(X_train_unprocessed, y_train, X_test_unprocessed, y_test)\n",
    "print(auc_unprocessed)"
   ]
  },
  {
   "cell_type": "code",
   "execution_count": null,
   "id": "24b79bbe-3b97-43a1-ba43-dd33f93591c3",
   "metadata": {},
   "outputs": [],
   "source": []
  },
  {
   "cell_type": "code",
   "execution_count": null,
   "id": "c24ca768-8fc5-40a2-92b0-751dc58df8f4",
   "metadata": {},
   "outputs": [],
   "source": []
  }
 ],
 "metadata": {
  "kernelspec": {
   "display_name": "Python 3 (ipykernel)",
   "language": "python",
   "name": "python3"
  },
  "language_info": {
   "codemirror_mode": {
    "name": "ipython",
    "version": 3
   },
   "file_extension": ".py",
   "mimetype": "text/x-python",
   "name": "python",
   "nbconvert_exporter": "python",
   "pygments_lexer": "ipython3",
   "version": "3.10.8"
  },
  "vscode": {
   "interpreter": {
    "hash": "dae545736ee78e012acd08c370c6df0e68e8a318016cb2f8480f264d55cb96c2"
   }
  }
 },
 "nbformat": 4,
 "nbformat_minor": 5
}
