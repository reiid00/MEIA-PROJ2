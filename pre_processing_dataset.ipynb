{
 "cells": [
  {
   "cell_type": "markdown",
   "id": "0c2290f0-c6af-452e-b708-1b8e485da4af",
   "metadata": {},
   "source": [
    "\n",
    "# Pré-Processamento: Processamento de Dados e Preparação do Dataset\n",
    "\n",
    "## Objetivo\n",
    "  A apartir de um conjunto de dados não tratados referente às receitas de uma loja de desporto, efetuar as associações necessárias, eliminando toda a informação considerada desnecessária para o âmbito do nosso projeto, gerando um dataset final a ser, posteriormente, importado no pré-processamento de dados. \n"
   ]
  },
  {
   "cell_type": "code",
   "execution_count": 1,
   "id": "09fac7bc",
   "metadata": {
    "scrolled": true
   },
   "outputs": [
    {
     "name": "stdout",
     "output_type": "stream",
     "text": [
      "Requirement already satisfied: pandas in c:\\users\\silve\\appdata\\local\\programs\\python\\python310\\lib\\site-packages (1.5.2)\n",
      "Requirement already satisfied: numpy>=1.21.0 in c:\\users\\silve\\appdata\\local\\programs\\python\\python310\\lib\\site-packages (from pandas) (1.23.5)\n",
      "Requirement already satisfied: python-dateutil>=2.8.1 in c:\\users\\silve\\appdata\\local\\programs\\python\\python310\\lib\\site-packages (from pandas) (2.8.2)\n",
      "Requirement already satisfied: pytz>=2020.1 in c:\\users\\silve\\appdata\\local\\programs\\python\\python310\\lib\\site-packages (from pandas) (2022.6)\n",
      "Requirement already satisfied: six>=1.5 in c:\\users\\silve\\appdata\\local\\programs\\python\\python310\\lib\\site-packages (from python-dateutil>=2.8.1->pandas) (1.16.0)\n",
      "Note: you may need to restart the kernel to use updated packages.\n"
     ]
    },
    {
     "name": "stderr",
     "output_type": "stream",
     "text": [
      "\n",
      "[notice] A new release of pip available: 22.2.2 -> 22.3.1\n",
      "[notice] To update, run: python.exe -m pip install --upgrade pip\n"
     ]
    },
    {
     "name": "stdout",
     "output_type": "stream",
     "text": [
      "Requirement already satisfied: xlrd in c:\\users\\silve\\appdata\\local\\programs\\python\\python310\\lib\\site-packages (2.0.1)Note: you may need to restart the kernel to use updated packages.\n",
      "\n"
     ]
    },
    {
     "name": "stderr",
     "output_type": "stream",
     "text": [
      "\n",
      "[notice] A new release of pip available: 22.2.2 -> 22.3.1\n",
      "[notice] To update, run: python.exe -m pip install --upgrade pip\n"
     ]
    },
    {
     "name": "stdout",
     "output_type": "stream",
     "text": [
      "Requirement already satisfied: openpyxl in c:\\users\\silve\\appdata\\local\\programs\\python\\python310\\lib\\site-packages (3.0.10)\n",
      "Requirement already satisfied: et-xmlfile in c:\\users\\silve\\appdata\\local\\programs\\python\\python310\\lib\\site-packages (from openpyxl) (1.1.0)\n",
      "Note: you may need to restart the kernel to use updated packages.\n"
     ]
    },
    {
     "name": "stderr",
     "output_type": "stream",
     "text": [
      "\n",
      "[notice] A new release of pip available: 22.2.2 -> 22.3.1\n",
      "[notice] To update, run: python.exe -m pip install --upgrade pip\n"
     ]
    },
    {
     "name": "stdout",
     "output_type": "stream",
     "text": [
      "Requirement already satisfied: unidecode in c:\\users\\silve\\appdata\\local\\programs\\python\\python310\\lib\\site-packages (1.3.6)\n",
      "Note: you may need to restart the kernel to use updated packages.\n"
     ]
    },
    {
     "name": "stderr",
     "output_type": "stream",
     "text": [
      "\n",
      "[notice] A new release of pip available: 22.2.2 -> 22.3.1\n",
      "[notice] To update, run: python.exe -m pip install --upgrade pip\n"
     ]
    },
    {
     "name": "stdout",
     "output_type": "stream",
     "text": [
      "Requirement already satisfied: scikit-learn in c:\\users\\silve\\appdata\\local\\programs\\python\\python310\\lib\\site-packages (1.2.0)\n",
      "Requirement already satisfied: numpy>=1.17.3 in c:\\users\\silve\\appdata\\local\\programs\\python\\python310\\lib\\site-packages (from scikit-learn) (1.23.5)\n",
      "Requirement already satisfied: scipy>=1.3.2 in c:\\users\\silve\\appdata\\local\\programs\\python\\python310\\lib\\site-packages (from scikit-learn) (1.9.3)\n",
      "Requirement already satisfied: joblib>=1.1.1 in c:\\users\\silve\\appdata\\local\\programs\\python\\python310\\lib\\site-packages (from scikit-learn) (1.2.0)\n",
      "Requirement already satisfied: threadpoolctl>=2.0.0 in c:\\users\\silve\\appdata\\local\\programs\\python\\python310\\lib\\site-packages (from scikit-learn) (3.1.0)\n",
      "Note: you may need to restart the kernel to use updated packages.\n"
     ]
    },
    {
     "name": "stderr",
     "output_type": "stream",
     "text": [
      "\n",
      "[notice] A new release of pip available: 22.2.2 -> 22.3.1\n",
      "[notice] To update, run: python.exe -m pip install --upgrade pip\n"
     ]
    },
    {
     "name": "stdout",
     "output_type": "stream",
     "text": [
      "Requirement already satisfied: matplotlib in c:\\users\\silve\\appdata\\local\\programs\\python\\python310\\lib\\site-packages (3.6.2)\n",
      "Requirement already satisfied: packaging>=20.0 in c:\\users\\silve\\appdata\\local\\programs\\python\\python310\\lib\\site-packages (from matplotlib) (21.3)\n",
      "Requirement already satisfied: cycler>=0.10 in c:\\users\\silve\\appdata\\local\\programs\\python\\python310\\lib\\site-packages (from matplotlib) (0.11.0)\n",
      "Requirement already satisfied: numpy>=1.19 in c:\\users\\silve\\appdata\\local\\programs\\python\\python310\\lib\\site-packages (from matplotlib) (1.23.5)\n",
      "Requirement already satisfied: pillow>=6.2.0 in c:\\users\\silve\\appdata\\local\\programs\\python\\python310\\lib\\site-packages (from matplotlib) (9.3.0)\n",
      "Requirement already satisfied: contourpy>=1.0.1 in c:\\users\\silve\\appdata\\local\\programs\\python\\python310\\lib\\site-packages (from matplotlib) (1.0.6)\n",
      "Requirement already satisfied: pyparsing>=2.2.1 in c:\\users\\silve\\appdata\\local\\programs\\python\\python310\\lib\\site-packages (from matplotlib) (3.0.9)\n",
      "Requirement already satisfied: python-dateutil>=2.7 in c:\\users\\silve\\appdata\\local\\programs\\python\\python310\\lib\\site-packages (from matplotlib) (2.8.2)\n",
      "Requirement already satisfied: kiwisolver>=1.0.1 in c:\\users\\silve\\appdata\\local\\programs\\python\\python310\\lib\\site-packages (from matplotlib) (1.4.4)\n",
      "Requirement already satisfied: fonttools>=4.22.0 in c:\\users\\silve\\appdata\\local\\programs\\python\\python310\\lib\\site-packages (from matplotlib) (4.38.0)\n",
      "Requirement already satisfied: six>=1.5 in c:\\users\\silve\\appdata\\local\\programs\\python\\python310\\lib\\site-packages (from python-dateutil>=2.7->matplotlib) (1.16.0)\n",
      "Note: you may need to restart the kernel to use updated packages.\n"
     ]
    },
    {
     "name": "stderr",
     "output_type": "stream",
     "text": [
      "\n",
      "[notice] A new release of pip available: 22.2.2 -> 22.3.1\n",
      "[notice] To update, run: python.exe -m pip install --upgrade pip\n"
     ]
    },
    {
     "name": "stdout",
     "output_type": "stream",
     "text": [
      "Requirement already satisfied: seaborn in c:\\users\\silve\\appdata\\local\\programs\\python\\python310\\lib\\site-packages (0.12.1)\n",
      "Requirement already satisfied: matplotlib!=3.6.1,>=3.1 in c:\\users\\silve\\appdata\\local\\programs\\python\\python310\\lib\\site-packages (from seaborn) (3.6.2)\n",
      "Requirement already satisfied: numpy>=1.17 in c:\\users\\silve\\appdata\\local\\programs\\python\\python310\\lib\\site-packages (from seaborn) (1.23.5)\n",
      "Requirement already satisfied: pandas>=0.25 in c:\\users\\silve\\appdata\\local\\programs\\python\\python310\\lib\\site-packages (from seaborn) (1.5.2)\n",
      "Requirement already satisfied: fonttools>=4.22.0 in c:\\users\\silve\\appdata\\local\\programs\\python\\python310\\lib\\site-packages (from matplotlib!=3.6.1,>=3.1->seaborn) (4.38.0)\n",
      "Requirement already satisfied: kiwisolver>=1.0.1 in c:\\users\\silve\\appdata\\local\\programs\\python\\python310\\lib\\site-packages (from matplotlib!=3.6.1,>=3.1->seaborn) (1.4.4)\n",
      "Requirement already satisfied: pyparsing>=2.2.1 in c:\\users\\silve\\appdata\\local\\programs\\python\\python310\\lib\\site-packages (from matplotlib!=3.6.1,>=3.1->seaborn) (3.0.9)\n",
      "Requirement already satisfied: cycler>=0.10 in c:\\users\\silve\\appdata\\local\\programs\\python\\python310\\lib\\site-packages (from matplotlib!=3.6.1,>=3.1->seaborn) (0.11.0)\n",
      "Requirement already satisfied: contourpy>=1.0.1 in c:\\users\\silve\\appdata\\local\\programs\\python\\python310\\lib\\site-packages (from matplotlib!=3.6.1,>=3.1->seaborn) (1.0.6)\n",
      "Requirement already satisfied: packaging>=20.0 in c:\\users\\silve\\appdata\\local\\programs\\python\\python310\\lib\\site-packages (from matplotlib!=3.6.1,>=3.1->seaborn) (21.3)\n",
      "Requirement already satisfied: pillow>=6.2.0 in c:\\users\\silve\\appdata\\local\\programs\\python\\python310\\lib\\site-packages (from matplotlib!=3.6.1,>=3.1->seaborn) (9.3.0)\n",
      "Requirement already satisfied: python-dateutil>=2.7 in c:\\users\\silve\\appdata\\local\\programs\\python\\python310\\lib\\site-packages (from matplotlib!=3.6.1,>=3.1->seaborn) (2.8.2)\n",
      "Requirement already satisfied: pytz>=2020.1 in c:\\users\\silve\\appdata\\local\\programs\\python\\python310\\lib\\site-packages (from pandas>=0.25->seaborn) (2022.6)\n",
      "Requirement already satisfied: six>=1.5 in c:\\users\\silve\\appdata\\local\\programs\\python\\python310\\lib\\site-packages (from python-dateutil>=2.7->matplotlib!=3.6.1,>=3.1->seaborn) (1.16.0)\n",
      "Note: you may need to restart the kernel to use updated packages.\n"
     ]
    },
    {
     "name": "stderr",
     "output_type": "stream",
     "text": [
      "\n",
      "[notice] A new release of pip available: 22.2.2 -> 22.3.1\n",
      "[notice] To update, run: python.exe -m pip install --upgrade pip\n"
     ]
    }
   ],
   "source": [
    "%pip install pandas\n",
    "%pip install xlrd\n",
    "%pip install openpyxl\n",
    "%pip install unidecode\n",
    "%pip install scikit-learn\n",
    "%pip install matplotlib\n",
    "%pip install seaborn"
   ]
  },
  {
   "cell_type": "code",
   "execution_count": 2,
   "id": "471bbf23",
   "metadata": {},
   "outputs": [
    {
     "name": "stderr",
     "output_type": "stream",
     "text": [
      "C:\\Users\\silve\\AppData\\Local\\Temp\\ipykernel_11992\\2734315075.py:6: DtypeWarning: Columns (10,12) have mixed types. Specify dtype option on import or set low_memory=False.\n",
      "  df = pd.read_csv('dataset/sales.csv')\n"
     ]
    }
   ],
   "source": [
    "\n",
    "import numpy as np\n",
    "import pandas as pd\n",
    "import matplotlib.pyplot as plt\n",
    "import seaborn as sns\n",
    "\n",
    "from sklearn.preprocessing import MinMaxScaler\n",
    "from sklearn.linear_model import LinearRegression\n",
    "from sklearn.metrics import mean_squared_error, mean_absolute_error, r2_score\n",
    "from sklearn.ensemble import RandomForestRegressor\n",
    "\n",
    "df = pd.read_csv('dataset/sales.csv')\n"
   ]
  },
  {
   "cell_type": "code",
   "execution_count": 3,
   "id": "feaa997c",
   "metadata": {},
   "outputs": [
    {
     "name": "stdout",
     "output_type": "stream",
     "text": [
      "  product_id store_id        date  sales  revenue  stock  price promo_type_1  \\\n",
      "0      P0001    S0002  2017-01-02    0.0     0.00    8.0   6.25         PR14   \n",
      "1      P0001    S0012  2017-01-02    1.0     5.30    0.0   6.25         PR14   \n",
      "2      P0001    S0013  2017-01-02    2.0    10.59    0.0   6.25         PR14   \n",
      "3      P0001    S0023  2017-01-02    0.0     0.00    6.0   6.25         PR14   \n",
      "4      P0001    S0025  2017-01-02    0.0     0.00    1.0   6.25         PR14   \n",
      "\n",
      "  promo_bin_1 promo_type_2 promo_bin_2  promo_discount_2 promo_discount_type_2  \n",
      "0         NaN         PR03         NaN               NaN                   NaN  \n",
      "1         NaN         PR03         NaN               NaN                   NaN  \n",
      "2         NaN         PR03         NaN               NaN                   NaN  \n",
      "3         NaN         PR03         NaN               NaN                   NaN  \n",
      "4         NaN         PR03         NaN               NaN                   NaN  \n"
     ]
    }
   ],
   "source": [
    "\n",
    "# Verificamos o dataset carregado\n",
    "print(df.head(5))\n",
    "\n"
   ]
  },
  {
   "cell_type": "code",
   "execution_count": 4,
   "id": "fcd32b90-c967-4531-b5e0-bc05367ef895",
   "metadata": {},
   "outputs": [
    {
     "name": "stdout",
     "output_type": "stream",
     "text": [
      "1091 dias\n",
      "2.989041095890411 anos\n"
     ]
    }
   ],
   "source": [
    "\n",
    "# Verificamos o período do dataset\n",
    "def sales_duration(data):\n",
    "    data.date = pd.to_datetime(data.date)\n",
    "    number_of_days = data.date.max() - data.date.min()\n",
    "    number_of_years = number_of_days.days / 365\n",
    "    print(number_of_days.days, 'dias')\n",
    "    print(number_of_years, 'anos')\n",
    "    \n",
    "sales_duration(df)\n"
   ]
  },
  {
   "cell_type": "code",
   "execution_count": 5,
   "id": "67bef129-8da7-4d44-9604-d5a6c08292da",
   "metadata": {},
   "outputs": [
    {
     "name": "stdout",
     "output_type": "stream",
     "text": [
      "P0125    140997\n",
      "P0364    140569\n",
      "P0261    139651\n",
      "P0333    139632\n",
      "P0664    139486\n",
      "P0390    139332\n",
      "P0131    139014\n",
      "P0536    138856\n",
      "P0499    138228\n",
      "P0116    137142\n",
      "P0569    137132\n",
      "P0372    136738\n",
      "P0103    135841\n",
      "P0642    134062\n",
      "P0129    133990\n",
      "Name: product_id, dtype: int64\n"
     ]
    }
   ],
   "source": [
    "\n",
    "# Verificamos que cada produto tem vários registos por dia, dado que para cada produto existem mais registos do que o total de dias acima ilustrado, sendo estes\n",
    "# referentes às diferentes lojas em que foram vendidos. Porém, para efeitos de análise, iremos agrupar as vendas diárias de cada produto em todas as lojas numa só linha.\n",
    "print(df['product_id'].value_counts().sort_values(ascending=False).head(15))\n",
    "\n"
   ]
  },
  {
   "cell_type": "code",
   "execution_count": 6,
   "id": "10b8d687-b27a-4934-b70d-86400c130df4",
   "metadata": {},
   "outputs": [
    {
     "data": {
      "text/plain": [
       "promo_bin_2              99.696317\n",
       "promo_discount_2         99.696317\n",
       "promo_discount_type_2    99.696317\n",
       "promo_bin_1              86.370028\n",
       "sales                     6.120647\n",
       "dtype: float64"
      ]
     },
     "execution_count": 6,
     "metadata": {},
     "output_type": "execute_result"
    }
   ],
   "source": [
    "\n",
    "\n",
    "# Verificamos as percentagens de dados em falta\n",
    "percent_missing = df.isnull().sum() * 100 / len(df)\n",
    "percent_missing.sort_values(ascending=False).head()\n",
    "\n"
   ]
  },
  {
   "cell_type": "code",
   "execution_count": 7,
   "id": "87d5e533-2ea5-4b52-86d2-19e89786bb44",
   "metadata": {},
   "outputs": [
    {
     "name": "stdout",
     "output_type": "stream",
     "text": [
      "PR14    2092\n",
      "Name: promo_type_1, dtype: int64\n"
     ]
    }
   ],
   "source": [
    "\n",
    "\n",
    "# Verificamos a distribuição das colunas de valores de promoção que estão preenchidas\n",
    "print(df[df['product_id'] == 'P0004']['promo_type_1'].value_counts().sort_values(ascending=False).head(15))\n",
    "\n"
   ]
  },
  {
   "cell_type": "code",
   "execution_count": 8,
   "id": "9f78df1e-ec02-441b-9ff3-e6dde818959d",
   "metadata": {},
   "outputs": [
    {
     "name": "stdout",
     "output_type": "stream",
     "text": [
      "PR03    2092\n",
      "Name: promo_type_2, dtype: int64\n"
     ]
    }
   ],
   "source": [
    "\n",
    "\n",
    "# Verificamos a distribuição das colunas de valores de promoção que estão preenchidas\n",
    "print(df[df['product_id'] == 'P0004']['promo_type_2'].value_counts().sort_values(ascending=False).head(15))\n",
    "\n"
   ]
  },
  {
   "cell_type": "code",
   "execution_count": 9,
   "id": "6a603550-82aa-48d9-81a4-8c3b7742a97e",
   "metadata": {},
   "outputs": [
    {
     "name": "stdout",
     "output_type": "stream",
     "text": [
      "  product_id store_id       date  sales  revenue  stock  price\n",
      "0      P0001    S0002 2017-01-02    0.0     0.00    8.0   6.25\n",
      "1      P0001    S0012 2017-01-02    1.0     5.30    0.0   6.25\n",
      "2      P0001    S0013 2017-01-02    2.0    10.59    0.0   6.25\n",
      "3      P0001    S0023 2017-01-02    0.0     0.00    6.0   6.25\n",
      "4      P0001    S0025 2017-01-02    0.0     0.00    1.0   6.25\n"
     ]
    }
   ],
   "source": [
    "\n",
    "\n",
    "# Removemos as colunas cujas percentagens de inutilização são evidentemente superiores ao aceitável\n",
    "df = df.drop(columns=[\"promo_bin_2\", \"promo_discount_2\", \"promo_discount_type_2\", \"promo_bin_1\"])\n",
    "\n",
    "# Removemos as colunas cuja distribuição é quase 100% para um determinado valor, dado que não terão impacto no modelo\n",
    "df = df.drop(columns=[\"promo_type_1\",\"promo_type_2\"])\n",
    "print(df.head(5))\n",
    "\n"
   ]
  },
  {
   "cell_type": "code",
   "execution_count": 10,
   "id": "fec7de6c-e001-4b5e-b39d-3f58b18a188f",
   "metadata": {},
   "outputs": [
    {
     "data": {
      "text/plain": [
       "sales         6.120647\n",
       "revenue       6.120647\n",
       "stock         6.120647\n",
       "price         2.940045\n",
       "product_id    0.000000\n",
       "dtype: float64"
      ]
     },
     "execution_count": 10,
     "metadata": {},
     "output_type": "execute_result"
    }
   ],
   "source": [
    "\n",
    "\n",
    "# Verificamos novamente as percentagens de dados em falta\n",
    "percent_missing = df.isnull().sum() * 100 / len(df)\n",
    "percent_missing.sort_values(ascending=False).head()\n",
    "\n"
   ]
  },
  {
   "cell_type": "code",
   "execution_count": 255,
   "id": "3071a35a-5a8b-45c0-b233-6a9aa91b3a99",
   "metadata": {},
   "outputs": [
    {
     "name": "stdout",
     "output_type": "stream",
     "text": [
      "   product_id       date  price  sales  revenue  stock\n",
      "0       P0001 2017-01-02   6.25    6.0    31.79  195.0\n",
      "1       P0001 2017-01-03   6.25    1.0     5.30  194.0\n",
      "2       P0001 2017-01-04   6.25    2.0    10.60  192.0\n",
      "3       P0001 2017-01-05   6.25    1.0     5.30  191.0\n",
      "4       P0001 2017-01-06   6.25    3.0    15.90  188.0\n",
      "5       P0001 2017-01-07   6.25    9.0    47.68  180.0\n",
      "6       P0001 2017-01-08   6.25    2.0    10.60  178.0\n",
      "7       P0001 2017-01-09   6.25    1.0     5.30  177.0\n",
      "8       P0001 2017-01-10   6.25    1.0     5.30  176.0\n",
      "9       P0001 2017-01-11   6.25    4.0    21.20  173.0\n",
      "10      P0001 2017-01-12   6.25    3.0    15.90  168.0\n",
      "11      P0001 2017-01-13   6.25    4.0    21.19  164.0\n",
      "12      P0001 2017-01-14   6.50    4.0    22.04  160.0\n",
      "13      P0001 2017-01-15   6.50    4.0    22.04  156.0\n",
      "14      P0001 2017-01-16   6.50    1.0     5.51  155.0\n"
     ]
    }
   ],
   "source": [
    "\n",
    "\n",
    "# Agrupamos as vendas diárias por produto. \n",
    "# Para manter o preço diário de cada produto, como este pode variar de loja para loja, inferimos a média do preço diário de cada produto entre todas as lojas.\n",
    "df2 = df.groupby([\"product_id\", \"date\", \"price\"]).agg({'sales': ['sum'], 'revenue': ['sum'], 'stock': ['sum']}).reset_index()\n",
    "df2.columns = df2.columns.droplevel(1)\n",
    "\n",
    "print(df2.head(15))\n",
    "\n"
   ]
  },
  {
   "cell_type": "code",
   "execution_count": 256,
   "id": "f5d1a85b-66b3-4456-ac6d-ecd8f26bdffa",
   "metadata": {},
   "outputs": [
    {
     "name": "stdout",
     "output_type": "stream",
     "text": [
      "P0129    7648\n",
      "P0413    3910\n",
      "P0305    2448\n",
      "P0681    2295\n",
      "P0639    2162\n",
      "P0125    2160\n",
      "P0569    2095\n",
      "P0500    2035\n",
      "P0114    2035\n",
      "P0035    2026\n",
      "P0333    1910\n",
      "P0197    1871\n",
      "P0055    1869\n",
      "P0514    1803\n",
      "P0561    1795\n",
      "Name: product_id, dtype: int64\n"
     ]
    }
   ],
   "source": [
    "\n",
    "# Verificamos novamente a quantidade de registos por produto, sendo que este valor deverá diminuir drasticamente face à análise igual feita anteriormente\n",
    "# Assim, a quantidade agora deverá ser igual para todos os produtos, tendo como valor o total de dias do dataset previamente visto.\n",
    "print(df2['product_id'].value_counts().sort_values(ascending=False).head(15))\n",
    "\n"
   ]
  },
  {
   "cell_type": "code",
   "execution_count": 233,
   "id": "59334e12",
   "metadata": {},
   "outputs": [],
   "source": [
    "\n",
    "# Exportamos o Dataset já agrupado caso seja pretendido analisar os dados ao pormenor. (opcional)\n",
    "#df2.to_csv('dataset/sales_grouped.csv')\n",
    "\n"
   ]
  },
  {
   "cell_type": "code",
   "execution_count": 234,
   "id": "988554ab-cc5f-41d8-85f1-23dd922dea99",
   "metadata": {},
   "outputs": [
    {
     "data": {
      "text/plain": [
       "product_id    0.0\n",
       "date          0.0\n",
       "price         0.0\n",
       "sales         0.0\n",
       "revenue       0.0\n",
       "dtype: float64"
      ]
     },
     "execution_count": 234,
     "metadata": {},
     "output_type": "execute_result"
    }
   ],
   "source": [
    "\n",
    "\n",
    "# Verificamos novamente as percentagens de dados em falta, já com as vendas agrupadas\n",
    "percent_missing = df2.isnull().sum() * 100 / len(df2)\n",
    "percent_missing.sort_values(ascending=False).head()\n",
    "\n"
   ]
  },
  {
   "cell_type": "code",
   "execution_count": 235,
   "id": "0441db36-59db-4bc4-9439-7453653f01ee",
   "metadata": {},
   "outputs": [],
   "source": [
    "\n",
    "\n",
    "# Utilizamos pyplot em matplotlib para criar plot histograms\n",
    "import matplotlib.pyplot as plt\n",
    "\n",
    "def plot_histogram(x):\n",
    "    plt.hist(x, color='gray', alpha=0.5)\n",
    "    plt.title(\"Histogram of '{var_name}'\".format(var_name=x.name))\n",
    "    plt.xlabel(\"Value\")\n",
    "    plt.ylabel(\"Frequency\")\n",
    "    plt.show()\n",
    "\n",
    "    "
   ]
  },
  {
   "cell_type": "code",
   "execution_count": 236,
   "id": "18ab8f51-61af-4259-8184-db0c92e036e8",
   "metadata": {},
   "outputs": [
    {
     "data": {
      "image/png": "[encoded data removed]",
      "text/plain": [
       "<Figure size 640x480 with 1 Axes>"
      ]
     },
     "metadata": {},
     "output_type": "display_data"
    }
   ],
   "source": [
    "\n",
    "plot_histogram(df2['price'])\n"
   ]
  },
  {
   "cell_type": "code",
   "execution_count": 257,
   "id": "b50931b5-033f-4bd1-b67d-82a855d514a3",
   "metadata": {},
   "outputs": [
    {
     "name": "stdout",
     "output_type": "stream",
     "text": [
      "645\n"
     ]
    }
   ],
   "source": [
    "\n",
    "\n",
    "# Dividimos o dataframe por produto, dado que irá ser treinado um modelo de previsão para cada um.\n",
    "dfByProdList = df2.groupby(\"product_id\")\n",
    "\n",
    "print(len(dfByProdList))\n",
    "\n",
    "    "
   ]
  },
  {
   "cell_type": "code",
   "execution_count": 258,
   "id": "b567a326-e671-4e63-9577-f892bdb7f389",
   "metadata": {},
   "outputs": [
    {
     "name": "stdout",
     "output_type": "stream",
     "text": [
      "  product_id       date  price  sales  revenue  stock\n",
      "0      P0001 2017-01-02   6.25    6.0    31.79  195.0\n",
      "1      P0001 2017-01-03   6.25    1.0     5.30  194.0\n",
      "2      P0001 2017-01-04   6.25    2.0    10.60  192.0\n",
      "3      P0001 2017-01-05   6.25    1.0     5.30  191.0\n",
      "4      P0001 2017-01-06   6.25    3.0    15.90  188.0\n"
     ]
    }
   ],
   "source": [
    "\n",
    "# Para efeitos de análise, iremos inicialmente começar por criar um modelo somente para um produto.\n",
    "product_df = dfByProdList.get_group('P0001')\n",
    "print(product_df.head())\n",
    "\n"
   ]
  },
  {
   "cell_type": "code",
   "execution_count": 239,
   "id": "f45e5474-cb24-497a-b5ae-058fb80c435e",
   "metadata": {},
   "outputs": [
    {
     "data": {
      "image/png": "[encoded data removed]",
      "text/plain": [
       "<Figure size 700x400 with 1 Axes>"
      ]
     },
     "metadata": {},
     "output_type": "display_data"
    },
    {
     "data": {
      "image/png": "[encoded data removed]",
      "text/plain": [
       "<Figure size 700x400 with 1 Axes>"
      ]
     },
     "metadata": {},
     "output_type": "display_data"
    }
   ],
   "source": [
    "\n",
    "\n",
    "# Verificamos a distribuição de vendas diárias para este produto\n",
    "def sales_per_day(product_sales_data):\n",
    "    fig, ax = plt.subplots(figsize=(7,4))\n",
    "    plt.hist(product_sales_data.sales, color='mediumblue')\n",
    "    \n",
    "    ax.set(xlabel = \"Sales Per day\",\n",
    "           ylabel = \"Count\",\n",
    "           title = \"Distribuição de Vendas Diárias\")\n",
    "    \n",
    "def revenue_per_day(product_sales_data):\n",
    "    fig, ax = plt.subplots(figsize=(7,4))\n",
    "    plt.hist(product_sales_data.revenue, color='mediumblue')\n",
    "    \n",
    "    ax.set(xlabel = \"Sales Per day ($)\",\n",
    "           ylabel = \"Count\",\n",
    "           title = \"Distribuição de Receitas Diárias\")\n",
    "    \n",
    "sales_per_day(product_df)\n",
    "revenue_per_day(product_df)\n",
    "\n"
   ]
  },
  {
   "cell_type": "code",
   "execution_count": 240,
   "id": "e8287889-9801-4873-9add-e050ea4d9de0",
   "metadata": {},
   "outputs": [
    {
     "name": "stdout",
     "output_type": "stream",
     "text": [
      "Média de vendas diárias: 2.5503663003663\n",
      "Média de receitas diárias: $18.2628021978022\n"
     ]
    }
   ],
   "source": [
    "\n",
    "\n",
    "# Verificamos a média de vendas e receitas diárias\n",
    "avg_monthly_sales = product_df.sales.mean()\n",
    "avg_monthly_revenue = product_df.revenue.mean()\n",
    "print(f\"Média de vendas diárias: {avg_monthly_sales}\")\n",
    "print(f\"Média de receitas diárias: ${avg_monthly_revenue}\")\n",
    "\n"
   ]
  },
  {
   "cell_type": "code",
   "execution_count": 254,
   "id": "98600068-a2fe-44e2-ad5e-5aa4c0a611db",
   "metadata": {},
   "outputs": [
    {
     "data": {
      "image/png": "[encoded data removed]",
      "text/plain": [
       "<Figure size 1500x500 with 1 Axes>"
      ]
     },
     "metadata": {},
     "output_type": "display_data"
    }
   ],
   "source": [
    "\n",
    "def time_plot(data, title):\n",
    "    fig, ax = plt.subplots(figsize=(15,5))\n",
    "    sns.lineplot(x = 'date', y = 'sales', data=data, ax=ax, color='blue', label='Total de Vendas')\n",
    "    sns.lineplot(x = 'date', y = 'revenue', data=data, ax=ax, color='green', label='Total de Receitas') \n",
    "    \n",
    "    ax.set(xlabel = \"Date\",\n",
    "           ylabel = \"Sales\",\n",
    "           title = title)\n",
    "    \n",
    "    sns.despine()\n",
    "    \n",
    "# Verificamos o histórico de vendas diárias do produto ao longo do tempo\n",
    "time_plot(product_df, 'Vendas Diárias ao longo do tempo')\n"
   ]
  },
  {
   "cell_type": "code",
   "execution_count": 242,
   "id": "f9f26f92-e507-4365-8cef-414ad908426e",
   "metadata": {},
   "outputs": [],
   "source": [
    "# Deteção de outliers recorrendo a Tukey IQR\n",
    "def find_outliers_tukey(x):\n",
    "    q1 = np.percentile(x, 25)\n",
    "    q3 = np.percentile(x, 75)\n",
    "    iqr = q3-q1 \n",
    "    floor = q1 - 1.5*iqr\n",
    "    ceiling = q3 + 1.5*iqr\n",
    "    outlier_indices = list(x.index[(x < floor)|(x > ceiling)])\n",
    "    outlier_values = list(x[outlier_indices])\n",
    "    return outlier_indices, outlier_values\n"
   ]
  },
  {
   "cell_type": "code",
   "execution_count": 243,
   "id": "a175ba37-098b-4590-8b94-c9b4a6c678e2",
   "metadata": {},
   "outputs": [
    {
     "name": "stdout",
     "output_type": "stream",
     "text": [
      "[11. 11. 11. 11. 11. 11. 12. 12. 12. 13. 13. 13. 13. 14. 14. 16. 16. 17.\n",
      " 17. 18. 18. 19. 20. 21. 22.]\n",
      "[ 73.62  74.17  74.18  74.24  74.24  74.24  74.24  74.36  74.36  74.36\n",
      "  80.08  80.08  81.58  91.52  91.52  95.09  97.24  97.24 100.07 102.96\n",
      " 108.68 114.4  120.12 144.52]\n"
     ]
    }
   ],
   "source": [
    "\n",
    "# Verificamos se existem outliers a ter em consideração\n",
    "tukey_indices1, tukey_values1 = find_outliers_tukey(product_df['sales'])\n",
    "tukey_indices2, tukey_values2 = find_outliers_tukey(product_df['revenue'])\n",
    "print(np.sort(tukey_values1))\n",
    "print(np.sort(tukey_values2))\n",
    "\n",
    "\n"
   ]
  },
  {
   "cell_type": "code",
   "execution_count": 244,
   "id": "2ae3df91",
   "metadata": {},
   "outputs": [
    {
     "data": {
      "text/plain": [
       "product_id    0\n",
       "date          0\n",
       "price         0\n",
       "sales         0\n",
       "revenue       0\n",
       "dtype: int64"
      ]
     },
     "execution_count": 244,
     "metadata": {},
     "output_type": "execute_result"
    }
   ],
   "source": [
    "\n",
    "\n",
    "# Verificamos se existem valores em falta para este produto\n",
    "percent_missing = product_df.isnull().sum()\n",
    "percent_missing.sort_values(ascending=False).head()\n",
    "\n"
   ]
  },
  {
   "cell_type": "code",
   "execution_count": 270,
   "id": "4766a855",
   "metadata": {},
   "outputs": [
    {
     "name": "stdout",
     "output_type": "stream",
     "text": [
      "  product_id       date  price  sales  revenue  stock  year  weekday  quarter  \\\n",
      "0      P0001 2017-01-02   6.25    6.0    31.79  195.0  2017        0        1   \n",
      "1      P0001 2017-01-03   6.25    1.0     5.30  194.0  2017        1        1   \n",
      "2      P0001 2017-01-04   6.25    2.0    10.60  192.0  2017        2        1   \n",
      "3      P0001 2017-01-05   6.25    1.0     5.30  191.0  2017        3        1   \n",
      "4      P0001 2017-01-06   6.25    3.0    15.90  188.0  2017        4        1   \n",
      "\n",
      "   prev_sales  \n",
      "0         0.0  \n",
      "1         6.0  \n",
      "2         1.0  \n",
      "3         2.0  \n",
      "4         1.0  \n"
     ]
    },
    {
     "name": "stderr",
     "output_type": "stream",
     "text": [
      "C:\\Users\\silve\\AppData\\Local\\Temp\\ipykernel_11992\\2161635489.py:35: FutureWarning: In a future version of pandas all arguments of DataFrame.drop except for the argument 'labels' will be keyword-only.\n",
      "  X = product_df1.drop(['revenue', 'date','product_id','sales','stock'], 1)\n"
     ]
    }
   ],
   "source": [
    "\n",
    "\n",
    "# Use train_test_split in sklearn.cross_validation to split data into train and test sets\n",
    "from sklearn.model_selection import train_test_split\n",
    "\n",
    "product_df1 = product_df.copy()\n",
    "#product_df1.date = pd.to_datetime(product_df1.date)\n",
    "product_df1['year'] = pd.DatetimeIndex(product_df1.date).year\n",
    "# product_df1['month'] = pd.DatetimeIndex(product_df1.date).month\n",
    "# product_df1['day'] = pd.DatetimeIndex(product_df1.date).day\n",
    "product_df1['weekday'] = pd.DatetimeIndex(product_df1.date).weekday\n",
    "product_df1['quarter'] = pd.DatetimeIndex(product_df1.date).quarter\n",
    "product_df1['weekday'] = pd.DatetimeIndex(product_df1.date).weekday\n",
    "# product_df1.year = product_df1.date.year\n",
    "# product_df1.month = product_df1.date.month\n",
    "# product_df1.day = product_df1.date.date\n",
    "# product_df1.weekday = product_df1.date.weekday\n",
    "\n",
    "# Create a new column called 'prev_sales' that lags the 'sales' column by one day\n",
    "product_df1['prev_sales'] = product_df1['sales'].shift(1)\n",
    "\n",
    "# Fill the first row of the 'prev_sales' column with 0\n",
    "product_df1['prev_sales'] = product_df1['prev_sales'].fillna(0)\n",
    "\n",
    "\n",
    "# Reset the index of the dataframe\n",
    "# Create a new column called 'prev_quarter_sales' that lags the 'sales' column by one quarter\n",
    "#product_df1['prev_quarter_sales'] = product_df1'year', 'quarter'])['sales'].rolling(3).sum()\n",
    "\n",
    "# Fill the first row of the 'prev_quarter_sales' column with 0\n",
    "#product_df1['prev_quarter_sales'] = product_df1['prev_quarter_sales'].fillna(0)\n",
    "\n",
    "# Drop rows with NaN values\n",
    "#product_df1 = product_df1.dropna()\n",
    "\n",
    "X = product_df1.drop(['revenue', 'date','product_id','sales','stock'], 1)\n",
    "y = product_df1.sales\n",
    "\n",
    "\n",
    "X_train, X_test, y_train, y_test = train_test_split(X, y, train_size=0.70, random_state=1)\n",
    "# X_train = np.array(X_train).reshape((-1, 1))\n",
    "# X_test = np.array(X_test).reshape((-1, 1))\n",
    "\n",
    "print(product_df1.head())\n",
    "\n"
   ]
  },
  {
   "cell_type": "code",
   "execution_count": 246,
   "id": "bfff8738",
   "metadata": {},
   "outputs": [
    {
     "name": "stdout",
     "output_type": "stream",
     "text": [
      "(1091, 5)\n",
      "(1091,)\n",
      "(763, 5)\n",
      "(763,)\n"
     ]
    }
   ],
   "source": [
    "\n",
    "\n",
    "# The total number of features have grown substantially after dummying and adding interaction terms\n",
    "print(X.shape)\n",
    "print(y.shape)\n",
    "print(X_train.shape)\n",
    "print(y_train.shape)\n",
    "\n"
   ]
  },
  {
   "cell_type": "code",
   "execution_count": 247,
   "id": "98571e89",
   "metadata": {},
   "outputs": [],
   "source": [
    "\n",
    "\n",
    "# Function to build model and find model performance\n",
    "from numpy import sqrt\n",
    "from sklearn.linear_model import LogisticRegression\n",
    "from sklearn.metrics import mean_squared_error, mean_absolute_error, r2_score\n",
    "\n",
    "def find_model_perf(X_train, Y_train, X_test, Y_test):\n",
    "    model = LogisticRegression()\n",
    "    model.fit(X_train, Y_train)\n",
    "    y_pred = model.predict(X_test)\n",
    "\n",
    "    # Compute the MSE\n",
    "    mse = mean_squared_error(Y_test, y_pred)\n",
    "\n",
    "    # Compute the RMSE\n",
    "    rmse = sqrt(mse)\n",
    "\n",
    "    # Compute the MAE\n",
    "    mae = mean_absolute_error(Y_test, y_pred)\n",
    "\n",
    "    # Compute the R^2 score\n",
    "    r2 = r2_score(Y_test, y_pred)\n",
    "\n",
    "    print(f\"RMSE: {rmse}\")\n",
    "    print(f\"MAE: {mae}\")\n",
    "    print(f\"R2 Score: {r2}\")\n",
    "\n",
    "    # Y_hat = [x[1] for x in model.predict(X_test)]\n",
    "    # auc = roc_auc_score(Y_test, Y_hat)\n",
    "    \n",
    "    \n",
    "\n"
   ]
  },
  {
   "cell_type": "code",
   "execution_count": 248,
   "id": "478d78ed",
   "metadata": {},
   "outputs": [
    {
     "name": "stdout",
     "output_type": "stream",
     "text": [
      "RMSE: 2.9065737100075952\n",
      "MAE: 1.8323170731707317\n",
      "R2 Score: -0.016621403356494424\n"
     ]
    },
    {
     "name": "stderr",
     "output_type": "stream",
     "text": [
      "c:\\Users\\silve\\AppData\\Local\\Programs\\Python\\Python310\\lib\\site-packages\\sklearn\\linear_model\\_logistic.py:458: ConvergenceWarning: lbfgs failed to converge (status=1):\n",
      "STOP: TOTAL NO. of ITERATIONS REACHED LIMIT.\n",
      "\n",
      "Increase the number of iterations (max_iter) or scale the data as shown in:\n",
      "    https://scikit-learn.org/stable/modules/preprocessing.html\n",
      "Please also refer to the documentation for alternative solver options:\n",
      "    https://scikit-learn.org/stable/modules/linear_model.html#logistic-regression\n",
      "  n_iter_i = _check_optimize_result(\n"
     ]
    }
   ],
   "source": [
    "\n",
    "\n",
    "# Find performance of model using preprocessed data\n",
    "find_model_perf(X_train, y_train, X_test, y_test)\n",
    "# print(auc_processed)\n",
    "\n"
   ]
  },
  {
   "cell_type": "code",
   "execution_count": 249,
   "id": "2b292f66-1af9-4e8c-8546-d4b9e2be7026",
   "metadata": {},
   "outputs": [],
   "source": [
    "\n",
    "\n",
    "# Iteramos a lista de dataframes\n",
    "for name, group in dfByProdList:\n",
    "    product_df = group\n",
    "    #print(name)\n",
    "    # You can now access the data for each group using the product_df dataframe\n",
    "\n"
   ]
  }
 ],
 "metadata": {
  "kernelspec": {
   "display_name": "Python 3.10.8 64-bit",
   "language": "python",
   "name": "python3"
  },
  "language_info": {
   "codemirror_mode": {
    "name": "ipython",
    "version": 3
   },
   "file_extension": ".py",
   "mimetype": "text/x-python",
   "name": "python",
   "nbconvert_exporter": "python",
   "pygments_lexer": "ipython3",
   "version": "3.10.8"
  },
  "vscode": {
   "interpreter": {
    "hash": "9133b8b5d84a1735604583a1a1c6e3e8f92c372edb4af1b624b4e793d168e89d"
   }
  }
 },
 "nbformat": 4,
 "nbformat_minor": 5
}
