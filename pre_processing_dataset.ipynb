{
 "cells": [
  {
   "cell_type": "markdown",
   "id": "0c2290f0-c6af-452e-b708-1b8e485da4af",
   "metadata": {},
   "source": [
    "\n",
    "# Pré-Processamento: Processamento de Dados e Preparação do Dataset\n",
    "\n",
    "## Objetivo\n",
    "  A apartir de um conjunto de dados não tratados referente às receitas de uma loja de desporto, efetuar as associações necessárias, eliminando toda a informação considerada desnecessária para o âmbito do nosso projeto, gerando um dataset final a ser, posteriormente, importado no pré-processamento de dados. \n"
   ]
  },
  {
   "cell_type": "code",
   "execution_count": 51,
   "id": "09fac7bc",
   "metadata": {
    "scrolled": true
   },
   "outputs": [
    {
     "name": "stdout",
     "output_type": "stream",
     "text": [
      "Requirement already satisfied: pandas in c:\\users\\silve\\appdata\\local\\programs\\python\\python310\\lib\\site-packages (1.5.2)\n",
      "Requirement already satisfied: numpy>=1.21.0 in c:\\users\\silve\\appdata\\local\\programs\\python\\python310\\lib\\site-packages (from pandas) (1.23.5)\n",
      "Requirement already satisfied: pytz>=2020.1 in c:\\users\\silve\\appdata\\local\\programs\\python\\python310\\lib\\site-packages (from pandas) (2022.6)\n",
      "Requirement already satisfied: python-dateutil>=2.8.1 in c:\\users\\silve\\appdata\\local\\programs\\python\\python310\\lib\\site-packages (from pandas) (2.8.2)\n",
      "Requirement already satisfied: six>=1.5 in c:\\users\\silve\\appdata\\local\\programs\\python\\python310\\lib\\site-packages (from python-dateutil>=2.8.1->pandas) (1.16.0)\n",
      "Note: you may need to restart the kernel to use updated packages.\n"
     ]
    },
    {
     "name": "stderr",
     "output_type": "stream",
     "text": [
      "\n",
      "[notice] A new release of pip available: 22.2.2 -> 22.3.1\n",
      "[notice] To update, run: python.exe -m pip install --upgrade pip\n"
     ]
    },
    {
     "name": "stdout",
     "output_type": "stream",
     "text": [
      "Requirement already satisfied: xlrd in c:\\users\\silve\\appdata\\local\\programs\\python\\python310\\lib\\site-packages (2.0.1)\n",
      "Note: you may need to restart the kernel to use updated packages.\n"
     ]
    },
    {
     "name": "stderr",
     "output_type": "stream",
     "text": [
      "\n",
      "[notice] A new release of pip available: 22.2.2 -> 22.3.1\n",
      "[notice] To update, run: python.exe -m pip install --upgrade pip\n"
     ]
    },
    {
     "name": "stdout",
     "output_type": "stream",
     "text": [
      "Requirement already satisfied: openpyxl in c:\\users\\silve\\appdata\\local\\programs\\python\\python310\\lib\\site-packages (3.0.10)\n",
      "Requirement already satisfied: et-xmlfile in c:\\users\\silve\\appdata\\local\\programs\\python\\python310\\lib\\site-packages (from openpyxl) (1.1.0)\n",
      "Note: you may need to restart the kernel to use updated packages.\n"
     ]
    },
    {
     "name": "stderr",
     "output_type": "stream",
     "text": [
      "\n",
      "[notice] A new release of pip available: 22.2.2 -> 22.3.1\n",
      "[notice] To update, run: python.exe -m pip install --upgrade pip\n"
     ]
    },
    {
     "name": "stdout",
     "output_type": "stream",
     "text": [
      "Requirement already satisfied: unidecode in c:\\users\\silve\\appdata\\local\\programs\\python\\python310\\lib\\site-packages (1.3.6)\n",
      "Note: you may need to restart the kernel to use updated packages.\n"
     ]
    },
    {
     "name": "stderr",
     "output_type": "stream",
     "text": [
      "\n",
      "[notice] A new release of pip available: 22.2.2 -> 22.3.1\n",
      "[notice] To update, run: python.exe -m pip install --upgrade pip\n"
     ]
    },
    {
     "name": "stdout",
     "output_type": "stream",
     "text": [
      "Requirement already satisfied: scikit-learn in c:\\users\\silve\\appdata\\local\\programs\\python\\python310\\lib\\site-packages (1.2.0)\n",
      "Requirement already satisfied: numpy>=1.17.3 in c:\\users\\silve\\appdata\\local\\programs\\python\\python310\\lib\\site-packages (from scikit-learn) (1.23.5)\n",
      "Requirement already satisfied: threadpoolctl>=2.0.0 in c:\\users\\silve\\appdata\\local\\programs\\python\\python310\\lib\\site-packages (from scikit-learn) (3.1.0)\n",
      "Requirement already satisfied: joblib>=1.1.1 in c:\\users\\silve\\appdata\\local\\programs\\python\\python310\\lib\\site-packages (from scikit-learn) (1.2.0)\n",
      "Requirement already satisfied: scipy>=1.3.2 in c:\\users\\silve\\appdata\\local\\programs\\python\\python310\\lib\\site-packages (from scikit-learn) (1.9.3)\n",
      "Note: you may need to restart the kernel to use updated packages.\n"
     ]
    },
    {
     "name": "stderr",
     "output_type": "stream",
     "text": [
      "\n",
      "[notice] A new release of pip available: 22.2.2 -> 22.3.1\n",
      "[notice] To update, run: python.exe -m pip install --upgrade pip\n"
     ]
    },
    {
     "name": "stdout",
     "output_type": "stream",
     "text": [
      "Collecting matplotlib\n",
      "  Downloading matplotlib-3.6.2-cp310-cp310-win_amd64.whl (7.2 MB)\n",
      "     ---------------------------------------- 7.2/7.2 MB 46.2 MB/s eta 0:00:00\n",
      "Requirement already satisfied: python-dateutil>=2.7 in c:\\users\\silve\\appdata\\local\\programs\\python\\python310\\lib\\site-packages (from matplotlib) (2.8.2)\n",
      "Collecting fonttools>=4.22.0\n",
      "  Downloading fonttools-4.38.0-py3-none-any.whl (965 kB)\n",
      "     ------------------------------------- 965.4/965.4 kB 30.8 MB/s eta 0:00:00\n",
      "Collecting cycler>=0.10\n",
      "  Downloading cycler-0.11.0-py3-none-any.whl (6.4 kB)\n",
      "Collecting kiwisolver>=1.0.1\n",
      "  Downloading kiwisolver-1.4.4-cp310-cp310-win_amd64.whl (55 kB)\n",
      "     ---------------------------------------- 55.3/55.3 kB ? eta 0:00:00\n",
      "Collecting contourpy>=1.0.1\n",
      "  Downloading contourpy-1.0.6-cp310-cp310-win_amd64.whl (163 kB)\n",
      "     ---------------------------------------- 163.6/163.6 kB ? eta 0:00:00\n",
      "Requirement already satisfied: packaging>=20.0 in c:\\users\\silve\\appdata\\local\\programs\\python\\python310\\lib\\site-packages (from matplotlib) (21.3)\n",
      "Requirement already satisfied: pyparsing>=2.2.1 in c:\\users\\silve\\appdata\\local\\programs\\python\\python310\\lib\\site-packages (from matplotlib) (3.0.9)\n",
      "Requirement already satisfied: numpy>=1.19 in c:\\users\\silve\\appdata\\local\\programs\\python\\python310\\lib\\site-packages (from matplotlib) (1.23.5)\n",
      "Collecting pillow>=6.2.0\n",
      "  Downloading Pillow-9.3.0-cp310-cp310-win_amd64.whl (2.5 MB)\n",
      "     ---------------------------------------- 2.5/2.5 MB 52.2 MB/s eta 0:00:00\n",
      "Requirement already satisfied: six>=1.5 in c:\\users\\silve\\appdata\\local\\programs\\python\\python310\\lib\\site-packages (from python-dateutil>=2.7->matplotlib) (1.16.0)\n",
      "Installing collected packages: pillow, kiwisolver, fonttools, cycler, contourpy, matplotlib\n",
      "Successfully installed contourpy-1.0.6 cycler-0.11.0 fonttools-4.38.0 kiwisolver-1.4.4 matplotlib-3.6.2 pillow-9.3.0\n",
      "Note: you may need to restart the kernel to use updated packages.\n"
     ]
    },
    {
     "name": "stderr",
     "output_type": "stream",
     "text": [
      "\n",
      "[notice] A new release of pip available: 22.2.2 -> 22.3.1\n",
      "[notice] To update, run: python.exe -m pip install --upgrade pip\n"
     ]
    }
   ],
   "source": [
    "%pip install pandas\n",
    "%pip install xlrd\n",
    "%pip install openpyxl\n",
    "%pip install unidecode\n",
    "%pip install scikit-learn\n",
    "%pip install matplotlib"
   ]
  },
  {
   "cell_type": "code",
   "execution_count": 21,
   "id": "471bbf23",
   "metadata": {},
   "outputs": [],
   "source": [
    "\n",
    "import numpy as np\n",
    "import pandas as pd\n",
    "\n",
    "df = pd.read_csv('Dataset_Treated.csv')\n"
   ]
  },
  {
   "cell_type": "code",
   "execution_count": 22,
   "id": "feaa997c",
   "metadata": {},
   "outputs": [
    {
     "name": "stdout",
     "output_type": "stream",
     "text": [
      "   Unnamed: 0  Produto  Total_Receitas_2018Q1  Total_Receitas_2018Q2  \\\n",
      "0           0     1040               0.000000               0.000000   \n",
      "1           1     1061             176.666667             294.444444   \n",
      "2           2     1062               0.000000               0.000000   \n",
      "3           3     1063               0.000000               0.000000   \n",
      "4           4     2999             410.425926              99.833333   \n",
      "\n",
      "   Total_Receitas_2018Q3  Total_Receitas_2018Q4  Total_Receitas_2019Q1  \\\n",
      "0               0.000000               0.027778               0.009259   \n",
      "1              88.333333             265.000000             294.444444   \n",
      "2               0.000000              22.037037              44.074074   \n",
      "3               0.000000              47.962963               0.000000   \n",
      "4              88.740741             155.296296             166.388889   \n",
      "\n",
      "   Total_Receitas_2019Q2  Total_Receitas_2019Q3  Total_Receitas_2019Q4  ...  \\\n",
      "0               0.000000               0.018519               0.000000  ...   \n",
      "1             176.666667             257.962963             147.407407  ...   \n",
      "2               0.000000               0.000000             110.185185  ...   \n",
      "3               0.000000               0.000000               0.000000  ...   \n",
      "4              77.648148             232.944444             133.111111  ...   \n",
      "\n",
      "   Classificacao11_Produto  Classificacao12_Produto  Classificacao13_Produto  \\\n",
      "0                        2                        3                        3   \n",
      "1                        2                        2                        3   \n",
      "2                        2                        2                        3   \n",
      "3                        2                        2                        3   \n",
      "4                        2                        2                        3   \n",
      "\n",
      "   Classificacao14_Produto  Classificacao15_Produto  Nome_Class_11_Produto  \\\n",
      "0                        3                       12             ACESSÓRIOS   \n",
      "1                        3                       17             ACESSÓRIOS   \n",
      "2                        3                       17             ACESSÓRIOS   \n",
      "3                        3                       17             ACESSÓRIOS   \n",
      "4                        3                      279             ACESSÓRIOS   \n",
      "\n",
      "   Nome_Class_12_Produto  Nome_Class_13_Produto  Nome_Class_14_Produto  \\\n",
      "0                  GERAL                  GERAL                  ANUAL   \n",
      "1              ESPORTIVO                  GERAL                  ANUAL   \n",
      "2              ESPORTIVO                  GERAL                  ANUAL   \n",
      "3              ESPORTIVO                  GERAL                  ANUAL   \n",
      "4              ESPORTIVO                  GERAL                  ANUAL   \n",
      "\n",
      "   Nome_Class_15_Produto  \n",
      "0               ATACADOR  \n",
      "1                  BARRA  \n",
      "2                  BARRA  \n",
      "3                  BARRA  \n",
      "4             BOLA TÊNIS  \n",
      "\n",
      "[5 rows x 58 columns]\n"
     ]
    }
   ],
   "source": [
    "\n",
    "# Verificamos o dataset carregado\n",
    "print(df.head(5))\n",
    "\n"
   ]
  },
  {
   "cell_type": "code",
   "execution_count": 23,
   "id": "59334e12",
   "metadata": {},
   "outputs": [
    {
     "name": "stdout",
     "output_type": "stream",
     "text": [
      "Index(['Produto', 'Total_Receitas_2018Q1', 'Total_Receitas_2018Q2',\n",
      "       'Total_Receitas_2018Q3', 'Total_Receitas_2018Q4',\n",
      "       'Total_Receitas_2019Q1', 'Total_Receitas_2019Q2',\n",
      "       'Total_Receitas_2019Q3', 'Total_Receitas_2019Q4',\n",
      "       'Total_Receitas_2020Q1', 'Total_Receitas_2020Q2',\n",
      "       'Total_Receitas_2020Q3', 'Total_Receitas_2020Q4',\n",
      "       'Total_Receitas_2021Q1', 'Total_Receitas_2021Q2',\n",
      "       'Total_Receitas_2021Q3', 'Total_Receitas_2021Q4',\n",
      "       'Total_Receitas_2022Q1', 'Total_Receitas_2022Q2',\n",
      "       'Total_Receitas_2022Q3', 'Total_Receitas_2022Q4',\n",
      "       'Total_Unidades_Vendidas_2018Q1', 'Total_Unidades_Vendidas_2018Q2',\n",
      "       'Total_Unidades_Vendidas_2018Q3', 'Total_Unidades_Vendidas_2018Q4',\n",
      "       'Total_Unidades_Vendidas_2019Q1', 'Total_Unidades_Vendidas_2019Q2',\n",
      "       'Total_Unidades_Vendidas_2019Q3', 'Total_Unidades_Vendidas_2019Q4',\n",
      "       'Total_Unidades_Vendidas_2020Q1', 'Total_Unidades_Vendidas_2020Q2',\n",
      "       'Total_Unidades_Vendidas_2020Q3', 'Total_Unidades_Vendidas_2020Q4',\n",
      "       'Total_Unidades_Vendidas_2021Q1', 'Total_Unidades_Vendidas_2021Q2',\n",
      "       'Total_Unidades_Vendidas_2021Q3', 'Total_Unidades_Vendidas_2021Q4',\n",
      "       'Total_Unidades_Vendidas_2022Q1', 'Total_Unidades_Vendidas_2022Q2',\n",
      "       'Total_Unidades_Vendidas_2022Q3', 'Total_Unidades_Vendidas_2022Q4',\n",
      "       'Nome_Produto', 'Unidade_Produto', 'Referencia_Produto',\n",
      "       'DataUltimaAtualizacao_Produto', 'NomeMarca_Produto',\n",
      "       'Complemento_Produto', 'Negócio', 'Segmento', 'Género', 'Estação',\n",
      "       'Tipo'],\n",
      "      dtype='object')\n"
     ]
    }
   ],
   "source": [
    "\n",
    "\n",
    "# Alteramos o nome das Classificações (11. negócio, 12. segmento, 13. género, 14. estação, 15. tipo) e removemos as não necessárias\n",
    "df = df.rename(columns={\"Nome_Class_11_Produto\": \"Negócio\", \"Nome_Class_12_Produto\":\"Segmento\", \"Nome_Class_13_Produto\":\"Género\", \"Nome_Class_14_Produto\":\"Estação\", \"Nome_Class_15_Produto\": \"Tipo\"})\n",
    "df = df.drop(columns=[\"Unnamed: 0\", \"Classificacao11_Produto\", \"Classificacao12_Produto\", \"Classificacao13_Produto\", \"Classificacao14_Produto\", \"Classificacao15_Produto\"])\n",
    "\n",
    "# Verificamos as colunas\n",
    "print(df.columns)\n"
   ]
  },
  {
   "cell_type": "code",
   "execution_count": 24,
   "id": "adce8c97",
   "metadata": {},
   "outputs": [
    {
     "name": "stdout",
     "output_type": "stream",
     "text": [
      "Feature 'Nome_Produto' tem 10831 valores únicos\n",
      "Feature 'Unidade_Produto' tem 3 valores únicos\n",
      "Feature 'Referencia_Produto' tem 6903 valores únicos\n",
      "Feature 'DataUltimaAtualizacao_Produto' tem 1365 valores únicos\n",
      "Feature 'NomeMarca_Produto' tem 184 valores únicos\n",
      "Feature 'Complemento_Produto' tem 4939 valores únicos\n",
      "Feature 'Negócio' tem 4 valores únicos\n",
      "Feature 'Segmento' tem 4 valores únicos\n",
      "Feature 'Género' tem 4 valores únicos\n",
      "Feature 'Estação' tem 4 valores únicos\n",
      "Feature 'Tipo' tem 248 valores únicos\n"
     ]
    }
   ],
   "source": [
    "\n",
    "# Verificamos as variáveis de categoria dos produtos que fazem sentido utilizar no modelo\n",
    "for col_name in df.columns:\n",
    "    if df[col_name].dtypes == 'object':\n",
    "        unique_cat = len(df[col_name].unique())\n",
    "        print(\"Feature '{col_name}' tem {unique_cat} valores únicos\".format(col_name=col_name, unique_cat=unique_cat))\n",
    "\n"
   ]
  },
  {
   "cell_type": "code",
   "execution_count": 25,
   "id": "a8bdee85-69e6-48fc-b66a-5c0ae72a9038",
   "metadata": {},
   "outputs": [
    {
     "name": "stdout",
     "output_type": "stream",
     "text": [
      "ADIDAS        1941\n",
      "NIKE          1592\n",
      "FILA          1131\n",
      "OLYMPIKUS      648\n",
      "PENALTY        598\n",
      "SPEEDO         462\n",
      "UMBRO          446\n",
      "MIZUNO         351\n",
      "ASICS          330\n",
      "ROLA MOCA      295\n",
      "SELENE         280\n",
      "LIVE           224\n",
      "NIKE           221\n",
      "WILSON         144\n",
      "TIMBERLAND     109\n",
      "Name: NomeMarca_Produto, dtype: int64\n"
     ]
    }
   ],
   "source": [
    "\n",
    "\n",
    "# O nome da marca tem diversos valores únicos e estes estão bem propragados entre si, isto é, não existe grande discrepância entre as respetivas frequências, pelo que não é possível dividi-las\n",
    "print(df['NomeMarca_Produto'].value_counts().sort_values(ascending=False).head(15))\n",
    "\n",
    "\n",
    "# O que fazer ????"
   ]
  },
  {
   "cell_type": "code",
   "execution_count": 26,
   "id": "07e79a62-4509-48fa-b5ad-a6730068209e",
   "metadata": {},
   "outputs": [
    {
     "name": "stdout",
     "output_type": "stream",
     "text": [
      "TENIS RUNING       1784\n",
      "CAMISETA M/C        436\n",
      "TENIS CASUAL        423\n",
      "BERMUDA BERMUDA     370\n",
      "CALÇA LEGGING       266\n",
      "MOCHILA MOCHILA     241\n",
      "BOLA DE CAMPO       233\n",
      "ABRIGO              230\n",
      "CHINELO CHINELO     229\n",
      "MEIA SOQUETE        229\n",
      "TENIS INDOOR        225\n",
      "TENIS RUN INF       209\n",
      "CALCAO CALCAO       209\n",
      "CALÇA CALÇA         208\n",
      "BLUSA BLUSA         197\n",
      "Name: Tipo, dtype: int64\n"
     ]
    }
   ],
   "source": [
    "\n",
    "# A categoria 'Tipo' tem diversos valores únicos e estes estão bem propragados entre si, isto é, não existe grande discrepância entre as respetivas frequências, pelo que não é possível dividi-las\n",
    "print(df['Tipo'].value_counts().sort_values(ascending=False).head(15))\n",
    "\n",
    "# O que fazer ????\n"
   ]
  },
  {
   "cell_type": "code",
   "execution_count": 37,
   "id": "adf5c03d-5dd2-4361-82cb-436fb69033e9",
   "metadata": {},
   "outputs": [
    {
     "ename": "KeyError",
     "evalue": "'Unidade_Produto'",
     "output_type": "error",
     "traceback": [
      "\u001b[1;31m---------------------------------------------------------------------------\u001b[0m",
      "\u001b[1;31mKeyError\u001b[0m                                  Traceback (most recent call last)",
      "File \u001b[1;32m~\\AppData\\Local\\Programs\\Python\\Python310\\lib\\site-packages\\pandas\\core\\indexes\\base.py:3803\u001b[0m, in \u001b[0;36mIndex.get_loc\u001b[1;34m(self, key, method, tolerance)\u001b[0m\n\u001b[0;32m   3802\u001b[0m \u001b[38;5;28;01mtry\u001b[39;00m:\n\u001b[1;32m-> 3803\u001b[0m     \u001b[38;5;28;01mreturn\u001b[39;00m \u001b[38;5;28;43mself\u001b[39;49m\u001b[38;5;241;43m.\u001b[39;49m\u001b[43m_engine\u001b[49m\u001b[38;5;241;43m.\u001b[39;49m\u001b[43mget_loc\u001b[49m\u001b[43m(\u001b[49m\u001b[43mcasted_key\u001b[49m\u001b[43m)\u001b[49m\n\u001b[0;32m   3804\u001b[0m \u001b[38;5;28;01mexcept\u001b[39;00m \u001b[38;5;167;01mKeyError\u001b[39;00m \u001b[38;5;28;01mas\u001b[39;00m err:\n",
      "File \u001b[1;32m~\\AppData\\Local\\Programs\\Python\\Python310\\lib\\site-packages\\pandas\\_libs\\index.pyx:138\u001b[0m, in \u001b[0;36mpandas._libs.index.IndexEngine.get_loc\u001b[1;34m()\u001b[0m\n",
      "File \u001b[1;32m~\\AppData\\Local\\Programs\\Python\\Python310\\lib\\site-packages\\pandas\\_libs\\index.pyx:165\u001b[0m, in \u001b[0;36mpandas._libs.index.IndexEngine.get_loc\u001b[1;34m()\u001b[0m\n",
      "File \u001b[1;32mpandas\\_libs\\hashtable_class_helper.pxi:5745\u001b[0m, in \u001b[0;36mpandas._libs.hashtable.PyObjectHashTable.get_item\u001b[1;34m()\u001b[0m\n",
      "File \u001b[1;32mpandas\\_libs\\hashtable_class_helper.pxi:5753\u001b[0m, in \u001b[0;36mpandas._libs.hashtable.PyObjectHashTable.get_item\u001b[1;34m()\u001b[0m\n",
      "\u001b[1;31mKeyError\u001b[0m: 'Unidade_Produto'",
      "\nThe above exception was the direct cause of the following exception:\n",
      "\u001b[1;31mKeyError\u001b[0m                                  Traceback (most recent call last)",
      "Cell \u001b[1;32mIn [37], line 1\u001b[0m\n\u001b[1;32m----> 1\u001b[0m \u001b[38;5;28mprint\u001b[39m(\u001b[43mdf\u001b[49m\u001b[43m[\u001b[49m\u001b[38;5;124;43m'\u001b[39;49m\u001b[38;5;124;43mUnidade_Produto\u001b[39;49m\u001b[38;5;124;43m'\u001b[39;49m\u001b[43m]\u001b[49m\u001b[38;5;241m.\u001b[39mvalue_counts()\u001b[38;5;241m.\u001b[39msort_values(ascending\u001b[38;5;241m=\u001b[39m\u001b[38;5;28;01mFalse\u001b[39;00m)\u001b[38;5;241m.\u001b[39mhead(\u001b[38;5;241m15\u001b[39m))\n\u001b[0;32m      3\u001b[0m \u001b[38;5;66;03m# Removemos a linha de valor '0'? ou aplicamos outra estratégia?\u001b[39;00m\n",
      "File \u001b[1;32m~\\AppData\\Local\\Programs\\Python\\Python310\\lib\\site-packages\\pandas\\core\\frame.py:3805\u001b[0m, in \u001b[0;36mDataFrame.__getitem__\u001b[1;34m(self, key)\u001b[0m\n\u001b[0;32m   3803\u001b[0m \u001b[38;5;28;01mif\u001b[39;00m \u001b[38;5;28mself\u001b[39m\u001b[38;5;241m.\u001b[39mcolumns\u001b[38;5;241m.\u001b[39mnlevels \u001b[38;5;241m>\u001b[39m \u001b[38;5;241m1\u001b[39m:\n\u001b[0;32m   3804\u001b[0m     \u001b[38;5;28;01mreturn\u001b[39;00m \u001b[38;5;28mself\u001b[39m\u001b[38;5;241m.\u001b[39m_getitem_multilevel(key)\n\u001b[1;32m-> 3805\u001b[0m indexer \u001b[38;5;241m=\u001b[39m \u001b[38;5;28;43mself\u001b[39;49m\u001b[38;5;241;43m.\u001b[39;49m\u001b[43mcolumns\u001b[49m\u001b[38;5;241;43m.\u001b[39;49m\u001b[43mget_loc\u001b[49m\u001b[43m(\u001b[49m\u001b[43mkey\u001b[49m\u001b[43m)\u001b[49m\n\u001b[0;32m   3806\u001b[0m \u001b[38;5;28;01mif\u001b[39;00m is_integer(indexer):\n\u001b[0;32m   3807\u001b[0m     indexer \u001b[38;5;241m=\u001b[39m [indexer]\n",
      "File \u001b[1;32m~\\AppData\\Local\\Programs\\Python\\Python310\\lib\\site-packages\\pandas\\core\\indexes\\base.py:3805\u001b[0m, in \u001b[0;36mIndex.get_loc\u001b[1;34m(self, key, method, tolerance)\u001b[0m\n\u001b[0;32m   3803\u001b[0m     \u001b[38;5;28;01mreturn\u001b[39;00m \u001b[38;5;28mself\u001b[39m\u001b[38;5;241m.\u001b[39m_engine\u001b[38;5;241m.\u001b[39mget_loc(casted_key)\n\u001b[0;32m   3804\u001b[0m \u001b[38;5;28;01mexcept\u001b[39;00m \u001b[38;5;167;01mKeyError\u001b[39;00m \u001b[38;5;28;01mas\u001b[39;00m err:\n\u001b[1;32m-> 3805\u001b[0m     \u001b[38;5;28;01mraise\u001b[39;00m \u001b[38;5;167;01mKeyError\u001b[39;00m(key) \u001b[38;5;28;01mfrom\u001b[39;00m \u001b[38;5;21;01merr\u001b[39;00m\n\u001b[0;32m   3806\u001b[0m \u001b[38;5;28;01mexcept\u001b[39;00m \u001b[38;5;167;01mTypeError\u001b[39;00m:\n\u001b[0;32m   3807\u001b[0m     \u001b[38;5;66;03m# If we have a listlike key, _check_indexing_error will raise\u001b[39;00m\n\u001b[0;32m   3808\u001b[0m     \u001b[38;5;66;03m#  InvalidIndexError. Otherwise we fall through and re-raise\u001b[39;00m\n\u001b[0;32m   3809\u001b[0m     \u001b[38;5;66;03m#  the TypeError.\u001b[39;00m\n\u001b[0;32m   3810\u001b[0m     \u001b[38;5;28mself\u001b[39m\u001b[38;5;241m.\u001b[39m_check_indexing_error(key)\n",
      "\u001b[1;31mKeyError\u001b[0m: 'Unidade_Produto'"
     ]
    }
   ],
   "source": [
    "\n",
    "print(df['Unidade_Produto'].value_counts().sort_values(ascending=False).head(15))\n",
    "\n",
    "# Removemos a linha de valor '0'? ou aplicamos outra estratégia?\n"
   ]
  },
  {
   "cell_type": "code",
   "execution_count": 29,
   "id": "6a18c5b7-6ee1-4ced-adab-6497a73fb2fe",
   "metadata": {},
   "outputs": [
    {
     "name": "stdout",
     "output_type": "stream",
     "text": [
      "CONFECÇÕES        4649\n",
      "CALÇADOS          4088\n",
      "ACESSÓRIOS        2113\n",
      "ARTIGOS VIAGEM       7\n",
      "Name: Negócio, dtype: int64\n"
     ]
    }
   ],
   "source": [
    "\n",
    "print(df['Negócio'].value_counts().sort_values(ascending=False).head(15))\n",
    "\n",
    "# Removemos as linhas de valor 'ARTIGOS VIAGEM '? ou aplicamos outra estratégia?\n"
   ]
  },
  {
   "cell_type": "code",
   "execution_count": 30,
   "id": "87e76ded-891b-4f40-876c-f5957cf343d6",
   "metadata": {},
   "outputs": [
    {
     "name": "stdout",
     "output_type": "stream",
     "text": [
      "ESPORTIVO    9907\n",
      "GERAL         875\n",
      "INFANTIL       52\n",
      "BOUTIQUE       23\n",
      "Name: Segmento, dtype: int64\n"
     ]
    }
   ],
   "source": [
    "\n",
    "print(df['Segmento'].value_counts().sort_values(ascending=False).head(15))\n",
    "\n",
    "# Divimos as linhas em 2 valores 'ESPORTIVO' e 'Não ESPORTIVO'? ou aplicamos outra estratégia?\n"
   ]
  },
  {
   "cell_type": "code",
   "execution_count": 31,
   "id": "9f41c614-5031-440e-ae71-98abcfbeeb53",
   "metadata": {},
   "outputs": [
    {
     "name": "stdout",
     "output_type": "stream",
     "text": [
      "GERAL        4224\n",
      "MASCULINO    3858\n",
      "FEMININO     2767\n",
      ".               8\n",
      "Name: Género, dtype: int64\n"
     ]
    }
   ],
   "source": [
    "\n",
    "print(df['Género'].value_counts().sort_values(ascending=False).head(15))\n",
    "\n",
    "# Removemos as linhas de valor '.'? ou aplicamos outra estratégia?\n"
   ]
  },
  {
   "cell_type": "code",
   "execution_count": 32,
   "id": "b7785829-2b56-43ef-84ad-d15efd3053df",
   "metadata": {},
   "outputs": [
    {
     "name": "stdout",
     "output_type": "stream",
     "text": [
      "ANUAL      8429\n",
      "VERÃO      1508\n",
      "INVERNO     917\n",
      ".             3\n",
      "Name: Estação, dtype: int64\n"
     ]
    }
   ],
   "source": [
    "\n",
    "print(df['Estação'].value_counts().sort_values(ascending=False).head(15))\n",
    "\n",
    "# Removemos as linhas de valor '.'? ou aplicamos outra estratégia?\n"
   ]
  },
  {
   "cell_type": "code",
   "execution_count": 18,
   "id": "f28133e8",
   "metadata": {},
   "outputs": [],
   "source": [
    "\n",
    "# Escolhemos a lista de variáveis dummy, isto é, para as quais serão criadas colunas diferentes para cada valor, de acordo com a análise anterior, para serem utilizadas pelo modelo.\n",
    "todummy_list = ['Unidade_Produto', 'Negócio', 'Segmento', 'Género', 'Estação']\n",
    "\n",
    "# Função para efetuar o dummying às variáveis presentes na lista acima definida\n",
    "def dummy_df(df, todummy_list):\n",
    "    for x in todummy_list:\n",
    "        dummies = pd.get_dummies(df[x], prefix=x, dummy_na=False)\n",
    "        df = df.drop(x, 1)\n",
    "        df = pd.concat([df, dummies], axis=1)\n",
    "    return df\n"
   ]
  },
  {
   "cell_type": "code",
   "execution_count": 19,
   "id": "dbb5ea03-de69-43ed-ac82-7b43becec575",
   "metadata": {},
   "outputs": [
    {
     "name": "stdout",
     "output_type": "stream",
     "text": [
      "Index(['Produto', 'Total_Receitas_2018Q1', 'Total_Receitas_2018Q2',\n",
      "       'Total_Receitas_2018Q3', 'Total_Receitas_2018Q4',\n",
      "       'Total_Receitas_2019Q1', 'Total_Receitas_2019Q2',\n",
      "       'Total_Receitas_2019Q3', 'Total_Receitas_2019Q4',\n",
      "       'Total_Receitas_2020Q1', 'Total_Receitas_2020Q2',\n",
      "       'Total_Receitas_2020Q3', 'Total_Receitas_2020Q4',\n",
      "       'Total_Receitas_2021Q1', 'Total_Receitas_2021Q2',\n",
      "       'Total_Receitas_2021Q3', 'Total_Receitas_2021Q4',\n",
      "       'Total_Receitas_2022Q1', 'Total_Receitas_2022Q2',\n",
      "       'Total_Receitas_2022Q3', 'Total_Receitas_2022Q4',\n",
      "       'Total_Unidades_Vendidas_2018Q1', 'Total_Unidades_Vendidas_2018Q2',\n",
      "       'Total_Unidades_Vendidas_2018Q3', 'Total_Unidades_Vendidas_2018Q4',\n",
      "       'Total_Unidades_Vendidas_2019Q1', 'Total_Unidades_Vendidas_2019Q2',\n",
      "       'Total_Unidades_Vendidas_2019Q3', 'Total_Unidades_Vendidas_2019Q4',\n",
      "       'Total_Unidades_Vendidas_2020Q1', 'Total_Unidades_Vendidas_2020Q2',\n",
      "       'Total_Unidades_Vendidas_2020Q3', 'Total_Unidades_Vendidas_2020Q4',\n",
      "       'Total_Unidades_Vendidas_2021Q1', 'Total_Unidades_Vendidas_2021Q2',\n",
      "       'Total_Unidades_Vendidas_2021Q3', 'Total_Unidades_Vendidas_2021Q4',\n",
      "       'Total_Unidades_Vendidas_2022Q1', 'Total_Unidades_Vendidas_2022Q2',\n",
      "       'Total_Unidades_Vendidas_2022Q3', 'Total_Unidades_Vendidas_2022Q4',\n",
      "       'Nome_Produto', 'Referencia_Produto', 'DataUltimaAtualizacao_Produto',\n",
      "       'NomeMarca_Produto', 'Complemento_Produto', 'Tipo', 'Unidade_Produto_0',\n",
      "       'Unidade_Produto_PR', 'Unidade_Produto_UN', 'Negócio_ACESSÓRIOS',\n",
      "       'Negócio_ARTIGOS VIAGEM', 'Negócio_CALÇADOS', 'Negócio_CONFECÇÕES',\n",
      "       'Segmento_BOUTIQUE', 'Segmento_ESPORTIVO', 'Segmento_GERAL',\n",
      "       'Segmento_INFANTIL', 'Género_.', 'Género_FEMININO', 'Género_GERAL',\n",
      "       'Género_MASCULINO', 'Estação_.', 'Estação_ANUAL', 'Estação_INVERNO',\n",
      "       'Estação_VERÃO'],\n",
      "      dtype='object')\n"
     ]
    },
    {
     "name": "stderr",
     "output_type": "stream",
     "text": [
      "C:\\Users\\silve\\AppData\\Local\\Temp\\ipykernel_16724\\1440054014.py:8: FutureWarning: In a future version of pandas all arguments of DataFrame.drop except for the argument 'labels' will be keyword-only.\n",
      "  df = df.drop(x, 1)\n",
      "C:\\Users\\silve\\AppData\\Local\\Temp\\ipykernel_16724\\1440054014.py:8: FutureWarning: In a future version of pandas all arguments of DataFrame.drop except for the argument 'labels' will be keyword-only.\n",
      "  df = df.drop(x, 1)\n",
      "C:\\Users\\silve\\AppData\\Local\\Temp\\ipykernel_16724\\1440054014.py:8: FutureWarning: In a future version of pandas all arguments of DataFrame.drop except for the argument 'labels' will be keyword-only.\n",
      "  df = df.drop(x, 1)\n",
      "C:\\Users\\silve\\AppData\\Local\\Temp\\ipykernel_16724\\1440054014.py:8: FutureWarning: In a future version of pandas all arguments of DataFrame.drop except for the argument 'labels' will be keyword-only.\n",
      "  df = df.drop(x, 1)\n",
      "C:\\Users\\silve\\AppData\\Local\\Temp\\ipykernel_16724\\1440054014.py:8: FutureWarning: In a future version of pandas all arguments of DataFrame.drop except for the argument 'labels' will be keyword-only.\n",
      "  df = df.drop(x, 1)\n"
     ]
    }
   ],
   "source": [
    "\n",
    "# Aplicamos a função e verificamos o resultado\n",
    "df = dummy_df(df, todummy_list)\n",
    "print(df.head(5))\n",
    "\n"
   ]
  },
  {
   "cell_type": "code",
   "execution_count": 46,
   "id": "e27e45b1-4b31-4685-96f0-86b88a1f3e3f",
   "metadata": {},
   "outputs": [
    {
     "data": {
      "text/plain": [
       "Produto                           0\n",
       "Unidade_Produto_UN                0\n",
       "Total_Unidades_Vendidas_2021Q3    0\n",
       "Total_Unidades_Vendidas_2021Q4    0\n",
       "Total_Unidades_Vendidas_2022Q1    0\n",
       "dtype: int64"
      ]
     },
     "execution_count": 46,
     "metadata": {},
     "output_type": "execute_result"
    }
   ],
   "source": [
    "\n",
    "\n",
    "# Quais são os dados em falta?\n",
    "df.isnull().sum().sort_values(ascending=False).head()\n",
    "\n"
   ]
  },
  {
   "cell_type": "code",
   "execution_count": null,
   "id": "04caac4e-def4-4b48-84e9-edef8945fbfc",
   "metadata": {},
   "outputs": [],
   "source": [
    "# Verificar com os profs...\n",
    "\n",
    "# Transformamos em nulls os valores inválidos da coluna 'Unidade' que são representados por '0'\n",
    "df['Unidade_Produto'] = [x if x != '0' else null for x in df['Unidade_Produto']]\n",
    "\n",
    "# Transformamos em nulls os valores inválidos da coluna 'Género' que são representados por '0'\n",
    "df['Género'] = [x if x != '.' else null for x in df['Estação']]\n",
    "\n",
    "# Transformamos em nulls os valores inválidos da coluna 'Estação' que são representados por '0'\n",
    "df['Estação'] = [x if x != '.' else null for x in df['Estação']]\n",
    "\n"
   ]
  },
  {
   "cell_type": "code",
   "execution_count": 48,
   "id": "182a8693-bc24-4436-b572-85536f35b4e6",
   "metadata": {},
   "outputs": [],
   "source": [
    "\n",
    "\n",
    "# Impute missing values using Imputer in sklearn.preprocessing\n",
    "from sklearn.impute import SimpleImputer\n",
    "import numpy as np\n",
    "\n",
    "#imp = SimpleImputer(missing_values=np.nan, strategy='mean')\n",
    "#imp.fit(df)\n",
    "#df = pd.DataFrame(data=imp.transform(df) , columns=df.columns)\n",
    "\n"
   ]
  },
  {
   "cell_type": "code",
   "execution_count": 49,
   "id": "33b94dfa-17f9-40da-97df-132b54ca47d7",
   "metadata": {},
   "outputs": [
    {
     "data": {
      "text/plain": [
       "Produto                           0\n",
       "Unidade_Produto_UN                0\n",
       "Total_Unidades_Vendidas_2021Q3    0\n",
       "Total_Unidades_Vendidas_2021Q4    0\n",
       "Total_Unidades_Vendidas_2022Q1    0\n",
       "dtype: int64"
      ]
     },
     "execution_count": 49,
     "metadata": {},
     "output_type": "execute_result"
    }
   ],
   "source": [
    "\n",
    "\n",
    "# Quais são os dados em falta?\n",
    "df.isnull().sum().sort_values(ascending=False).head()\n",
    "\n"
   ]
  },
  {
   "cell_type": "code",
   "execution_count": 75,
   "id": "0441db36-59db-4bc4-9439-7453653f01ee",
   "metadata": {},
   "outputs": [],
   "source": [
    "\n",
    "\n",
    "# Use pyplot in matplotlib to plot histograms\n",
    "#%matplotlib inline\n",
    "import matplotlib.pyplot as plt\n",
    "\n",
    "def plot_histogram(x):\n",
    "    plt.hist(x, color='gray', alpha=0.5)\n",
    "    plt.title(\"Histogram of '{var_name}'\".format(var_name=x.name))\n",
    "    plt.xlabel(\"Value\")\n",
    "    plt.ylabel(\"Frequency\")\n",
    "    plt.show()\n",
    "\n",
    "    \n",
    "\n",
    "\n",
    "\n"
   ]
  },
  {
   "cell_type": "code",
   "execution_count": 76,
   "id": "18ab8f51-61af-4259-8184-db0c92e036e8",
   "metadata": {},
   "outputs": [
    {
     "data": {
      "image/png": "[encoded data removed]",
      "text/plain": [
       "<Figure size 640x480 with 1 Axes>"
      ]
     },
     "metadata": {},
     "output_type": "display_data"
    }
   ],
   "source": [
    "plot_histogram(df['Total_Unidades_Vendidas_2022Q4'])\n"
   ]
  },
  {
   "cell_type": "code",
   "execution_count": 95,
   "id": "a6176e0a-3de1-4226-88d5-e077717a2985",
   "metadata": {},
   "outputs": [
    {
     "name": "stdout",
     "output_type": "stream",
     "text": [
      "0.0     8425\n",
      "1.0      626\n",
      "2.0      377\n",
      "3.0      274\n",
      "4.0      185\n",
      "6.0      154\n",
      "5.0      149\n",
      "7.0      116\n",
      "8.0       64\n",
      "11.0      49\n",
      "12.0      47\n",
      "9.0       47\n",
      "10.0      45\n",
      "13.0      32\n",
      "15.0      25\n",
      "Name: Total_Unidades_Vendidas_2018Q4, dtype: int64\n"
     ]
    }
   ],
   "source": [
    "print(df['Total_Unidades_Vendidas_2018Q4'].value_counts().sort_values(ascending=False).head(15))"
   ]
  },
  {
   "cell_type": "code",
   "execution_count": null,
   "id": "2e595d05-f219-4eab-bf94-4d98715498be",
   "metadata": {},
   "outputs": [],
   "source": []
  }
 ],
 "metadata": {
  "kernelspec": {
   "display_name": "Python 3 (ipykernel)",
   "language": "python",
   "name": "python3"
  },
  "language_info": {
   "codemirror_mode": {
    "name": "ipython",
    "version": 3
   },
   "file_extension": ".py",
   "mimetype": "text/x-python",
   "name": "python",
   "nbconvert_exporter": "python",
   "pygments_lexer": "ipython3",
   "version": "3.10.8"
  },
  "vscode": {
   "interpreter": {
    "hash": "dae545736ee78e012acd08c370c6df0e68e8a318016cb2f8480f264d55cb96c2"
   }
  }
 },
 "nbformat": 4,
 "nbformat_minor": 5
}
