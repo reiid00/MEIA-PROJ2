{
 "cells": [
  {
   "cell_type": "code",
   "execution_count": 1,
   "id": "09fac7bc",
   "metadata": {},
   "outputs": [
    {
     "name": "stdout",
     "output_type": "stream",
     "text": [
      "Requirement already satisfied: pandas in c:\\users\\silve\\appdata\\local\\programs\\python\\python310\\lib\\site-packages (1.5.2)\n",
      "Requirement already satisfied: python-dateutil>=2.8.1 in c:\\users\\silve\\appdata\\local\\programs\\python\\python310\\lib\\site-packages (from pandas) (2.8.2)\n",
      "Requirement already satisfied: numpy>=1.21.0 in c:\\users\\silve\\appdata\\local\\programs\\python\\python310\\lib\\site-packages (from pandas) (1.23.5)\n",
      "Requirement already satisfied: pytz>=2020.1 in c:\\users\\silve\\appdata\\local\\programs\\python\\python310\\lib\\site-packages (from pandas) (2022.6)\n",
      "Requirement already satisfied: six>=1.5 in c:\\users\\silve\\appdata\\local\\programs\\python\\python310\\lib\\site-packages (from python-dateutil>=2.8.1->pandas) (1.16.0)\n",
      "Note: you may need to restart the kernel to use updated packages.\n"
     ]
    },
    {
     "name": "stderr",
     "output_type": "stream",
     "text": [
      "\n",
      "[notice] A new release of pip available: 22.2.2 -> 22.3.1\n",
      "[notice] To update, run: python.exe -m pip install --upgrade pip\n"
     ]
    },
    {
     "name": "stdout",
     "output_type": "stream",
     "text": [
      "Requirement already satisfied: xlrd in c:\\users\\silve\\appdata\\local\\programs\\python\\python310\\lib\\site-packages (2.0.1)\n",
      "Note: you may need to restart the kernel to use updated packages.\n"
     ]
    },
    {
     "name": "stderr",
     "output_type": "stream",
     "text": [
      "\n",
      "[notice] A new release of pip available: 22.2.2 -> 22.3.1\n",
      "[notice] To update, run: python.exe -m pip install --upgrade pip\n"
     ]
    },
    {
     "name": "stdout",
     "output_type": "stream",
     "text": [
      "Requirement already satisfied: openpyxl in c:\\users\\silve\\appdata\\local\\programs\\python\\python310\\lib\\site-packages (3.0.10)\n",
      "Requirement already satisfied: et-xmlfile in c:\\users\\silve\\appdata\\local\\programs\\python\\python310\\lib\\site-packages (from openpyxl) (1.1.0)\n",
      "Note: you may need to restart the kernel to use updated packages.\n"
     ]
    },
    {
     "name": "stderr",
     "output_type": "stream",
     "text": [
      "\n",
      "[notice] A new release of pip available: 22.2.2 -> 22.3.1\n",
      "[notice] To update, run: python.exe -m pip install --upgrade pip\n"
     ]
    }
   ],
   "source": [
    "%pip install pandas\n",
    "%pip install xlrd\n",
    "%pip install openpyxl"
   ]
  },
  {
   "cell_type": "code",
   "execution_count": 2,
   "id": "471bbf23",
   "metadata": {},
   "outputs": [],
   "source": [
    "import pandas as pd"
   ]
  },
  {
   "cell_type": "code",
   "execution_count": 77,
   "id": "1264d175",
   "metadata": {},
   "outputs": [],
   "source": [
    "\n",
    "# Carregamos o Dataset já tratado previamente no ficheiro treating_dataset.ipynb\n",
    "dataset = pd.read_excel(\"DATASET/DATASET_TREATED.xls\",\"Data\")\n"
   ]
  },
  {
   "cell_type": "code",
   "execution_count": 128,
   "id": "c908960b",
   "metadata": {},
   "outputs": [
    {
     "name": "stdout",
     "output_type": "stream",
     "text": [
      "      Série  Número  Item    Data do Movimento  Operação  Produto  Tamanho  \\\n",
      "4829  VENDA  771944     1  2018-01-02 00:00:00       104   340822      400   \n",
      "4830  VENDA  771944     2  2018-01-02 00:00:00       104   352722      400   \n",
      "4831  VENDA  771945     1  2018-01-02 00:00:00       104   130090      130   \n",
      "4832  VENDA  771945     2  2018-01-02 00:00:00       104   130090      130   \n",
      "4833  VENDA  771949     1  2018-01-02 00:00:00       102   351559      410   \n",
      "\n",
      "      Quantidade      Preço Nome_Tamanho  ... Unidade_Produto  \\\n",
      "4829           1  23.888889           40  ...              PR   \n",
      "4830           1  44.259259           40  ...              PR   \n",
      "4831           1  18.518519            U  ...              UN   \n",
      "4832           1  18.518519            U  ...              UN   \n",
      "4833           1  46.111111           41  ...              PR   \n",
      "\n",
      "     Referência_Produto DataUltimaAtualização_Produto NomeMarca_Produto  \\\n",
      "4829         CT00010001           2022-05-14 00:00:00          ALL STAR   \n",
      "4830         CT04480002           2018-08-23 00:00:00          ALL STAR   \n",
      "4831            100,00            2012-02-01 00:00:00                CP   \n",
      "4832            100,00            2012-02-01 00:00:00                CP   \n",
      "4833             FLYTER           2018-09-13 00:00:00         OLYMPIKUS   \n",
      "\n",
      "     Complemento_Produto Nome_Class_11_Produto Nome_Class_12_Produto  \\\n",
      "4829                 BCO              CALÇADOS             ESPORTIVO   \n",
      "4830                 PTO              CALÇADOS             ESPORTIVO   \n",
      "4831                  ..            ACESSÓRIOS                 GERAL   \n",
      "4832                  ..            ACESSÓRIOS                 GERAL   \n",
      "4833             PTO/CZA              CALÇADOS             ESPORTIVO   \n",
      "\n",
      "     Nome_Class_13_Produto Nome_Class_14_Produto Nome_Class_15_Produto  \n",
      "4829                 GERAL                 ANUAL          TENIS CASUAL  \n",
      "4830                 GERAL                 ANUAL          TENIS CASUAL  \n",
      "4831                 GERAL                 ANUAL                 DIV *  \n",
      "4832                 GERAL                 ANUAL                 DIV *  \n",
      "4833             MASCULINO                 ANUAL          TENIS RUNING  \n",
      "\n",
      "[5 rows x 21 columns]\n"
     ]
    }
   ],
   "source": [
    "print(dataset.head(5))"
   ]
  },
  {
   "cell_type": "code",
   "execution_count": 135,
   "id": "762f37bd",
   "metadata": {},
   "outputs": [
    {
     "name": "stdout",
     "output_type": "stream",
     "text": [
      "Index(['Série', 'Número', 'Item', 'Data do Movimento', 'Operação', 'Produto',\n",
      "       'Tamanho', 'Quantidade', 'Preço', 'Nome_Tamanho', 'Nome_Produto',\n",
      "       'Unidade_Produto', 'Referência_Produto',\n",
      "       'DataUltimaAtualização_Produto', 'NomeMarca_Produto',\n",
      "       'Complemento_Produto', 'Nome_Class_11_Produto', 'Nome_Class_12_Produto',\n",
      "       'Nome_Class_13_Produto', 'Nome_Class_14_Produto',\n",
      "       'Nome_Class_15_Produto'],\n",
      "      dtype='object')\n"
     ]
    }
   ],
   "source": [
    "print(dataset.columns)"
   ]
  },
  {
   "cell_type": "code",
   "execution_count": 127,
   "id": "6a72bb33",
   "metadata": {},
   "outputs": [],
   "source": [
    "\n",
    "# Removemos as colunas que não pretendemos utilizar\n",
    "dataset = dataset.drop(columns=[\"Unnamed: 0\", \"Classificação11_Produto\", \"Classificação12_Produto\", \"Classificação13_Produto\", \"Classificação14_Produto\", \"Classificação15_Produto\"])\n",
    "dataset = dataset.rename(columns={\"Valor original\":\"Preço\"})\n"
   ]
  },
  {
   "cell_type": "code",
   "execution_count": 21,
   "id": "4840b612",
   "metadata": {
    "scrolled": true
   },
   "outputs": [
    {
     "name": "stdout",
     "output_type": "stream",
     "text": [
      "Index(['Série', 'Número', 'Item', 'Data do Movimento', 'Operação', 'Produto',\n",
      "       'Tamanho', 'Quantidade', 'Valor original', 'Nome_Tamanho',\n",
      "       'Nome_Produto', 'Unidade_Produto', 'Referência_Produto',\n",
      "       'DataUltimaAtualização_Produto', 'NomeMarca_Produto',\n",
      "       'Complemento_Produto', 'Nome_Class_11_Produto', 'Nome_Class_12_Produto',\n",
      "       'Nome_Class_13_Produto', 'Nome_Class_14_Produto',\n",
      "       'Nome_Class_15_Produto'],\n",
      "      dtype='object')\n"
     ]
    }
   ],
   "source": [
    "\n",
    "print(dataset.columns)\n"
   ]
  },
  {
   "cell_type": "code",
   "execution_count": 79,
   "id": "bc77c3b9",
   "metadata": {},
   "outputs": [
    {
     "name": "stdout",
     "output_type": "stream",
     "text": [
      "03    21720\n",
      "04    15107\n",
      "NE     9415\n",
      "NS     3564\n",
      "05     3367\n",
      "AJ      169\n",
      "U         3\n",
      "UE        1\n",
      "Name: Série, dtype: int64\n"
     ]
    }
   ],
   "source": [
    "\n",
    "# Apenas as transações do tipo venda e compra é que são relevantes, sendo estas representadas pelos seguintes valores:\n",
    "# Venda = 03, 04, 05\n",
    "# Compra = NE\n",
    "print(dataset['Série'].value_counts().sort_values(ascending=False).head(10))  \n"
   ]
  },
  {
   "cell_type": "code",
   "execution_count": 120,
   "id": "ccf4df08",
   "metadata": {},
   "outputs": [],
   "source": [
    "\n",
    "# Apenas as transações do tipo venda e compra é que são relevantes, sendo estas representadas pelos seguintes valores:\n",
    "# Venda = 03, 04, 05\n",
    "# Compra = NE\n",
    "dataset['Série'].replace(['03','04', '05', 'NE'], [\"VENDA\", \"VENDA\", \"VENDA\", \"COMPRA\"], inplace=True)\n",
    "dataset = dataset[(dataset['Série'] == \"VENDA\") |  (dataset['Série'] == \"COMPRA\")]\n"
   ]
  },
  {
   "cell_type": "code",
   "execution_count": 121,
   "id": "dd9c9c1e",
   "metadata": {},
   "outputs": [
    {
     "name": "stdout",
     "output_type": "stream",
     "text": [
      "VENDA     40194\n",
      "COMPRA     9415\n",
      "Name: Série, dtype: int64\n"
     ]
    }
   ],
   "source": [
    "\n",
    "print(dataset['Série'].value_counts().sort_values(ascending=False).head(10))  \n"
   ]
  },
  {
   "cell_type": "code",
   "execution_count": 159,
   "id": "d3b0db3e",
   "metadata": {},
   "outputs": [],
   "source": [
    "\n",
    "# Separamos as vendas das compras\n",
    "dataset_compras = dataset[(dataset['Série'] == \"COMPRA\")].copy()\n",
    "dataset_vendas = dataset[(dataset['Série'] == \"VENDA\")].copy()\n"
   ]
  },
  {
   "cell_type": "code",
   "execution_count": 160,
   "id": "f513a0a3",
   "metadata": {},
   "outputs": [
    {
     "name": "stdout",
     "output_type": "stream",
     "text": [
      "COMPRA    9415\n",
      "Name: Série, dtype: int64\n"
     ]
    }
   ],
   "source": [
    "print(dataset_compras['Série'].value_counts().sort_values(ascending=False).head(10))  "
   ]
  },
  {
   "cell_type": "code",
   "execution_count": 191,
   "id": "f23ca2b7",
   "metadata": {},
   "outputs": [
    {
     "name": "stdout",
     "output_type": "stream",
     "text": [
      "VENDA    40194\n",
      "Name: Série, dtype: int64\n"
     ]
    }
   ],
   "source": [
    "print(dataset_vendas['Série'].value_counts().sort_values(ascending=False).head(10))  "
   ]
  },
  {
   "cell_type": "code",
   "execution_count": 205,
   "id": "4e2d3036",
   "metadata": {},
   "outputs": [
    {
     "name": "stdout",
     "output_type": "stream",
     "text": [
      "Index(['Série', 'Número', 'Item', 'Data do Movimento', 'Operação', 'Produto',\n",
      "       'Tamanho', 'Quantidade', 'Preço', 'Nome_Tamanho', 'Nome_Produto',\n",
      "       'Unidade_Produto', 'Referência_Produto',\n",
      "       'DataUltimaAtualização_Produto', 'NomeMarca_Produto',\n",
      "       'Complemento_Produto', 'Nome_Class_11_Produto', 'Nome_Class_12_Produto',\n",
      "       'Nome_Class_13_Produto', 'Nome_Class_14_Produto',\n",
      "       'Nome_Class_15_Produto'],\n",
      "      dtype='object')\n"
     ]
    }
   ],
   "source": [
    "print(dataset_compras.columns)"
   ]
  },
  {
   "cell_type": "code",
   "execution_count": 211,
   "id": "9b99f4c0",
   "metadata": {},
   "outputs": [],
   "source": [
    "\n",
    "# Inferimos o custo do produto vendido em cada venda com base na compra ao fornecedor mais recente perante a respetiva data\n",
    "def getCustoFromData(row):\n",
    "   rowPrevCustos = dataset_compras[(dataset_compras['Produto'] == row['Produto']) & (dataset_compras['Data do Movimento'] <= row['Data do Movimento'])].sort_values(by='Data do Movimento', ascending=False)['Preço']\n",
    "   if rowPrevCustos.empty:\n",
    "       return -1\n",
    "   return rowPrevCustos.iloc[0]\n",
    "    \n",
    "dataset_vendas['Custo'] = dataset_vendas.apply(lambda row: getCustoFromData(row), axis=1)\n",
    "\n"
   ]
  },
  {
   "cell_type": "code",
   "execution_count": 212,
   "id": "633a68a6",
   "metadata": {},
   "outputs": [
    {
     "name": "stdout",
     "output_type": "stream",
     "text": [
      "-1.000000     12138\n",
      " 1.648148       753\n",
      " 36.851852      639\n",
      " 31.296296      548\n",
      " 23.888889      518\n",
      " 9.240741       463\n",
      " 46.111111      456\n",
      " 24.485185      411\n",
      " 16.400000      408\n",
      " 12.914815      403\n",
      "Name: Custo, dtype: int64\n"
     ]
    }
   ],
   "source": [
    "\n",
    "# Verificamos a quantidade de vendas cujo custo não foi inferido\n",
    "print(dataset_vendas['Custo'].value_counts().sort_values(ascending=False).head(10))  \n",
    " \n"
   ]
  },
  {
   "cell_type": "code",
   "execution_count": 213,
   "id": "44a76208",
   "metadata": {},
   "outputs": [
    {
     "name": "stdout",
     "output_type": "stream",
     "text": [
      "      Série  Número  Item    Data do Movimento  Operação  Produto  Tamanho  \\\n",
      "4829  VENDA  771944     1  2018-01-02 00:00:00       104   340822      400   \n",
      "4830  VENDA  771944     2  2018-01-02 00:00:00       104   352722      400   \n",
      "4831  VENDA  771945     1  2018-01-02 00:00:00       104   130090      130   \n",
      "4832  VENDA  771945     2  2018-01-02 00:00:00       104   130090      130   \n",
      "4833  VENDA  771949     1  2018-01-02 00:00:00       102   351559      410   \n",
      "4834  VENDA  771954     1  2018-01-02 00:00:00       105   344441      134   \n",
      "4835  VENDA  771970     1  2018-01-02 00:00:00       104   327673      134   \n",
      "4836  VENDA  771970     2  2018-01-02 00:00:00       104   329892      133   \n",
      "4837  VENDA  771971     1  2018-01-02 00:00:00       104   351537      350   \n",
      "4838  VENDA  771972     1  2018-01-02 00:00:00       101   107743      130   \n",
      "\n",
      "      Quantidade      Preço Nome_Tamanho  ... Referência_Produto  \\\n",
      "4829           1  23.888889           40  ...         CT00010001   \n",
      "4830           1  44.259259           40  ...         CT04480002   \n",
      "4831           1  18.518519            U  ...            100,00    \n",
      "4832           1  18.518519            U  ...            100,00    \n",
      "4833           1  46.111111           41  ...             FLYTER   \n",
      "4834           1  33.148148           GG  ...         848865/100   \n",
      "4835           1  12.018519           GG  ...             AJ5882   \n",
      "4836           1  12.944444            G  ...         719759/435   \n",
      "4837           1  35.000000           35  ...          DELICATE3   \n",
      "4838           1  11.092593            U  ...              18010   \n",
      "\n",
      "     DataUltimaAtualização_Produto NomeMarca_Produto Complemento_Produto  \\\n",
      "4829           2022-05-14 00:00:00          ALL STAR                 BCO   \n",
      "4830           2018-08-23 00:00:00          ALL STAR                 PTO   \n",
      "4831           2012-02-01 00:00:00                CP                  ..   \n",
      "4832           2012-02-01 00:00:00                CP                  ..   \n",
      "4833           2018-09-13 00:00:00         OLYMPIKUS             PTO/CZA   \n",
      "4834           2017-08-11 00:00:00              NIKE           INTER BCO   \n",
      "4835           2020-03-18 00:00:00            ADIDAS                 ROY   \n",
      "4836           2017-12-28 00:00:00              NIKE                 ROY   \n",
      "4837           2018-11-12 00:00:00         OLYMPIKUS           CHU/CORAL   \n",
      "4838           2021-12-18 00:00:00            SPEEDO                AZUL   \n",
      "\n",
      "     Nome_Class_11_Produto Nome_Class_12_Produto Nome_Class_13_Produto  \\\n",
      "4829              CALÇADOS             ESPORTIVO                 GERAL   \n",
      "4830              CALÇADOS             ESPORTIVO                 GERAL   \n",
      "4831            ACESSÓRIOS                 GERAL                 GERAL   \n",
      "4832            ACESSÓRIOS                 GERAL                 GERAL   \n",
      "4833              CALÇADOS             ESPORTIVO             MASCULINO   \n",
      "4834            CONFECÇÕES             ESPORTIVO             MASCULINO   \n",
      "4835            CONFECÇÕES             ESPORTIVO             MASCULINO   \n",
      "4836            CONFECÇÕES             ESPORTIVO              FEMININO   \n",
      "4837              CALÇADOS             ESPORTIVO              FEMININO   \n",
      "4838            ACESSÓRIOS             ESPORTIVO                 GERAL   \n",
      "\n",
      "     Nome_Class_14_Produto Nome_Class_15_Produto      Custo  \n",
      "4829                 ANUAL          TENIS CASUAL  23.888889  \n",
      "4830                 ANUAL          TENIS CASUAL  44.259259  \n",
      "4831                 ANUAL                 DIV *  -1.000000  \n",
      "4832                 ANUAL                 DIV *  -1.000000  \n",
      "4833                 ANUAL          TENIS RUNING  42.407407  \n",
      "4834                 ANUAL         CALCAO CALCAO  33.148148  \n",
      "4835                 ANUAL         CALCAO CALCAO  12.018519  \n",
      "4836                 ANUAL         CALCAO CALCAO  -1.000000  \n",
      "4837                 ANUAL          TENIS RUNING  31.296296  \n",
      "4838                 ANUAL                OCULOS   3.685185  \n",
      "\n",
      "[10 rows x 22 columns]\n"
     ]
    }
   ],
   "source": [
    "print(dataset_vendas.head(10))  "
   ]
  },
  {
   "cell_type": "code",
   "execution_count": null,
   "id": "637314da",
   "metadata": {},
   "outputs": [],
   "source": []
  }
 ],
 "metadata": {
  "kernelspec": {
   "display_name": "Python 3 (ipykernel)",
   "language": "python",
   "name": "python3"
  },
  "language_info": {
   "codemirror_mode": {
    "name": "ipython",
    "version": 3
   },
   "file_extension": ".py",
   "mimetype": "text/x-python",
   "name": "python",
   "nbconvert_exporter": "python",
   "pygments_lexer": "ipython3",
   "version": "3.10.8"
  },
  "vscode": {
   "interpreter": {
    "hash": "dae545736ee78e012acd08c370c6df0e68e8a318016cb2f8480f264d55cb96c2"
   }
  }
 },
 "nbformat": 4,
 "nbformat_minor": 5
}
