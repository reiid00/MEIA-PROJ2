{
 "cells": [
  {
   "cell_type": "code",
   "execution_count": 387,
   "id": "f0629f54",
   "metadata": {},
   "outputs": [],
   "source": [
    "from pulp import *\n",
    "import pulp\n",
    "import pandas as pd\n",
    "import numpy as np\n",
    "import random"
   ]
  },
  {
   "cell_type": "code",
   "execution_count": 388,
   "id": "2ee5c7e1",
   "metadata": {},
   "outputs": [
    {
     "name": "stdout",
     "output_type": "stream",
     "text": [
      "[{'predictedProfits': 100, 'predictedProductQuantities': 10, 'dimension': 5, 'productName': 'p1'}, {'predictedProfits': 200, 'predictedProductQuantities': 20, 'dimension': 2, 'productName': 'p2'}, {'predictedProfits': 300, 'predictedProductQuantities': 30, 'dimension': 1, 'productName': 'p3'}, {'predictedProfits': 10, 'predictedProductQuantities': 1, 'dimension': 20, 'productName': 'p4'}]\n"
     ]
    }
   ],
   "source": [
    "# Read the Excel file into a DataFrame\n",
    "df = pd.read_excel('file.xlsx')\n",
    "\n",
    "# Convert the DataFrame to a NumPy array\n",
    "data = df.values\n",
    "products = []\n",
    "\n",
    "for row in data:\n",
    "    predictedProfits = row[0]\n",
    "    predictedProductQuantities = row[1]\n",
    "    dimension = row[2]\n",
    "    productName = row[3]\n",
    "\n",
    "    product = {'predictedProfits': predictedProfits, 'predictedProductQuantities': predictedProductQuantities, 'dimension': dimension, 'productName': productName}\n",
    "    products.append(product)\n",
    "\n",
    "print(products)"
   ]
  },
  {
   "cell_type": "code",
   "execution_count": 389,
   "id": "30a63d1f",
   "metadata": {},
   "outputs": [],
   "source": [
    "def calculate_profit(products):\n",
    "    for product in products:\n",
    "        profit = product['predictedProfits'] / product['predictedProductQuantities']\n",
    "        product['productProfit'] = profit\n",
    "    return products"
   ]
  },
  {
   "cell_type": "code",
   "execution_count": 390,
   "id": "0f258bb1",
   "metadata": {},
   "outputs": [
    {
     "name": "stdout",
     "output_type": "stream",
     "text": [
      "[{'predictedProfits': 100, 'predictedProductQuantities': 10, 'dimension': 5, 'productName': 'p1', 'productProfit': 10.0}, {'predictedProfits': 200, 'predictedProductQuantities': 20, 'dimension': 2, 'productName': 'p2', 'productProfit': 10.0}, {'predictedProfits': 300, 'predictedProductQuantities': 30, 'dimension': 1, 'productName': 'p3', 'productProfit': 10.0}, {'predictedProfits': 10, 'predictedProductQuantities': 1, 'dimension': 20, 'productName': 'p4', 'productProfit': 10.0}]\n"
     ]
    }
   ],
   "source": [
    "productTest = calculate_profit(products)\n",
    "print(productTest)"
   ]
  },
  {
   "cell_type": "code",
   "execution_count": 391,
   "id": "ed868591",
   "metadata": {},
   "outputs": [],
   "source": [
    "# Creation of the ILP model \n",
    "model = pulp.LpProblem(\"ILP_Problem\", pulp.LpMaximize)"
   ]
  },
  {
   "cell_type": "code",
   "execution_count": 392,
   "id": "eacf1bd3",
   "metadata": {},
   "outputs": [
    {
     "name": "stdout",
     "output_type": "stream",
     "text": [
      "[{'p1': p1}, {'p2': p2}, {'p3': p3}, {'p4': p4}]\n"
     ]
    }
   ],
   "source": [
    "# Define the decision variables\n",
    "decisionVariables = []\n",
    "def createDictionaryWithDecisionVariable():\n",
    "    for product in products:\n",
    "        decisionVariable = {product['productName']:  pulp.LpVariable(product['productName'], lowBound=0, cat='Integer')}\n",
    "        decisionVariables.append(decisionVariable)\n",
    "        \n",
    "createDictionaryWithDecisionVariable()\n",
    "print(decisionVariables)"
   ]
  },
  {
   "cell_type": "code",
   "execution_count": 393,
   "id": "44ff6c83",
   "metadata": {},
   "outputs": [
    {
     "name": "stdout",
     "output_type": "stream",
     "text": [
      "ILP_Problem:\n",
      "MAXIMIZE\n",
      "100*p1 + 200*p2 + 300*p3 + 10*p4 + 0\n",
      "VARIABLES\n",
      "0 <= p1 Integer\n",
      "0 <= p2 Integer\n",
      "0 <= p3 Integer\n",
      "0 <= p4 Integer\n",
      "\n"
     ]
    }
   ],
   "source": [
    "# function to calculate objective function\n",
    "\n",
    "def objectiveFunction(products):\n",
    "    model = 0\n",
    "    count = 0\n",
    "    for product in products:\n",
    "        model = model + (product['predictedProfits'] * decisionVariables[count][product['productName']])\n",
    "        count = count + 1\n",
    "    return model\n",
    "\n",
    "#objective function\n",
    "model += objectiveFunction(products)\n",
    "print(model)"
   ]
  },
  {
   "cell_type": "code",
   "execution_count": 394,
   "id": "78686120",
   "metadata": {},
   "outputs": [],
   "source": [
    "#add user input for the multiple variables\n",
    "\n",
    "minTotalAmount = int(input(\"Please insert minimum total amount of products: \"))\n",
    "maxTotalAmount = int(input(\"Please insert maximum  total amount of products: \"))\n",
    "\n",
    "#create two list with min and max amount per product by user insert\n",
    "\n",
    "minAmountProduct = int(input(\"Please insert minimum  amount of products : \"))\n",
    "maxAmountProduct  = int(input(\"Please insert maximum  amount of products : \"))\n",
    "\n",
    "minProductVariety = int(input(\"Please insert minimum number of product variety: \"))\n",
    "maxProductVariety  = int(input(\"Please insert maximum  number of product variety: \"))\n",
    "\n",
    "storeDimension  = int(input(\"Please insert store dimension: \"))"
   ]
  },
  {
   "cell_type": "code",
   "execution_count": 395,
   "id": "79e2cdb7",
   "metadata": {},
   "outputs": [
    {
     "name": "stdout",
     "output_type": "stream",
     "text": [
      "4\n",
      "10\n",
      "1\n",
      "5*p1 + 2*p2 + p3 + 20*p4\n"
     ]
    }
   ],
   "source": [
    "# Define the constraints\n",
    "\n",
    " # function to calculate variety of products\n",
    "def get_variety(products):\n",
    "    # Create an empty set to store the product names\n",
    "    product_set = []\n",
    "    \n",
    "    # Iterate over the products\n",
    "    for product in products:\n",
    "        # Get the product name and add it to the set\n",
    "        product_name = product['productName']\n",
    "        product_set.append(product_name)\n",
    "        \n",
    "    # Return the length of the set\n",
    "    return len(product_set)\n",
    "\n",
    "print(get_variety(products))\n",
    "variety=get_variety(products)\n",
    "\n",
    "#see why it results in Infeasible\n",
    "# model += variety <= maxProductVariety\n",
    "# model += variety >= minProductVariety\n",
    "\n",
    "\n",
    "#restriction to total amount of products\n",
    "\n",
    "def maxMinTotalProductsRestriction(products):\n",
    "    restrictFunction = 0\n",
    "    count = 0\n",
    "    for product in products:\n",
    "        restrictFunction = restrictFunction + decisionVariables[count][product['productName']]\n",
    "        count = count + 1\n",
    "    return restrictFunction\n",
    "    \n",
    "model += maxMinTotalProductsRestriction(products) <= maxTotalAmount #restricao de quantidade maximo total de produtos\n",
    "model += maxMinTotalProductsRestriction(products) >= minTotalAmount #restricao de valor minimo total de produtos\n",
    "\n",
    "# variety of products\n",
    "\n",
    "#restriction to maximum quantity of products\n",
    "def maxMinQuantityProductsRestriction(products,model):\n",
    "    count = 0\n",
    "    for product in products:\n",
    "        model += decisionVariables[count][product['productName']] <= maxAmountProduct\n",
    "        model += decisionVariables[count][product['productName']] >= minAmountProduct\n",
    "        count = count + 1\n",
    "    \n",
    "maxMinQuantityProductsRestriction(products, model)\n",
    "\n",
    "print(maxAmountProduct)\n",
    "print(minAmountProduct)\n",
    "\n",
    "\n",
    "def maxDimensionProductsRestriction(products):\n",
    "    count = 0\n",
    "    restrictFunction = 0\n",
    "    for product in products:                            \n",
    "        restrictFunction = restrictFunction + (product['dimension'] * decisionVariables[count][product['productName']])\n",
    "        count = count +1\n",
    "    return restrictFunction\n",
    "\n",
    "print(maxDimensionProductsRestriction(products))\n",
    "#restricao de dimensões de produtos, menor que dimensao todal da loja\n",
    "model += maxDimensionProductsRestriction(products) <= storeDimension \n"
   ]
  },
  {
   "cell_type": "code",
   "execution_count": 396,
   "id": "4af446e4",
   "metadata": {},
   "outputs": [
    {
     "name": "stdout",
     "output_type": "stream",
     "text": [
      "ILP_Problem:\n",
      "MAXIMIZE\n",
      "100*p1 + 200*p2 + 300*p3 + 10*p4 + 0\n",
      "SUBJECT TO\n",
      "_C1: p1 + p2 + p3 + p4 <= 100\n",
      "\n",
      "_C2: p1 + p2 + p3 + p4 >= 10\n",
      "\n",
      "_C3: p1 <= 10\n",
      "\n",
      "_C4: p1 >= 1\n",
      "\n",
      "_C5: p2 <= 10\n",
      "\n",
      "_C6: p2 >= 1\n",
      "\n",
      "_C7: p3 <= 10\n",
      "\n",
      "_C8: p3 >= 1\n",
      "\n",
      "_C9: p4 <= 10\n",
      "\n",
      "_C10: p4 >= 1\n",
      "\n",
      "_C11: 5 p1 + 2 p2 + p3 + 20 p4 <= 1.11111111111e+27\n",
      "\n",
      "VARIABLES\n",
      "0 <= p1 Integer\n",
      "0 <= p2 Integer\n",
      "0 <= p3 Integer\n",
      "0 <= p4 Integer\n",
      "\n"
     ]
    }
   ],
   "source": [
    "print(model)"
   ]
  },
  {
   "cell_type": "code",
   "execution_count": 397,
   "id": "6cd1d321",
   "metadata": {},
   "outputs": [],
   "source": [
    "# Solve the problem\n",
    "status = model.solve()"
   ]
  },
  {
   "cell_type": "code",
   "execution_count": 398,
   "id": "fe2f34d4",
   "metadata": {},
   "outputs": [
    {
     "name": "stdout",
     "output_type": "stream",
     "text": [
      "Optimal\n"
     ]
    }
   ],
   "source": [
    "print(pulp.LpStatus[status])"
   ]
  },
  {
   "cell_type": "code",
   "execution_count": 399,
   "id": "e42d549e",
   "metadata": {},
   "outputs": [],
   "source": [
    "#print(pulp.value(p1), pulp.value(model.objective))"
   ]
  },
  {
   "cell_type": "code",
   "execution_count": 400,
   "id": "897f7b45",
   "metadata": {},
   "outputs": [],
   "source": [
    "# Print the solution\n",
    "#print(\"Solution:\")\n",
    "#print(\"x =\", x.value())\n",
    "#print(\"y =\", y.value())"
   ]
  },
  {
   "cell_type": "code",
   "execution_count": 401,
   "id": "4a28b950",
   "metadata": {},
   "outputs": [
    {
     "name": "stdout",
     "output_type": "stream",
     "text": [
      "p1 = 10\n",
      "p2 = 10\n",
      "p3 = 10\n",
      "p4 = 10\n",
      "4\n",
      "[{'predictedProfits': 100, 'predictedProductQuantities': 10, 'dimension': 5, 'productName': 'p1', 'productProfit': 10.0}, {'predictedProfits': 200, 'predictedProductQuantities': 20, 'dimension': 2, 'productName': 'p2', 'productProfit': 10.0}, {'predictedProfits': 300, 'predictedProductQuantities': 30, 'dimension': 1, 'productName': 'p3', 'productProfit': 10.0}, {'predictedProfits': 10, 'predictedProductQuantities': 1, 'dimension': 20, 'productName': 'p4', 'productProfit': 10.0}]\n",
      "5\n"
     ]
    }
   ],
   "source": [
    "def printValuesReturned():\n",
    "    for v in model.variables():\n",
    "        try:\n",
    "            print(v.name,\"=\", v.value())\n",
    "        except:\n",
    "            print(\"error couldnt find value\")\n",
    "            \n",
    "printValuesReturned()\n",
    "print(len(products))\n",
    "print(products)\n",
    "print(products[0]['dimension'])"
   ]
  },
  {
   "cell_type": "code",
   "execution_count": 402,
   "id": "8a055501",
   "metadata": {},
   "outputs": [
    {
     "name": "stdout",
     "output_type": "stream",
     "text": [
      "[]\n",
      "('p1', 10, 100, 5)\n",
      "('p2', 20, 200, 2)\n",
      "('p3', 30, 300, 1)\n",
      "('p4', 1, 10, 20)\n"
     ]
    }
   ],
   "source": [
    "# Genetic Algorithm\n",
    "\n",
    "productsList = []\n",
    "print(productsList)\n",
    " \n",
    "for product in products:\n",
    "    productsList.append((product['productName'], product['predictedProductQuantities'], product['predictedProfits'], product['dimension']))\n",
    "for p in productsList:\n",
    "    print(p)"
   ]
  },
  {
   "cell_type": "code",
   "execution_count": 403,
   "id": "f44fb67f",
   "metadata": {},
   "outputs": [],
   "source": [
    "# Functions to validate restrictions\n",
    "# return 1 if restriction is repected else 0\n",
    "\n",
    "#Total Amount Restriction\n",
    "def validateTotalAmount(individuo):\n",
    "    somaTotalAmountIndividuo = sum(individuo)\n",
    "    if (somaTotalAmountIndividuo >= minTotalAmount) and (somaTotalAmountIndividuo <= maxTotalAmount):\n",
    "        return 1\n",
    "    else:\n",
    "        return 0\n",
    "    \n",
    "#Total Quantity Restriction\n",
    "def validateTotalQuantity(individuo):\n",
    "    contador = 0\n",
    "    individuoLen = len(individuo)\n",
    "    for indAux in individuo:\n",
    "        if (indAux >= minAmountProduct) and (indAux <= maxAmountProduct):\n",
    "            contador = contador + 1\n",
    "    if(contador == individuoLen):\n",
    "        return 1\n",
    "    else:\n",
    "        return 0\n",
    "\n",
    "#Dimension Restriction\n",
    "def validateDimension(individuo, products):\n",
    "    totalDimension = 0\n",
    "    contador = 0\n",
    "    for indAux in individuo:\n",
    "        totalDimension = indAux * products[contador]['dimension']\n",
    "        contador = contador + 1\n",
    "    if(totalDimension > storeDimension):\n",
    "        return 0\n",
    "    else:\n",
    "        return 1"
   ]
  },
  {
   "cell_type": "code",
   "execution_count": 404,
   "id": "9b01a56e",
   "metadata": {},
   "outputs": [],
   "source": [
    "# Create First Population\n",
    "\n",
    "population = []\n",
    "populationSize=100\n",
    "\n",
    "def firstpopulation(products):\n",
    "\n",
    "    while len(population) < populationSize:\n",
    "        solution = []\n",
    "        totalQuantity = 0\n",
    "        totalDimension = 0\n",
    "        \n",
    "        #generates the chromossomes each representing one product\n",
    "        for j in range(len(products)):\n",
    "            \n",
    "            quantity = random.randint(0, maxAmountProduct)\n",
    "            solution.append(quantity)\n",
    "            \n",
    "        #Total Amount Restriction\n",
    "        totalAmountRestriction = validateTotalAmount(solution)\n",
    "        #Total Quantity Restriction\n",
    "        totalQuantityRestriction = validateTotalQuantity(solution)\n",
    "        #Dimension Restriction\n",
    "        dimensionRestriction = validateDimension(solution, products)\n",
    "        \n",
    "        if (totalAmountRestriction == 1) and (totalQuantityRestriction == 1) and (dimensionRestriction == 1):\n",
    "            population.append(solution)\n",
    "            \n",
    "    return population"
   ]
  },
  {
   "cell_type": "code",
   "execution_count": 405,
   "id": "abf87d14",
   "metadata": {},
   "outputs": [
    {
     "name": "stdout",
     "output_type": "stream",
     "text": [
      "100\n",
      "[[7, 3, 8, 2], [5, 5, 7, 7], [4, 7, 4, 6], [4, 1, 3, 9], [10, 7, 4, 1], [5, 6, 1, 2], [4, 5, 6, 5], [5, 7, 5, 5], [1, 9, 6, 7], [8, 8, 3, 5], [5, 9, 10, 7], [8, 7, 1, 1], [10, 7, 7, 4], [10, 7, 5, 1], [7, 5, 6, 1], [2, 2, 10, 9], [9, 6, 8, 9], [3, 4, 9, 8], [8, 8, 6, 1], [8, 4, 3, 6], [3, 8, 2, 4], [3, 10, 10, 1], [9, 3, 6, 9], [8, 3, 6, 7], [5, 7, 10, 2], [2, 9, 8, 8], [9, 5, 8, 7], [3, 3, 8, 10], [1, 9, 8, 8], [8, 1, 7, 8], [6, 1, 5, 7], [3, 4, 6, 9], [3, 10, 9, 10], [10, 6, 1, 5], [10, 8, 2, 8], [3, 5, 4, 1], [5, 10, 3, 7], [10, 2, 7, 4], [7, 10, 5, 5], [3, 6, 7, 4], [2, 7, 10, 1], [4, 5, 6, 8], [10, 1, 7, 8], [1, 5, 6, 3], [1, 6, 5, 8], [1, 3, 3, 9], [8, 7, 6, 5], [9, 10, 10, 9], [6, 1, 7, 2], [1, 9, 8, 5], [9, 2, 2, 10], [5, 6, 4, 10], [6, 8, 7, 1], [7, 6, 3, 3], [1, 9, 9, 8], [2, 5, 7, 9], [1, 4, 7, 7], [7, 1, 7, 6], [6, 2, 5, 8], [3, 6, 6, 4], [1, 7, 5, 8], [4, 7, 8, 4], [8, 3, 3, 1], [8, 7, 10, 9], [6, 7, 2, 2], [9, 9, 1, 1], [8, 2, 6, 9], [6, 1, 7, 5], [10, 2, 1, 4], [4, 10, 10, 7], [6, 2, 3, 9], [10, 6, 7, 3], [7, 8, 9, 3], [9, 6, 6, 6], [8, 1, 4, 2], [8, 6, 3, 1], [10, 3, 10, 3], [3, 1, 7, 10], [7, 2, 9, 7], [8, 7, 10, 9], [2, 2, 1, 8], [6, 1, 6, 5], [9, 7, 10, 8], [2, 1, 8, 9], [7, 8, 9, 7], [3, 1, 2, 5], [7, 10, 5, 4], [3, 8, 3, 7], [3, 10, 7, 7], [9, 7, 1, 9], [8, 7, 1, 9], [10, 10, 9, 4], [10, 6, 7, 6], [2, 2, 3, 5], [10, 4, 5, 2], [6, 7, 9, 1], [4, 2, 4, 6], [3, 5, 3, 2], [8, 1, 9, 2], [9, 2, 1, 7]]\n"
     ]
    }
   ],
   "source": [
    "firstpopulation(products)\n",
    "\n",
    "print(len(firstpopulation(products)))\n",
    "print(population)"
   ]
  },
  {
   "cell_type": "code",
   "execution_count": 406,
   "id": "ea5eab41",
   "metadata": {},
   "outputs": [
    {
     "name": "stdout",
     "output_type": "stream",
     "text": [
      "len 100\n",
      "sorted_data [{'FitProfit': 5990, 'FitQuantities': [9, 10, 10, 9]}, {'FitProfit': 5740, 'FitQuantities': [10, 10, 9, 4]}, {'FitProfit': 5470, 'FitQuantities': [4, 10, 10, 7]}, {'FitProfit': 5380, 'FitQuantities': [9, 7, 10, 8]}, {'FitProfit': 5370, 'FitQuantities': [5, 9, 10, 7]}, {'FitProfit': 5310, 'FitQuantities': [3, 10, 10, 1]}, {'FitProfit': 5290, 'FitQuantities': [8, 7, 10, 9]}, {'FitProfit': 5290, 'FitQuantities': [8, 7, 10, 9]}, {'FitProfit': 5100, 'FitQuantities': [3, 10, 9, 10]}, {'FitProfit': 5070, 'FitQuantities': [7, 8, 9, 7]}, {'FitProfit': 5030, 'FitQuantities': [7, 8, 9, 3]}, {'FitProfit': 4920, 'FitQuantities': [5, 7, 10, 2]}, {'FitProfit': 4710, 'FitQuantities': [6, 7, 9, 1]}, {'FitProfit': 4680, 'FitQuantities': [1, 9, 9, 8]}, {'FitProfit': 4630, 'FitQuantities': [10, 3, 10, 3]}, {'FitProfit': 4610, 'FitQuantities': [2, 7, 10, 1]}, {'FitProfit': 4590, 'FitQuantities': [9, 6, 8, 9]}, {'FitProfit': 4540, 'FitQuantities': [10, 7, 7, 4]}, {'FitProfit': 4480, 'FitQuantities': [2, 9, 8, 8]}, {'FitProfit': 4470, 'FitQuantities': [3, 10, 7, 7]}, {'FitProfit': 4380, 'FitQuantities': [1, 9, 8, 8]}, {'FitProfit': 4370, 'FitQuantities': [9, 5, 8, 7]}, {'FitProfit': 4360, 'FitQuantities': [10, 6, 7, 6]}, {'FitProfit': 4350, 'FitQuantities': [1, 9, 8, 5]}, {'FitProfit': 4330, 'FitQuantities': [10, 6, 7, 3]}, {'FitProfit': 4310, 'FitQuantities': [6, 8, 7, 1]}, {'FitProfit': 4250, 'FitQuantities': [7, 10, 5, 5]}, {'FitProfit': 4240, 'FitQuantities': [4, 7, 8, 4]}, {'FitProfit': 4240, 'FitQuantities': [7, 10, 5, 4]}, {'FitProfit': 4210, 'FitQuantities': [8, 8, 6, 1]}, {'FitProfit': 4050, 'FitQuantities': [8, 7, 6, 5]}, {'FitProfit': 3960, 'FitQuantities': [9, 6, 6, 6]}, {'FitProfit': 3910, 'FitQuantities': [10, 7, 5, 1]}, {'FitProfit': 3880, 'FitQuantities': [3, 4, 9, 8]}, {'FitProfit': 3870, 'FitQuantities': [7, 2, 9, 7]}, {'FitProfit': 3770, 'FitQuantities': [1, 9, 6, 7]}, {'FitProfit': 3720, 'FitQuantities': [7, 3, 8, 2]}, {'FitProfit': 3720, 'FitQuantities': [8, 1, 9, 2]}, {'FitProfit': 3690, 'FitQuantities': [2, 2, 10, 9]}, {'FitProfit': 3670, 'FitQuantities': [5, 5, 7, 7]}, {'FitProfit': 3640, 'FitQuantities': [3, 6, 7, 4]}, {'FitProfit': 3610, 'FitQuantities': [10, 7, 4, 1]}, {'FitProfit': 3540, 'FitQuantities': [10, 2, 7, 4]}, {'FitProfit': 3510, 'FitQuantities': [7, 5, 6, 1]}, {'FitProfit': 3470, 'FitQuantities': [5, 10, 3, 7]}, {'FitProfit': 3450, 'FitQuantities': [5, 7, 5, 5]}, {'FitProfit': 3400, 'FitQuantities': [3, 3, 8, 10]}, {'FitProfit': 3390, 'FitQuantities': [9, 3, 6, 9]}, {'FitProfit': 3390, 'FitQuantities': [2, 5, 7, 9]}, {'FitProfit': 3380, 'FitQuantities': [10, 1, 7, 8]}, {'FitProfit': 3350, 'FitQuantities': [8, 8, 3, 5]}, {'FitProfit': 3340, 'FitQuantities': [3, 6, 6, 4]}, {'FitProfit': 3320, 'FitQuantities': [10, 4, 5, 2]}, {'FitProfit': 3280, 'FitQuantities': [10, 8, 2, 8]}, {'FitProfit': 3280, 'FitQuantities': [4, 5, 6, 8]}, {'FitProfit': 3270, 'FitQuantities': [8, 3, 6, 7]}, {'FitProfit': 3250, 'FitQuantities': [4, 5, 6, 5]}, {'FitProfit': 3180, 'FitQuantities': [8, 1, 7, 8]}, {'FitProfit': 3090, 'FitQuantities': [8, 2, 6, 9]}, {'FitProfit': 3080, 'FitQuantities': [1, 7, 5, 8]}, {'FitProfit': 3070, 'FitQuantities': [1, 4, 7, 7]}, {'FitProfit': 3060, 'FitQuantities': [4, 7, 4, 6]}, {'FitProfit': 3060, 'FitQuantities': [7, 1, 7, 6]}, {'FitProfit': 3010, 'FitQuantities': [9, 9, 1, 1]}, {'FitProfit': 3000, 'FitQuantities': [5, 6, 4, 10]}, {'FitProfit': 2990, 'FitQuantities': [3, 4, 6, 9]}, {'FitProfit': 2950, 'FitQuantities': [6, 1, 7, 5]}, {'FitProfit': 2930, 'FitQuantities': [1, 5, 6, 3]}, {'FitProfit': 2920, 'FitQuantities': [6, 1, 7, 2]}, {'FitProfit': 2910, 'FitQuantities': [8, 6, 3, 1]}, {'FitProfit': 2890, 'FitQuantities': [2, 1, 8, 9]}, {'FitProfit': 2880, 'FitQuantities': [1, 6, 5, 8]}, {'FitProfit': 2870, 'FitQuantities': [3, 8, 3, 7]}, {'FitProfit': 2830, 'FitQuantities': [7, 6, 3, 3]}, {'FitProfit': 2700, 'FitQuantities': [3, 1, 7, 10]}, {'FitProfit': 2690, 'FitQuantities': [9, 7, 1, 9]}, {'FitProfit': 2650, 'FitQuantities': [6, 1, 6, 5]}, {'FitProfit': 2620, 'FitQuantities': [6, 7, 2, 2]}, {'FitProfit': 2590, 'FitQuantities': [8, 7, 1, 9]}, {'FitProfit': 2580, 'FitQuantities': [6, 2, 5, 8]}, {'FitProfit': 2560, 'FitQuantities': [8, 4, 3, 6]}, {'FitProfit': 2550, 'FitQuantities': [10, 6, 1, 5]}, {'FitProfit': 2540, 'FitQuantities': [3, 8, 2, 4]}, {'FitProfit': 2510, 'FitQuantities': [8, 7, 1, 1]}, {'FitProfit': 2510, 'FitQuantities': [3, 5, 4, 1]}, {'FitProfit': 2370, 'FitQuantities': [6, 1, 5, 7]}, {'FitProfit': 2310, 'FitQuantities': [8, 3, 3, 1]}, {'FitProfit': 2220, 'FitQuantities': [8, 1, 4, 2]}, {'FitProfit': 2220, 'FitQuantities': [3, 5, 3, 2]}, {'FitProfit': 2060, 'FitQuantities': [4, 2, 4, 6]}, {'FitProfit': 2020, 'FitQuantities': [5, 6, 1, 2]}, {'FitProfit': 2000, 'FitQuantities': [9, 2, 2, 10]}, {'FitProfit': 1990, 'FitQuantities': [6, 2, 3, 9]}, {'FitProfit': 1740, 'FitQuantities': [10, 2, 1, 4]}, {'FitProfit': 1690, 'FitQuantities': [1, 3, 3, 9]}, {'FitProfit': 1670, 'FitQuantities': [9, 2, 1, 7]}, {'FitProfit': 1590, 'FitQuantities': [4, 1, 3, 9]}, {'FitProfit': 1550, 'FitQuantities': [2, 2, 3, 5]}, {'FitProfit': 1150, 'FitQuantities': [3, 1, 2, 5]}, {'FitProfit': 980, 'FitQuantities': [2, 2, 1, 8]}]\n"
     ]
    }
   ],
   "source": [
    "\n",
    "arraySomaProfits = []\n",
    "arrayFitProfitAndQuantity = []\n",
    "finalPopulation = []\n",
    "\n",
    "# if this element is 1 the first tax of best individuos is added to final population\n",
    "elementToGetFirstBestIndividuos = 0\n",
    "\n",
    "taxNoCrossover = 0.10\n",
    "\n",
    "def createFitnes(population, products):\n",
    "    \n",
    "    for person in population:\n",
    "        \n",
    "        soma = 0\n",
    "        contador = 0\n",
    "        \n",
    "        for productQuantity in person:\n",
    "            \n",
    "            soma = soma + (productQuantity * products[contador]['predictedProfits'])\n",
    "            contador = contador + 1\n",
    "            \n",
    "        auxVar = {'FitProfit': soma, 'FitQuantities': person}\n",
    "        arrayFitProfitAndQuantity.append(auxVar)\n",
    "        arraySomaProfits.append(soma)\n",
    "        sorted_data = sorted(arrayFitProfitAndQuantity, key=lambda x: x['FitProfit'], reverse=True)\n",
    "    contador+=1\n",
    "        \n",
    "    # array = np.array(arraySomaProfits)\n",
    "    # array[::-1].sort()\n",
    "    # print(array)\n",
    "    print(\"len\",len(sorted_data))\n",
    "    print(\"sorted_data\",sorted_data)\n",
    "    return sorted_data\n",
    "lis=createFitnes(population, products)\n"
   ]
  },
  {
   "cell_type": "code",
   "execution_count": 407,
   "id": "2e25e4ac",
   "metadata": {},
   "outputs": [
    {
     "name": "stdout",
     "output_type": "stream",
     "text": [
      "-----------------------------------------finalPopulationList---------------------------------------------------\n",
      "[{'FitProfit': 5990, 'FitQuantities': [9, 10, 10, 9]}, {'FitProfit': 5740, 'FitQuantities': [10, 10, 9, 4]}, {'FitProfit': 5470, 'FitQuantities': [4, 10, 10, 7]}, {'FitProfit': 5380, 'FitQuantities': [9, 7, 10, 8]}, {'FitProfit': 5370, 'FitQuantities': [5, 9, 10, 7]}, {'FitProfit': 5310, 'FitQuantities': [3, 10, 10, 1]}, {'FitProfit': 5290, 'FitQuantities': [8, 7, 10, 9]}, {'FitProfit': 5290, 'FitQuantities': [8, 7, 10, 9]}, {'FitProfit': 5100, 'FitQuantities': [3, 10, 9, 10]}, {'FitProfit': 5070, 'FitQuantities': [7, 8, 9, 7]}]\n",
      "--------------------------------------------------------------------------------------------------------\n"
     ]
    }
   ],
   "source": [
    "#saves the first best quantity% to the final list\n",
    "#finalPopulation = []\n",
    "def getBestXElementsDic(lis, percentage):\n",
    "   \n",
    "    for i in range(len(lis)//percentage):\n",
    " \n",
    "        #returns {'FitProfit': 2850, 'FitQuantities': [5, 4, 5, 5]},...\n",
    "        finalPopulation.append(lis[i])\n",
    "        #returns  [5, 4, 5, 5],....\n",
    "        #finalPopulation.append(lis[i]['FitQuantities'])\n",
    "       \n",
    "  \n",
    "\n",
    "    return finalPopulation\n",
    "\n",
    "dic=getBestXElementsDic(lis,10)\n",
    "print(\"-----------------------------------------finalPopulationList---------------------------------------------------\")\n",
    "print(dic)\n",
    "print(\"--------------------------------------------------------------------------------------------------------\")\n"
   ]
  },
  {
   "cell_type": "code",
   "execution_count": 408,
   "id": "28ff9355",
   "metadata": {},
   "outputs": [
    {
     "name": "stdout",
     "output_type": "stream",
     "text": [
      "-----------------------------------------finalPopulationList---------------------------------------------------\n",
      "[{'FitProfit': 5990, 'FitQuantities': [9, 10, 10, 9]}, {'FitProfit': 5740, 'FitQuantities': [10, 10, 9, 4]}, {'FitProfit': 5470, 'FitQuantities': [4, 10, 10, 7]}, {'FitProfit': 5380, 'FitQuantities': [9, 7, 10, 8]}, {'FitProfit': 5370, 'FitQuantities': [5, 9, 10, 7]}, {'FitProfit': 5310, 'FitQuantities': [3, 10, 10, 1]}, {'FitProfit': 5290, 'FitQuantities': [8, 7, 10, 9]}, {'FitProfit': 5290, 'FitQuantities': [8, 7, 10, 9]}, {'FitProfit': 5100, 'FitQuantities': [3, 10, 9, 10]}, {'FitProfit': 5070, 'FitQuantities': [7, 8, 9, 7]}, [9, 10, 10, 9], [10, 10, 9, 4], [4, 10, 10, 7], [9, 7, 10, 8], [5, 9, 10, 7], [3, 10, 10, 1], [8, 7, 10, 9], [8, 7, 10, 9], [3, 10, 9, 10], [7, 8, 9, 7]]\n",
      "--------------------------------------------------------------------------------------------------------\n"
     ]
    }
   ],
   "source": [
    "#saves the first best quantity% to the final list\n",
    "#finalPopulation = []\n",
    "def getBestXElementsQuantity(lis, percentage):\n",
    "   \n",
    "    for i in range(len(lis)//percentage):\n",
    " \n",
    "        #returns {'FitProfit': 2850, 'FitQuantities': [5, 4, 5, 5]},...\n",
    "        #finalPopulation.append(lis[i])\n",
    "        #returns  [5, 4, 5, 5],....\n",
    "        finalPopulation.append(lis[i]['FitQuantities'])\n",
    "       \n",
    "  \n",
    "\n",
    "    return finalPopulation\n",
    "\n",
    "quantities=getBestXElementsQuantity(lis,10)\n",
    "print(\"-----------------------------------------finalPopulationList---------------------------------------------------\")\n",
    "print(quantities)\n",
    "print(\"--------------------------------------------------------------------------------------------------------\")\n"
   ]
  },
  {
   "cell_type": "code",
   "execution_count": 409,
   "id": "979bc676",
   "metadata": {},
   "outputs": [
    {
     "name": "stdout",
     "output_type": "stream",
     "text": [
      "--------------------------------------CrossoverList------------------------------------------------------\n",
      "[{'FitProfit': 5030, 'FitQuantities': [7, 8, 9, 3]}, {'FitProfit': 4920, 'FitQuantities': [5, 7, 10, 2]}, {'FitProfit': 4710, 'FitQuantities': [6, 7, 9, 1]}, {'FitProfit': 4680, 'FitQuantities': [1, 9, 9, 8]}, {'FitProfit': 4630, 'FitQuantities': [10, 3, 10, 3]}, {'FitProfit': 4610, 'FitQuantities': [2, 7, 10, 1]}, {'FitProfit': 4590, 'FitQuantities': [9, 6, 8, 9]}, {'FitProfit': 4540, 'FitQuantities': [10, 7, 7, 4]}, {'FitProfit': 4480, 'FitQuantities': [2, 9, 8, 8]}, {'FitProfit': 4470, 'FitQuantities': [3, 10, 7, 7]}, {'FitProfit': 4380, 'FitQuantities': [1, 9, 8, 8]}, {'FitProfit': 4370, 'FitQuantities': [9, 5, 8, 7]}, {'FitProfit': 4360, 'FitQuantities': [10, 6, 7, 6]}, {'FitProfit': 4350, 'FitQuantities': [1, 9, 8, 5]}, {'FitProfit': 4330, 'FitQuantities': [10, 6, 7, 3]}, {'FitProfit': 4310, 'FitQuantities': [6, 8, 7, 1]}, {'FitProfit': 4250, 'FitQuantities': [7, 10, 5, 5]}, {'FitProfit': 4240, 'FitQuantities': [4, 7, 8, 4]}, {'FitProfit': 4240, 'FitQuantities': [7, 10, 5, 4]}, {'FitProfit': 4210, 'FitQuantities': [8, 8, 6, 1]}, {'FitProfit': 4050, 'FitQuantities': [8, 7, 6, 5]}, {'FitProfit': 3960, 'FitQuantities': [9, 6, 6, 6]}, {'FitProfit': 3910, 'FitQuantities': [10, 7, 5, 1]}, {'FitProfit': 3880, 'FitQuantities': [3, 4, 9, 8]}, {'FitProfit': 3870, 'FitQuantities': [7, 2, 9, 7]}, {'FitProfit': 3770, 'FitQuantities': [1, 9, 6, 7]}, {'FitProfit': 3720, 'FitQuantities': [7, 3, 8, 2]}, {'FitProfit': 3720, 'FitQuantities': [8, 1, 9, 2]}, {'FitProfit': 3690, 'FitQuantities': [2, 2, 10, 9]}, {'FitProfit': 3670, 'FitQuantities': [5, 5, 7, 7]}, {'FitProfit': 3640, 'FitQuantities': [3, 6, 7, 4]}, {'FitProfit': 3610, 'FitQuantities': [10, 7, 4, 1]}, {'FitProfit': 3540, 'FitQuantities': [10, 2, 7, 4]}, {'FitProfit': 3510, 'FitQuantities': [7, 5, 6, 1]}, {'FitProfit': 3470, 'FitQuantities': [5, 10, 3, 7]}, {'FitProfit': 3450, 'FitQuantities': [5, 7, 5, 5]}, {'FitProfit': 3400, 'FitQuantities': [3, 3, 8, 10]}, {'FitProfit': 3390, 'FitQuantities': [9, 3, 6, 9]}, {'FitProfit': 3390, 'FitQuantities': [2, 5, 7, 9]}, {'FitProfit': 3380, 'FitQuantities': [10, 1, 7, 8]}, {'FitProfit': 3350, 'FitQuantities': [8, 8, 3, 5]}, {'FitProfit': 3340, 'FitQuantities': [3, 6, 6, 4]}, {'FitProfit': 3320, 'FitQuantities': [10, 4, 5, 2]}, {'FitProfit': 3280, 'FitQuantities': [10, 8, 2, 8]}, {'FitProfit': 3280, 'FitQuantities': [4, 5, 6, 8]}, {'FitProfit': 3270, 'FitQuantities': [8, 3, 6, 7]}, {'FitProfit': 3250, 'FitQuantities': [4, 5, 6, 5]}, {'FitProfit': 3180, 'FitQuantities': [8, 1, 7, 8]}, {'FitProfit': 3090, 'FitQuantities': [8, 2, 6, 9]}, {'FitProfit': 3080, 'FitQuantities': [1, 7, 5, 8]}, {'FitProfit': 3070, 'FitQuantities': [1, 4, 7, 7]}, {'FitProfit': 3060, 'FitQuantities': [4, 7, 4, 6]}, {'FitProfit': 3060, 'FitQuantities': [7, 1, 7, 6]}, {'FitProfit': 3010, 'FitQuantities': [9, 9, 1, 1]}, {'FitProfit': 3000, 'FitQuantities': [5, 6, 4, 10]}, {'FitProfit': 2990, 'FitQuantities': [3, 4, 6, 9]}, {'FitProfit': 2950, 'FitQuantities': [6, 1, 7, 5]}, {'FitProfit': 2930, 'FitQuantities': [1, 5, 6, 3]}, {'FitProfit': 2920, 'FitQuantities': [6, 1, 7, 2]}, {'FitProfit': 2910, 'FitQuantities': [8, 6, 3, 1]}, {'FitProfit': 2890, 'FitQuantities': [2, 1, 8, 9]}, {'FitProfit': 2880, 'FitQuantities': [1, 6, 5, 8]}, {'FitProfit': 2870, 'FitQuantities': [3, 8, 3, 7]}, {'FitProfit': 2830, 'FitQuantities': [7, 6, 3, 3]}, {'FitProfit': 2700, 'FitQuantities': [3, 1, 7, 10]}, {'FitProfit': 2690, 'FitQuantities': [9, 7, 1, 9]}, {'FitProfit': 2650, 'FitQuantities': [6, 1, 6, 5]}, {'FitProfit': 2620, 'FitQuantities': [6, 7, 2, 2]}, {'FitProfit': 2590, 'FitQuantities': [8, 7, 1, 9]}, {'FitProfit': 2580, 'FitQuantities': [6, 2, 5, 8]}, {'FitProfit': 2560, 'FitQuantities': [8, 4, 3, 6]}, {'FitProfit': 2550, 'FitQuantities': [10, 6, 1, 5]}, {'FitProfit': 2540, 'FitQuantities': [3, 8, 2, 4]}, {'FitProfit': 2510, 'FitQuantities': [8, 7, 1, 1]}, {'FitProfit': 2510, 'FitQuantities': [3, 5, 4, 1]}, {'FitProfit': 2370, 'FitQuantities': [6, 1, 5, 7]}, {'FitProfit': 2310, 'FitQuantities': [8, 3, 3, 1]}, {'FitProfit': 2220, 'FitQuantities': [8, 1, 4, 2]}, {'FitProfit': 2220, 'FitQuantities': [3, 5, 3, 2]}, {'FitProfit': 2060, 'FitQuantities': [4, 2, 4, 6]}, {'FitProfit': 2020, 'FitQuantities': [5, 6, 1, 2]}, {'FitProfit': 2000, 'FitQuantities': [9, 2, 2, 10]}, {'FitProfit': 1990, 'FitQuantities': [6, 2, 3, 9]}, {'FitProfit': 1740, 'FitQuantities': [10, 2, 1, 4]}, {'FitProfit': 1690, 'FitQuantities': [1, 3, 3, 9]}, {'FitProfit': 1670, 'FitQuantities': [9, 2, 1, 7]}, {'FitProfit': 1590, 'FitQuantities': [4, 1, 3, 9]}, {'FitProfit': 1550, 'FitQuantities': [2, 2, 3, 5]}, {'FitProfit': 1150, 'FitQuantities': [3, 1, 2, 5]}, {'FitProfit': 980, 'FitQuantities': [2, 2, 1, 8]}]\n",
      "--------------------------------------------------------------------------------------------\n"
     ]
    }
   ],
   "source": [
    "#removes previously saved elements, and gets the list of elements that are going to crossover\n",
    "def getRemainingForCrossover(lis, percentage):\n",
    "    crossoverElements = lis[len(lis)//percentage:]\n",
    "    return crossoverElements\n",
    "\n",
    "crossoverElements=getRemainingForCrossover(lis,10)\n",
    "print(\"--------------------------------------CrossoverList------------------------------------------------------\")\n",
    "print(crossoverElements)\n",
    "print(\"--------------------------------------------------------------------------------------------\")\n",
    "\n",
    "###!!!!!!!!!!!!!!!!! return just quantities so that the next method doesn't need to be called"
   ]
  },
  {
   "cell_type": "code",
   "execution_count": 410,
   "id": "38bc44f3",
   "metadata": {},
   "outputs": [
    {
     "name": "stdout",
     "output_type": "stream",
     "text": [
      "90\n",
      "[[7, 8, 9, 3], [5, 7, 10, 2], [6, 7, 9, 1], [1, 9, 9, 8], [10, 3, 10, 3], [2, 7, 10, 1], [9, 6, 8, 9], [10, 7, 7, 4], [2, 9, 8, 8], [3, 10, 7, 7], [1, 9, 8, 8], [9, 5, 8, 7], [10, 6, 7, 6], [1, 9, 8, 5], [10, 6, 7, 3], [6, 8, 7, 1], [7, 10, 5, 5], [4, 7, 8, 4], [7, 10, 5, 4], [8, 8, 6, 1], [8, 7, 6, 5], [9, 6, 6, 6], [10, 7, 5, 1], [3, 4, 9, 8], [7, 2, 9, 7], [1, 9, 6, 7], [7, 3, 8, 2], [8, 1, 9, 2], [2, 2, 10, 9], [5, 5, 7, 7], [3, 6, 7, 4], [10, 7, 4, 1], [10, 2, 7, 4], [7, 5, 6, 1], [5, 10, 3, 7], [5, 7, 5, 5], [3, 3, 8, 10], [9, 3, 6, 9], [2, 5, 7, 9], [10, 1, 7, 8], [8, 8, 3, 5], [3, 6, 6, 4], [10, 4, 5, 2], [10, 8, 2, 8], [4, 5, 6, 8], [8, 3, 6, 7], [4, 5, 6, 5], [8, 1, 7, 8], [8, 2, 6, 9], [1, 7, 5, 8], [1, 4, 7, 7], [4, 7, 4, 6], [7, 1, 7, 6], [9, 9, 1, 1], [5, 6, 4, 10], [3, 4, 6, 9], [6, 1, 7, 5], [1, 5, 6, 3], [6, 1, 7, 2], [8, 6, 3, 1], [2, 1, 8, 9], [1, 6, 5, 8], [3, 8, 3, 7], [7, 6, 3, 3], [3, 1, 7, 10], [9, 7, 1, 9], [6, 1, 6, 5], [6, 7, 2, 2], [8, 7, 1, 9], [6, 2, 5, 8], [8, 4, 3, 6], [10, 6, 1, 5], [3, 8, 2, 4], [8, 7, 1, 1], [3, 5, 4, 1], [6, 1, 5, 7], [8, 3, 3, 1], [8, 1, 4, 2], [3, 5, 3, 2], [4, 2, 4, 6], [5, 6, 1, 2], [9, 2, 2, 10], [6, 2, 3, 9], [10, 2, 1, 4], [1, 3, 3, 9], [9, 2, 1, 7], [4, 1, 3, 9], [2, 2, 3, 5], [3, 1, 2, 5], [2, 2, 1, 8]]\n"
     ]
    }
   ],
   "source": [
    "def getQuantities(crossoverElements):\n",
    "    \n",
    "    print(len(crossoverElements))\n",
    "    fit_quantities = [d['FitQuantities'] for d in crossoverElements]\n",
    "    return fit_quantities\n",
    "\n",
    "crossoverElementsQuantities=getQuantities(crossoverElements)\n",
    "\n",
    "print(crossoverElementsQuantities)"
   ]
  },
  {
   "cell_type": "code",
   "execution_count": 411,
   "id": "a830cf7d",
   "metadata": {},
   "outputs": [],
   "source": [
    "\n",
    "def crossoverMethod(parent1, parent2, crossover_rate):\n",
    "    if random.uniform(0, 1) < crossover_rate:\n",
    "        crossover_point = random.randint(1, len(parent1) - 1)\n",
    "        child1 = parent1[:crossover_point] + parent2[crossover_point:]\n",
    "        child2 = parent2[:crossover_point] + parent1[crossover_point:]\n",
    "        return child1, child2\n",
    "    else:\n",
    "        return parent1, parent2\n",
    "\n"
   ]
  },
  {
   "cell_type": "code",
   "execution_count": 412,
   "id": "2e0d65fc",
   "metadata": {},
   "outputs": [
    {
     "name": "stdout",
     "output_type": "stream",
     "text": [
      "[[7, 8, 1, 8], [2, 2, 9, 3], [7, 8, 9, 3], [2, 2, 1, 8], [7, 8, 9, 8], [2, 2, 1, 3], [7, 8, 9, 3], [2, 2, 1, 8], [7, 8, 9, 8], [2, 2, 1, 3], [7, 8, 9, 3], [2, 2, 1, 8], [7, 8, 9, 8], [2, 2, 1, 3], [7, 2, 1, 8], [2, 8, 9, 3], [7, 8, 9, 3], [2, 2, 1, 8], [7, 8, 9, 3], [2, 2, 1, 8], [7, 8, 1, 8], [2, 2, 9, 3], [7, 8, 9, 8], [2, 2, 1, 3], [7, 2, 1, 8], [2, 8, 9, 3], [7, 8, 1, 8], [2, 2, 9, 3], [7, 8, 9, 8], [2, 2, 1, 3], [7, 2, 1, 8], [2, 8, 9, 3], [7, 8, 9, 8], [2, 2, 1, 3], [7, 8, 9, 8], [2, 2, 1, 3], [7, 8, 9, 3], [2, 2, 1, 8], [7, 2, 1, 8], [2, 8, 9, 3], [7, 2, 1, 8], [2, 8, 9, 3], [7, 8, 1, 8], [2, 2, 9, 3], [7, 8, 1, 8], [2, 2, 9, 3], [7, 8, 9, 8], [2, 2, 1, 3], [7, 8, 9, 8], [2, 2, 1, 3], [7, 8, 1, 8], [2, 2, 9, 3], [7, 2, 1, 8], [2, 8, 9, 3], [7, 2, 1, 8], [2, 8, 9, 3], [7, 8, 9, 8], [2, 2, 1, 3], [7, 2, 1, 8], [2, 8, 9, 3], [7, 8, 1, 8], [2, 2, 9, 3], [7, 8, 9, 3], [2, 2, 1, 8], [7, 8, 9, 8], [2, 2, 1, 3], [7, 8, 1, 8], [2, 2, 9, 3], [7, 8, 9, 3], [2, 2, 1, 8], [7, 8, 9, 8], [2, 2, 1, 3], [7, 2, 1, 8], [2, 8, 9, 3], [7, 2, 1, 8], [2, 8, 9, 3], [7, 8, 9, 8], [2, 2, 1, 3], [7, 2, 1, 8], [2, 8, 9, 3], [7, 8, 1, 8], [2, 2, 9, 3], [7, 8, 9, 8], [2, 2, 1, 3], [7, 8, 9, 3], [2, 2, 1, 8], [7, 8, 9, 3], [2, 2, 1, 8], [7, 8, 1, 8], [2, 2, 9, 3], [7, 8, 1, 8], [2, 2, 9, 3], [7, 2, 1, 8], [2, 8, 9, 3], [7, 2, 1, 8], [2, 8, 9, 3], [7, 8, 9, 8], [2, 2, 1, 3], [7, 8, 1, 8], [2, 2, 9, 3], [7, 8, 9, 3], [2, 2, 1, 8], [7, 8, 9, 8], [2, 2, 1, 3], [7, 8, 9, 8], [2, 2, 1, 3], [7, 2, 1, 8], [2, 8, 9, 3], [7, 2, 1, 8], [2, 8, 9, 3], [7, 8, 9, 8], [2, 2, 1, 3], [7, 8, 9, 3], [2, 2, 1, 8], [7, 8, 9, 3], [2, 2, 1, 8], [7, 2, 1, 8], [2, 8, 9, 3], [7, 8, 9, 8], [2, 2, 1, 3], [7, 8, 9, 3], [2, 2, 1, 8], [7, 8, 1, 8], [2, 2, 9, 3], [7, 2, 1, 8], [2, 8, 9, 3], [7, 8, 1, 8], [2, 2, 9, 3], [7, 2, 1, 8], [2, 8, 9, 3], [7, 8, 9, 3], [2, 2, 1, 8], [7, 2, 1, 8], [2, 8, 9, 3], [7, 8, 1, 8], [2, 2, 9, 3], [7, 8, 9, 8], [2, 2, 1, 3], [7, 8, 9, 3], [2, 2, 1, 8], [7, 2, 1, 8], [2, 8, 9, 3], [7, 2, 1, 8], [2, 8, 9, 3], [7, 8, 9, 3], [2, 2, 1, 8], [7, 8, 9, 3], [2, 2, 1, 8], [7, 8, 9, 3], [2, 2, 1, 8], [7, 8, 9, 3], [2, 2, 1, 8], [7, 2, 1, 8], [2, 8, 9, 3], [7, 2, 1, 8], [2, 8, 9, 3], [7, 8, 9, 8], [2, 2, 1, 3], [7, 8, 9, 3], [2, 2, 1, 8], [7, 8, 9, 8], [2, 2, 1, 3], [7, 8, 9, 8], [2, 2, 1, 3], [7, 8, 9, 8], [2, 2, 1, 3], [7, 8, 9, 8], [2, 2, 1, 3], [7, 8, 9, 8], [2, 2, 1, 3], [7, 8, 9, 3], [2, 2, 1, 8], [7, 8, 1, 8], [2, 2, 9, 3], [7, 8, 1, 8], [2, 2, 9, 3], [7, 8, 9, 3], [2, 2, 1, 8], [7, 8, 9, 3], [2, 2, 1, 8]]\n",
      "180\n"
     ]
    }
   ],
   "source": [
    "crossover_rate = 0.8 # Crossover rate\n",
    "percentageCrossover = 10 # Crossover rate\n",
    "def crossOver(dic):\n",
    "    listCrossOver=[]\n",
    "    for gene in dic:\n",
    "      \n",
    "        #selects first and last genes to crossover\n",
    "        parent1 = dic[0]['FitQuantities']\n",
    "        parent2 = dic[-1]['FitQuantities']\n",
    "\n",
    "        child1, child2 = crossoverMethod(parent1, parent2, crossover_rate)\n",
    "        # listCrossOver.append(child1)\n",
    "        # listCrossOver.append(child2)\n",
    "        if child1 not in listCrossOver:\n",
    "            listCrossOver.append(child1)\n",
    "        if child2 not in listCrossOver:\n",
    "            listCrossOver.append(child1)\n",
    "      \n",
    "\n",
    "\n",
    "    #return first 10% of the genes resulting from the crossover      !!!! deveriam ser os 10% MELHORES-necessário fazer calculo\n",
    "    #return listCrossOver[:len(listCrossOver)//percentageCrossover]\n",
    "    return listCrossOver\n",
    "\n",
    "print(crossOver(crossoverElements))\n",
    "print(len(crossOver(crossoverElements)))\n"
   ]
  },
  {
   "cell_type": "code",
   "execution_count": 72,
   "id": "e4459481",
   "metadata": {},
   "outputs": [
    {
     "ename": "ValueError",
     "evalue": "list.remove(x): x not in list",
     "output_type": "error",
     "traceback": [
      "\u001b[1;31m---------------------------------------------------------------------------\u001b[0m",
      "\u001b[1;31mValueError\u001b[0m                                Traceback (most recent call last)",
      "\u001b[1;32m~\\AppData\\Local\\Temp\\ipykernel_50888\\373085336.py\u001b[0m in \u001b[0;36m<module>\u001b[1;34m\u001b[0m\n\u001b[0;32m     43\u001b[0m     \u001b[1;32mreturn\u001b[0m \u001b[0marray\u001b[0m\u001b[1;33m\u001b[0m\u001b[1;33m\u001b[0m\u001b[0m\n\u001b[0;32m     44\u001b[0m \u001b[1;33m\u001b[0m\u001b[0m\n\u001b[1;32m---> 45\u001b[1;33m \u001b[0mfitSolutions\u001b[0m \u001b[1;33m=\u001b[0m \u001b[0mcreateFitnessFunction\u001b[0m\u001b[1;33m(\u001b[0m\u001b[0mpopulation\u001b[0m\u001b[1;33m,\u001b[0m \u001b[0mproducts\u001b[0m\u001b[1;33m)\u001b[0m\u001b[1;33m\u001b[0m\u001b[1;33m\u001b[0m\u001b[0m\n\u001b[0m\u001b[0;32m     46\u001b[0m \u001b[0mmaxFitSolution\u001b[0m \u001b[1;33m=\u001b[0m \u001b[0mnp\u001b[0m\u001b[1;33m.\u001b[0m\u001b[0mmax\u001b[0m\u001b[1;33m(\u001b[0m\u001b[0mcreateFitnessFunction\u001b[0m\u001b[1;33m(\u001b[0m\u001b[0mpopulation\u001b[0m\u001b[1;33m,\u001b[0m \u001b[0mproducts\u001b[0m\u001b[1;33m)\u001b[0m\u001b[1;33m)\u001b[0m\u001b[1;33m\u001b[0m\u001b[1;33m\u001b[0m\u001b[0m\n\u001b[0;32m     47\u001b[0m \u001b[1;33m\u001b[0m\u001b[0m\n",
      "\u001b[1;32m~\\AppData\\Local\\Temp\\ipykernel_50888\\373085336.py\u001b[0m in \u001b[0;36mcreateFitnessFunction\u001b[1;34m(population, products)\u001b[0m\n\u001b[0;32m     39\u001b[0m             \u001b[1;32mif\u001b[0m \u001b[0melement\u001b[0m\u001b[1;33m[\u001b[0m\u001b[1;34m'FitProfit'\u001b[0m\u001b[1;33m]\u001b[0m \u001b[1;33m==\u001b[0m \u001b[0marray\u001b[0m\u001b[1;33m[\u001b[0m\u001b[0mi\u001b[0m\u001b[1;33m]\u001b[0m\u001b[1;33m:\u001b[0m\u001b[1;33m\u001b[0m\u001b[1;33m\u001b[0m\u001b[0m\n\u001b[0;32m     40\u001b[0m                 \u001b[0mfinalPopulation\u001b[0m\u001b[1;33m.\u001b[0m\u001b[0mappend\u001b[0m\u001b[1;33m(\u001b[0m\u001b[0melement\u001b[0m\u001b[1;33m[\u001b[0m\u001b[1;34m'FitQuantities'\u001b[0m\u001b[1;33m]\u001b[0m\u001b[1;33m)\u001b[0m\u001b[1;33m\u001b[0m\u001b[1;33m\u001b[0m\u001b[0m\n\u001b[1;32m---> 41\u001b[1;33m                 \u001b[0mpopulation\u001b[0m\u001b[1;33m.\u001b[0m\u001b[0mremove\u001b[0m\u001b[1;33m(\u001b[0m\u001b[0melement\u001b[0m\u001b[1;33m[\u001b[0m\u001b[1;34m'FitQuantities'\u001b[0m\u001b[1;33m]\u001b[0m\u001b[1;33m)\u001b[0m\u001b[1;33m\u001b[0m\u001b[1;33m\u001b[0m\u001b[0m\n\u001b[0m\u001b[0;32m     42\u001b[0m \u001b[1;33m\u001b[0m\u001b[0m\n\u001b[0;32m     43\u001b[0m     \u001b[1;32mreturn\u001b[0m \u001b[0marray\u001b[0m\u001b[1;33m\u001b[0m\u001b[1;33m\u001b[0m\u001b[0m\n",
      "\u001b[1;31mValueError\u001b[0m: list.remove(x): x not in list"
     ]
    }
   ],
   "source": [
    "# Create Fitness function to give the best solution\n",
    "\n",
    "arraySomaProfits = []\n",
    "arrayFitProfitAndQuantity = []\n",
    "finalPopulation = []\n",
    "\n",
    "# if this element is 1 the first tax of best individuos is added to final population\n",
    "elementToGetFirstBestIndividuos = 0\n",
    "\n",
    "taxNoCrossover = 0.10\n",
    "\n",
    "def createFitnessFunction(population, products):\n",
    "    \n",
    "    for person in population:\n",
    "        \n",
    "        soma = 0\n",
    "        contador = 0\n",
    "        \n",
    "        for productQuantity in person:\n",
    "            \n",
    "            soma = soma + (productQuantity * products[contador]['predictedProfits'])\n",
    "            contador = contador + 1\n",
    "            \n",
    "        auxVar = {'FitProfit': soma, 'FitQuantities': person}\n",
    "        arrayFitProfitAndQuantity.append(auxVar)\n",
    "        arraySomaProfits.append(soma)\n",
    "        \n",
    "    array = np.array(arraySomaProfits)\n",
    "    array[::-1].sort()\n",
    "    \n",
    "    # get out taxNoCrossover to final population\n",
    "    \n",
    "    numberElementsNoCrossover = len(population) * taxNoCrossover\n",
    "    \n",
    "    for i in range(round(numberElementsNoCrossover)):\n",
    "        \n",
    "        for element in arrayFitProfitAndQuantity:\n",
    "            \n",
    "            if element['FitProfit'] == array[i]:\n",
    "                finalPopulation.append(element['FitQuantities'])\n",
    "                population.remove(element['FitQuantities'])\n",
    "            \n",
    "    return array\n",
    "\n",
    "fitSolutions = createFitnessFunction(population, products)\n",
    "maxFitSolution = np.max(createFitnessFunction(population, products))\n",
    "\n",
    "print(fitSolutions)\n",
    "print(maxFitSolution)\n",
    "print(finalPopulation)\n",
    "print(len(population) )"
   ]
  },
  {
   "cell_type": "code",
   "execution_count": 47,
   "id": "23e5cdba",
   "metadata": {},
   "outputs": [
    {
     "name": "stdout",
     "output_type": "stream",
     "text": [
      "[5, 1, 4, 3]\n",
      "0\n"
     ]
    }
   ],
   "source": [
    "print(population[1])\n",
    "print(random.randint(0, len(population[0])))"
   ]
  },
  {
   "cell_type": "code",
   "execution_count": 161,
   "id": "d90dfb9c",
   "metadata": {},
   "outputs": [
    {
     "name": "stdout",
     "output_type": "stream",
     "text": [
      "[3, 2, 2, 5]\n",
      "[2, 4, 2, 4]\n",
      "[3, 2, 2, 5]\n",
      "[2, 4, 2, 4]\n"
     ]
    }
   ],
   "source": [
    "# Function to crossover\n",
    "\n",
    "def crossover(finalPopulation):\n",
    "    \n",
    " #   while len(population) > 1:\n",
    "        \n",
    "        firstPai = population[0]\n",
    "        secondPai = population[1]\n",
    "        print(firstPai)\n",
    "        print(secondPai)\n",
    "        crossoverPoint = random.randint(0, len(population[0]))\n",
    "        for i in range(crossoverPoint):\n",
    "            aux = firstPai[i]\n",
    "            print(aux)\n",
    "            firstPai[i] = secondPai[i]\n",
    "            print(firstPai[i])\n",
    "            secondPai[i] = aux\n",
    "            print(secondPai[i])\n",
    "            \n",
    "        print(firstPai)\n",
    "        print(secondPai)\n",
    " \n",
    "crossover(population)"
   ]
  },
  {
   "cell_type": "code",
   "execution_count": 222,
   "id": "5b800c47",
   "metadata": {},
   "outputs": [],
   "source": [
    "import random\n",
    "\n",
    "\n",
    "def optimize_product_quantities(productsList, maxTotalQuantity, maxProductQuantity, storeDimension):\n",
    "    # products is a list of tuples, where each tuple contains the following information about a product:\n",
    "    # (name, quantity, price, dimension)\n",
    "\n",
    "    # Create a population of random solutions\n",
    "\n",
    "    # population = []\n",
    "    # for i in range(100):\n",
    "    #     solution = []\n",
    "    #     totalQuantity = 0\n",
    "    #     totalDimension = 0\n",
    "    #     for j in range(len(productsList)):\n",
    "    #         quantity = random.randint(0, maxProductQuantity)\n",
    "    #         totalQuantity += quantity\n",
    "    #         totalDimension += quantity * productsList[j][2]\n",
    "    #         solution.append(quantity)\n",
    "    #     if totalQuantity <= maxTotalQuantity and totalDimension <= storeDimension:\n",
    "    #         population.append(solution)\n",
    "\n",
    "    #represents code above\n",
    "    firstpopulation(productsList)\n",
    "\n",
    "    # Set the number of generations and the mutation rate\n",
    "    numGenerations = 1000\n",
    "    mutationRate = 0.01\n",
    "\n",
    "    # Run the genetic algorithm\n",
    "    for generation in range(numGenerations):\n",
    "        # Calculate the fitness of each solution in the population\n",
    "        populationFitness = []\n",
    "        for i in range(len(population)):\n",
    "            totalProfit = 0\n",
    "            totalQuantity = 0\n",
    "            totalDimension = 0\n",
    "            for j in range(len(productsList)):\n",
    "                totalProfit += population[i][j] * productsList[j][2]\n",
    "                totalQuantity += population[i][j]\n",
    "                totalDimension += population[i][j] * productsList[j][3]\n",
    "            if totalQuantity <= maxTotalQuantity and totalDimension <= storeDimension:\n",
    "                populationFitness.append(totalProfit)\n",
    "            else:\n",
    "                populationFitness.append(0)\n",
    "\n",
    "        # Select the fittest solutions for breeding\n",
    "        fittestSolutions = []\n",
    "        for i in range(int(len(population) / 2)):\n",
    "            fittestIndex = populationFitness.index(max(populationFitness))\n",
    "            fittestSolutions.append(population[fittestIndex])\n",
    "            populationFitness[fittestIndex] = 0\n",
    "        population = fittestSolutions\n",
    "\n",
    "        # Breed the solutions to create a new population\n",
    "        newPopulation = []\n",
    "        for i in range(len(population)):\n",
    "            parent1 = population[i]\n",
    "            parent2 = population[random.randint(0, len(population) - 1)]\n",
    "            child = []\n",
    "            for j in range(len(productsList)):\n",
    "                if random.random() < 0.5:\n",
    "                    child.append(parent1[j])\n",
    "                else:\n",
    "                    child.append(parent2[j])\n",
    "\n",
    "            # Mutate the child\n",
    "            if random.random() < mutationRate:\n",
    "                mutationIndex = random.randint(0, len(productsList) - 1)\n",
    "                child[mutationIndex] = random.randint(0, maxProductQuantity)\n",
    "\n",
    "            newPopulation.append(child)\n",
    "        population = newPopulation\n",
    "        print(generation)\n",
    "    # Return the fittest solution\n",
    "\n",
    "    return population[0]"
   ]
  },
  {
   "cell_type": "code",
   "execution_count": 223,
   "id": "dd2c1efd",
   "metadata": {},
   "outputs": [
    {
     "ename": "UnboundLocalError",
     "evalue": "local variable 'population' referenced before assignment",
     "output_type": "error",
     "traceback": [
      "\u001b[1;31m---------------------------------------------------------------------------\u001b[0m",
      "\u001b[1;31mUnboundLocalError\u001b[0m                         Traceback (most recent call last)",
      "\u001b[1;32m~\\AppData\\Local\\Temp\\ipykernel_10704\\2164255306.py\u001b[0m in \u001b[0;36m<module>\u001b[1;34m\u001b[0m\n\u001b[1;32m----> 1\u001b[1;33m \u001b[0moptimize_product_quantities\u001b[0m\u001b[1;33m(\u001b[0m\u001b[0mproductsList\u001b[0m\u001b[1;33m,\u001b[0m\u001b[0mmaxTotalAmount\u001b[0m\u001b[1;33m,\u001b[0m\u001b[0mmaxAmountProduct\u001b[0m\u001b[1;33m,\u001b[0m\u001b[0mstoreDimension\u001b[0m\u001b[1;33m)\u001b[0m\u001b[1;33m\u001b[0m\u001b[1;33m\u001b[0m\u001b[0m\n\u001b[0m",
      "\u001b[1;32m~\\AppData\\Local\\Temp\\ipykernel_10704\\750100233.py\u001b[0m in \u001b[0;36moptimize_product_quantities\u001b[1;34m(productsList, maxTotalQuantity, maxProductQuantity, storeDimension)\u001b[0m\n\u001b[0;32m     32\u001b[0m         \u001b[1;31m# Calculate the fitness of each solution in the population\u001b[0m\u001b[1;33m\u001b[0m\u001b[1;33m\u001b[0m\u001b[0m\n\u001b[0;32m     33\u001b[0m         \u001b[0mpopulationFitness\u001b[0m \u001b[1;33m=\u001b[0m \u001b[1;33m[\u001b[0m\u001b[1;33m]\u001b[0m\u001b[1;33m\u001b[0m\u001b[1;33m\u001b[0m\u001b[0m\n\u001b[1;32m---> 34\u001b[1;33m         \u001b[1;32mfor\u001b[0m \u001b[0mi\u001b[0m \u001b[1;32min\u001b[0m \u001b[0mrange\u001b[0m\u001b[1;33m(\u001b[0m\u001b[0mlen\u001b[0m\u001b[1;33m(\u001b[0m\u001b[0mpopulation\u001b[0m\u001b[1;33m)\u001b[0m\u001b[1;33m)\u001b[0m\u001b[1;33m:\u001b[0m\u001b[1;33m\u001b[0m\u001b[1;33m\u001b[0m\u001b[0m\n\u001b[0m\u001b[0;32m     35\u001b[0m             \u001b[0mtotalProfit\u001b[0m \u001b[1;33m=\u001b[0m \u001b[1;36m0\u001b[0m\u001b[1;33m\u001b[0m\u001b[1;33m\u001b[0m\u001b[0m\n\u001b[0;32m     36\u001b[0m             \u001b[0mtotalQuantity\u001b[0m \u001b[1;33m=\u001b[0m \u001b[1;36m0\u001b[0m\u001b[1;33m\u001b[0m\u001b[1;33m\u001b[0m\u001b[0m\n",
      "\u001b[1;31mUnboundLocalError\u001b[0m: local variable 'population' referenced before assignment"
     ]
    }
   ],
   "source": [
    "optimize_product_quantities(productsList,maxTotalAmount,maxAmountProduct,storeDimension)"
   ]
  },
  {
   "cell_type": "code",
   "execution_count": 185,
   "id": "e751dbf6",
   "metadata": {},
   "outputs": [
    {
     "ename": "TypeError",
     "evalue": "object of type 'int' has no len()",
     "output_type": "error",
     "traceback": [
      "\u001b[1;31m---------------------------------------------------------------------------\u001b[0m",
      "\u001b[1;31mTypeError\u001b[0m                                 Traceback (most recent call last)",
      "\u001b[1;32m~\\AppData\\Local\\Temp\\ipykernel_10704\\4052108543.py\u001b[0m in \u001b[0;36m<module>\u001b[1;34m\u001b[0m\n\u001b[0;32m     26\u001b[0m     \u001b[1;31m# We'll use one-point crossover here, which involves selecting a random point in the parents' genomes\u001b[0m\u001b[1;33m\u001b[0m\u001b[1;33m\u001b[0m\u001b[0m\n\u001b[0;32m     27\u001b[0m     \u001b[1;31m# and swapping the genes on either side of the point to create the offspring\u001b[0m\u001b[1;33m\u001b[0m\u001b[1;33m\u001b[0m\u001b[0m\n\u001b[1;32m---> 28\u001b[1;33m     \u001b[0mcrossover_point\u001b[0m \u001b[1;33m=\u001b[0m \u001b[0mrandom\u001b[0m\u001b[1;33m.\u001b[0m\u001b[0mrandint\u001b[0m\u001b[1;33m(\u001b[0m\u001b[1;36m1\u001b[0m\u001b[1;33m,\u001b[0m \u001b[0mlen\u001b[0m\u001b[1;33m(\u001b[0m\u001b[0mparent1\u001b[0m\u001b[1;33m)\u001b[0m\u001b[1;33m)\u001b[0m\u001b[1;33m\u001b[0m\u001b[1;33m\u001b[0m\u001b[0m\n\u001b[0m\u001b[0;32m     29\u001b[0m     \u001b[0moffspring\u001b[0m \u001b[1;33m=\u001b[0m \u001b[0mparent1\u001b[0m\u001b[1;33m[\u001b[0m\u001b[1;33m:\u001b[0m\u001b[0mcrossover_point\u001b[0m\u001b[1;33m]\u001b[0m \u001b[1;33m+\u001b[0m \u001b[0mparent2\u001b[0m\u001b[1;33m[\u001b[0m\u001b[0mcrossover_point\u001b[0m\u001b[1;33m:\u001b[0m\u001b[1;33m]\u001b[0m\u001b[1;33m\u001b[0m\u001b[1;33m\u001b[0m\u001b[0m\n\u001b[0;32m     30\u001b[0m \u001b[1;33m\u001b[0m\u001b[0m\n",
      "\u001b[1;31mTypeError\u001b[0m: object of type 'int' has no len()"
     ]
    }
   ],
   "source": [
    "\n",
    "\n",
    "# Define the fitness function\n",
    "def fitness(x):\n",
    "    # x is the number of products to buy\n",
    "    # We can define the fitness as the difference between the desired stock level and the actual stock level\n",
    "    # The desired stock level is 10\n",
    "    return abs(10 - x)\n",
    "\n",
    "# Initialize the population with random solutions\n",
    "population = [random.randint(0, 20) for _ in range(10)]\n",
    "\n",
    "# Set the maximum number of generations\n",
    "max_generations = 100\n",
    "\n",
    "# Iterate over the generations\n",
    "for generation in range(max_generations):\n",
    "    # Evaluate the fitness of each solution\n",
    "    fitness_values = [fitness(x) for x in population]\n",
    "    \n",
    "    # Select the best solutions as parents\n",
    "    # We'll use tournament selection here, which involves selecting a random subset of the population\n",
    "    # and choosing the best solution from that subset as the parent\n",
    "    parent1 = min(random.sample(population, 5), key=fitness)\n",
    "    parent2 = min(random.sample(population, 5), key=fitness)\n",
    "    \n",
    "    # Create offspring by combining the parents using crossover\n",
    "    # We'll use one-point crossover here, which involves selecting a random point in the parents' genomes\n",
    "    # and swapping the genes on either side of the point to create the offspring\n",
    "    crossover_point = random.randint(1, len(parent1))\n",
    "    offspring = parent1[:crossover_point] + parent2[crossover_point:]\n",
    "    \n",
    "    # Add some randomness to the offspring using mutation\n",
    "    # We'll flip a random bit in the offspring's genome\n",
    "    mutation_point = random.randint(0, len(offspring) - 1)\n",
    "    offspring[mutation_point] = 1 - offspring[mutation_point]\n",
    "    \n",
    "    # Replace the worst solution in the population with the offspring\n",
    "    worst_solution = max(zip(population, fitness_values), key=lambda x: x[1])\n",
    "    population[population.index(worst_solution[0])] = offspring\n",
    "\n",
    "# The final solution is the best solution in the final generation\n",
    "best_solution = min(zip(population, fitness_values), key=lambda x: x[1])\n",
    "print(f\"The optimal number of products to buy is: {best_solution[0]}\")"
   ]
  },
  {
   "cell_type": "code",
   "execution_count": null,
   "id": "46f91a5f",
   "metadata": {},
   "outputs": [],
   "source": [
    "\n",
    "  # evaluate the fitness of a given solution\n",
    "  def evaluate_fitness(products):\n",
    "\n",
    "#  # check if better (e.g. perform a tournament)\n",
    "#  if scores[ix] < scores[selection_ix]:\n",
    "#  selection_ix = ix\n",
    "#  return pop[selection_ix]\n",
    "#{'predictedProfits': 100, 'predictedProductQuantities': 10, 'dimension': 5, 'productName': 'p1', 'productProfit': 10.0},  \n",
    "\n",
    "    bestQuantity = 0\n",
    "        if products['predictedProfits'] < products['predictedProductQuantities']:\n",
    "      return 0\n",
    "\n",
    "    \n",
    "    total_dimension = sum([q * d for q, d in zip(solution, product_dimensions)])\n",
    "    if total_quantity < min_quantity or total_quantity > max_quantity or total_dimension > store_dimension:\n",
    "      return 0\n",
    "    profit = calculate_profit(solution)\n",
    "    # calculate the deviation from the target profit\n",
    "    deviation = abs(profit - target_profit)\n",
    "    # the fitness is higher for solutions that have a lower deviation from the target profit\n",
    "    return 1 / (deviation + 1)\n",
    "\n",
    "  # genetic algorithm function\n",
    "  def genetic_algorithm(fitness_fn):\n",
    "    # initialize population\n",
    "    population = initialize_population(product_quantities)\n",
    "    for generation in range(max_generations):\n",
    "      # evaluate fitness\n",
    "      fitnesses = [fitness_fn(s) for s in population]\n",
    "      # select parents\n",
    "      parents = select_parents(population, fitnesses)\n",
    "      # create offspring\n",
    "      offspring = create_offspring(parents)\n",
    "      # mutate offspring\n",
    "      offspring = mutate(offspring)\n",
    "      # replace least fit individuals in population with offspring\n",
    "      population = replace_least_fit(population, offspring)\n",
    "    # return the fittest solution\n",
    "    return population[0]\n",
    "\n",
    "  # use the genetic algorithm to find the optimal solution\n",
    "  return genetic_algorithm(evaluate_fitness)"
   ]
  },
  {
   "cell_type": "code",
   "execution_count": null,
   "id": "b48f1315",
   "metadata": {},
   "outputs": [],
   "source": [
    "#--------------------------------------------------------------------------\n"
   ]
  }
 ],
 "metadata": {
  "kernelspec": {
   "display_name": "base",
   "language": "python",
   "name": "python3"
  },
  "language_info": {
   "codemirror_mode": {
    "name": "ipython",
    "version": 3
   },
   "file_extension": ".py",
   "mimetype": "text/x-python",
   "name": "python",
   "nbconvert_exporter": "python",
   "pygments_lexer": "ipython3",
   "version": "3.9.13"
  },
  "vscode": {
   "interpreter": {
    "hash": "59971bb70b9cb59c1a0387cc4769b0547c9172043d0f7a819e5db58cda7fa362"
   }
  }
 },
 "nbformat": 4,
 "nbformat_minor": 5
}
