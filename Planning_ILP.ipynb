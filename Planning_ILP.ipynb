{
 "cells": [
  {
   "cell_type": "code",
   "execution_count": 204,
   "id": "f0629f54",
   "metadata": {},
   "outputs": [],
   "source": [
    "from pulp import *\n",
    "import pulp\n",
    "import pandas as pd\n",
    "import numpy as np\n",
    "import random"
   ]
  },
  {
   "cell_type": "code",
   "execution_count": 205,
   "id": "2ee5c7e1",
   "metadata": {},
   "outputs": [
    {
     "name": "stdout",
     "output_type": "stream",
     "text": [
      "[{'predictedProfits': 100, 'predictedProductQuantities': 10, 'dimension': 5, 'productName': 'p1'}, {'predictedProfits': 200, 'predictedProductQuantities': 20, 'dimension': 2, 'productName': 'p2'}, {'predictedProfits': 300, 'predictedProductQuantities': 30, 'dimension': 1, 'productName': 'p3'}, {'predictedProfits': 10, 'predictedProductQuantities': 1, 'dimension': 20, 'productName': 'p4'}]\n"
     ]
    }
   ],
   "source": [
    "# Read the Excel file into a DataFrame\n",
    "df = pd.read_excel('file.xlsx')\n",
    "\n",
    "# Convert the DataFrame to a NumPy array\n",
    "data = df.values\n",
    "products = []\n",
    "\n",
    "for row in data:\n",
    "    predictedProfits = row[0]\n",
    "    predictedProductQuantities = row[1]\n",
    "    dimension = row[2]\n",
    "    productName = row[3]\n",
    "\n",
    "    product = {'predictedProfits': predictedProfits, 'predictedProductQuantities': predictedProductQuantities, 'dimension': dimension, 'productName': productName}\n",
    "    products.append(product)\n",
    "\n",
    "print(products)"
   ]
  },
  {
   "cell_type": "code",
   "execution_count": 206,
   "id": "30a63d1f",
   "metadata": {},
   "outputs": [],
   "source": [
    "def calculate_profit(products):\n",
    "    for product in products:\n",
    "        profit = product['predictedProfits'] / product['predictedProductQuantities']\n",
    "        product['productProfit'] = profit\n",
    "    return products"
   ]
  },
  {
   "cell_type": "code",
   "execution_count": 207,
   "id": "0f258bb1",
   "metadata": {},
   "outputs": [
    {
     "name": "stdout",
     "output_type": "stream",
     "text": [
      "[{'predictedProfits': 100, 'predictedProductQuantities': 10, 'dimension': 5, 'productName': 'p1', 'productProfit': 10.0}, {'predictedProfits': 200, 'predictedProductQuantities': 20, 'dimension': 2, 'productName': 'p2', 'productProfit': 10.0}, {'predictedProfits': 300, 'predictedProductQuantities': 30, 'dimension': 1, 'productName': 'p3', 'productProfit': 10.0}, {'predictedProfits': 10, 'predictedProductQuantities': 1, 'dimension': 20, 'productName': 'p4', 'productProfit': 10.0}]\n"
     ]
    }
   ],
   "source": [
    "productTest = calculate_profit(products)\n",
    "print(productTest)"
   ]
  },
  {
   "cell_type": "code",
   "execution_count": 208,
   "id": "ed868591",
   "metadata": {},
   "outputs": [],
   "source": [
    "# Creation of the ILP model \n",
    "model = pulp.LpProblem(\"ILP_Problem\", pulp.LpMaximize)"
   ]
  },
  {
   "cell_type": "code",
   "execution_count": 209,
   "id": "eacf1bd3",
   "metadata": {},
   "outputs": [
    {
     "name": "stdout",
     "output_type": "stream",
     "text": [
      "[{'p1': p1}, {'p2': p2}, {'p3': p3}, {'p4': p4}]\n"
     ]
    }
   ],
   "source": [
    "# Define the decision variables\n",
    "decisionVariables = []\n",
    "def createDictionaryWithDecisionVariable():\n",
    "    for product in products:\n",
    "        decisionVariable = {product['productName']:  pulp.LpVariable(product['productName'], lowBound=0, cat='Integer')}\n",
    "        decisionVariables.append(decisionVariable)\n",
    "        \n",
    "createDictionaryWithDecisionVariable()\n",
    "print(decisionVariables)"
   ]
  },
  {
   "cell_type": "code",
   "execution_count": 210,
   "id": "44ff6c83",
   "metadata": {},
   "outputs": [
    {
     "name": "stdout",
     "output_type": "stream",
     "text": [
      "ILP_Problem:\n",
      "MAXIMIZE\n",
      "100*p1 + 200*p2 + 300*p3 + 10*p4 + 0\n",
      "VARIABLES\n",
      "0 <= p1 Integer\n",
      "0 <= p2 Integer\n",
      "0 <= p3 Integer\n",
      "0 <= p4 Integer\n",
      "\n"
     ]
    }
   ],
   "source": [
    "# function to calculate objective function\n",
    "\n",
    "def objectiveFunction(products):\n",
    "    model = 0\n",
    "    count = 0\n",
    "    for product in products:\n",
    "        model = model + (product['predictedProfits'] * decisionVariables[count][product['productName']])\n",
    "        count = count + 1\n",
    "    return model\n",
    "\n",
    "#objective function\n",
    "model += objectiveFunction(products)\n",
    "print(model)"
   ]
  },
  {
   "cell_type": "code",
   "execution_count": 211,
   "id": "78686120",
   "metadata": {},
   "outputs": [
    {
     "name": "stdout",
     "output_type": "stream",
     "text": [
      "Please insert minimum total amount of products: 10\n",
      "Please insert maximum  total amount of products: 1000\n",
      "Please insert minimum  amount of products : 10\n",
      "Please insert maximum  amount of products : 100\n",
      "Please insert minimum number of product variety: 4\n",
      "Please insert maximum  number of product variety: 10\n",
      "Please insert store dimension: 10000000000000000\n"
     ]
    }
   ],
   "source": [
    "#add user input for the multiple variables\n",
    "\n",
    "minTotalAmount = int(input(\"Please insert minimum total amount of products: \"))\n",
    "maxTotalAmount = int(input(\"Please insert maximum  total amount of products: \"))\n",
    "\n",
    "#create two list with min and max amount per product by user insert\n",
    "\n",
    "minAmountProduct = int(input(\"Please insert minimum  amount of products : \"))\n",
    "maxAmountProduct  = int(input(\"Please insert maximum  amount of products : \"))\n",
    "\n",
    "minProductVariety = int(input(\"Please insert minimum number of product variety: \"))\n",
    "maxProductVariety  = int(input(\"Please insert maximum  number of product variety: \"))\n",
    "\n",
    "storeDimension  = int(input(\"Please insert store dimension: \"))"
   ]
  },
  {
   "cell_type": "code",
   "execution_count": 212,
   "id": "79e2cdb7",
   "metadata": {},
   "outputs": [
    {
     "name": "stdout",
     "output_type": "stream",
     "text": [
      "4\n",
      "100\n",
      "10\n",
      "5*p1 + 2*p2 + p3 + 20*p4\n"
     ]
    }
   ],
   "source": [
    "# Define the constraints\n",
    "\n",
    " # function to calculate variety of products\n",
    "def get_variety(products):\n",
    "    # Create an empty set to store the product names\n",
    "    product_set = []\n",
    "    \n",
    "    # Iterate over the products\n",
    "    for product in products:\n",
    "        # Get the product name and add it to the set\n",
    "        product_name = product['productName']\n",
    "        product_set.append(product_name)\n",
    "        \n",
    "    # Return the length of the set\n",
    "    return len(product_set)\n",
    "\n",
    "print(get_variety(products))\n",
    "variety=get_variety(products)\n",
    "\n",
    "#see why it results in Infeasible\n",
    "# model += variety <= maxProductVariety\n",
    "# model += variety >= minProductVariety\n",
    "\n",
    "\n",
    "#restriction to total amount of products\n",
    "\n",
    "def maxMinTotalProductsRestriction(products):\n",
    "    restrictFunction = 0\n",
    "    count = 0\n",
    "    for product in products:\n",
    "        restrictFunction = restrictFunction + decisionVariables[count][product['productName']]\n",
    "        count = count + 1\n",
    "    return restrictFunction\n",
    "    \n",
    "model += maxMinTotalProductsRestriction(products) <= maxTotalAmount #restricao de quantidade maximo total de produtos\n",
    "model += maxMinTotalProductsRestriction(products) >= minTotalAmount #restricao de valor minimo total de produtos\n",
    "\n",
    "# variety of products\n",
    "\n",
    "#restriction to maximum quantity of products\n",
    "def maxMinQuantityProductsRestriction(products,model):\n",
    "    count = 0\n",
    "    for product in products:\n",
    "        model += decisionVariables[count][product['productName']] <= maxAmountProduct\n",
    "        model += decisionVariables[count][product['productName']] >= minAmountProduct\n",
    "        count = count + 1\n",
    "    \n",
    "maxMinQuantityProductsRestriction(products, model)\n",
    "\n",
    "print(maxAmountProduct)\n",
    "print(minAmountProduct)\n",
    "\n",
    "\n",
    "def maxDimensionProductsRestriction(products):\n",
    "    count = 0\n",
    "    restrictFunction = 0\n",
    "    for product in products:                            \n",
    "        restrictFunction = restrictFunction + (product['dimension'] * decisionVariables[count][product['productName']])\n",
    "        count = count +1\n",
    "    return restrictFunction\n",
    "\n",
    "print(maxDimensionProductsRestriction(products))\n",
    "#restricao de dimensões de produtos, menor que dimensao todal da loja\n",
    "model += maxDimensionProductsRestriction(products) <= storeDimension \n"
   ]
  },
  {
   "cell_type": "code",
   "execution_count": 213,
   "id": "4af446e4",
   "metadata": {},
   "outputs": [
    {
     "name": "stdout",
     "output_type": "stream",
     "text": [
      "ILP_Problem:\n",
      "MAXIMIZE\n",
      "100*p1 + 200*p2 + 300*p3 + 10*p4 + 0\n",
      "SUBJECT TO\n",
      "_C1: p1 + p2 + p3 + p4 <= 1000\n",
      "\n",
      "_C2: p1 + p2 + p3 + p4 >= 10\n",
      "\n",
      "_C3: p1 <= 100\n",
      "\n",
      "_C4: p1 >= 10\n",
      "\n",
      "_C5: p2 <= 100\n",
      "\n",
      "_C6: p2 >= 10\n",
      "\n",
      "_C7: p3 <= 100\n",
      "\n",
      "_C8: p3 >= 10\n",
      "\n",
      "_C9: p4 <= 100\n",
      "\n",
      "_C10: p4 >= 10\n",
      "\n",
      "_C11: 5 p1 + 2 p2 + p3 + 20 p4 <= 1e+16\n",
      "\n",
      "VARIABLES\n",
      "0 <= p1 Integer\n",
      "0 <= p2 Integer\n",
      "0 <= p3 Integer\n",
      "0 <= p4 Integer\n",
      "\n"
     ]
    }
   ],
   "source": [
    "print(model)"
   ]
  },
  {
   "cell_type": "code",
   "execution_count": 214,
   "id": "6cd1d321",
   "metadata": {},
   "outputs": [],
   "source": [
    "# Solve the problem\n",
    "status = model.solve()"
   ]
  },
  {
   "cell_type": "code",
   "execution_count": 215,
   "id": "fe2f34d4",
   "metadata": {},
   "outputs": [
    {
     "name": "stdout",
     "output_type": "stream",
     "text": [
      "Optimal\n"
     ]
    }
   ],
   "source": [
    "print(pulp.LpStatus[status])"
   ]
  },
  {
   "cell_type": "code",
   "execution_count": 216,
   "id": "e42d549e",
   "metadata": {},
   "outputs": [],
   "source": [
    "#print(pulp.value(p1), pulp.value(model.objective))"
   ]
  },
  {
   "cell_type": "code",
   "execution_count": 217,
   "id": "897f7b45",
   "metadata": {},
   "outputs": [],
   "source": [
    "# Print the solution\n",
    "#print(\"Solution:\")\n",
    "#print(\"x =\", x.value())\n",
    "#print(\"y =\", y.value())"
   ]
  },
  {
   "cell_type": "code",
   "execution_count": 218,
   "id": "4a28b950",
   "metadata": {},
   "outputs": [
    {
     "name": "stdout",
     "output_type": "stream",
     "text": [
      "p1 = 100\n",
      "p2 = 100\n",
      "p3 = 100\n",
      "p4 = 100\n",
      "4\n",
      "[{'predictedProfits': 100, 'predictedProductQuantities': 10, 'dimension': 5, 'productName': 'p1', 'productProfit': 10.0}, {'predictedProfits': 200, 'predictedProductQuantities': 20, 'dimension': 2, 'productName': 'p2', 'productProfit': 10.0}, {'predictedProfits': 300, 'predictedProductQuantities': 30, 'dimension': 1, 'productName': 'p3', 'productProfit': 10.0}, {'predictedProfits': 10, 'predictedProductQuantities': 1, 'dimension': 20, 'productName': 'p4', 'productProfit': 10.0}]\n",
      "5\n"
     ]
    }
   ],
   "source": [
    "def printValuesReturned():\n",
    "    for v in model.variables():\n",
    "        try:\n",
    "            print(v.name,\"=\", v.value())\n",
    "        except:\n",
    "            print(\"error couldnt find value\")\n",
    "            \n",
    "printValuesReturned()\n",
    "print(len(products))\n",
    "print(products)\n",
    "print(products[0]['dimension'])"
   ]
  },
  {
   "cell_type": "code",
   "execution_count": 219,
   "id": "8a055501",
   "metadata": {},
   "outputs": [
    {
     "name": "stdout",
     "output_type": "stream",
     "text": [
      "[]\n",
      "('p1', 10, 100, 5)\n",
      "('p2', 20, 200, 2)\n",
      "('p3', 30, 300, 1)\n",
      "('p4', 1, 10, 20)\n"
     ]
    }
   ],
   "source": [
    "# Genetic Algorithm\n",
    "\n",
    "productsList = []\n",
    "print(productsList)\n",
    " \n",
    "for product in products:\n",
    "    productsList.append((product['productName'], product['predictedProductQuantities'], product['predictedProfits'], product['dimension']))\n",
    "for p in productsList:\n",
    "    print(p)"
   ]
  },
  {
   "cell_type": "code",
   "execution_count": 220,
   "id": "f44fb67f",
   "metadata": {},
   "outputs": [],
   "source": [
    "# Functions to validate restrictions\n",
    "# return 1 if restriction is repected else 0\n",
    "\n",
    "#Total Amount Restriction\n",
    "def validateTotalAmount(individuo):\n",
    "    somaTotalAmountIndividuo = sum(individuo)\n",
    "    if (somaTotalAmountIndividuo >= minTotalAmount) and (somaTotalAmountIndividuo <= maxTotalAmount):\n",
    "        return 1\n",
    "    else:\n",
    "        return 0\n",
    "    \n",
    "#Total Quantity Restriction\n",
    "def validateTotalQuantity(individuo):\n",
    "    contador = 0\n",
    "    individuoLen = len(individuo)\n",
    "    for indAux in individuo:\n",
    "        if (indAux >= minAmountProduct) and (indAux <= maxAmountProduct):\n",
    "            contador = contador + 1\n",
    "    if(contador == individuoLen):\n",
    "        return 1\n",
    "    else:\n",
    "        return 0\n",
    "\n",
    "#Dimension Restriction\n",
    "def validateDimension(individuo, products):\n",
    "    totalDimension = 0\n",
    "    contador = 0\n",
    "    for indAux in individuo:\n",
    "        totalDimension = indAux * products[contador]['dimension']\n",
    "        contador = contador + 1\n",
    "    if(totalDimension > storeDimension):\n",
    "        return 0\n",
    "    else:\n",
    "        return 1"
   ]
  },
  {
   "cell_type": "code",
   "execution_count": 221,
   "id": "9b01a56e",
   "metadata": {},
   "outputs": [],
   "source": [
    "# Create First Population\n",
    "\n",
    "population = []\n",
    "\n",
    "def firstpopulation(products):\n",
    "    \n",
    "    for i in range(100):\n",
    "        \n",
    "        solution = []\n",
    "        totalQuantity = 0\n",
    "        totalDimension = 0\n",
    "        \n",
    "        for j in range(len(products)):\n",
    "            \n",
    "            quantity = random.randint(0, maxAmountProduct)\n",
    "            solution.append(quantity)\n",
    "            \n",
    "        #Total Amount Restriction\n",
    "        totalAmountRestriction = validateTotalAmount(solution)\n",
    "        #Total Quantity Restriction\n",
    "        totalQuantityRestriction = validateTotalQuantity(solution)\n",
    "        #Dimension Restriction\n",
    "        dimensionRestriction = validateDimension(solution, products)\n",
    "        \n",
    "        if (totalAmountRestriction == 1) and (totalQuantityRestriction == 1) and (dimensionRestriction == 1):\n",
    "            population.append(solution)\n",
    "            \n",
    "    return population"
   ]
  },
  {
   "cell_type": "code",
   "execution_count": 222,
   "id": "abf87d14",
   "metadata": {},
   "outputs": [
    {
     "name": "stdout",
     "output_type": "stream",
     "text": [
      "131\n",
      "[[81, 27, 25, 71], [26, 43, 99, 72], [70, 96, 40, 96], [68, 82, 43, 47], [56, 59, 36, 47], [88, 45, 83, 69], [52, 77, 32, 55], [44, 43, 98, 61], [43, 55, 64, 36], [47, 32, 43, 95], [50, 58, 92, 75], [92, 67, 91, 41], [68, 75, 80, 82], [67, 29, 23, 72], [11, 57, 77, 68], [58, 62, 95, 94], [49, 92, 75, 40], [83, 13, 41, 26], [18, 99, 98, 68], [74, 92, 12, 66], [37, 23, 83, 71], [65, 45, 90, 40], [68, 99, 17, 85], [72, 33, 57, 56], [94, 47, 71, 56], [15, 18, 62, 12], [88, 67, 75, 61], [90, 97, 81, 53], [30, 67, 33, 52], [19, 31, 62, 94], [52, 87, 76, 19], [15, 40, 46, 62], [98, 62, 49, 48], [72, 88, 61, 75], [86, 67, 13, 44], [61, 87, 44, 25], [26, 39, 27, 99], [33, 88, 56, 75], [84, 77, 97, 56], [70, 79, 52, 29], [98, 16, 86, 21], [79, 87, 79, 76], [78, 77, 92, 71], [15, 71, 39, 29], [78, 84, 76, 16], [63, 47, 71, 73], [47, 44, 42, 10], [19, 98, 33, 99], [85, 72, 21, 99], [43, 31, 60, 90], [57, 64, 90, 15], [21, 14, 97, 74], [58, 69, 41, 10], [39, 87, 80, 93], [19, 83, 66, 46], [22, 61, 37, 67], [97, 18, 78, 83], [81, 74, 36, 48], [18, 28, 96, 20], [22, 24, 16, 75], [56, 26, 62, 59], [99, 71, 24, 22], [89, 61, 60, 96], [17, 22, 65, 12], [70, 44, 82, 35], [28, 65, 47, 63], [24, 67, 98, 64], [72, 35, 85, 12], [59, 28, 87, 48], [33, 48, 91, 45], [54, 35, 20, 89], [91, 72, 61, 48], [28, 93, 31, 20], [66, 46, 100, 34], [76, 60, 74, 51], [55, 38, 23, 50], [20, 40, 73, 82], [59, 41, 27, 44], [52, 49, 45, 74], [23, 68, 74, 43], [41, 28, 69, 71], [54, 85, 32, 91], [38, 85, 29, 72], [42, 72, 44, 57], [97, 38, 97, 28], [21, 24, 84, 94], [23, 13, 37, 35], [46, 33, 52, 92], [75, 18, 72, 22], [49, 79, 79, 58], [34, 11, 42, 49], [41, 73, 52, 94], [82, 65, 18, 73], [53, 85, 19, 78], [54, 76, 25, 69], [70, 26, 80, 68], [78, 87, 17, 42], [89, 97, 33, 12], [54, 81, 71, 37], [10, 83, 80, 84], [87, 16, 94, 36], [99, 33, 71, 19], [24, 58, 35, 68], [33, 87, 65, 34], [50, 57, 67, 33], [87, 99, 96, 22], [29, 12, 49, 77], [44, 31, 90, 34], [25, 10, 27, 95], [33, 19, 33, 14], [16, 87, 51, 38], [99, 94, 27, 73], [23, 65, 89, 43], [21, 59, 42, 57], [25, 69, 96, 84], [16, 31, 45, 55], [37, 55, 84, 36], [16, 36, 67, 35], [74, 15, 81, 83], [72, 41, 42, 59], [23, 74, 17, 91], [52, 79, 49, 61], [75, 55, 83, 11], [44, 50, 48, 64], [53, 41, 24, 75], [44, 33, 53, 65], [22, 27, 10, 49], [52, 28, 16, 12], [39, 65, 85, 21], [22, 29, 59, 11], [81, 14, 18, 32]]\n"
     ]
    }
   ],
   "source": [
    "firstpopulation(products)\n",
    "\n",
    "print(len(firstpopulation(products)))\n",
    "print(population)"
   ]
  },
  {
   "cell_type": "code",
   "execution_count": 225,
   "id": "e4459481",
   "metadata": {},
   "outputs": [
    {
     "name": "stdout",
     "output_type": "stream",
     "text": [
      "[57520 53460 53230 51680 51510 50310 49760 47640 47560 46680 46620 46230\n",
      " 46200 46140 45940 45840 45650 45590 45310 44980 44950 43850 43510 43390\n",
      " 43270 43010 42900 42610 42440 42430 42310 42280 41620 40750 40660 40650\n",
      " 40540 40460 40260 40060 39820 39160 39010 38760 38690 38530 38450 38320\n",
      " 38080 37990 37940 37730 37530 37530 37380 36950 36880 36830 36570 36400\n",
      " 36310 36280 35530 35240 34860 34740 34680 34180 33910 33040 32920 32910\n",
      " 32720 32550 32390 32370 32000 31520 31460 31110 30900 30750 30720 30530\n",
      " 30220 30190 30060 29990 29440 29400 29250 29240 28790 28780 28670 28590\n",
      " 27720 27690 27640 27550 27330 27070 26820 26340 26200 26170 25810 25720\n",
      " 25180 24950 23920 23820 23460 23110 22640 21850 21710 21450 20770 20500\n",
      " 20120 19490 19290 18690 17140 16620 16350 15720 13550 12550 11090]\n",
      "27900\n",
      "[[87, 99, 96, 22], [84, 77, 97, 56], [90, 97, 81, 53], [18, 99, 98, 68], [78, 77, 92, 71], [92, 67, 91, 41], [79, 87, 79, 76], [58, 62, 95, 94], [78, 84, 76, 16], [97, 38, 97, 28], [68, 75, 80, 82], [39, 87, 80, 93], [49, 92, 75, 40]]\n",
      "118\n"
     ]
    }
   ],
   "source": [
    "# Create Fitness function to give the best solution\n",
    "\n",
    "arraySomaProfits = []\n",
    "arrayFitProfitAndQuantity = []\n",
    "finalPopulation = []\n",
    "\n",
    "# if this element is 1 the first tax of best individuos is added to final population\n",
    "elementToGetFirstBestIndividuos = 0\n",
    "\n",
    "taxNoCrossover = 0.10\n",
    "\n",
    "def createFitnessFunction(population, products):\n",
    "    \n",
    "    for person in population:\n",
    "        \n",
    "        soma = 0\n",
    "        contador = 0\n",
    "        \n",
    "        for productQuantity in person:\n",
    "            \n",
    "            soma = soma + (productQuantity * products[contador]['predictedProfits'])\n",
    "            contador = contador + 1\n",
    "            \n",
    "        auxVar = {'FitProfit': soma, 'FitQuantities': person}\n",
    "        arrayFitProfitAndQuantity.append(auxVar)\n",
    "        arraySomaProfits.append(soma)\n",
    "        \n",
    "    array = np.array(arraySomaProfits)\n",
    "    array[::-1].sort()\n",
    "    \n",
    "    # get out taxNoCrossover to final population\n",
    "    \n",
    "    numberElementsNoCrossover = len(population) * taxNoCrossover\n",
    "    \n",
    "    for i in range(round(numberElementsNoCrossover)):\n",
    "        \n",
    "        for element in arrayFitProfitAndQuantity:\n",
    "            \n",
    "            if element['FitProfit'] == array[i]:\n",
    "                finalPopulation.append(element['FitQuantities'])\n",
    "                population.remove(element['FitQuantities'])\n",
    "            \n",
    "    return array\n",
    "\n",
    "fitSolutions = createFitnessFunction(population, products)\n",
    "#maxFitSolution = np.max(createFitnessFunction(population, products))\n",
    "\n",
    "print(fitSolutions)\n",
    "print(maxFitSolution)\n",
    "print(finalPopulation)\n",
    "print(len(population) )"
   ]
  },
  {
   "cell_type": "code",
   "execution_count": 228,
   "id": "23e5cdba",
   "metadata": {},
   "outputs": [
    {
     "name": "stdout",
     "output_type": "stream",
     "text": [
      "[26, 43, 99, 72]\n",
      "3\n"
     ]
    }
   ],
   "source": [
    "print(population[1])\n",
    "print(random.randint(0, len(population[0])))"
   ]
  },
  {
   "cell_type": "code",
   "execution_count": 261,
   "id": "d90dfb9c",
   "metadata": {},
   "outputs": [
    {
     "name": "stdout",
     "output_type": "stream",
     "text": [
      "[81, 43, 25, 71]\n",
      "[26, 27, 99, 72]\n",
      "81\n",
      "26\n",
      "81\n",
      "43\n",
      "27\n",
      "43\n",
      "25\n",
      "99\n",
      "25\n",
      "71\n",
      "72\n",
      "71\n",
      "[26, 27, 99, 72]\n",
      "[81, 43, 25, 71]\n"
     ]
    }
   ],
   "source": [
    "# Function to crossover\n",
    "\n",
    "def crossover(population):\n",
    "    \n",
    " #   while len(population) > 1:\n",
    "        \n",
    "        firstPai = population[0]\n",
    "        secondPai = population[1]\n",
    "        print(firstPai)\n",
    "        print(secondPai)\n",
    "        crossoverPoint = random.randint(0, len(population[0]))\n",
    "        for i in range(crossoverPoint):\n",
    "            aux = firstPai[i]\n",
    "            print(aux)\n",
    "            firstPai[i] = secondPai[i]\n",
    "            print(firstPai[i])\n",
    "            secondPai[i] = aux\n",
    "            print(secondPai[i])\n",
    "            \n",
    "        print(firstPai)\n",
    "        print(secondPai)\n",
    " \n",
    "crossover(population)"
   ]
  },
  {
   "cell_type": "code",
   "execution_count": 222,
   "id": "5b800c47",
   "metadata": {},
   "outputs": [],
   "source": [
    "import random\n",
    "\n",
    "\n",
    "def optimize_product_quantities(productsList, maxTotalQuantity, maxProductQuantity, storeDimension):\n",
    "    # products is a list of tuples, where each tuple contains the following information about a product:\n",
    "    # (name, quantity, price, dimension)\n",
    "\n",
    "    # Create a population of random solutions\n",
    "\n",
    "    # population = []\n",
    "    # for i in range(100):\n",
    "    #     solution = []\n",
    "    #     totalQuantity = 0\n",
    "    #     totalDimension = 0\n",
    "    #     for j in range(len(productsList)):\n",
    "    #         quantity = random.randint(0, maxProductQuantity)\n",
    "    #         totalQuantity += quantity\n",
    "    #         totalDimension += quantity * productsList[j][2]\n",
    "    #         solution.append(quantity)\n",
    "    #     if totalQuantity <= maxTotalQuantity and totalDimension <= storeDimension:\n",
    "    #         population.append(solution)\n",
    "\n",
    "    #represents code above\n",
    "    firstpopulation(productsList)\n",
    "\n",
    "    # Set the number of generations and the mutation rate\n",
    "    numGenerations = 1000\n",
    "    mutationRate = 0.01\n",
    "\n",
    "    # Run the genetic algorithm\n",
    "    for generation in range(numGenerations):\n",
    "        # Calculate the fitness of each solution in the population\n",
    "        populationFitness = []\n",
    "        for i in range(len(population)):\n",
    "            totalProfit = 0\n",
    "            totalQuantity = 0\n",
    "            totalDimension = 0\n",
    "            for j in range(len(productsList)):\n",
    "                totalProfit += population[i][j] * productsList[j][2]\n",
    "                totalQuantity += population[i][j]\n",
    "                totalDimension += population[i][j] * productsList[j][3]\n",
    "            if totalQuantity <= maxTotalQuantity and totalDimension <= storeDimension:\n",
    "                populationFitness.append(totalProfit)\n",
    "            else:\n",
    "                populationFitness.append(0)\n",
    "\n",
    "        # Select the fittest solutions for breeding\n",
    "        fittestSolutions = []\n",
    "        for i in range(int(len(population) / 2)):\n",
    "            fittestIndex = populationFitness.index(max(populationFitness))\n",
    "            fittestSolutions.append(population[fittestIndex])\n",
    "            populationFitness[fittestIndex] = 0\n",
    "        population = fittestSolutions\n",
    "\n",
    "        # Breed the solutions to create a new population\n",
    "        newPopulation = []\n",
    "        for i in range(len(population)):\n",
    "            parent1 = population[i]\n",
    "            parent2 = population[random.randint(0, len(population) - 1)]\n",
    "            child = []\n",
    "            for j in range(len(productsList)):\n",
    "                if random.random() < 0.5:\n",
    "                    child.append(parent1[j])\n",
    "                else:\n",
    "                    child.append(parent2[j])\n",
    "\n",
    "            # Mutate the child\n",
    "            if random.random() < mutationRate:\n",
    "                mutationIndex = random.randint(0, len(productsList) - 1)\n",
    "                child[mutationIndex] = random.randint(0, maxProductQuantity)\n",
    "\n",
    "            newPopulation.append(child)\n",
    "        population = newPopulation\n",
    "        print(generation)\n",
    "    # Return the fittest solution\n",
    "\n",
    "    return population[0]"
   ]
  },
  {
   "cell_type": "code",
   "execution_count": 223,
   "id": "dd2c1efd",
   "metadata": {},
   "outputs": [
    {
     "ename": "UnboundLocalError",
     "evalue": "local variable 'population' referenced before assignment",
     "output_type": "error",
     "traceback": [
      "\u001b[1;31m---------------------------------------------------------------------------\u001b[0m",
      "\u001b[1;31mUnboundLocalError\u001b[0m                         Traceback (most recent call last)",
      "\u001b[1;32m~\\AppData\\Local\\Temp\\ipykernel_10704\\2164255306.py\u001b[0m in \u001b[0;36m<module>\u001b[1;34m\u001b[0m\n\u001b[1;32m----> 1\u001b[1;33m \u001b[0moptimize_product_quantities\u001b[0m\u001b[1;33m(\u001b[0m\u001b[0mproductsList\u001b[0m\u001b[1;33m,\u001b[0m\u001b[0mmaxTotalAmount\u001b[0m\u001b[1;33m,\u001b[0m\u001b[0mmaxAmountProduct\u001b[0m\u001b[1;33m,\u001b[0m\u001b[0mstoreDimension\u001b[0m\u001b[1;33m)\u001b[0m\u001b[1;33m\u001b[0m\u001b[1;33m\u001b[0m\u001b[0m\n\u001b[0m",
      "\u001b[1;32m~\\AppData\\Local\\Temp\\ipykernel_10704\\750100233.py\u001b[0m in \u001b[0;36moptimize_product_quantities\u001b[1;34m(productsList, maxTotalQuantity, maxProductQuantity, storeDimension)\u001b[0m\n\u001b[0;32m     32\u001b[0m         \u001b[1;31m# Calculate the fitness of each solution in the population\u001b[0m\u001b[1;33m\u001b[0m\u001b[1;33m\u001b[0m\u001b[0m\n\u001b[0;32m     33\u001b[0m         \u001b[0mpopulationFitness\u001b[0m \u001b[1;33m=\u001b[0m \u001b[1;33m[\u001b[0m\u001b[1;33m]\u001b[0m\u001b[1;33m\u001b[0m\u001b[1;33m\u001b[0m\u001b[0m\n\u001b[1;32m---> 34\u001b[1;33m         \u001b[1;32mfor\u001b[0m \u001b[0mi\u001b[0m \u001b[1;32min\u001b[0m \u001b[0mrange\u001b[0m\u001b[1;33m(\u001b[0m\u001b[0mlen\u001b[0m\u001b[1;33m(\u001b[0m\u001b[0mpopulation\u001b[0m\u001b[1;33m)\u001b[0m\u001b[1;33m)\u001b[0m\u001b[1;33m:\u001b[0m\u001b[1;33m\u001b[0m\u001b[1;33m\u001b[0m\u001b[0m\n\u001b[0m\u001b[0;32m     35\u001b[0m             \u001b[0mtotalProfit\u001b[0m \u001b[1;33m=\u001b[0m \u001b[1;36m0\u001b[0m\u001b[1;33m\u001b[0m\u001b[1;33m\u001b[0m\u001b[0m\n\u001b[0;32m     36\u001b[0m             \u001b[0mtotalQuantity\u001b[0m \u001b[1;33m=\u001b[0m \u001b[1;36m0\u001b[0m\u001b[1;33m\u001b[0m\u001b[1;33m\u001b[0m\u001b[0m\n",
      "\u001b[1;31mUnboundLocalError\u001b[0m: local variable 'population' referenced before assignment"
     ]
    }
   ],
   "source": [
    "optimize_product_quantities(productsList,maxTotalAmount,maxAmountProduct,storeDimension)"
   ]
  },
  {
   "cell_type": "code",
   "execution_count": 185,
   "id": "e751dbf6",
   "metadata": {},
   "outputs": [
    {
     "ename": "TypeError",
     "evalue": "object of type 'int' has no len()",
     "output_type": "error",
     "traceback": [
      "\u001b[1;31m---------------------------------------------------------------------------\u001b[0m",
      "\u001b[1;31mTypeError\u001b[0m                                 Traceback (most recent call last)",
      "\u001b[1;32m~\\AppData\\Local\\Temp\\ipykernel_10704\\4052108543.py\u001b[0m in \u001b[0;36m<module>\u001b[1;34m\u001b[0m\n\u001b[0;32m     26\u001b[0m     \u001b[1;31m# We'll use one-point crossover here, which involves selecting a random point in the parents' genomes\u001b[0m\u001b[1;33m\u001b[0m\u001b[1;33m\u001b[0m\u001b[0m\n\u001b[0;32m     27\u001b[0m     \u001b[1;31m# and swapping the genes on either side of the point to create the offspring\u001b[0m\u001b[1;33m\u001b[0m\u001b[1;33m\u001b[0m\u001b[0m\n\u001b[1;32m---> 28\u001b[1;33m     \u001b[0mcrossover_point\u001b[0m \u001b[1;33m=\u001b[0m \u001b[0mrandom\u001b[0m\u001b[1;33m.\u001b[0m\u001b[0mrandint\u001b[0m\u001b[1;33m(\u001b[0m\u001b[1;36m1\u001b[0m\u001b[1;33m,\u001b[0m \u001b[0mlen\u001b[0m\u001b[1;33m(\u001b[0m\u001b[0mparent1\u001b[0m\u001b[1;33m)\u001b[0m\u001b[1;33m)\u001b[0m\u001b[1;33m\u001b[0m\u001b[1;33m\u001b[0m\u001b[0m\n\u001b[0m\u001b[0;32m     29\u001b[0m     \u001b[0moffspring\u001b[0m \u001b[1;33m=\u001b[0m \u001b[0mparent1\u001b[0m\u001b[1;33m[\u001b[0m\u001b[1;33m:\u001b[0m\u001b[0mcrossover_point\u001b[0m\u001b[1;33m]\u001b[0m \u001b[1;33m+\u001b[0m \u001b[0mparent2\u001b[0m\u001b[1;33m[\u001b[0m\u001b[0mcrossover_point\u001b[0m\u001b[1;33m:\u001b[0m\u001b[1;33m]\u001b[0m\u001b[1;33m\u001b[0m\u001b[1;33m\u001b[0m\u001b[0m\n\u001b[0;32m     30\u001b[0m \u001b[1;33m\u001b[0m\u001b[0m\n",
      "\u001b[1;31mTypeError\u001b[0m: object of type 'int' has no len()"
     ]
    }
   ],
   "source": [
    "\n",
    "\n",
    "# Define the fitness function\n",
    "def fitness(x):\n",
    "    # x is the number of products to buy\n",
    "    # We can define the fitness as the difference between the desired stock level and the actual stock level\n",
    "    # The desired stock level is 10\n",
    "    return abs(10 - x)\n",
    "\n",
    "# Initialize the population with random solutions\n",
    "population = [random.randint(0, 20) for _ in range(10)]\n",
    "\n",
    "# Set the maximum number of generations\n",
    "max_generations = 100\n",
    "\n",
    "# Iterate over the generations\n",
    "for generation in range(max_generations):\n",
    "    # Evaluate the fitness of each solution\n",
    "    fitness_values = [fitness(x) for x in population]\n",
    "    \n",
    "    # Select the best solutions as parents\n",
    "    # We'll use tournament selection here, which involves selecting a random subset of the population\n",
    "    # and choosing the best solution from that subset as the parent\n",
    "    parent1 = min(random.sample(population, 5), key=fitness)\n",
    "    parent2 = min(random.sample(population, 5), key=fitness)\n",
    "    \n",
    "    # Create offspring by combining the parents using crossover\n",
    "    # We'll use one-point crossover here, which involves selecting a random point in the parents' genomes\n",
    "    # and swapping the genes on either side of the point to create the offspring\n",
    "    crossover_point = random.randint(1, len(parent1))\n",
    "    offspring = parent1[:crossover_point] + parent2[crossover_point:]\n",
    "    \n",
    "    # Add some randomness to the offspring using mutation\n",
    "    # We'll flip a random bit in the offspring's genome\n",
    "    mutation_point = random.randint(0, len(offspring) - 1)\n",
    "    offspring[mutation_point] = 1 - offspring[mutation_point]\n",
    "    \n",
    "    # Replace the worst solution in the population with the offspring\n",
    "    worst_solution = max(zip(population, fitness_values), key=lambda x: x[1])\n",
    "    population[population.index(worst_solution[0])] = offspring\n",
    "\n",
    "# The final solution is the best solution in the final generation\n",
    "best_solution = min(zip(population, fitness_values), key=lambda x: x[1])\n",
    "print(f\"The optimal number of products to buy is: {best_solution[0]}\")"
   ]
  },
  {
   "cell_type": "code",
   "execution_count": null,
   "id": "46f91a5f",
   "metadata": {},
   "outputs": [],
   "source": [
    "\n",
    "  # evaluate the fitness of a given solution\n",
    "  def evaluate_fitness(products):\n",
    "\n",
    "#  # check if better (e.g. perform a tournament)\n",
    "#  if scores[ix] < scores[selection_ix]:\n",
    "#  selection_ix = ix\n",
    "#  return pop[selection_ix]\n",
    "#{'predictedProfits': 100, 'predictedProductQuantities': 10, 'dimension': 5, 'productName': 'p1', 'productProfit': 10.0},  \n",
    "\n",
    "    bestQuantity = 0\n",
    "        if products['predictedProfits'] < products['predictedProductQuantities']:\n",
    "      return 0\n",
    "\n",
    "    \n",
    "    total_dimension = sum([q * d for q, d in zip(solution, product_dimensions)])\n",
    "    if total_quantity < min_quantity or total_quantity > max_quantity or total_dimension > store_dimension:\n",
    "      return 0\n",
    "    profit = calculate_profit(solution)\n",
    "    # calculate the deviation from the target profit\n",
    "    deviation = abs(profit - target_profit)\n",
    "    # the fitness is higher for solutions that have a lower deviation from the target profit\n",
    "    return 1 / (deviation + 1)\n",
    "\n",
    "  # genetic algorithm function\n",
    "  def genetic_algorithm(fitness_fn):\n",
    "    # initialize population\n",
    "    population = initialize_population(product_quantities)\n",
    "    for generation in range(max_generations):\n",
    "      # evaluate fitness\n",
    "      fitnesses = [fitness_fn(s) for s in population]\n",
    "      # select parents\n",
    "      parents = select_parents(population, fitnesses)\n",
    "      # create offspring\n",
    "      offspring = create_offspring(parents)\n",
    "      # mutate offspring\n",
    "      offspring = mutate(offspring)\n",
    "      # replace least fit individuals in population with offspring\n",
    "      population = replace_least_fit(population, offspring)\n",
    "    # return the fittest solution\n",
    "    return population[0]\n",
    "\n",
    "  # use the genetic algorithm to find the optimal solution\n",
    "  return genetic_algorithm(evaluate_fitness)"
   ]
  },
  {
   "cell_type": "code",
   "execution_count": null,
   "id": "b48f1315",
   "metadata": {},
   "outputs": [],
   "source": [
    "#--------------------------------------------------------------------------\n"
   ]
  }
 ],
 "metadata": {
  "kernelspec": {
   "display_name": "Python 3 (ipykernel)",
   "language": "python",
   "name": "python3"
  },
  "language_info": {
   "codemirror_mode": {
    "name": "ipython",
    "version": 3
   },
   "file_extension": ".py",
   "mimetype": "text/x-python",
   "name": "python",
   "nbconvert_exporter": "python",
   "pygments_lexer": "ipython3",
   "version": "3.9.13"
  }
 },
 "nbformat": 4,
 "nbformat_minor": 5
}
