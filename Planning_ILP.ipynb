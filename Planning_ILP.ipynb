{
 "cells": [
  {
   "cell_type": "code",
   "execution_count": 11,
   "id": "f0629f54",
   "metadata": {},
   "outputs": [],
   "source": [
    "from pulp import *\n",
    "import pulp\n",
    "import pandas as pd\n",
    "import numpy as np"
   ]
  },
  {
   "cell_type": "code",
   "execution_count": 12,
   "id": "2ee5c7e1",
   "metadata": {},
   "outputs": [
    {
     "name": "stdout",
     "output_type": "stream",
     "text": [
      "[{'predictedProfits': 100, 'predictedProductQuantities': 10, 'dimension': 5, 'productName': 'p1'}, {'predictedProfits': 200, 'predictedProductQuantities': 20, 'dimension': 2, 'productName': 'p2'}, {'predictedProfits': 300, 'predictedProductQuantities': 30, 'dimension': 1, 'productName': 'p3'}, {'predictedProfits': 10, 'predictedProductQuantities': 1, 'dimension': 20, 'productName': 'p4'}]\n"
     ]
    }
   ],
   "source": [
    "# Read the Excel file into a DataFrame\n",
    "df = pd.read_excel('file.xlsx')\n",
    "\n",
    "# Convert the DataFrame to a NumPy array\n",
    "data = df.values\n",
    "products = []\n",
    "\n",
    "for row in data:\n",
    "    predictedProfits = row[0]\n",
    "    predictedProductQuantities = row[1]\n",
    "    dimension = row[2]\n",
    "    productName = row[3]\n",
    "\n",
    "    product = {'predictedProfits': predictedProfits, 'predictedProductQuantities': predictedProductQuantities, 'dimension': dimension, 'productName': productName}\n",
    "    products.append(product)\n",
    "\n",
    "print(products)"
   ]
  },
  {
   "cell_type": "code",
   "execution_count": 13,
   "id": "30a63d1f",
   "metadata": {},
   "outputs": [],
   "source": [
    "def calculate_profit(products):\n",
    "    for product in products:\n",
    "        profit = product['predictedProfits'] / product['predictedProductQuantities']\n",
    "        product['productProfit'] = profit\n",
    "    return products"
   ]
  },
  {
   "cell_type": "code",
   "execution_count": 14,
   "id": "0f258bb1",
   "metadata": {},
   "outputs": [
    {
     "name": "stdout",
     "output_type": "stream",
     "text": [
      "[{'predictedProfits': 100, 'predictedProductQuantities': 10, 'dimension': 5, 'productName': 'p1', 'productProfit': 10.0}, {'predictedProfits': 200, 'predictedProductQuantities': 20, 'dimension': 2, 'productName': 'p2', 'productProfit': 10.0}, {'predictedProfits': 300, 'predictedProductQuantities': 30, 'dimension': 1, 'productName': 'p3', 'productProfit': 10.0}, {'predictedProfits': 10, 'predictedProductQuantities': 1, 'dimension': 20, 'productName': 'p4', 'productProfit': 10.0}]\n"
     ]
    }
   ],
   "source": [
    "productTest = calculate_profit(products)\n",
    "print(productTest)"
   ]
  },
  {
   "cell_type": "code",
   "execution_count": 15,
   "id": "ed868591",
   "metadata": {},
   "outputs": [],
   "source": [
    "# Creation of the ILP model \n",
    "model = pulp.LpProblem(\"ILP_Problem\", pulp.LpMaximize)"
   ]
  },
  {
   "cell_type": "code",
   "execution_count": 16,
   "id": "eacf1bd3",
   "metadata": {},
   "outputs": [
    {
     "name": "stdout",
     "output_type": "stream",
     "text": [
      "[{'p1': p1}, {'p2': p2}, {'p3': p3}, {'p4': p4}]\n"
     ]
    }
   ],
   "source": [
    "# Define the decision variables\n",
    "decisionVariables = []\n",
    "def createDictionaryWithDecisionVariable():\n",
    "    for product in products:\n",
    "        decisionVariable = {product['productName']:  pulp.LpVariable(product['productName'], lowBound=0, cat='Integer')}\n",
    "        decisionVariables.append(decisionVariable)\n",
    "        \n",
    "createDictionaryWithDecisionVariable()\n",
    "print(decisionVariables)"
   ]
  },
  {
   "cell_type": "code",
   "execution_count": 17,
   "id": "44ff6c83",
   "metadata": {},
   "outputs": [
    {
     "name": "stdout",
     "output_type": "stream",
     "text": [
      "ILP_Problem:\n",
      "MAXIMIZE\n",
      "100*p1 + 200*p2 + 300*p3 + 10*p4 + 0\n",
      "VARIABLES\n",
      "0 <= p1 Integer\n",
      "0 <= p2 Integer\n",
      "0 <= p3 Integer\n",
      "0 <= p4 Integer\n",
      "\n"
     ]
    }
   ],
   "source": [
    "# function to calculate objective function\n",
    "\n",
    "def objectiveFunction(products):\n",
    "    model = 0\n",
    "    count = 0\n",
    "    for product in products:\n",
    "        model = model + (product['predictedProfits'] * decisionVariables[count][product['productName']])\n",
    "        count = count + 1\n",
    "    return model\n",
    "\n",
    "#objective function\n",
    "model += objectiveFunction(products)\n",
    "print(model)"
   ]
  },
  {
   "cell_type": "code",
   "execution_count": 18,
   "id": "78686120",
   "metadata": {},
   "outputs": [
    {
     "name": "stdout",
     "output_type": "stream",
     "text": [
      "Please insert maximum  total amount of products: 100\n",
      "Please insert minimum total amount of products: 1\n",
      "Please insert minimum  amount of products : 1\n",
      "Please insert maximum  amount of products : 11\n"
     ]
    }
   ],
   "source": [
    "#add user input for the multiple variables\n",
    "\n",
    "maxTotalAmount = int(input(\"Please insert maximum  total amount of products: \"))\n",
    "minTotalAmount = int(input(\"Please insert minimum total amount of products: \"))\n",
    "\n",
    "#create two list with min and max amount per product by user insert\n",
    "\n",
    "minAmountProduct = int(input(\"Please insert minimum  amount of products : \"))\n",
    "maxAmountProduct  = int(input(\"Please insert maximum  amount of products : \"))\n"
   ]
  },
  {
   "cell_type": "code",
   "execution_count": 19,
   "id": "79e2cdb7",
   "metadata": {},
   "outputs": [
    {
     "name": "stdout",
     "output_type": "stream",
     "text": [
      "11\n",
      "1\n",
      "5*p1 + 2*p2 + p3 + 20*p4\n"
     ]
    }
   ],
   "source": [
    "# Define the constraints\n",
    "\n",
    "#restriction to total amount of products\n",
    "\n",
    "def maxMinTotalProductsRestriction(products):\n",
    "    restrictFunction = 0\n",
    "    count = 0\n",
    "    for product in products:\n",
    "        restrictFunction = restrictFunction + decisionVariables[count][product['productName']]\n",
    "        count = count + 1\n",
    "    return restrictFunction\n",
    "    \n",
    "model += maxMinTotalProductsRestriction(products) <= maxTotalAmount #restricao de quantidade maximo total de produtos\n",
    "model += maxMinTotalProductsRestriction(products) >= minTotalAmount #restricao de valor minimo total de produtos\n",
    "\n",
    "# variety of products\n",
    "\n",
    "#restriction to maximum quantity of products\n",
    "def maxMinQuantityProductsRestriction(products,model):\n",
    "    count = 0\n",
    "    for product in products:\n",
    "        model += decisionVariables[count][product['productName']] <= maxAmountProduct\n",
    "        model += decisionVariables[count][product['productName']] >= minAmountProduct\n",
    "        count = count + 1\n",
    "    \n",
    "maxMinQuantityProductsRestriction(products, model)\n",
    "\n",
    "print(maxAmountProduct)\n",
    "print(minAmountProduct)\n",
    "\n",
    "#restriction to dimensions of products\n",
    "#dimensao da loja\n",
    "storeDimension = 25555555555000\n",
    "\n",
    "def maxDimensionProductsRestriction(products):\n",
    "    count = 0\n",
    "    restrictFunction = 0\n",
    "    for product in products:                            \n",
    "        restrictFunction = restrictFunction + (product['dimension'] * decisionVariables[count][product['productName']])\n",
    "        count = count +1\n",
    "    return restrictFunction\n",
    "\n",
    "print(maxDimensionProductsRestriction(products))\n",
    "#restricao de dimensões de produtos, menor que dimensao todal da loja\n",
    "model += maxDimensionProductsRestriction(products) <= storeDimension \n"
   ]
  },
  {
   "cell_type": "code",
   "execution_count": 20,
   "id": "4af446e4",
   "metadata": {},
   "outputs": [
    {
     "name": "stdout",
     "output_type": "stream",
     "text": [
      "ILP_Problem:\n",
      "MAXIMIZE\n",
      "100*p1 + 200*p2 + 300*p3 + 10*p4 + 0\n",
      "SUBJECT TO\n",
      "_C1: p1 + p2 + p3 + p4 <= 100\n",
      "\n",
      "_C2: p1 + p2 + p3 + p4 >= 1\n",
      "\n",
      "_C3: p1 <= 11\n",
      "\n",
      "_C4: p1 >= 1\n",
      "\n",
      "_C5: p2 <= 11\n",
      "\n",
      "_C6: p2 >= 1\n",
      "\n",
      "_C7: p3 <= 11\n",
      "\n",
      "_C8: p3 >= 1\n",
      "\n",
      "_C9: p4 <= 11\n",
      "\n",
      "_C10: p4 >= 1\n",
      "\n",
      "_C11: 5 p1 + 2 p2 + p3 + 20 p4 <= 2.5555555555e+13\n",
      "\n",
      "VARIABLES\n",
      "0 <= p1 Integer\n",
      "0 <= p2 Integer\n",
      "0 <= p3 Integer\n",
      "0 <= p4 Integer\n",
      "\n"
     ]
    }
   ],
   "source": [
    "print(model)"
   ]
  },
  {
   "cell_type": "code",
   "execution_count": 21,
   "id": "6cd1d321",
   "metadata": {},
   "outputs": [],
   "source": [
    "# Solve the problem\n",
    "status = model.solve()"
   ]
  },
  {
   "cell_type": "code",
   "execution_count": 22,
   "id": "fe2f34d4",
   "metadata": {},
   "outputs": [
    {
     "name": "stdout",
     "output_type": "stream",
     "text": [
      "Optimal\n"
     ]
    }
   ],
   "source": [
    "print(pulp.LpStatus[status])"
   ]
  },
  {
   "cell_type": "code",
   "execution_count": null,
   "id": "e42d549e",
   "metadata": {},
   "outputs": [],
   "source": [
    "#print(pulp.value(p1), pulp.value(model.objective))"
   ]
  },
  {
   "cell_type": "code",
   "execution_count": null,
   "id": "897f7b45",
   "metadata": {},
   "outputs": [],
   "source": [
    "# Print the solution\n",
    "#print(\"Solution:\")\n",
    "#print(\"x =\", x.value())\n",
    "#print(\"y =\", y.value())"
   ]
  },
  {
   "cell_type": "code",
   "execution_count": 23,
   "id": "4a28b950",
   "metadata": {},
   "outputs": [
    {
     "name": "stdout",
     "output_type": "stream",
     "text": [
      "p1 = 11\n",
      "p2 = 11\n",
      "p3 = 11\n",
      "p4 = 11\n"
     ]
    }
   ],
   "source": [
    "def printValuesReturned():\n",
    "    for v in model.variables():\n",
    "        try:\n",
    "            print(v.name,\"=\", v.value())\n",
    "        except:\n",
    "            print(\"error couldnt find value\")\n",
    "            \n",
    "printValuesReturned()"
   ]
  },
  {
   "cell_type": "code",
   "execution_count": null,
   "id": "e751dbf6",
   "metadata": {},
   "outputs": [],
   "source": []
  }
 ],
 "metadata": {
  "kernelspec": {
   "display_name": "Python 3 (ipykernel)",
   "language": "python",
   "name": "python3"
  },
  "language_info": {
   "codemirror_mode": {
    "name": "ipython",
    "version": 3
   },
   "file_extension": ".py",
   "mimetype": "text/x-python",
   "name": "python",
   "nbconvert_exporter": "python",
   "pygments_lexer": "ipython3",
   "version": "3.9.13"
  }
 },
 "nbformat": 4,
 "nbformat_minor": 5
}
