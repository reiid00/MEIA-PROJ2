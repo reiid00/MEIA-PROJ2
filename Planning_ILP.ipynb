{
 "cells": [
  {
   "cell_type": "code",
   "execution_count": 18,
   "id": "f0629f54",
   "metadata": {},
   "outputs": [],
   "source": [
    "from pulp import *\n",
    "import pulp\n",
    "import pandas as pd\n",
    "import numpy as np\n",
    "import random"
   ]
  },
  {
   "cell_type": "code",
   "execution_count": 19,
   "id": "2ee5c7e1",
   "metadata": {},
   "outputs": [
    {
     "name": "stdout",
     "output_type": "stream",
     "text": [
      "[{'predictedProfits': 100, 'predictedProductQuantities': 10, 'dimension': 5, 'productName': 'p1'}, {'predictedProfits': 200, 'predictedProductQuantities': 20, 'dimension': 2, 'productName': 'p2'}, {'predictedProfits': 300, 'predictedProductQuantities': 30, 'dimension': 1, 'productName': 'p3'}, {'predictedProfits': 10, 'predictedProductQuantities': 1, 'dimension': 20, 'productName': 'p4'}]\n"
     ]
    }
   ],
   "source": [
    "# Read the Excel file into a DataFrame\n",
    "df = pd.read_excel('file.xlsx')\n",
    "\n",
    "# Convert the DataFrame to a NumPy array\n",
    "data = df.values\n",
    "products = []\n",
    "\n",
    "for row in data:\n",
    "    predictedProfits = row[0]\n",
    "    predictedProductQuantities = row[1]\n",
    "    dimension = row[2]\n",
    "    productName = row[3]\n",
    "\n",
    "    product = {'predictedProfits': predictedProfits, 'predictedProductQuantities': predictedProductQuantities, 'dimension': dimension, 'productName': productName}\n",
    "    products.append(product)\n",
    "\n",
    "print(products)"
   ]
  },
  {
   "cell_type": "code",
   "execution_count": 189,
   "id": "30a63d1f",
   "metadata": {},
   "outputs": [],
   "source": [
    "def calculate_profit(products):\n",
    "    for product in products:\n",
    "        profit = product['predictedProfits'] / product['predictedProductQuantities']\n",
    "        product['productProfit'] = profit\n",
    "    return products"
   ]
  },
  {
   "cell_type": "code",
   "execution_count": 190,
   "id": "0f258bb1",
   "metadata": {},
   "outputs": [
    {
     "name": "stdout",
     "output_type": "stream",
     "text": [
      "[{'predictedProfits': 100, 'predictedProductQuantities': 10, 'dimension': 5, 'productName': 'p1', 'productProfit': 10.0}, {'predictedProfits': 200, 'predictedProductQuantities': 20, 'dimension': 2, 'productName': 'p2', 'productProfit': 10.0}, {'predictedProfits': 300, 'predictedProductQuantities': 30, 'dimension': 1, 'productName': 'p3', 'productProfit': 10.0}, {'predictedProfits': 10, 'predictedProductQuantities': 1, 'dimension': 20, 'productName': 'p4', 'productProfit': 10.0}]\n"
     ]
    }
   ],
   "source": [
    "productTest = calculate_profit(products)\n",
    "print(productTest)"
   ]
  },
  {
   "cell_type": "code",
   "execution_count": 191,
   "id": "ed868591",
   "metadata": {},
   "outputs": [],
   "source": [
    "# Creation of the ILP model \n",
    "model = pulp.LpProblem(\"ILP_Problem\", pulp.LpMaximize)"
   ]
  },
  {
   "cell_type": "code",
   "execution_count": 192,
   "id": "eacf1bd3",
   "metadata": {},
   "outputs": [
    {
     "name": "stdout",
     "output_type": "stream",
     "text": [
      "[{'p1': p1}, {'p2': p2}, {'p3': p3}, {'p4': p4}]\n"
     ]
    }
   ],
   "source": [
    "# Define the decision variables\n",
    "decisionVariables = []\n",
    "def createDictionaryWithDecisionVariable():\n",
    "    for product in products:\n",
    "        decisionVariable = {product['productName']:  pulp.LpVariable(product['productName'], lowBound=0, cat='Integer')}\n",
    "        decisionVariables.append(decisionVariable)\n",
    "        \n",
    "createDictionaryWithDecisionVariable()\n",
    "print(decisionVariables)"
   ]
  },
  {
   "cell_type": "code",
   "execution_count": 193,
   "id": "44ff6c83",
   "metadata": {},
   "outputs": [
    {
     "name": "stdout",
     "output_type": "stream",
     "text": [
      "ILP_Problem:\n",
      "MAXIMIZE\n",
      "100*p1 + 200*p2 + 300*p3 + 10*p4 + 0\n",
      "VARIABLES\n",
      "0 <= p1 Integer\n",
      "0 <= p2 Integer\n",
      "0 <= p3 Integer\n",
      "0 <= p4 Integer\n",
      "\n"
     ]
    }
   ],
   "source": [
    "# function to calculate objective function\n",
    "\n",
    "def objectiveFunction(products):\n",
    "    model = 0\n",
    "    count = 0\n",
    "    for product in products:\n",
    "        model = model + (product['predictedProfits'] * decisionVariables[count][product['productName']])\n",
    "        count = count + 1\n",
    "    return model\n",
    "\n",
    "#objective function\n",
    "model += objectiveFunction(products)\n",
    "print(model)"
   ]
  },
  {
   "cell_type": "code",
   "execution_count": 24,
   "id": "78686120",
   "metadata": {},
   "outputs": [
    {
     "name": "stdout",
     "output_type": "stream",
     "text": [
      "Please insert minimum total amount of products: 10\n",
      "Please insert maximum  total amount of products: 200\n",
      "Please insert minimum  amount of products : 2\n",
      "Please insert maximum  amount of products : 50\n",
      "Please insert minimum number of product variety: 4\n",
      "Please insert maximum  number of product variety: 100\n",
      "Please insert store dimension: 200000000000\n"
     ]
    }
   ],
   "source": [
    "#add user input for the multiple variables\n",
    "\n",
    "minTotalAmount = int(input(\"Please insert minimum total amount of products: \"))\n",
    "maxTotalAmount = int(input(\"Please insert maximum  total amount of products: \"))\n",
    "\n",
    "#create two list with min and max amount per product by user insert\n",
    "\n",
    "minAmountProduct = int(input(\"Please insert minimum  amount of products : \"))\n",
    "maxAmountProduct  = int(input(\"Please insert maximum  amount of products : \"))\n",
    "\n",
    "minProductVariety = int(input(\"Please insert minimum number of product variety: \"))\n",
    "maxProductVariety  = int(input(\"Please insert maximum  number of product variety: \"))\n",
    "\n",
    "storeDimension  = int(input(\"Please insert store dimension: \"))"
   ]
  },
  {
   "cell_type": "code",
   "execution_count": 196,
   "id": "79e2cdb7",
   "metadata": {},
   "outputs": [
    {
     "name": "stdout",
     "output_type": "stream",
     "text": [
      "4\n",
      "5\n",
      "1\n",
      "5*p1 + 2*p2 + p3 + 20*p4\n"
     ]
    }
   ],
   "source": [
    "# Define the constraints\n",
    "\n",
    " # function to calculate variety of products\n",
    "def get_variety(products):\n",
    "    # Create an empty set to store the product names\n",
    "    product_set = []\n",
    "    \n",
    "    # Iterate over the products\n",
    "    for product in products:\n",
    "        # Get the product name and add it to the set\n",
    "        product_name = product['productName']\n",
    "        product_set.append(product_name)\n",
    "        \n",
    "    # Return the length of the set\n",
    "    return len(product_set)\n",
    "\n",
    "print(get_variety(products))\n",
    "variety=get_variety(products)\n",
    "\n",
    "#see why it results in Infeasible\n",
    "# model += variety <= maxProductVariety\n",
    "# model += variety >= minProductVariety\n",
    "\n",
    "\n",
    "#restriction to total amount of products\n",
    "\n",
    "def maxMinTotalProductsRestriction(products):\n",
    "    restrictFunction = 0\n",
    "    count = 0\n",
    "    for product in products:\n",
    "        restrictFunction = restrictFunction + decisionVariables[count][product['productName']]\n",
    "        count = count + 1\n",
    "    return restrictFunction\n",
    "    \n",
    "model += maxMinTotalProductsRestriction(products) <= maxTotalAmount #restricao de quantidade maximo total de produtos\n",
    "model += maxMinTotalProductsRestriction(products) >= minTotalAmount #restricao de valor minimo total de produtos\n",
    "\n",
    "# variety of products\n",
    "\n",
    "#restriction to maximum quantity of products\n",
    "def maxMinQuantityProductsRestriction(products,model):\n",
    "    count = 0\n",
    "    for product in products:\n",
    "        model += decisionVariables[count][product['productName']] <= maxAmountProduct\n",
    "        model += decisionVariables[count][product['productName']] >= minAmountProduct\n",
    "        count = count + 1\n",
    "    \n",
    "maxMinQuantityProductsRestriction(products, model)\n",
    "\n",
    "print(maxAmountProduct)\n",
    "print(minAmountProduct)\n",
    "\n",
    "\n",
    "def maxDimensionProductsRestriction(products):\n",
    "    count = 0\n",
    "    restrictFunction = 0\n",
    "    for product in products:                            \n",
    "        restrictFunction = restrictFunction + (product['dimension'] * decisionVariables[count][product['productName']])\n",
    "        count = count +1\n",
    "    return restrictFunction\n",
    "\n",
    "print(maxDimensionProductsRestriction(products))\n",
    "#restricao de dimensões de produtos, menor que dimensao todal da loja\n",
    "model += maxDimensionProductsRestriction(products) <= storeDimension \n"
   ]
  },
  {
   "cell_type": "code",
   "execution_count": 197,
   "id": "4af446e4",
   "metadata": {},
   "outputs": [
    {
     "name": "stdout",
     "output_type": "stream",
     "text": [
      "ILP_Problem:\n",
      "MAXIMIZE\n",
      "100*p1 + 200*p2 + 300*p3 + 10*p4 + 0\n",
      "SUBJECT TO\n",
      "_C1: p1 + p2 + p3 + p4 <= 100\n",
      "\n",
      "_C2: p1 + p2 + p3 + p4 >= 10\n",
      "\n",
      "_C3: p1 <= 5\n",
      "\n",
      "_C4: p1 >= 1\n",
      "\n",
      "_C5: p2 <= 5\n",
      "\n",
      "_C6: p2 >= 1\n",
      "\n",
      "_C7: p3 <= 5\n",
      "\n",
      "_C8: p3 >= 1\n",
      "\n",
      "_C9: p4 <= 5\n",
      "\n",
      "_C10: p4 >= 1\n",
      "\n",
      "_C11: 5 p1 + 2 p2 + p3 + 20 p4 <= 123456\n",
      "\n",
      "VARIABLES\n",
      "0 <= p1 Integer\n",
      "0 <= p2 Integer\n",
      "0 <= p3 Integer\n",
      "0 <= p4 Integer\n",
      "\n"
     ]
    }
   ],
   "source": [
    "print(model)"
   ]
  },
  {
   "cell_type": "code",
   "execution_count": null,
   "id": "6cd1d321",
   "metadata": {},
   "outputs": [],
   "source": [
    "# Solve the problem\n",
    "status = model.solve()"
   ]
  },
  {
   "cell_type": "code",
   "execution_count": null,
   "id": "fe2f34d4",
   "metadata": {},
   "outputs": [
    {
     "name": "stdout",
     "output_type": "stream",
     "text": [
      "Optimal\n"
     ]
    }
   ],
   "source": [
    "print(pulp.LpStatus[status])"
   ]
  },
  {
   "cell_type": "code",
   "execution_count": null,
   "id": "e42d549e",
   "metadata": {},
   "outputs": [],
   "source": [
    "#print(pulp.value(p1), pulp.value(model.objective))"
   ]
  },
  {
   "cell_type": "code",
   "execution_count": null,
   "id": "897f7b45",
   "metadata": {},
   "outputs": [],
   "source": [
    "# Print the solution\n",
    "#print(\"Solution:\")\n",
    "#print(\"x =\", x.value())\n",
    "#print(\"y =\", y.value())"
   ]
  },
  {
   "cell_type": "code",
   "execution_count": null,
   "id": "4a28b950",
   "metadata": {},
   "outputs": [
    {
     "name": "stdout",
     "output_type": "stream",
     "text": [
      "p1 = 10\n",
      "p2 = 10\n",
      "p3 = 10\n",
      "p4 = 10\n"
     ]
    }
   ],
   "source": [
    "def printValuesReturned():\n",
    "    for v in model.variables():\n",
    "        try:\n",
    "            print(v.name,\"=\", v.value())\n",
    "        except:\n",
    "            print(\"error couldnt find value\")\n",
    "            \n",
    "printValuesReturned()"
   ]
  },
  {
   "cell_type": "code",
   "execution_count": 37,
   "id": "8a055501",
   "metadata": {},
   "outputs": [
    {
     "name": "stdout",
     "output_type": "stream",
     "text": [
      "[]\n",
      "('p1', 10, 100, 5)\n",
      "('p2', 20, 200, 2)\n",
      "('p3', 30, 300, 1)\n",
      "('p4', 1, 10, 20)\n"
     ]
    }
   ],
   "source": [
    "# Genetic Algorithm\n",
    "\n",
    "productsList = []\n",
    "print(productsList)\n",
    " \n",
    "for product in products:\n",
    "    productsList.append((product['productName'], product['predictedProductQuantities'], product['predictedProfits'], product['dimension']))\n",
    "for p in productsList:\n",
    "    print(p)"
   ]
  },
  {
   "cell_type": "code",
   "execution_count": 38,
   "id": "9b01a56e",
   "metadata": {},
   "outputs": [],
   "source": [
    "population = []\n",
    "\n",
    "def firstpopulation(productsList):\n",
    "    \n",
    "    for i in range(100):\n",
    "        solution = []\n",
    "        totalQuantity = 0\n",
    "        totalDimension = 0\n",
    "        for j in range(len(productsList)):\n",
    "            quantity = random.randint(0, maxAmountProduct)\n",
    "            totalQuantity += quantity\n",
    "            totalDimension += quantity * productsList[j][2]\n",
    "            solution.append(quantity)\n",
    "        if totalQuantity <= maxTotalAmount and totalDimension <= storeDimension:\n",
    "            population.append(solution)\n",
    "    return population"
   ]
  },
  {
   "cell_type": "code",
   "execution_count": 39,
   "id": "abf87d14",
   "metadata": {},
   "outputs": [
    {
     "name": "stdout",
     "output_type": "stream",
     "text": [
      "[[14, 4, 32, 0], [16, 41, 43, 13], [21, 40, 26, 41], [1, 11, 27, 39], [11, 41, 4, 9], [13, 6, 13, 47], [47, 46, 42, 5], [17, 4, 46, 4], [16, 7, 19, 7], [49, 16, 13, 4], [47, 32, 38, 39], [3, 29, 47, 11], [4, 27, 11, 7], [20, 41, 19, 38], [21, 5, 8, 15], [38, 28, 16, 45], [1, 8, 2, 45], [42, 21, 18, 46], [0, 21, 21, 14], [18, 11, 26, 43], [10, 37, 1, 12], [9, 42, 20, 46], [14, 19, 22, 28], [35, 28, 32, 11], [19, 4, 35, 14], [17, 32, 12, 27], [46, 50, 10, 23], [50, 39, 50, 12], [7, 21, 10, 43], [6, 6, 44, 35], [45, 25, 6, 46], [29, 47, 25, 37], [25, 50, 30, 39], [19, 6, 29, 8], [25, 34, 4, 27], [28, 31, 24, 42], [40, 4, 1, 22], [10, 30, 19, 13], [0, 6, 38, 21], [48, 9, 0, 45], [35, 40, 14, 13], [30, 48, 10, 1], [28, 19, 32, 44], [36, 20, 8, 6], [3, 23, 16, 40], [17, 20, 18, 35], [7, 36, 16, 27], [6, 38, 14, 14], [16, 30, 42, 41], [4, 47, 42, 43], [19, 39, 13, 21], [25, 32, 12, 48], [19, 27, 1, 49], [25, 3, 46, 12], [17, 48, 33, 29], [42, 45, 35, 40], [5, 3, 6, 50], [35, 7, 39, 28], [38, 44, 29, 11], [20, 24, 46, 3], [18, 29, 0, 29], [41, 27, 49, 30], [32, 34, 37, 42], [34, 36, 50, 5], [19, 6, 38, 41], [19, 11, 31, 44], [48, 13, 4, 1], [24, 4, 16, 42], [11, 47, 42, 31], [32, 45, 15, 22], [45, 25, 26, 1], [3, 9, 45, 19], [48, 48, 39, 46], [35, 42, 47, 6], [48, 32, 39, 26], [46, 24, 17, 2], [40, 46, 37, 36], [18, 40, 6, 9], [37, 25, 1, 35], [38, 29, 32, 24], [35, 42, 39, 25], [31, 9, 40, 0], [15, 43, 18, 0], [8, 12, 0, 39], [23, 34, 19, 25], [39, 49, 38, 24], [41, 45, 22, 37], [10, 7, 42, 38], [17, 47, 34, 30], [0, 41, 10, 40], [18, 33, 33, 46], [21, 21, 38, 44], [8, 42, 4, 10], [21, 39, 35, 5], [12, 40, 30, 24], [42, 4, 5, 27], [25, 4, 21, 45], [11, 46, 19, 18], [34, 42, 48, 20], [21, 43, 44, 27], [9, 8, 17, 7], [28, 37, 3, 47], [49, 44, 48, 49], [31, 7, 17, 47], [22, 33, 13, 15], [41, 1, 4, 24], [37, 25, 12, 42], [25, 21, 7, 18], [34, 10, 19, 11], [12, 5, 33, 33], [19, 9, 31, 42], [9, 10, 10, 23], [32, 44, 33, 35], [8, 41, 45, 45], [12, 9, 21, 28], [10, 2, 10, 34], [4, 13, 31, 40], [3, 29, 7, 43], [25, 27, 7, 33], [39, 37, 24, 31], [45, 37, 47, 24], [4, 33, 26, 4], [49, 4, 17, 50], [20, 5, 36, 7], [16, 21, 49, 2], [12, 4, 29, 17], [34, 0, 48, 35], [39, 49, 8, 22], [24, 38, 2, 34], [28, 39, 6, 3], [8, 40, 31, 29], [30, 44, 15, 2], [5, 7, 47, 15], [38, 5, 41, 16], [50, 30, 48, 20], [50, 2, 46, 0], [24, 40, 13, 44], [24, 20, 48, 30], [44, 12, 5, 9], [36, 4, 30, 29], [32, 32, 10, 32], [47, 35, 21, 15], [2, 45, 37, 32], [48, 4, 1, 11], [38, 4, 34, 40], [36, 18, 37, 19], [27, 0, 19, 0], [45, 50, 30, 23], [9, 33, 11, 29], [37, 10, 22, 11], [8, 9, 7, 21], [39, 22, 33, 42], [1, 42, 7, 10], [18, 18, 31, 36], [9, 49, 42, 42], [46, 34, 47, 31], [36, 9, 14, 36], [23, 14, 30, 38], [19, 37, 9, 14], [10, 18, 25, 7], [39, 27, 3, 29], [9, 37, 11, 4], [28, 23, 17, 20], [19, 7, 19, 11], [48, 50, 47, 29], [19, 6, 15, 22], [18, 2, 3, 9], [48, 50, 21, 37], [3, 17, 19, 49], [49, 4, 2, 22], [9, 46, 20, 11], [14, 50, 9, 11], [11, 6, 31, 34], [31, 40, 31, 19], [12, 34, 18, 5], [5, 46, 44, 20], [39, 45, 24, 38], [37, 48, 45, 23], [27, 37, 43, 11], [13, 32, 34, 1], [8, 1, 23, 30], [29, 48, 15, 40], [21, 8, 20, 40], [45, 48, 0, 33], [9, 3, 45, 50], [37, 1, 46, 13], [23, 47, 2, 21], [25, 1, 22, 40], [35, 31, 16, 13], [37, 42, 27, 1], [25, 12, 0, 41], [16, 10, 15, 31], [9, 31, 11, 26], [44, 22, 48, 36], [23, 47, 15, 38], [35, 17, 26, 10], [32, 36, 40, 7], [40, 38, 7, 41], [40, 26, 6, 46], [25, 9, 41, 48]]\n"
     ]
    }
   ],
   "source": [
    "firstpopulation(productsList)\n",
    "\n",
    "print(firstpopulation(productsList))"
   ]
  },
  {
   "cell_type": "code",
   "execution_count": 50,
   "id": "e4459481",
   "metadata": {},
   "outputs": [
    {
     "name": "stdout",
     "output_type": "stream",
     "text": [
      "[29190 28590 27920 27030 26560 26550 26400 26240 26060 25810 25650 25600\n",
      " 25340 24660 24500 24170 24100 23850 23730 23720 23560 23410 23160 23110\n",
      " 23100 22950 22890 22830 22830 22470 22250 21890 21600 21520 21490 21470\n",
      " 21410 21100 20630 20620 20610 20590 20520 20480 20450 20310 20210 20170\n",
      " 20070 19440 19200 18810 18810 18760 18620 18490 18440 18390 18310 18150\n",
      " 18150 18140 17910 17830 17830 17400 17310 17260 17080 17020 16920 16900\n",
      " 16880 16640 16620 16580 16340 16320 16320 16280 16210 16180 16150 15830\n",
      " 15790 15760 15610 15500 15500 15380 15350 15200 15060 15050 14910 14840\n",
      " 14800 14740 14650 14630 14520 14480 14430 14260 14210 14110 13870 13840\n",
      " 13810 13690 13450 13420 13340 12980 12970 12920 12850 12830 12810 12720\n",
      " 12700 12700 12540 12510 12430 12430 12410 12230 12170 12140 12080 12040\n",
      " 11970 11940 11880 11800 11760 11690 11640 11600 11570 11460 11450 11300\n",
      " 11210 11090 10940 10870 10790 10770 10700 10660 10640 10590 10500 10490\n",
      " 10330 10100 10100 10070 10060 10050  9960  9890  9700  9580  9350  9170\n",
      "  9110  8980  8820  8770  8630  8610  8420  8410  8400  8390  8330  8200\n",
      "  8090  7890  7820  7670  7050  6870  6770  6520  6130  6010  5740  5650\n",
      "  5320  5310  4910  4740  3590  3400  3190  2750]\n",
      "29190\n",
      "[{'FitProfit': 11800, 'FitQuantities': [14, 4, 32, 0]}, {'FitProfit': 22830, 'FitQuantities': [16, 41, 43, 13]}, {'FitProfit': 18310, 'FitQuantities': [21, 40, 26, 41]}, {'FitProfit': 10790, 'FitQuantities': [1, 11, 27, 39]}, {'FitProfit': 10590, 'FitQuantities': [11, 41, 4, 9]}, {'FitProfit': 6870, 'FitQuantities': [13, 6, 13, 47]}, {'FitProfit': 26550, 'FitQuantities': [47, 46, 42, 5]}, {'FitProfit': 16340, 'FitQuantities': [17, 4, 46, 4]}, {'FitProfit': 8770, 'FitQuantities': [16, 7, 19, 7]}, {'FitProfit': 12040, 'FitQuantities': [49, 16, 13, 4]}, {'FitProfit': 22890, 'FitQuantities': [47, 32, 38, 39]}, {'FitProfit': 20310, 'FitQuantities': [3, 29, 47, 11]}, {'FitProfit': 9170, 'FitQuantities': [4, 27, 11, 7]}, {'FitProfit': 16280, 'FitQuantities': [20, 41, 19, 38]}, {'FitProfit': 5650, 'FitQuantities': [21, 5, 8, 15]}, {'FitProfit': 14650, 'FitQuantities': [38, 28, 16, 45]}, {'FitProfit': 2750, 'FitQuantities': [1, 8, 2, 45]}, {'FitProfit': 14260, 'FitQuantities': [42, 21, 18, 46]}, {'FitProfit': 10640, 'FitQuantities': [0, 21, 21, 14]}, {'FitProfit': 12230, 'FitQuantities': [18, 11, 26, 43]}, {'FitProfit': 8820, 'FitQuantities': [10, 37, 1, 12]}, {'FitProfit': 15760, 'FitQuantities': [9, 42, 20, 46]}, {'FitProfit': 12080, 'FitQuantities': [14, 19, 22, 28]}, {'FitProfit': 18810, 'FitQuantities': [35, 28, 32, 11]}, {'FitProfit': 13340, 'FitQuantities': [19, 4, 35, 14]}, {'FitProfit': 11970, 'FitQuantities': [17, 32, 12, 27]}, {'FitProfit': 17830, 'FitQuantities': [46, 50, 10, 23]}, {'FitProfit': 27920, 'FitQuantities': [50, 39, 50, 12]}, {'FitProfit': 8330, 'FitQuantities': [7, 21, 10, 43]}, {'FitProfit': 15350, 'FitQuantities': [6, 6, 44, 35]}, {'FitProfit': 11760, 'FitQuantities': [45, 25, 6, 46]}, {'FitProfit': 20170, 'FitQuantities': [29, 47, 25, 37]}, {'FitProfit': 21890, 'FitQuantities': [25, 50, 30, 39]}, {'FitProfit': 11880, 'FitQuantities': [19, 6, 29, 8]}, {'FitProfit': 10770, 'FitQuantities': [25, 34, 4, 27]}, {'FitProfit': 16620, 'FitQuantities': [28, 31, 24, 42]}, {'FitProfit': 5320, 'FitQuantities': [40, 4, 1, 22]}, {'FitProfit': 12830, 'FitQuantities': [10, 30, 19, 13]}, {'FitProfit': 12810, 'FitQuantities': [0, 6, 38, 21]}, {'FitProfit': 7050, 'FitQuantities': [48, 9, 0, 45]}, {'FitProfit': 15830, 'FitQuantities': [35, 40, 14, 13]}, {'FitProfit': 15610, 'FitQuantities': [30, 48, 10, 1]}, {'FitProfit': 16640, 'FitQuantities': [28, 19, 32, 44]}, {'FitProfit': 10060, 'FitQuantities': [36, 20, 8, 6]}, {'FitProfit': 10100, 'FitQuantities': [3, 23, 16, 40]}, {'FitProfit': 11450, 'FitQuantities': [17, 20, 18, 35]}, {'FitProfit': 12970, 'FitQuantities': [7, 36, 16, 27]}, {'FitProfit': 12540, 'FitQuantities': [6, 38, 14, 14]}, {'FitProfit': 20610, 'FitQuantities': [16, 30, 42, 41]}, {'FitProfit': 22830, 'FitQuantities': [4, 47, 42, 43]}, {'FitProfit': 13810, 'FitQuantities': [19, 39, 13, 21]}, {'FitProfit': 12980, 'FitQuantities': [25, 32, 12, 48]}, {'FitProfit': 8090, 'FitQuantities': [19, 27, 1, 49]}, {'FitProfit': 17020, 'FitQuantities': [25, 3, 46, 12]}, {'FitProfit': 21490, 'FitQuantities': [17, 48, 33, 29]}, {'FitProfit': 24100, 'FitQuantities': [42, 45, 35, 40]}, {'FitProfit': 3400, 'FitQuantities': [5, 3, 6, 50]}, {'FitProfit': 16880, 'FitQuantities': [35, 7, 39, 28]}, {'FitProfit': 21410, 'FitQuantities': [38, 44, 29, 11]}, {'FitProfit': 20630, 'FitQuantities': [20, 24, 46, 3]}, {'FitProfit': 7890, 'FitQuantities': [18, 29, 0, 29]}, {'FitProfit': 24500, 'FitQuantities': [41, 27, 49, 30]}, {'FitProfit': 21520, 'FitQuantities': [32, 34, 37, 42]}, {'FitProfit': 25650, 'FitQuantities': [34, 36, 50, 5]}, {'FitProfit': 14910, 'FitQuantities': [19, 6, 38, 41]}, {'FitProfit': 13840, 'FitQuantities': [19, 11, 31, 44]}, {'FitProfit': 8610, 'FitQuantities': [48, 13, 4, 1]}, {'FitProfit': 8420, 'FitQuantities': [24, 4, 16, 42]}, {'FitProfit': 23410, 'FitQuantities': [11, 47, 42, 31]}, {'FitProfit': 16920, 'FitQuantities': [32, 45, 15, 22]}, {'FitProfit': 17310, 'FitQuantities': [45, 25, 26, 1]}, {'FitProfit': 15790, 'FitQuantities': [3, 9, 45, 19]}, {'FitProfit': 26560, 'FitQuantities': [48, 48, 39, 46]}, {'FitProfit': 26060, 'FitQuantities': [35, 42, 47, 6]}, {'FitProfit': 23160, 'FitQuantities': [48, 32, 39, 26]}, {'FitProfit': 14520, 'FitQuantities': [46, 24, 17, 2]}, {'FitProfit': 24660, 'FitQuantities': [40, 46, 37, 36]}, {'FitProfit': 11690, 'FitQuantities': [18, 40, 6, 9]}, {'FitProfit': 9350, 'FitQuantities': [37, 25, 1, 35]}, {'FitProfit': 19440, 'FitQuantities': [38, 29, 32, 24]}, {'FitProfit': 23850, 'FitQuantities': [35, 42, 39, 25]}, {'FitProfit': 16900, 'FitQuantities': [31, 9, 40, 0]}, {'FitProfit': 15500, 'FitQuantities': [15, 43, 18, 0]}, {'FitProfit': 3590, 'FitQuantities': [8, 12, 0, 39]}, {'FitProfit': 15050, 'FitQuantities': [23, 34, 19, 25]}, {'FitProfit': 25340, 'FitQuantities': [39, 49, 38, 24]}, {'FitProfit': 20070, 'FitQuantities': [41, 45, 22, 37]}, {'FitProfit': 15380, 'FitQuantities': [10, 7, 42, 38]}, {'FitProfit': 21600, 'FitQuantities': [17, 47, 34, 30]}, {'FitProfit': 11600, 'FitQuantities': [0, 41, 10, 40]}, {'FitProfit': 18760, 'FitQuantities': [18, 33, 33, 46]}, {'FitProfit': 18140, 'FitQuantities': [21, 21, 38, 44]}, {'FitProfit': 10500, 'FitQuantities': [8, 42, 4, 10]}, {'FitProfit': 20450, 'FitQuantities': [21, 39, 35, 5]}, {'FitProfit': 18440, 'FitQuantities': [12, 40, 30, 24]}, {'FitProfit': 6770, 'FitQuantities': [42, 4, 5, 27]}, {'FitProfit': 10050, 'FitQuantities': [25, 4, 21, 45]}, {'FitProfit': 16180, 'FitQuantities': [11, 46, 19, 18]}, {'FitProfit': 26400, 'FitQuantities': [34, 42, 48, 20]}, {'FitProfit': 24170, 'FitQuantities': [21, 43, 44, 27]}, {'FitProfit': 7670, 'FitQuantities': [9, 8, 17, 7]}, {'FitProfit': 11570, 'FitQuantities': [28, 37, 3, 47]}, {'FitProfit': 28590, 'FitQuantities': [49, 44, 48, 49]}, {'FitProfit': 10070, 'FitQuantities': [31, 7, 17, 47]}, {'FitProfit': 12850, 'FitQuantities': [22, 33, 13, 15]}, {'FitProfit': 5740, 'FitQuantities': [41, 1, 4, 24]}, {'FitProfit': 12720, 'FitQuantities': [37, 25, 12, 42]}, {'FitProfit': 8980, 'FitQuantities': [25, 21, 7, 18]}, {'FitProfit': 11210, 'FitQuantities': [34, 10, 19, 11]}, {'FitProfit': 12430, 'FitQuantities': [12, 5, 33, 33]}, {'FitProfit': 13420, 'FitQuantities': [19, 9, 31, 42]}, {'FitProfit': 6130, 'FitQuantities': [9, 10, 10, 23]}, {'FitProfit': 22250, 'FitQuantities': [32, 44, 33, 35]}, {'FitProfit': 22950, 'FitQuantities': [8, 41, 45, 45]}, {'FitProfit': 9580, 'FitQuantities': [12, 9, 21, 28]}, {'FitProfit': 4740, 'FitQuantities': [10, 2, 10, 34]}, {'FitProfit': 12700, 'FitQuantities': [4, 13, 31, 40]}, {'FitProfit': 8630, 'FitQuantities': [3, 29, 7, 43]}, {'FitProfit': 10330, 'FitQuantities': [25, 27, 7, 33]}, {'FitProfit': 18810, 'FitQuantities': [39, 37, 24, 31]}, {'FitProfit': 26240, 'FitQuantities': [45, 37, 47, 24]}, {'FitProfit': 14840, 'FitQuantities': [4, 33, 26, 4]}, {'FitProfit': 11300, 'FitQuantities': [49, 4, 17, 50]}, {'FitProfit': 13870, 'FitQuantities': [20, 5, 36, 7]}, {'FitProfit': 20520, 'FitQuantities': [16, 21, 49, 2]}, {'FitProfit': 10870, 'FitQuantities': [12, 4, 29, 17]}, {'FitProfit': 18150, 'FitQuantities': [34, 0, 48, 35]}, {'FitProfit': 16320, 'FitQuantities': [39, 49, 8, 22]}, {'FitProfit': 10940, 'FitQuantities': [24, 38, 2, 34]}, {'FitProfit': 12430, 'FitQuantities': [28, 39, 6, 3]}, {'FitProfit': 18390, 'FitQuantities': [8, 40, 31, 29]}, {'FitProfit': 16320, 'FitQuantities': [30, 44, 15, 2]}, {'FitProfit': 16150, 'FitQuantities': [5, 7, 47, 15]}, {'FitProfit': 17260, 'FitQuantities': [38, 5, 41, 16]}, {'FitProfit': 25600, 'FitQuantities': [50, 30, 48, 20]}, {'FitProfit': 19200, 'FitQuantities': [50, 2, 46, 0]}, {'FitProfit': 14740, 'FitQuantities': [24, 40, 13, 44]}, {'FitProfit': 21100, 'FitQuantities': [24, 20, 48, 30]}, {'FitProfit': 8390, 'FitQuantities': [44, 12, 5, 9]}, {'FitProfit': 13690, 'FitQuantities': [36, 4, 30, 29]}, {'FitProfit': 12920, 'FitQuantities': [32, 32, 10, 32]}, {'FitProfit': 18150, 'FitQuantities': [47, 35, 21, 15]}, {'FitProfit': 20620, 'FitQuantities': [2, 45, 37, 32]}, {'FitProfit': 6010, 'FitQuantities': [48, 4, 1, 11]}, {'FitProfit': 15200, 'FitQuantities': [38, 4, 34, 40]}, {'FitProfit': 18490, 'FitQuantities': [36, 18, 37, 19]}, {'FitProfit': 8400, 'FitQuantities': [27, 0, 19, 0]}, {'FitProfit': 23730, 'FitQuantities': [45, 50, 30, 23]}, {'FitProfit': 11090, 'FitQuantities': [9, 33, 11, 29]}, {'FitProfit': 12410, 'FitQuantities': [37, 10, 22, 11]}, {'FitProfit': 4910, 'FitQuantities': [8, 9, 7, 21]}, {'FitProfit': 18620, 'FitQuantities': [39, 22, 33, 42]}, {'FitProfit': 10700, 'FitQuantities': [1, 42, 7, 10]}, {'FitProfit': 15060, 'FitQuantities': [18, 18, 31, 36]}, {'FitProfit': 23720, 'FitQuantities': [9, 49, 42, 42]}, {'FitProfit': 25810, 'FitQuantities': [46, 34, 47, 31]}, {'FitProfit': 9960, 'FitQuantities': [36, 9, 14, 36]}, {'FitProfit': 14480, 'FitQuantities': [23, 14, 30, 38]}, {'FitProfit': 12140, 'FitQuantities': [19, 37, 9, 14]}, {'FitProfit': 12170, 'FitQuantities': [10, 18, 25, 7]}, {'FitProfit': 10490, 'FitQuantities': [39, 27, 3, 29]}, {'FitProfit': 11640, 'FitQuantities': [9, 37, 11, 4]}, {'FitProfit': 12700, 'FitQuantities': [28, 23, 17, 20]}, {'FitProfit': 9110, 'FitQuantities': [19, 7, 19, 11]}, {'FitProfit': 29190, 'FitQuantities': [48, 50, 47, 29]}, {'FitProfit': 7820, 'FitQuantities': [19, 6, 15, 22]}, {'FitProfit': 3190, 'FitQuantities': [18, 2, 3, 9]}, {'FitProfit': 21470, 'FitQuantities': [48, 50, 21, 37]}, {'FitProfit': 9890, 'FitQuantities': [3, 17, 19, 49]}, {'FitProfit': 6520, 'FitQuantities': [49, 4, 2, 22]}, {'FitProfit': 16210, 'FitQuantities': [9, 46, 20, 11]}, {'FitProfit': 14210, 'FitQuantities': [14, 50, 9, 11]}, {'FitProfit': 11940, 'FitQuantities': [11, 6, 31, 34]}, {'FitProfit': 20590, 'FitQuantities': [31, 40, 31, 19]}, {'FitProfit': 13450, 'FitQuantities': [12, 34, 18, 5]}, {'FitProfit': 23100, 'FitQuantities': [5, 46, 44, 20]}, {'FitProfit': 20480, 'FitQuantities': [39, 45, 24, 38]}, {'FitProfit': 27030, 'FitQuantities': [37, 48, 45, 23]}, {'FitProfit': 23110, 'FitQuantities': [27, 37, 43, 11]}, {'FitProfit': 17910, 'FitQuantities': [13, 32, 34, 1]}, {'FitProfit': 8200, 'FitQuantities': [8, 1, 23, 30]}, {'FitProfit': 17400, 'FitQuantities': [29, 48, 15, 40]}, {'FitProfit': 10100, 'FitQuantities': [21, 8, 20, 40]}, {'FitProfit': 14430, 'FitQuantities': [45, 48, 0, 33]}, {'FitProfit': 15500, 'FitQuantities': [9, 3, 45, 50]}, {'FitProfit': 17830, 'FitQuantities': [37, 1, 46, 13]}, {'FitProfit': 12510, 'FitQuantities': [23, 47, 2, 21]}, {'FitProfit': 9700, 'FitQuantities': [25, 1, 22, 40]}, {'FitProfit': 14630, 'FitQuantities': [35, 31, 16, 13]}, {'FitProfit': 20210, 'FitQuantities': [37, 42, 27, 1]}, {'FitProfit': 5310, 'FitQuantities': [25, 12, 0, 41]}, {'FitProfit': 8410, 'FitQuantities': [16, 10, 15, 31]}, {'FitProfit': 10660, 'FitQuantities': [9, 31, 11, 26]}, {'FitProfit': 23560, 'FitQuantities': [44, 22, 48, 36]}, {'FitProfit': 16580, 'FitQuantities': [23, 47, 15, 38]}, {'FitProfit': 14800, 'FitQuantities': [35, 17, 26, 10]}, {'FitProfit': 22470, 'FitQuantities': [32, 36, 40, 7]}, {'FitProfit': 14110, 'FitQuantities': [40, 38, 7, 41]}, {'FitProfit': 11460, 'FitQuantities': [40, 26, 6, 46]}, {'FitProfit': 17080, 'FitQuantities': [25, 9, 41, 48]}, {'FitProfit': 11800, 'FitQuantities': [14, 4, 32, 0]}, {'FitProfit': 22830, 'FitQuantities': [16, 41, 43, 13]}, {'FitProfit': 18310, 'FitQuantities': [21, 40, 26, 41]}, {'FitProfit': 10790, 'FitQuantities': [1, 11, 27, 39]}, {'FitProfit': 10590, 'FitQuantities': [11, 41, 4, 9]}, {'FitProfit': 6870, 'FitQuantities': [13, 6, 13, 47]}, {'FitProfit': 26550, 'FitQuantities': [47, 46, 42, 5]}, {'FitProfit': 16340, 'FitQuantities': [17, 4, 46, 4]}, {'FitProfit': 8770, 'FitQuantities': [16, 7, 19, 7]}, {'FitProfit': 12040, 'FitQuantities': [49, 16, 13, 4]}, {'FitProfit': 22890, 'FitQuantities': [47, 32, 38, 39]}, {'FitProfit': 20310, 'FitQuantities': [3, 29, 47, 11]}, {'FitProfit': 9170, 'FitQuantities': [4, 27, 11, 7]}, {'FitProfit': 16280, 'FitQuantities': [20, 41, 19, 38]}, {'FitProfit': 5650, 'FitQuantities': [21, 5, 8, 15]}, {'FitProfit': 14650, 'FitQuantities': [38, 28, 16, 45]}, {'FitProfit': 2750, 'FitQuantities': [1, 8, 2, 45]}, {'FitProfit': 14260, 'FitQuantities': [42, 21, 18, 46]}, {'FitProfit': 10640, 'FitQuantities': [0, 21, 21, 14]}, {'FitProfit': 12230, 'FitQuantities': [18, 11, 26, 43]}, {'FitProfit': 8820, 'FitQuantities': [10, 37, 1, 12]}, {'FitProfit': 15760, 'FitQuantities': [9, 42, 20, 46]}, {'FitProfit': 12080, 'FitQuantities': [14, 19, 22, 28]}, {'FitProfit': 18810, 'FitQuantities': [35, 28, 32, 11]}, {'FitProfit': 13340, 'FitQuantities': [19, 4, 35, 14]}, {'FitProfit': 11970, 'FitQuantities': [17, 32, 12, 27]}, {'FitProfit': 17830, 'FitQuantities': [46, 50, 10, 23]}, {'FitProfit': 27920, 'FitQuantities': [50, 39, 50, 12]}, {'FitProfit': 8330, 'FitQuantities': [7, 21, 10, 43]}, {'FitProfit': 15350, 'FitQuantities': [6, 6, 44, 35]}, {'FitProfit': 11760, 'FitQuantities': [45, 25, 6, 46]}, {'FitProfit': 20170, 'FitQuantities': [29, 47, 25, 37]}, {'FitProfit': 21890, 'FitQuantities': [25, 50, 30, 39]}, {'FitProfit': 11880, 'FitQuantities': [19, 6, 29, 8]}, {'FitProfit': 10770, 'FitQuantities': [25, 34, 4, 27]}, {'FitProfit': 16620, 'FitQuantities': [28, 31, 24, 42]}, {'FitProfit': 5320, 'FitQuantities': [40, 4, 1, 22]}, {'FitProfit': 12830, 'FitQuantities': [10, 30, 19, 13]}, {'FitProfit': 12810, 'FitQuantities': [0, 6, 38, 21]}, {'FitProfit': 7050, 'FitQuantities': [48, 9, 0, 45]}, {'FitProfit': 15830, 'FitQuantities': [35, 40, 14, 13]}, {'FitProfit': 15610, 'FitQuantities': [30, 48, 10, 1]}, {'FitProfit': 16640, 'FitQuantities': [28, 19, 32, 44]}, {'FitProfit': 10060, 'FitQuantities': [36, 20, 8, 6]}, {'FitProfit': 10100, 'FitQuantities': [3, 23, 16, 40]}, {'FitProfit': 11450, 'FitQuantities': [17, 20, 18, 35]}, {'FitProfit': 12970, 'FitQuantities': [7, 36, 16, 27]}, {'FitProfit': 12540, 'FitQuantities': [6, 38, 14, 14]}, {'FitProfit': 20610, 'FitQuantities': [16, 30, 42, 41]}, {'FitProfit': 22830, 'FitQuantities': [4, 47, 42, 43]}, {'FitProfit': 13810, 'FitQuantities': [19, 39, 13, 21]}, {'FitProfit': 12980, 'FitQuantities': [25, 32, 12, 48]}, {'FitProfit': 8090, 'FitQuantities': [19, 27, 1, 49]}, {'FitProfit': 17020, 'FitQuantities': [25, 3, 46, 12]}, {'FitProfit': 21490, 'FitQuantities': [17, 48, 33, 29]}, {'FitProfit': 24100, 'FitQuantities': [42, 45, 35, 40]}, {'FitProfit': 3400, 'FitQuantities': [5, 3, 6, 50]}, {'FitProfit': 16880, 'FitQuantities': [35, 7, 39, 28]}, {'FitProfit': 21410, 'FitQuantities': [38, 44, 29, 11]}, {'FitProfit': 20630, 'FitQuantities': [20, 24, 46, 3]}, {'FitProfit': 7890, 'FitQuantities': [18, 29, 0, 29]}, {'FitProfit': 24500, 'FitQuantities': [41, 27, 49, 30]}, {'FitProfit': 21520, 'FitQuantities': [32, 34, 37, 42]}, {'FitProfit': 25650, 'FitQuantities': [34, 36, 50, 5]}, {'FitProfit': 14910, 'FitQuantities': [19, 6, 38, 41]}, {'FitProfit': 13840, 'FitQuantities': [19, 11, 31, 44]}, {'FitProfit': 8610, 'FitQuantities': [48, 13, 4, 1]}, {'FitProfit': 8420, 'FitQuantities': [24, 4, 16, 42]}, {'FitProfit': 23410, 'FitQuantities': [11, 47, 42, 31]}, {'FitProfit': 16920, 'FitQuantities': [32, 45, 15, 22]}, {'FitProfit': 17310, 'FitQuantities': [45, 25, 26, 1]}, {'FitProfit': 15790, 'FitQuantities': [3, 9, 45, 19]}, {'FitProfit': 26560, 'FitQuantities': [48, 48, 39, 46]}, {'FitProfit': 26060, 'FitQuantities': [35, 42, 47, 6]}, {'FitProfit': 23160, 'FitQuantities': [48, 32, 39, 26]}, {'FitProfit': 14520, 'FitQuantities': [46, 24, 17, 2]}, {'FitProfit': 24660, 'FitQuantities': [40, 46, 37, 36]}, {'FitProfit': 11690, 'FitQuantities': [18, 40, 6, 9]}, {'FitProfit': 9350, 'FitQuantities': [37, 25, 1, 35]}, {'FitProfit': 19440, 'FitQuantities': [38, 29, 32, 24]}, {'FitProfit': 23850, 'FitQuantities': [35, 42, 39, 25]}, {'FitProfit': 16900, 'FitQuantities': [31, 9, 40, 0]}, {'FitProfit': 15500, 'FitQuantities': [15, 43, 18, 0]}, {'FitProfit': 3590, 'FitQuantities': [8, 12, 0, 39]}, {'FitProfit': 15050, 'FitQuantities': [23, 34, 19, 25]}, {'FitProfit': 25340, 'FitQuantities': [39, 49, 38, 24]}, {'FitProfit': 20070, 'FitQuantities': [41, 45, 22, 37]}, {'FitProfit': 15380, 'FitQuantities': [10, 7, 42, 38]}, {'FitProfit': 21600, 'FitQuantities': [17, 47, 34, 30]}, {'FitProfit': 11600, 'FitQuantities': [0, 41, 10, 40]}, {'FitProfit': 18760, 'FitQuantities': [18, 33, 33, 46]}, {'FitProfit': 18140, 'FitQuantities': [21, 21, 38, 44]}, {'FitProfit': 10500, 'FitQuantities': [8, 42, 4, 10]}, {'FitProfit': 20450, 'FitQuantities': [21, 39, 35, 5]}, {'FitProfit': 18440, 'FitQuantities': [12, 40, 30, 24]}, {'FitProfit': 6770, 'FitQuantities': [42, 4, 5, 27]}, {'FitProfit': 10050, 'FitQuantities': [25, 4, 21, 45]}, {'FitProfit': 16180, 'FitQuantities': [11, 46, 19, 18]}, {'FitProfit': 26400, 'FitQuantities': [34, 42, 48, 20]}, {'FitProfit': 24170, 'FitQuantities': [21, 43, 44, 27]}, {'FitProfit': 7670, 'FitQuantities': [9, 8, 17, 7]}, {'FitProfit': 11570, 'FitQuantities': [28, 37, 3, 47]}, {'FitProfit': 28590, 'FitQuantities': [49, 44, 48, 49]}, {'FitProfit': 10070, 'FitQuantities': [31, 7, 17, 47]}, {'FitProfit': 12850, 'FitQuantities': [22, 33, 13, 15]}, {'FitProfit': 5740, 'FitQuantities': [41, 1, 4, 24]}, {'FitProfit': 12720, 'FitQuantities': [37, 25, 12, 42]}, {'FitProfit': 8980, 'FitQuantities': [25, 21, 7, 18]}, {'FitProfit': 11210, 'FitQuantities': [34, 10, 19, 11]}, {'FitProfit': 12430, 'FitQuantities': [12, 5, 33, 33]}, {'FitProfit': 13420, 'FitQuantities': [19, 9, 31, 42]}, {'FitProfit': 6130, 'FitQuantities': [9, 10, 10, 23]}, {'FitProfit': 22250, 'FitQuantities': [32, 44, 33, 35]}, {'FitProfit': 22950, 'FitQuantities': [8, 41, 45, 45]}, {'FitProfit': 9580, 'FitQuantities': [12, 9, 21, 28]}, {'FitProfit': 4740, 'FitQuantities': [10, 2, 10, 34]}, {'FitProfit': 12700, 'FitQuantities': [4, 13, 31, 40]}, {'FitProfit': 8630, 'FitQuantities': [3, 29, 7, 43]}, {'FitProfit': 10330, 'FitQuantities': [25, 27, 7, 33]}, {'FitProfit': 18810, 'FitQuantities': [39, 37, 24, 31]}, {'FitProfit': 26240, 'FitQuantities': [45, 37, 47, 24]}, {'FitProfit': 14840, 'FitQuantities': [4, 33, 26, 4]}, {'FitProfit': 11300, 'FitQuantities': [49, 4, 17, 50]}, {'FitProfit': 13870, 'FitQuantities': [20, 5, 36, 7]}, {'FitProfit': 20520, 'FitQuantities': [16, 21, 49, 2]}, {'FitProfit': 10870, 'FitQuantities': [12, 4, 29, 17]}, {'FitProfit': 18150, 'FitQuantities': [34, 0, 48, 35]}, {'FitProfit': 16320, 'FitQuantities': [39, 49, 8, 22]}, {'FitProfit': 10940, 'FitQuantities': [24, 38, 2, 34]}, {'FitProfit': 12430, 'FitQuantities': [28, 39, 6, 3]}, {'FitProfit': 18390, 'FitQuantities': [8, 40, 31, 29]}, {'FitProfit': 16320, 'FitQuantities': [30, 44, 15, 2]}, {'FitProfit': 16150, 'FitQuantities': [5, 7, 47, 15]}, {'FitProfit': 17260, 'FitQuantities': [38, 5, 41, 16]}, {'FitProfit': 25600, 'FitQuantities': [50, 30, 48, 20]}, {'FitProfit': 19200, 'FitQuantities': [50, 2, 46, 0]}, {'FitProfit': 14740, 'FitQuantities': [24, 40, 13, 44]}, {'FitProfit': 21100, 'FitQuantities': [24, 20, 48, 30]}, {'FitProfit': 8390, 'FitQuantities': [44, 12, 5, 9]}, {'FitProfit': 13690, 'FitQuantities': [36, 4, 30, 29]}, {'FitProfit': 12920, 'FitQuantities': [32, 32, 10, 32]}, {'FitProfit': 18150, 'FitQuantities': [47, 35, 21, 15]}, {'FitProfit': 20620, 'FitQuantities': [2, 45, 37, 32]}, {'FitProfit': 6010, 'FitQuantities': [48, 4, 1, 11]}, {'FitProfit': 15200, 'FitQuantities': [38, 4, 34, 40]}, {'FitProfit': 18490, 'FitQuantities': [36, 18, 37, 19]}, {'FitProfit': 8400, 'FitQuantities': [27, 0, 19, 0]}, {'FitProfit': 23730, 'FitQuantities': [45, 50, 30, 23]}, {'FitProfit': 11090, 'FitQuantities': [9, 33, 11, 29]}, {'FitProfit': 12410, 'FitQuantities': [37, 10, 22, 11]}, {'FitProfit': 4910, 'FitQuantities': [8, 9, 7, 21]}, {'FitProfit': 18620, 'FitQuantities': [39, 22, 33, 42]}, {'FitProfit': 10700, 'FitQuantities': [1, 42, 7, 10]}, {'FitProfit': 15060, 'FitQuantities': [18, 18, 31, 36]}, {'FitProfit': 23720, 'FitQuantities': [9, 49, 42, 42]}, {'FitProfit': 25810, 'FitQuantities': [46, 34, 47, 31]}, {'FitProfit': 9960, 'FitQuantities': [36, 9, 14, 36]}, {'FitProfit': 14480, 'FitQuantities': [23, 14, 30, 38]}, {'FitProfit': 12140, 'FitQuantities': [19, 37, 9, 14]}, {'FitProfit': 12170, 'FitQuantities': [10, 18, 25, 7]}, {'FitProfit': 10490, 'FitQuantities': [39, 27, 3, 29]}, {'FitProfit': 11640, 'FitQuantities': [9, 37, 11, 4]}, {'FitProfit': 12700, 'FitQuantities': [28, 23, 17, 20]}, {'FitProfit': 9110, 'FitQuantities': [19, 7, 19, 11]}, {'FitProfit': 29190, 'FitQuantities': [48, 50, 47, 29]}, {'FitProfit': 7820, 'FitQuantities': [19, 6, 15, 22]}, {'FitProfit': 3190, 'FitQuantities': [18, 2, 3, 9]}, {'FitProfit': 21470, 'FitQuantities': [48, 50, 21, 37]}, {'FitProfit': 9890, 'FitQuantities': [3, 17, 19, 49]}, {'FitProfit': 6520, 'FitQuantities': [49, 4, 2, 22]}, {'FitProfit': 16210, 'FitQuantities': [9, 46, 20, 11]}, {'FitProfit': 14210, 'FitQuantities': [14, 50, 9, 11]}, {'FitProfit': 11940, 'FitQuantities': [11, 6, 31, 34]}, {'FitProfit': 20590, 'FitQuantities': [31, 40, 31, 19]}, {'FitProfit': 13450, 'FitQuantities': [12, 34, 18, 5]}, {'FitProfit': 23100, 'FitQuantities': [5, 46, 44, 20]}, {'FitProfit': 20480, 'FitQuantities': [39, 45, 24, 38]}, {'FitProfit': 27030, 'FitQuantities': [37, 48, 45, 23]}, {'FitProfit': 23110, 'FitQuantities': [27, 37, 43, 11]}, {'FitProfit': 17910, 'FitQuantities': [13, 32, 34, 1]}, {'FitProfit': 8200, 'FitQuantities': [8, 1, 23, 30]}, {'FitProfit': 17400, 'FitQuantities': [29, 48, 15, 40]}, {'FitProfit': 10100, 'FitQuantities': [21, 8, 20, 40]}, {'FitProfit': 14430, 'FitQuantities': [45, 48, 0, 33]}, {'FitProfit': 15500, 'FitQuantities': [9, 3, 45, 50]}, {'FitProfit': 17830, 'FitQuantities': [37, 1, 46, 13]}, {'FitProfit': 12510, 'FitQuantities': [23, 47, 2, 21]}, {'FitProfit': 9700, 'FitQuantities': [25, 1, 22, 40]}, {'FitProfit': 14630, 'FitQuantities': [35, 31, 16, 13]}, {'FitProfit': 20210, 'FitQuantities': [37, 42, 27, 1]}, {'FitProfit': 5310, 'FitQuantities': [25, 12, 0, 41]}, {'FitProfit': 8410, 'FitQuantities': [16, 10, 15, 31]}, {'FitProfit': 10660, 'FitQuantities': [9, 31, 11, 26]}, {'FitProfit': 23560, 'FitQuantities': [44, 22, 48, 36]}, {'FitProfit': 16580, 'FitQuantities': [23, 47, 15, 38]}, {'FitProfit': 14800, 'FitQuantities': [35, 17, 26, 10]}, {'FitProfit': 22470, 'FitQuantities': [32, 36, 40, 7]}, {'FitProfit': 14110, 'FitQuantities': [40, 38, 7, 41]}, {'FitProfit': 11460, 'FitQuantities': [40, 26, 6, 46]}, {'FitProfit': 17080, 'FitQuantities': [25, 9, 41, 48]}]\n"
     ]
    }
   ],
   "source": [
    "arraySomaProfits = []\n",
    "arrayFitProfitAndQuantity = []\n",
    "\n",
    "\n",
    "def createFitnessFunction(population, products):\n",
    "    for person in population:\n",
    "        soma = 0\n",
    "        contador = 0\n",
    "        for productQuantity in person:\n",
    "            soma = soma + (productQuantity * products[contador]['predictedProfits'])\n",
    "            contador = contador + 1\n",
    "        auxVar = {'FitProfit': soma, 'FitQuantities': person}\n",
    "        arrayFitProfitAndQuantity.append(auxVar)\n",
    "        arraySomaProfits.append(soma)\n",
    "    array = np.array(arraySomaProfits)\n",
    "    array[::-1].sort()\n",
    "    return array\n",
    "\n",
    "fitSolutions = createFitnessFunction(population, products)\n",
    "maxFitSolution = np.max(createFitnessFunction(population, products))\n",
    "\n",
    "print(fitSolutions)\n",
    "print(maxFitSolution)\n",
    "print(arrayFitProfitAndQuantity)\n"
   ]
  },
  {
   "cell_type": "code",
   "execution_count": null,
   "id": "d90dfb9c",
   "metadata": {},
   "outputs": [],
   "source": [
    "def selectFittestSoutions(fitSolutions):\n",
    "    for fitSolution in range(int(len(fitSolutions) / 2)):\n",
    "        "
   ]
  },
  {
   "cell_type": "code",
   "execution_count": 222,
   "id": "5b800c47",
   "metadata": {},
   "outputs": [],
   "source": [
    "import random\n",
    "\n",
    "\n",
    "def optimize_product_quantities(productsList, maxTotalQuantity, maxProductQuantity, storeDimension):\n",
    "    # products is a list of tuples, where each tuple contains the following information about a product:\n",
    "    # (name, quantity, price, dimension)\n",
    "\n",
    "    # Create a population of random solutions\n",
    "\n",
    "    # population = []\n",
    "    # for i in range(100):\n",
    "    #     solution = []\n",
    "    #     totalQuantity = 0\n",
    "    #     totalDimension = 0\n",
    "    #     for j in range(len(productsList)):\n",
    "    #         quantity = random.randint(0, maxProductQuantity)\n",
    "    #         totalQuantity += quantity\n",
    "    #         totalDimension += quantity * productsList[j][2]\n",
    "    #         solution.append(quantity)\n",
    "    #     if totalQuantity <= maxTotalQuantity and totalDimension <= storeDimension:\n",
    "    #         population.append(solution)\n",
    "\n",
    "    #represents code above\n",
    "    firstpopulation(productsList)\n",
    "\n",
    "    # Set the number of generations and the mutation rate\n",
    "    numGenerations = 1000\n",
    "    mutationRate = 0.01\n",
    "\n",
    "    # Run the genetic algorithm\n",
    "    for generation in range(numGenerations):\n",
    "        # Calculate the fitness of each solution in the population\n",
    "        populationFitness = []\n",
    "        for i in range(len(population)):\n",
    "            totalProfit = 0\n",
    "            totalQuantity = 0\n",
    "            totalDimension = 0\n",
    "            for j in range(len(productsList)):\n",
    "                totalProfit += population[i][j] * productsList[j][2]\n",
    "                totalQuantity += population[i][j]\n",
    "                totalDimension += population[i][j] * productsList[j][3]\n",
    "            if totalQuantity <= maxTotalQuantity and totalDimension <= storeDimension:\n",
    "                populationFitness.append(totalProfit)\n",
    "            else:\n",
    "                populationFitness.append(0)\n",
    "\n",
    "        # Select the fittest solutions for breeding\n",
    "        fittestSolutions = []\n",
    "        for i in range(int(len(population) / 2)):\n",
    "            fittestIndex = populationFitness.index(max(populationFitness))\n",
    "            fittestSolutions.append(population[fittestIndex])\n",
    "            populationFitness[fittestIndex] = 0\n",
    "        population = fittestSolutions\n",
    "\n",
    "        # Breed the solutions to create a new population\n",
    "        newPopulation = []\n",
    "        for i in range(len(population)):\n",
    "            parent1 = population[i]\n",
    "            parent2 = population[random.randint(0, len(population) - 1)]\n",
    "            child = []\n",
    "            for j in range(len(productsList)):\n",
    "                if random.random() < 0.5:\n",
    "                    child.append(parent1[j])\n",
    "                else:\n",
    "                    child.append(parent2[j])\n",
    "\n",
    "            # Mutate the child\n",
    "            if random.random() < mutationRate:\n",
    "                mutationIndex = random.randint(0, len(productsList) - 1)\n",
    "                child[mutationIndex] = random.randint(0, maxProductQuantity)\n",
    "\n",
    "            newPopulation.append(child)\n",
    "        population = newPopulation\n",
    "        print(generation)\n",
    "    # Return the fittest solution\n",
    "\n",
    "    return population[0]"
   ]
  },
  {
   "cell_type": "code",
   "execution_count": 223,
   "id": "dd2c1efd",
   "metadata": {},
   "outputs": [
    {
     "ename": "UnboundLocalError",
     "evalue": "local variable 'population' referenced before assignment",
     "output_type": "error",
     "traceback": [
      "\u001b[1;31m---------------------------------------------------------------------------\u001b[0m",
      "\u001b[1;31mUnboundLocalError\u001b[0m                         Traceback (most recent call last)",
      "\u001b[1;32m~\\AppData\\Local\\Temp\\ipykernel_10704\\2164255306.py\u001b[0m in \u001b[0;36m<module>\u001b[1;34m\u001b[0m\n\u001b[1;32m----> 1\u001b[1;33m \u001b[0moptimize_product_quantities\u001b[0m\u001b[1;33m(\u001b[0m\u001b[0mproductsList\u001b[0m\u001b[1;33m,\u001b[0m\u001b[0mmaxTotalAmount\u001b[0m\u001b[1;33m,\u001b[0m\u001b[0mmaxAmountProduct\u001b[0m\u001b[1;33m,\u001b[0m\u001b[0mstoreDimension\u001b[0m\u001b[1;33m)\u001b[0m\u001b[1;33m\u001b[0m\u001b[1;33m\u001b[0m\u001b[0m\n\u001b[0m",
      "\u001b[1;32m~\\AppData\\Local\\Temp\\ipykernel_10704\\750100233.py\u001b[0m in \u001b[0;36moptimize_product_quantities\u001b[1;34m(productsList, maxTotalQuantity, maxProductQuantity, storeDimension)\u001b[0m\n\u001b[0;32m     32\u001b[0m         \u001b[1;31m# Calculate the fitness of each solution in the population\u001b[0m\u001b[1;33m\u001b[0m\u001b[1;33m\u001b[0m\u001b[0m\n\u001b[0;32m     33\u001b[0m         \u001b[0mpopulationFitness\u001b[0m \u001b[1;33m=\u001b[0m \u001b[1;33m[\u001b[0m\u001b[1;33m]\u001b[0m\u001b[1;33m\u001b[0m\u001b[1;33m\u001b[0m\u001b[0m\n\u001b[1;32m---> 34\u001b[1;33m         \u001b[1;32mfor\u001b[0m \u001b[0mi\u001b[0m \u001b[1;32min\u001b[0m \u001b[0mrange\u001b[0m\u001b[1;33m(\u001b[0m\u001b[0mlen\u001b[0m\u001b[1;33m(\u001b[0m\u001b[0mpopulation\u001b[0m\u001b[1;33m)\u001b[0m\u001b[1;33m)\u001b[0m\u001b[1;33m:\u001b[0m\u001b[1;33m\u001b[0m\u001b[1;33m\u001b[0m\u001b[0m\n\u001b[0m\u001b[0;32m     35\u001b[0m             \u001b[0mtotalProfit\u001b[0m \u001b[1;33m=\u001b[0m \u001b[1;36m0\u001b[0m\u001b[1;33m\u001b[0m\u001b[1;33m\u001b[0m\u001b[0m\n\u001b[0;32m     36\u001b[0m             \u001b[0mtotalQuantity\u001b[0m \u001b[1;33m=\u001b[0m \u001b[1;36m0\u001b[0m\u001b[1;33m\u001b[0m\u001b[1;33m\u001b[0m\u001b[0m\n",
      "\u001b[1;31mUnboundLocalError\u001b[0m: local variable 'population' referenced before assignment"
     ]
    }
   ],
   "source": [
    "optimize_product_quantities(productsList,maxTotalAmount,maxAmountProduct,storeDimension)"
   ]
  },
  {
   "cell_type": "code",
   "execution_count": 185,
   "id": "e751dbf6",
   "metadata": {},
   "outputs": [
    {
     "ename": "TypeError",
     "evalue": "object of type 'int' has no len()",
     "output_type": "error",
     "traceback": [
      "\u001b[1;31m---------------------------------------------------------------------------\u001b[0m",
      "\u001b[1;31mTypeError\u001b[0m                                 Traceback (most recent call last)",
      "\u001b[1;32m~\\AppData\\Local\\Temp\\ipykernel_10704\\4052108543.py\u001b[0m in \u001b[0;36m<module>\u001b[1;34m\u001b[0m\n\u001b[0;32m     26\u001b[0m     \u001b[1;31m# We'll use one-point crossover here, which involves selecting a random point in the parents' genomes\u001b[0m\u001b[1;33m\u001b[0m\u001b[1;33m\u001b[0m\u001b[0m\n\u001b[0;32m     27\u001b[0m     \u001b[1;31m# and swapping the genes on either side of the point to create the offspring\u001b[0m\u001b[1;33m\u001b[0m\u001b[1;33m\u001b[0m\u001b[0m\n\u001b[1;32m---> 28\u001b[1;33m     \u001b[0mcrossover_point\u001b[0m \u001b[1;33m=\u001b[0m \u001b[0mrandom\u001b[0m\u001b[1;33m.\u001b[0m\u001b[0mrandint\u001b[0m\u001b[1;33m(\u001b[0m\u001b[1;36m1\u001b[0m\u001b[1;33m,\u001b[0m \u001b[0mlen\u001b[0m\u001b[1;33m(\u001b[0m\u001b[0mparent1\u001b[0m\u001b[1;33m)\u001b[0m\u001b[1;33m)\u001b[0m\u001b[1;33m\u001b[0m\u001b[1;33m\u001b[0m\u001b[0m\n\u001b[0m\u001b[0;32m     29\u001b[0m     \u001b[0moffspring\u001b[0m \u001b[1;33m=\u001b[0m \u001b[0mparent1\u001b[0m\u001b[1;33m[\u001b[0m\u001b[1;33m:\u001b[0m\u001b[0mcrossover_point\u001b[0m\u001b[1;33m]\u001b[0m \u001b[1;33m+\u001b[0m \u001b[0mparent2\u001b[0m\u001b[1;33m[\u001b[0m\u001b[0mcrossover_point\u001b[0m\u001b[1;33m:\u001b[0m\u001b[1;33m]\u001b[0m\u001b[1;33m\u001b[0m\u001b[1;33m\u001b[0m\u001b[0m\n\u001b[0;32m     30\u001b[0m \u001b[1;33m\u001b[0m\u001b[0m\n",
      "\u001b[1;31mTypeError\u001b[0m: object of type 'int' has no len()"
     ]
    }
   ],
   "source": [
    "\n",
    "\n",
    "# Define the fitness function\n",
    "def fitness(x):\n",
    "    # x is the number of products to buy\n",
    "    # We can define the fitness as the difference between the desired stock level and the actual stock level\n",
    "    # The desired stock level is 10\n",
    "    return abs(10 - x)\n",
    "\n",
    "# Initialize the population with random solutions\n",
    "population = [random.randint(0, 20) for _ in range(10)]\n",
    "\n",
    "# Set the maximum number of generations\n",
    "max_generations = 100\n",
    "\n",
    "# Iterate over the generations\n",
    "for generation in range(max_generations):\n",
    "    # Evaluate the fitness of each solution\n",
    "    fitness_values = [fitness(x) for x in population]\n",
    "    \n",
    "    # Select the best solutions as parents\n",
    "    # We'll use tournament selection here, which involves selecting a random subset of the population\n",
    "    # and choosing the best solution from that subset as the parent\n",
    "    parent1 = min(random.sample(population, 5), key=fitness)\n",
    "    parent2 = min(random.sample(population, 5), key=fitness)\n",
    "    \n",
    "    # Create offspring by combining the parents using crossover\n",
    "    # We'll use one-point crossover here, which involves selecting a random point in the parents' genomes\n",
    "    # and swapping the genes on either side of the point to create the offspring\n",
    "    crossover_point = random.randint(1, len(parent1))\n",
    "    offspring = parent1[:crossover_point] + parent2[crossover_point:]\n",
    "    \n",
    "    # Add some randomness to the offspring using mutation\n",
    "    # We'll flip a random bit in the offspring's genome\n",
    "    mutation_point = random.randint(0, len(offspring) - 1)\n",
    "    offspring[mutation_point] = 1 - offspring[mutation_point]\n",
    "    \n",
    "    # Replace the worst solution in the population with the offspring\n",
    "    worst_solution = max(zip(population, fitness_values), key=lambda x: x[1])\n",
    "    population[population.index(worst_solution[0])] = offspring\n",
    "\n",
    "# The final solution is the best solution in the final generation\n",
    "best_solution = min(zip(population, fitness_values), key=lambda x: x[1])\n",
    "print(f\"The optimal number of products to buy is: {best_solution[0]}\")"
   ]
  },
  {
   "cell_type": "code",
   "execution_count": null,
   "id": "46f91a5f",
   "metadata": {},
   "outputs": [],
   "source": [
    "\n",
    "  # evaluate the fitness of a given solution\n",
    "  def evaluate_fitness(products):\n",
    "\n",
    "#  # check if better (e.g. perform a tournament)\n",
    "#  if scores[ix] < scores[selection_ix]:\n",
    "#  selection_ix = ix\n",
    "#  return pop[selection_ix]\n",
    "#{'predictedProfits': 100, 'predictedProductQuantities': 10, 'dimension': 5, 'productName': 'p1', 'productProfit': 10.0},  \n",
    "\n",
    "    bestQuantity = 0\n",
    "        if products['predictedProfits'] < products['predictedProductQuantities']:\n",
    "      return 0\n",
    "\n",
    "    \n",
    "    total_dimension = sum([q * d for q, d in zip(solution, product_dimensions)])\n",
    "    if total_quantity < min_quantity or total_quantity > max_quantity or total_dimension > store_dimension:\n",
    "      return 0\n",
    "    profit = calculate_profit(solution)\n",
    "    # calculate the deviation from the target profit\n",
    "    deviation = abs(profit - target_profit)\n",
    "    # the fitness is higher for solutions that have a lower deviation from the target profit\n",
    "    return 1 / (deviation + 1)\n",
    "\n",
    "  # genetic algorithm function\n",
    "  def genetic_algorithm(fitness_fn):\n",
    "    # initialize population\n",
    "    population = initialize_population(product_quantities)\n",
    "    for generation in range(max_generations):\n",
    "      # evaluate fitness\n",
    "      fitnesses = [fitness_fn(s) for s in population]\n",
    "      # select parents\n",
    "      parents = select_parents(population, fitnesses)\n",
    "      # create offspring\n",
    "      offspring = create_offspring(parents)\n",
    "      # mutate offspring\n",
    "      offspring = mutate(offspring)\n",
    "      # replace least fit individuals in population with offspring\n",
    "      population = replace_least_fit(population, offspring)\n",
    "    # return the fittest solution\n",
    "    return population[0]\n",
    "\n",
    "  # use the genetic algorithm to find the optimal solution\n",
    "  return genetic_algorithm(evaluate_fitness)"
   ]
  },
  {
   "cell_type": "code",
   "execution_count": null,
   "id": "b48f1315",
   "metadata": {},
   "outputs": [],
   "source": [
    "#--------------------------------------------------------------------------\n"
   ]
  }
 ],
 "metadata": {
  "kernelspec": {
   "display_name": "Python 3 (ipykernel)",
   "language": "python",
   "name": "python3"
  },
  "language_info": {
   "codemirror_mode": {
    "name": "ipython",
    "version": 3
   },
   "file_extension": ".py",
   "mimetype": "text/x-python",
   "name": "python",
   "nbconvert_exporter": "python",
   "pygments_lexer": "ipython3",
   "version": "3.9.13"
  }
 },
 "nbformat": 4,
 "nbformat_minor": 5
}
