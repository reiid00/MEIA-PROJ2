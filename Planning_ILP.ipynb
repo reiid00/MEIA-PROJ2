{
 "cells": [
  {
   "cell_type": "code",
   "execution_count": 90,
   "id": "f0629f54",
   "metadata": {},
   "outputs": [],
   "source": [
    "from pulp import *\n",
    "import pulp\n",
    "import pandas as pd\n",
    "import numpy as np\n",
    "import random"
   ]
  },
  {
   "cell_type": "code",
   "execution_count": 91,
   "id": "2ee5c7e1",
   "metadata": {},
   "outputs": [
    {
     "name": "stdout",
     "output_type": "stream",
     "text": [
      "[{'predictedProfits': 100, 'predictedProductQuantities': 10, 'dimension': 5, 'productName': 'p1'}, {'predictedProfits': 200, 'predictedProductQuantities': 20, 'dimension': 2, 'productName': 'p2'}, {'predictedProfits': 300, 'predictedProductQuantities': 30, 'dimension': 1, 'productName': 'p3'}, {'predictedProfits': 10, 'predictedProductQuantities': 1, 'dimension': 20, 'productName': 'p4'}]\n"
     ]
    }
   ],
   "source": [
    "# Read the Excel file into a DataFrame\n",
    "df = pd.read_excel('file.xlsx')\n",
    "\n",
    "# Convert the DataFrame to a NumPy array\n",
    "data = df.values\n",
    "products = []\n",
    "\n",
    "for row in data:\n",
    "    predictedProfits = row[0]\n",
    "    predictedProductQuantities = row[1]\n",
    "    dimension = row[2]\n",
    "    productName = row[3]\n",
    "\n",
    "    product = {'predictedProfits': predictedProfits, 'predictedProductQuantities': predictedProductQuantities, 'dimension': dimension, 'productName': productName}\n",
    "    products.append(product)\n",
    "\n",
    "print(products)"
   ]
  },
  {
   "cell_type": "code",
   "execution_count": 92,
   "id": "30a63d1f",
   "metadata": {},
   "outputs": [],
   "source": [
    "def calculate_profit(products):\n",
    "    for product in products:\n",
    "        profit = product['predictedProfits'] / product['predictedProductQuantities']\n",
    "        product['productProfit'] = profit\n",
    "    return products"
   ]
  },
  {
   "cell_type": "code",
   "execution_count": 93,
   "id": "0f258bb1",
   "metadata": {},
   "outputs": [
    {
     "name": "stdout",
     "output_type": "stream",
     "text": [
      "[{'predictedProfits': 100, 'predictedProductQuantities': 10, 'dimension': 5, 'productName': 'p1', 'productProfit': 10.0}, {'predictedProfits': 200, 'predictedProductQuantities': 20, 'dimension': 2, 'productName': 'p2', 'productProfit': 10.0}, {'predictedProfits': 300, 'predictedProductQuantities': 30, 'dimension': 1, 'productName': 'p3', 'productProfit': 10.0}, {'predictedProfits': 10, 'predictedProductQuantities': 1, 'dimension': 20, 'productName': 'p4', 'productProfit': 10.0}]\n"
     ]
    }
   ],
   "source": [
    "productTest = calculate_profit(products)\n",
    "print(productTest)"
   ]
  },
  {
   "cell_type": "code",
   "execution_count": 94,
   "id": "ed868591",
   "metadata": {},
   "outputs": [],
   "source": [
    "# Creation of the ILP model \n",
    "model = pulp.LpProblem(\"ILP_Problem\", pulp.LpMaximize)"
   ]
  },
  {
   "cell_type": "code",
   "execution_count": 95,
   "id": "eacf1bd3",
   "metadata": {},
   "outputs": [
    {
     "name": "stdout",
     "output_type": "stream",
     "text": [
      "[{'p1': p1}, {'p2': p2}, {'p3': p3}, {'p4': p4}]\n"
     ]
    }
   ],
   "source": [
    "# Define the decision variables\n",
    "decisionVariables = []\n",
    "def createDictionaryWithDecisionVariable():\n",
    "    for product in products:\n",
    "        decisionVariable = {product['productName']:  pulp.LpVariable(product['productName'], lowBound=0, cat='Integer')}\n",
    "        decisionVariables.append(decisionVariable)\n",
    "        \n",
    "createDictionaryWithDecisionVariable()\n",
    "print(decisionVariables)"
   ]
  },
  {
   "cell_type": "code",
   "execution_count": 96,
   "id": "44ff6c83",
   "metadata": {},
   "outputs": [
    {
     "name": "stdout",
     "output_type": "stream",
     "text": [
      "ILP_Problem:\n",
      "MAXIMIZE\n",
      "100*p1 + 200*p2 + 300*p3 + 10*p4 + 0\n",
      "VARIABLES\n",
      "0 <= p1 Integer\n",
      "0 <= p2 Integer\n",
      "0 <= p3 Integer\n",
      "0 <= p4 Integer\n",
      "\n"
     ]
    }
   ],
   "source": [
    "# function to calculate objective function\n",
    "\n",
    "def objectiveFunction(products):\n",
    "    model = 0\n",
    "    count = 0\n",
    "    for product in products:\n",
    "        model = model + (product['predictedProfits'] * decisionVariables[count][product['productName']])\n",
    "        count = count + 1\n",
    "    return model\n",
    "\n",
    "#objective function\n",
    "model += objectiveFunction(products)\n",
    "print(model)"
   ]
  },
  {
   "cell_type": "code",
   "execution_count": 97,
   "id": "78686120",
   "metadata": {},
   "outputs": [
    {
     "name": "stdout",
     "output_type": "stream",
     "text": [
      "Please insert minimum total amount of products: 10\n",
      "Please insert maximum  total amount of products: 300\n",
      "Please insert minimum  amount of products : 1\n",
      "Please insert maximum  amount of products : 40\n",
      "Please insert minimum number of product variety: 1\n",
      "Please insert maximum  number of product variety: 10\n",
      "Please insert store dimension: 101111111111111111\n"
     ]
    }
   ],
   "source": [
    "#add user input for the multiple variables\n",
    "\n",
    "minTotalAmount = int(input(\"Please insert minimum total amount of products: \"))\n",
    "maxTotalAmount = int(input(\"Please insert maximum  total amount of products: \"))\n",
    "\n",
    "#create two list with min and max amount per product by user insert\n",
    "\n",
    "minAmountProduct = int(input(\"Please insert minimum  amount of products : \"))\n",
    "maxAmountProduct  = int(input(\"Please insert maximum  amount of products : \"))\n",
    "\n",
    "minProductVariety = int(input(\"Please insert minimum number of product variety: \"))\n",
    "maxProductVariety  = int(input(\"Please insert maximum  number of product variety: \"))\n",
    "\n",
    "storeDimension  = int(input(\"Please insert store dimension: \"))"
   ]
  },
  {
   "cell_type": "code",
   "execution_count": 98,
   "id": "79e2cdb7",
   "metadata": {},
   "outputs": [
    {
     "name": "stdout",
     "output_type": "stream",
     "text": [
      "4\n",
      "40\n",
      "1\n",
      "5*p1 + 2*p2 + p3 + 20*p4\n"
     ]
    }
   ],
   "source": [
    "# Define the constraints\n",
    "\n",
    " # function to calculate variety of products\n",
    "def get_variety(products):\n",
    "    # Create an empty set to store the product names\n",
    "    product_set = []\n",
    "    \n",
    "    # Iterate over the products\n",
    "    for product in products:\n",
    "        # Get the product name and add it to the set\n",
    "        product_name = product['productName']\n",
    "        product_set.append(product_name)\n",
    "        \n",
    "    # Return the length of the set\n",
    "    return len(product_set)\n",
    "\n",
    "print(get_variety(products))\n",
    "variety=get_variety(products)\n",
    "\n",
    "#see why it results in Infeasible\n",
    "# model += variety <= maxProductVariety\n",
    "# model += variety >= minProductVariety\n",
    "\n",
    "\n",
    "#restriction to total amount of products\n",
    "\n",
    "def maxMinTotalProductsRestriction(products):\n",
    "    restrictFunction = 0\n",
    "    count = 0\n",
    "    for product in products:\n",
    "        restrictFunction = restrictFunction + decisionVariables[count][product['productName']]\n",
    "        count = count + 1\n",
    "    return restrictFunction\n",
    "    \n",
    "model += maxMinTotalProductsRestriction(products) <= maxTotalAmount #restricao de quantidade maximo total de produtos\n",
    "model += maxMinTotalProductsRestriction(products) >= minTotalAmount #restricao de valor minimo total de produtos\n",
    "\n",
    "# variety of products\n",
    "\n",
    "#restriction to maximum quantity of products\n",
    "def maxMinQuantityProductsRestriction(products,model):\n",
    "    count = 0\n",
    "    for product in products:\n",
    "        model += decisionVariables[count][product['productName']] <= maxAmountProduct\n",
    "        model += decisionVariables[count][product['productName']] >= minAmountProduct\n",
    "        count = count + 1\n",
    "    \n",
    "maxMinQuantityProductsRestriction(products, model)\n",
    "\n",
    "print(maxAmountProduct)\n",
    "print(minAmountProduct)\n",
    "\n",
    "\n",
    "def maxDimensionProductsRestriction(products):\n",
    "    count = 0\n",
    "    restrictFunction = 0\n",
    "    for product in products:                            \n",
    "        restrictFunction = restrictFunction + (product['dimension'] * decisionVariables[count][product['productName']])\n",
    "        count = count +1\n",
    "    return restrictFunction\n",
    "\n",
    "print(maxDimensionProductsRestriction(products))\n",
    "#restricao de dimensões de produtos, menor que dimensao todal da loja\n",
    "model += maxDimensionProductsRestriction(products) <= storeDimension \n"
   ]
  },
  {
   "cell_type": "code",
   "execution_count": 99,
   "id": "4af446e4",
   "metadata": {},
   "outputs": [
    {
     "name": "stdout",
     "output_type": "stream",
     "text": [
      "ILP_Problem:\n",
      "MAXIMIZE\n",
      "100*p1 + 200*p2 + 300*p3 + 10*p4 + 0\n",
      "SUBJECT TO\n",
      "_C1: p1 + p2 + p3 + p4 <= 300\n",
      "\n",
      "_C2: p1 + p2 + p3 + p4 >= 10\n",
      "\n",
      "_C3: p1 <= 40\n",
      "\n",
      "_C4: p1 >= 1\n",
      "\n",
      "_C5: p2 <= 40\n",
      "\n",
      "_C6: p2 >= 1\n",
      "\n",
      "_C7: p3 <= 40\n",
      "\n",
      "_C8: p3 >= 1\n",
      "\n",
      "_C9: p4 <= 40\n",
      "\n",
      "_C10: p4 >= 1\n",
      "\n",
      "_C11: 5 p1 + 2 p2 + p3 + 20 p4 <= 1.01111111111e+17\n",
      "\n",
      "VARIABLES\n",
      "0 <= p1 Integer\n",
      "0 <= p2 Integer\n",
      "0 <= p3 Integer\n",
      "0 <= p4 Integer\n",
      "\n"
     ]
    }
   ],
   "source": [
    "print(model)"
   ]
  },
  {
   "cell_type": "code",
   "execution_count": 100,
   "id": "6cd1d321",
   "metadata": {},
   "outputs": [],
   "source": [
    "# Solve the problem\n",
    "status = model.solve()"
   ]
  },
  {
   "cell_type": "code",
   "execution_count": 101,
   "id": "fe2f34d4",
   "metadata": {},
   "outputs": [
    {
     "name": "stdout",
     "output_type": "stream",
     "text": [
      "Optimal\n"
     ]
    }
   ],
   "source": [
    "print(pulp.LpStatus[status])"
   ]
  },
  {
   "cell_type": "code",
   "execution_count": 102,
   "id": "e42d549e",
   "metadata": {},
   "outputs": [],
   "source": [
    "#print(pulp.value(p1), pulp.value(model.objective))"
   ]
  },
  {
   "cell_type": "code",
   "execution_count": 103,
   "id": "897f7b45",
   "metadata": {},
   "outputs": [],
   "source": [
    "# Print the solution\n",
    "#print(\"Solution:\")\n",
    "#print(\"x =\", x.value())\n",
    "#print(\"y =\", y.value())"
   ]
  },
  {
   "cell_type": "code",
   "execution_count": 104,
   "id": "4a28b950",
   "metadata": {},
   "outputs": [
    {
     "name": "stdout",
     "output_type": "stream",
     "text": [
      "p1 = 40\n",
      "p2 = 40\n",
      "p3 = 40\n",
      "p4 = 40\n",
      "4\n",
      "[{'predictedProfits': 100, 'predictedProductQuantities': 10, 'dimension': 5, 'productName': 'p1', 'productProfit': 10.0}, {'predictedProfits': 200, 'predictedProductQuantities': 20, 'dimension': 2, 'productName': 'p2', 'productProfit': 10.0}, {'predictedProfits': 300, 'predictedProductQuantities': 30, 'dimension': 1, 'productName': 'p3', 'productProfit': 10.0}, {'predictedProfits': 10, 'predictedProductQuantities': 1, 'dimension': 20, 'productName': 'p4', 'productProfit': 10.0}]\n",
      "5\n"
     ]
    }
   ],
   "source": [
    "def printValuesReturned():\n",
    "    for v in model.variables():\n",
    "        try:\n",
    "            print(v.name,\"=\", v.value())\n",
    "        except:\n",
    "            print(\"error couldnt find value\")\n",
    "            \n",
    "printValuesReturned()\n",
    "print(len(products))\n",
    "print(products)\n",
    "print(products[0]['dimension'])"
   ]
  },
  {
   "cell_type": "code",
   "execution_count": 105,
   "id": "8a055501",
   "metadata": {},
   "outputs": [
    {
     "name": "stdout",
     "output_type": "stream",
     "text": [
      "[]\n",
      "('p1', 10, 100, 5)\n",
      "('p2', 20, 200, 2)\n",
      "('p3', 30, 300, 1)\n",
      "('p4', 1, 10, 20)\n"
     ]
    }
   ],
   "source": [
    "# Genetic Algorithm\n",
    "\n",
    "productsList = []\n",
    "print(productsList)\n",
    " \n",
    "for product in products:\n",
    "    productsList.append((product['productName'], product['predictedProductQuantities'], product['predictedProfits'], product['dimension']))\n",
    "for p in productsList:\n",
    "    print(p)"
   ]
  },
  {
   "cell_type": "code",
   "execution_count": 151,
   "id": "f44fb67f",
   "metadata": {},
   "outputs": [],
   "source": [
    "# Functions to validate restrictions\n",
    "# return 1 if restriction is repected else 0\n",
    "\n",
    "#Total Amount Restriction\n",
    "def validateTotalAmount(individuo):\n",
    "    somaTotalAmountIndividuo = sum(individuo)\n",
    "    if (somaTotalAmountIndividuo >= minTotalAmount) and (somaTotalAmountIndividuo <= maxTotalAmount):\n",
    "        return 1\n",
    "    else:\n",
    "        return 0\n",
    "    \n",
    "#Total Quantity Restriction\n",
    "def validateTotalQuantity(individuo):\n",
    "    contador = 0\n",
    "    individuoLen = len(individuo)\n",
    "    for indAux in individuo:\n",
    "        if (indAux >= minAmountProduct) and (indAux <= maxAmountProduct):\n",
    "            contador = contador + 1\n",
    "    if(contador == individuoLen):\n",
    "        return 1\n",
    "    else:\n",
    "        return 0\n",
    "\n",
    "#Dimension Restriction\n",
    "def validateDimension(individuo, products):\n",
    "    totalDimension = 0\n",
    "    contador = 0\n",
    "    for indAux in individuo:\n",
    "        totalDimension = indAux * products[contador]['dimension']\n",
    "        contador = contador + 1\n",
    "    if(totalDimension > storeDimension):\n",
    "        return 0\n",
    "    else:\n",
    "        return 1"
   ]
  },
  {
   "cell_type": "code",
   "execution_count": 152,
   "id": "9b01a56e",
   "metadata": {},
   "outputs": [],
   "source": [
    "# Create First Population\n",
    "\n",
    "population = []\n",
    "populationSize=100\n",
    "\n",
    "def firstpopulation(products):\n",
    "\n",
    "    while len(population) < populationSize:\n",
    "        solution = []\n",
    "        totalQuantity = 0\n",
    "        totalDimension = 0\n",
    "        \n",
    "        #generates the chromossomes each representing one product\n",
    "        for j in range(len(products)):\n",
    "            \n",
    "            quantity = random.randint(0, maxAmountProduct)\n",
    "            solution.append(quantity)\n",
    "            \n",
    "        #Total Amount Restriction\n",
    "        totalAmountRestriction = validateTotalAmount(solution)\n",
    "        #Total Quantity Restriction\n",
    "        totalQuantityRestriction = validateTotalQuantity(solution)\n",
    "        #Dimension Restriction\n",
    "        dimensionRestriction = validateDimension(solution, products)\n",
    "        \n",
    "        if (totalAmountRestriction == 1) and (totalQuantityRestriction == 1) and (dimensionRestriction == 1):\n",
    "            population.append(solution)\n",
    "            \n",
    "    return population"
   ]
  },
  {
   "cell_type": "code",
   "execution_count": 153,
   "id": "abf87d14",
   "metadata": {},
   "outputs": [
    {
     "name": "stdout",
     "output_type": "stream",
     "text": [
      "100\n",
      "[[20, 16, 4, 35], [13, 28, 3, 38], [34, 18, 38, 32], [10, 8, 6, 20], [18, 40, 4, 12], [12, 25, 4, 2], [14, 40, 29, 39], [2, 14, 1, 3], [40, 16, 26, 27], [13, 33, 26, 6], [3, 35, 31, 13], [17, 2, 4, 29], [32, 30, 2, 32], [3, 31, 10, 31], [6, 14, 33, 17], [40, 29, 23, 21], [11, 15, 21, 20], [15, 20, 36, 35], [18, 28, 30, 25], [15, 19, 20, 6], [22, 1, 1, 26], [28, 18, 29, 20], [16, 38, 29, 24], [21, 35, 33, 6], [40, 19, 26, 24], [9, 36, 8, 15], [26, 27, 27, 35], [4, 8, 24, 15], [37, 22, 17, 1], [7, 7, 23, 26], [9, 39, 16, 27], [2, 33, 18, 27], [32, 20, 35, 40], [9, 14, 16, 14], [23, 12, 24, 10], [1, 3, 13, 15], [27, 9, 15, 26], [15, 4, 38, 30], [14, 9, 20, 32], [16, 36, 25, 35], [31, 26, 8, 26], [19, 34, 26, 28], [30, 5, 19, 22], [19, 12, 9, 8], [21, 1, 10, 34], [36, 27, 32, 21], [39, 37, 16, 5], [9, 24, 23, 37], [33, 27, 20, 22], [17, 30, 3, 19], [2, 30, 32, 17], [3, 22, 19, 40], [2, 28, 6, 36], [29, 13, 6, 4], [11, 8, 11, 29], [15, 39, 11, 21], [37, 28, 18, 30], [9, 30, 8, 15], [34, 36, 16, 10], [12, 33, 30, 3], [14, 31, 27, 2], [29, 29, 27, 15], [30, 30, 26, 6], [14, 14, 1, 6], [34, 37, 14, 11], [11, 32, 29, 36], [31, 31, 27, 8], [16, 37, 13, 18], [36, 22, 10, 19], [39, 7, 40, 30], [40, 31, 35, 9], [38, 33, 3, 17], [10, 14, 17, 16], [8, 31, 40, 39], [18, 12, 40, 39], [4, 7, 36, 8], [32, 4, 10, 14], [38, 13, 6, 1], [31, 14, 23, 16], [24, 23, 2, 3], [25, 35, 20, 3], [23, 15, 32, 30], [35, 3, 15, 30], [5, 36, 40, 27], [13, 12, 39, 13], [30, 26, 23, 39], [13, 11, 19, 12], [18, 39, 7, 19], [27, 23, 18, 21], [1, 2, 12, 39], [5, 3, 25, 36], [33, 22, 9, 33], [3, 5, 24, 27], [27, 2, 28, 26], [20, 17, 19, 8], [6, 2, 23, 9], [33, 27, 24, 36], [32, 24, 7, 13], [18, 5, 11, 37], [39, 18, 3, 18]]\n"
     ]
    }
   ],
   "source": [
    "firstpopulation(products)\n",
    "\n",
    "print(len(firstpopulation(products)))\n",
    "print(population)"
   ]
  },
  {
   "cell_type": "code",
   "execution_count": 141,
   "id": "ea5eab41",
   "metadata": {},
   "outputs": [
    {
     "name": "stdout",
     "output_type": "stream",
     "text": [
      "len 100\n",
      "sorted_data [{'FitProfit': 20580, 'FitQuantities': [29, 29, 39, 18]}, {'FitProfit': 20190, 'FitQuantities': [17, 39, 35, 19]}, {'FitProfit': 20170, 'FitQuantities': [18, 35, 37, 27]}, {'FitProfit': 20160, 'FitQuantities': [8, 39, 38, 16]}, {'FitProfit': 19620, 'FitQuantities': [38, 40, 26, 2]}, {'FitProfit': 19440, 'FitQuantities': [25, 26, 39, 4]}, {'FitProfit': 19250, 'FitQuantities': [2, 34, 40, 25]}, {'FitProfit': 19200, 'FitQuantities': [34, 29, 33, 10]}, {'FitProfit': 19000, 'FitQuantities': [35, 28, 32, 30]}, {'FitProfit': 18840, 'FitQuantities': [11, 30, 39, 4]}, {'FitProfit': 18830, 'FitQuantities': [18, 36, 32, 23]}, {'FitProfit': 18740, 'FitQuantities': [33, 27, 33, 14]}, {'FitProfit': 18720, 'FitQuantities': [19, 26, 38, 22]}, {'FitProfit': 18680, 'FitQuantities': [26, 39, 27, 18]}, {'FitProfit': 18610, 'FitQuantities': [36, 27, 31, 31]}, {'FitProfit': 18580, 'FitQuantities': [28, 28, 33, 28]}, {'FitProfit': 18500, 'FitQuantities': [28, 23, 36, 30]}, {'FitProfit': 18380, 'FitQuantities': [35, 20, 35, 38]}, {'FitProfit': 18330, 'FitQuantities': [11, 38, 31, 33]}, {'FitProfit': 18130, 'FitQuantities': [12, 38, 31, 3]}, {'FitProfit': 17970, 'FitQuantities': [3, 36, 34, 27]}, {'FitProfit': 17920, 'FitQuantities': [7, 30, 37, 12]}, {'FitProfit': 17580, 'FitQuantities': [13, 27, 36, 8]}, {'FitProfit': 17220, 'FitQuantities': [37, 38, 19, 22]}, {'FitProfit': 17100, 'FitQuantities': [29, 40, 20, 20]}, {'FitProfit': 16420, 'FitQuantities': [17, 39, 22, 32]}, {'FitProfit': 16340, 'FitQuantities': [8, 22, 36, 34]}, {'FitProfit': 16160, 'FitQuantities': [25, 9, 39, 16]}, {'FitProfit': 15970, 'FitQuantities': [12, 12, 40, 37]}, {'FitProfit': 15830, 'FitQuantities': [26, 20, 30, 23]}, {'FitProfit': 15690, 'FitQuantities': [12, 17, 36, 29]}, {'FitProfit': 15660, 'FitQuantities': [30, 20, 28, 26]}, {'FitProfit': 15550, 'FitQuantities': [11, 30, 27, 35]}, {'FitProfit': 15520, 'FitQuantities': [30, 31, 20, 32]}, {'FitProfit': 15510, 'FitQuantities': [38, 20, 25, 21]}, {'FitProfit': 15360, 'FitQuantities': [12, 10, 40, 16]}, {'FitProfit': 15230, 'FitQuantities': [34, 35, 15, 33]}, {'FitProfit': 15140, 'FitQuantities': [36, 18, 26, 14]}, {'FitProfit': 14920, 'FitQuantities': [5, 24, 31, 32]}, {'FitProfit': 14630, 'FitQuantities': [39, 17, 24, 13]}, {'FitProfit': 14380, 'FitQuantities': [31, 4, 34, 28]}, {'FitProfit': 14350, 'FitQuantities': [38, 24, 19, 5]}, {'FitProfit': 14300, 'FitQuantities': [30, 27, 19, 20]}, {'FitProfit': 14260, 'FitQuantities': [7, 23, 29, 26]}, {'FitProfit': 14010, 'FitQuantities': [1, 14, 36, 31]}, {'FitProfit': 13900, 'FitQuantities': [21, 18, 26, 40]}, {'FitProfit': 13850, 'FitQuantities': [17, 4, 37, 25]}, {'FitProfit': 13820, 'FitQuantities': [10, 14, 33, 12]}, {'FitProfit': 13670, 'FitQuantities': [33, 17, 23, 7]}, {'FitProfit': 13490, 'FitQuantities': [19, 32, 17, 9]}, {'FitProfit': 13440, 'FitQuantities': [15, 13, 30, 34]}, {'FitProfit': 13260, 'FitQuantities': [12, 31, 19, 16]}, {'FitProfit': 12850, 'FitQuantities': [27, 5, 30, 15]}, {'FitProfit': 12770, 'FitQuantities': [2, 16, 31, 7]}, {'FitProfit': 12590, 'FitQuantities': [23, 6, 30, 9]}, {'FitProfit': 12500, 'FitQuantities': [18, 9, 29, 20]}, {'FitProfit': 12450, 'FitQuantities': [40, 38, 2, 25]}, {'FitProfit': 12210, 'FitQuantities': [8, 23, 22, 21]}, {'FitProfit': 12000, 'FitQuantities': [32, 27, 10, 40]}, {'FitProfit': 11870, 'FitQuantities': [14, 28, 16, 7]}, {'FitProfit': 11680, 'FitQuantities': [37, 17, 14, 38]}, {'FitProfit': 11650, 'FitQuantities': [22, 32, 10, 5]}, {'FitProfit': 11590, 'FitQuantities': [29, 12, 20, 29]}, {'FitProfit': 11460, 'FitQuantities': [18, 39, 6, 6]}, {'FitProfit': 11370, 'FitQuantities': [9, 37, 10, 7]}, {'FitProfit': 11120, 'FitQuantities': [11, 20, 20, 2]}, {'FitProfit': 11010, 'FitQuantities': [16, 12, 23, 11]}, {'FitProfit': 10910, 'FitQuantities': [18, 32, 9, 1]}, {'FitProfit': 10900, 'FitQuantities': [16, 30, 10, 30]}, {'FitProfit': 10780, 'FitQuantities': [36, 15, 13, 28]}, {'FitProfit': 10720, 'FitQuantities': [36, 28, 5, 2]}, {'FitProfit': 10350, 'FitQuantities': [35, 8, 17, 15]}, {'FitProfit': 10150, 'FitQuantities': [36, 20, 8, 15]}, {'FitProfit': 9910, 'FitQuantities': [24, 18, 13, 1]}, {'FitProfit': 9840, 'FitQuantities': [28, 30, 3, 14]}, {'FitProfit': 9720, 'FitQuantities': [4, 17, 19, 22]}, {'FitProfit': 9650, 'FitQuantities': [29, 32, 1, 5]}, {'FitProfit': 9560, 'FitQuantities': [25, 2, 22, 6]}, {'FitProfit': 9470, 'FitQuantities': [4, 24, 13, 37]}, {'FitProfit': 9450, 'FitQuantities': [24, 17, 12, 5]}, {'FitProfit': 9350, 'FitQuantities': [30, 21, 6, 35]}, {'FitProfit': 9200, 'FitQuantities': [33, 19, 6, 30]}, {'FitProfit': 9070, 'FitQuantities': [18, 6, 19, 37]}, {'FitProfit': 9040, 'FitQuantities': [19, 23, 8, 14]}, {'FitProfit': 8890, 'FitQuantities': [6, 25, 10, 29]}, {'FitProfit': 8720, 'FitQuantities': [25, 15, 10, 22]}, {'FitProfit': 8390, 'FitQuantities': [27, 14, 9, 19]}, {'FitProfit': 7990, 'FitQuantities': [16, 25, 4, 19]}, {'FitProfit': 7930, 'FitQuantities': [11, 12, 14, 23]}, {'FitProfit': 7630, 'FitQuantities': [2, 27, 6, 23]}, {'FitProfit': 6570, 'FitQuantities': [32, 14, 1, 27]}, {'FitProfit': 6300, 'FitQuantities': [6, 19, 6, 10]}, {'FitProfit': 6290, 'FitQuantities': [24, 13, 3, 39]}, {'FitProfit': 6170, 'FitQuantities': [27, 11, 3, 37]}, {'FitProfit': 5550, 'FitQuantities': [30, 7, 3, 25]}, {'FitProfit': 5020, 'FitQuantities': [2, 6, 11, 32]}, {'FitProfit': 4910, 'FitQuantities': [2, 1, 15, 1]}, {'FitProfit': 4000, 'FitQuantities': [19, 1, 6, 10]}, {'FitProfit': 3700, 'FitQuantities': [8, 5, 5, 40]}, {'FitProfit': 2510, 'FitQuantities': [2, 8, 2, 11]}]\n"
     ]
    }
   ],
   "source": [
    "\n",
    "arraySomaProfits = []\n",
    "arrayFitProfitAndQuantity = []\n",
    "finalPopulation = []\n",
    "\n",
    "# if this element is 1 the first tax of best individuos is added to final population\n",
    "elementToGetFirstBestIndividuos = 0\n",
    "\n",
    "taxNoCrossover = 0.10\n",
    "\n",
    "def createFitnes(population, products):\n",
    "    \n",
    "    for person in population:\n",
    "        \n",
    "        soma = 0\n",
    "        contador = 0\n",
    "        \n",
    "        for productQuantity in person:\n",
    "            \n",
    "            soma = soma + (productQuantity * products[contador]['predictedProfits'])\n",
    "            contador = contador + 1\n",
    "            \n",
    "        auxVar = {'FitProfit': soma, 'FitQuantities': person}\n",
    "        arrayFitProfitAndQuantity.append(auxVar)\n",
    "        arraySomaProfits.append(soma)\n",
    "        sorted_data = sorted(arrayFitProfitAndQuantity, key=lambda x: x['FitProfit'], reverse=True)\n",
    "    contador+=1\n",
    "        \n",
    "    # array = np.array(arraySomaProfits)\n",
    "    # array[::-1].sort()\n",
    "    # print(array)\n",
    "    print(\"len\",len(sorted_data))\n",
    "    print(\"sorted_data\",sorted_data)\n",
    "    return sorted_data\n",
    "lis=createFitnes(population, products)\n"
   ]
  },
  {
   "cell_type": "code",
   "execution_count": 545,
   "id": "2e25e4ac",
   "metadata": {},
   "outputs": [
    {
     "name": "stdout",
     "output_type": "stream",
     "text": [
      "-----------------------------------------finalPopulationList---------------------------------------------------\n",
      "[{'FitProfit': 5690, 'FitQuantities': [10, 8, 10, 9]}, {'FitProfit': 5420, 'FitQuantities': [10, 7, 10, 2]}, {'FitProfit': 5250, 'FitQuantities': [4, 9, 10, 5]}, {'FitProfit': 5220, 'FitQuantities': [2, 10, 10, 2]}, {'FitProfit': 5140, 'FitQuantities': [7, 7, 10, 4]}, {'FitProfit': 5110, 'FitQuantities': [1, 10, 10, 1]}, {'FitProfit': 5030, 'FitQuantities': [4, 8, 10, 3]}, {'FitProfit': 4920, 'FitQuantities': [10, 9, 7, 2]}, {'FitProfit': 4870, 'FitQuantities': [2, 8, 10, 7]}, {'FitProfit': 4790, 'FitQuantities': [5, 6, 10, 9]}]\n",
      "--------------------------------------------------------------------------------------------------------\n"
     ]
    }
   ],
   "source": [
    "#saves the first best quantity% to the final list\n",
    "#finalPopulation = []\n",
    "def getBestXElementsDic(lis, percentage):\n",
    "   \n",
    "    for i in range(len(lis)//percentage):\n",
    " \n",
    "        #returns {'FitProfit': 2850, 'FitQuantities': [5, 4, 5, 5]},...\n",
    "        finalPopulation.append(lis[i])\n",
    "        #returns  [5, 4, 5, 5],....\n",
    "        #finalPopulation.append(lis[i]['FitQuantities'])\n",
    "       \n",
    "  \n",
    "\n",
    "    return finalPopulation\n",
    "\n",
    "dic=getBestXElementsDic(lis,10)\n",
    "print(\"-----------------------------------------finalPopulationList---------------------------------------------------\")\n",
    "print(dic)\n",
    "print(\"--------------------------------------------------------------------------------------------------------\")\n"
   ]
  },
  {
   "cell_type": "code",
   "execution_count": 546,
   "id": "28ff9355",
   "metadata": {},
   "outputs": [
    {
     "name": "stdout",
     "output_type": "stream",
     "text": [
      "-----------------------------------------finalPopulationList---------------------------------------------------\n",
      "[{'FitProfit': 5690, 'FitQuantities': [10, 8, 10, 9]}, {'FitProfit': 5420, 'FitQuantities': [10, 7, 10, 2]}, {'FitProfit': 5250, 'FitQuantities': [4, 9, 10, 5]}, {'FitProfit': 5220, 'FitQuantities': [2, 10, 10, 2]}, {'FitProfit': 5140, 'FitQuantities': [7, 7, 10, 4]}, {'FitProfit': 5110, 'FitQuantities': [1, 10, 10, 1]}, {'FitProfit': 5030, 'FitQuantities': [4, 8, 10, 3]}, {'FitProfit': 4920, 'FitQuantities': [10, 9, 7, 2]}, {'FitProfit': 4870, 'FitQuantities': [2, 8, 10, 7]}, {'FitProfit': 4790, 'FitQuantities': [5, 6, 10, 9]}, [10, 8, 10, 9], [10, 7, 10, 2], [4, 9, 10, 5], [2, 10, 10, 2], [7, 7, 10, 4], [1, 10, 10, 1], [4, 8, 10, 3], [10, 9, 7, 2], [2, 8, 10, 7], [5, 6, 10, 9]]\n",
      "--------------------------------------------------------------------------------------------------------\n"
     ]
    }
   ],
   "source": [
    "#saves the first best quantity% to the final list\n",
    "#finalPopulation = []\n",
    "def getBestXElementsQuantity(lis, percentage):\n",
    "   \n",
    "    for i in range(len(lis)//percentage):\n",
    " \n",
    "        #returns {'FitProfit': 2850, 'FitQuantities': [5, 4, 5, 5]},...\n",
    "        #finalPopulation.append(lis[i])\n",
    "        #returns  [5, 4, 5, 5],....\n",
    "        finalPopulation.append(lis[i]['FitQuantities'])\n",
    "       \n",
    "  \n",
    "\n",
    "    return finalPopulation\n",
    "\n",
    "quantities=getBestXElementsQuantity(lis,10)\n",
    "print(\"-----------------------------------------finalPopulationList---------------------------------------------------\")\n",
    "print(quantities)\n",
    "print(\"--------------------------------------------------------------------------------------------------------\")\n"
   ]
  },
  {
   "cell_type": "code",
   "execution_count": 547,
   "id": "979bc676",
   "metadata": {},
   "outputs": [
    {
     "name": "stdout",
     "output_type": "stream",
     "text": [
      "--------------------------------------CrossoverList------------------------------------------------------\n",
      "[{'FitProfit': 4770, 'FitQuantities': [7, 5, 10, 7]}, {'FitProfit': 4670, 'FitQuantities': [9, 8, 7, 7]}, {'FitProfit': 4640, 'FitQuantities': [2, 7, 10, 4]}, {'FitProfit': 4600, 'FitQuantities': [1, 7, 10, 10]}, {'FitProfit': 4580, 'FitQuantities': [7, 10, 6, 8]}, {'FitProfit': 4550, 'FitQuantities': [3, 6, 10, 5]}, {'FitProfit': 4520, 'FitQuantities': [7, 10, 6, 2]}, {'FitProfit': 4490, 'FitQuantities': [9, 7, 7, 9]}, {'FitProfit': 4490, 'FitQuantities': [8, 6, 8, 9]}, {'FitProfit': 4480, 'FitQuantities': [5, 6, 9, 8]}, {'FitProfit': 4470, 'FitQuantities': [2, 9, 8, 7]}, {'FitProfit': 4470, 'FitQuantities': [10, 2, 10, 7]}, {'FitProfit': 4460, 'FitQuantities': [10, 2, 10, 6]}, {'FitProfit': 4450, 'FitQuantities': [3, 10, 7, 5]}, {'FitProfit': 4420, 'FitQuantities': [1, 8, 9, 2]}, {'FitProfit': 4310, 'FitQuantities': [7, 9, 6, 1]}, {'FitProfit': 4300, 'FitQuantities': [4, 10, 6, 10]}, {'FitProfit': 4270, 'FitQuantities': [7, 7, 7, 7]}, {'FitProfit': 4250, 'FitQuantities': [1, 10, 7, 5]}, {'FitProfit': 4250, 'FitQuantities': [2, 5, 10, 5]}, {'FitProfit': 4150, 'FitQuantities': [9, 10, 4, 5]}, {'FitProfit': 4070, 'FitQuantities': [5, 10, 5, 7]}, {'FitProfit': 4040, 'FitQuantities': [8, 10, 4, 4]}, {'FitProfit': 4000, 'FitQuantities': [4, 4, 9, 10]}, {'FitProfit': 3980, 'FitQuantities': [10, 1, 9, 8]}, {'FitProfit': 3970, 'FitQuantities': [10, 4, 7, 7]}, {'FitProfit': 3960, 'FitQuantities': [4, 7, 7, 6]}, {'FitProfit': 3920, 'FitQuantities': [9, 6, 6, 2]}, {'FitProfit': 3910, 'FitQuantities': [4, 10, 5, 1]}, {'FitProfit': 3890, 'FitQuantities': [8, 3, 8, 9]}, {'FitProfit': 3880, 'FitQuantities': [6, 4, 8, 8]}, {'FitProfit': 3840, 'FitQuantities': [7, 2, 9, 4]}, {'FitProfit': 3830, 'FitQuantities': [6, 10, 4, 3]}, {'FitProfit': 3810, 'FitQuantities': [7, 5, 7, 1]}, {'FitProfit': 3780, 'FitQuantities': [8, 10, 3, 8]}, {'FitProfit': 3740, 'FitQuantities': [7, 9, 4, 4]}, {'FitProfit': 3710, 'FitQuantities': [3, 5, 8, 1]}, {'FitProfit': 3680, 'FitQuantities': [6, 3, 8, 8]}, {'FitProfit': 3640, 'FitQuantities': [8, 5, 6, 4]}, {'FitProfit': 3630, 'FitQuantities': [5, 8, 5, 3]}, {'FitProfit': 3630, 'FitQuantities': [5, 5, 7, 3]}, {'FitProfit': 3620, 'FitQuantities': [8, 5, 6, 2]}, {'FitProfit': 3590, 'FitQuantities': [2, 9, 5, 9]}, {'FitProfit': 3500, 'FitQuantities': [10, 6, 4, 10]}, {'FitProfit': 3490, 'FitQuantities': [10, 3, 6, 9]}, {'FitProfit': 3470, 'FitQuantities': [7, 9, 3, 7]}, {'FitProfit': 3460, 'FitQuantities': [6, 5, 6, 6]}, {'FitProfit': 3420, 'FitQuantities': [10, 6, 4, 2]}, {'FitProfit': 3390, 'FitQuantities': [3, 3, 8, 9]}, {'FitProfit': 3350, 'FitQuantities': [6, 6, 5, 5]}, {'FitProfit': 3300, 'FitQuantities': [6, 4, 6, 10]}, {'FitProfit': 3270, 'FitQuantities': [3, 1, 9, 7]}, {'FitProfit': 3240, 'FitQuantities': [4, 5, 6, 4]}, {'FitProfit': 3210, 'FitQuantities': [7, 2, 7, 1]}, {'FitProfit': 3090, 'FitQuantities': [9, 6, 3, 9]}, {'FitProfit': 3070, 'FitQuantities': [7, 10, 1, 7]}, {'FitProfit': 3050, 'FitQuantities': [2, 8, 4, 5]}, {'FitProfit': 2970, 'FitQuantities': [7, 2, 6, 7]}, {'FitProfit': 2970, 'FitQuantities': [5, 9, 2, 7]}, {'FitProfit': 2960, 'FitQuantities': [1, 8, 4, 6]}, {'FitProfit': 2940, 'FitQuantities': [5, 9, 2, 4]}, {'FitProfit': 2870, 'FitQuantities': [6, 2, 6, 7]}, {'FitProfit': 2820, 'FitQuantities': [1, 3, 7, 2]}, {'FitProfit': 2810, 'FitQuantities': [1, 9, 3, 1]}, {'FitProfit': 2790, 'FitQuantities': [1, 4, 6, 9]}, {'FitProfit': 2680, 'FitQuantities': [3, 7, 3, 8]}, {'FitProfit': 2670, 'FitQuantities': [1, 8, 3, 7]}, {'FitProfit': 2660, 'FitQuantities': [1, 5, 5, 6]}, {'FitProfit': 2640, 'FitQuantities': [5, 6, 3, 4]}, {'FitProfit': 2630, 'FitQuantities': [7, 8, 1, 3]}, {'FitProfit': 2630, 'FitQuantities': [9, 7, 1, 3]}, {'FitProfit': 2590, 'FitQuantities': [10, 3, 3, 9]}, {'FitProfit': 2530, 'FitQuantities': [1, 3, 6, 3]}, {'FitProfit': 2520, 'FitQuantities': [2, 4, 5, 2]}, {'FitProfit': 2500, 'FitQuantities': [7, 7, 1, 10]}, {'FitProfit': 2470, 'FitQuantities': [5, 2, 5, 7]}, {'FitProfit': 2390, 'FitQuantities': [8, 6, 1, 9]}, {'FitProfit': 2290, 'FitQuantities': [5, 7, 1, 9]}, {'FitProfit': 2260, 'FitQuantities': [4, 6, 2, 6]}, {'FitProfit': 2150, 'FitQuantities': [4, 1, 5, 5]}, {'FitProfit': 2090, 'FitQuantities': [5, 3, 3, 9]}, {'FitProfit': 2020, 'FitQuantities': [3, 7, 1, 2]}, {'FitProfit': 1890, 'FitQuantities': [4, 4, 2, 9]}, {'FitProfit': 1880, 'FitQuantities': [2, 5, 2, 8]}, {'FitProfit': 1790, 'FitQuantities': [3, 4, 2, 9]}, {'FitProfit': 1780, 'FitQuantities': [6, 1, 3, 8]}, {'FitProfit': 1620, 'FitQuantities': [6, 2, 2, 2]}, {'FitProfit': 1500, 'FitQuantities': [9, 1, 1, 10]}, {'FitProfit': 1300, 'FitQuantities': [4, 1, 2, 10]}, {'FitProfit': 1120, 'FitQuantities': [6, 1, 1, 2]}]\n",
      "90\n",
      "--------------------------------------------------------------------------------------------\n"
     ]
    }
   ],
   "source": [
    "#removes previously saved elements, and gets the list of elements that are going to crossover\n",
    "def getRemainingForCrossover(lis, percentage):\n",
    "    crossoverElements = lis[len(lis)//percentage:]\n",
    "    return crossoverElements\n",
    "\n",
    "crossoverElements=getRemainingForCrossover(lis,10)\n",
    "print(\"--------------------------------------CrossoverList------------------------------------------------------\")\n",
    "print(crossoverElements)\n",
    "print(len(crossoverElements))\n",
    "print(\"--------------------------------------------------------------------------------------------\")\n",
    "\n",
    "###!!!!!!!!!!!!!!!!! return just quantities so that the next method doesn't need to be called"
   ]
  },
  {
   "cell_type": "code",
   "execution_count": 548,
   "id": "38bc44f3",
   "metadata": {},
   "outputs": [
    {
     "name": "stdout",
     "output_type": "stream",
     "text": [
      "90\n",
      "[[7, 5, 10, 7], [9, 8, 7, 7], [2, 7, 10, 4], [1, 7, 10, 10], [7, 10, 6, 8], [3, 6, 10, 5], [7, 10, 6, 2], [9, 7, 7, 9], [8, 6, 8, 9], [5, 6, 9, 8], [2, 9, 8, 7], [10, 2, 10, 7], [10, 2, 10, 6], [3, 10, 7, 5], [1, 8, 9, 2], [7, 9, 6, 1], [4, 10, 6, 10], [7, 7, 7, 7], [1, 10, 7, 5], [2, 5, 10, 5], [9, 10, 4, 5], [5, 10, 5, 7], [8, 10, 4, 4], [4, 4, 9, 10], [10, 1, 9, 8], [10, 4, 7, 7], [4, 7, 7, 6], [9, 6, 6, 2], [4, 10, 5, 1], [8, 3, 8, 9], [6, 4, 8, 8], [7, 2, 9, 4], [6, 10, 4, 3], [7, 5, 7, 1], [8, 10, 3, 8], [7, 9, 4, 4], [3, 5, 8, 1], [6, 3, 8, 8], [8, 5, 6, 4], [5, 8, 5, 3], [5, 5, 7, 3], [8, 5, 6, 2], [2, 9, 5, 9], [10, 6, 4, 10], [10, 3, 6, 9], [7, 9, 3, 7], [6, 5, 6, 6], [10, 6, 4, 2], [3, 3, 8, 9], [6, 6, 5, 5], [6, 4, 6, 10], [3, 1, 9, 7], [4, 5, 6, 4], [7, 2, 7, 1], [9, 6, 3, 9], [7, 10, 1, 7], [2, 8, 4, 5], [7, 2, 6, 7], [5, 9, 2, 7], [1, 8, 4, 6], [5, 9, 2, 4], [6, 2, 6, 7], [1, 3, 7, 2], [1, 9, 3, 1], [1, 4, 6, 9], [3, 7, 3, 8], [1, 8, 3, 7], [1, 5, 5, 6], [5, 6, 3, 4], [7, 8, 1, 3], [9, 7, 1, 3], [10, 3, 3, 9], [1, 3, 6, 3], [2, 4, 5, 2], [7, 7, 1, 10], [5, 2, 5, 7], [8, 6, 1, 9], [5, 7, 1, 9], [4, 6, 2, 6], [4, 1, 5, 5], [5, 3, 3, 9], [3, 7, 1, 2], [4, 4, 2, 9], [2, 5, 2, 8], [3, 4, 2, 9], [6, 1, 3, 8], [6, 2, 2, 2], [9, 1, 1, 10], [4, 1, 2, 10], [6, 1, 1, 2]]\n"
     ]
    }
   ],
   "source": [
    "def getQuantities(crossoverElements):\n",
    "    \n",
    "    print(len(crossoverElements))\n",
    "    fit_quantities = [d['FitQuantities'] for d in crossoverElements]\n",
    "    return fit_quantities\n",
    "\n",
    "crossoverElementsQuantities=getQuantities(crossoverElements)\n",
    "\n",
    "print(crossoverElementsQuantities)"
   ]
  },
  {
   "cell_type": "code",
   "execution_count": 549,
   "id": "a830cf7d",
   "metadata": {},
   "outputs": [],
   "source": [
    "\n",
    "def crossoverMethod(parent1, parent2, crossover_rate):\n",
    "    if random.uniform(0, 1) < crossover_rate:\n",
    "        crossover_point = random.randint(1, len(parent1) - 1)\n",
    "        child1 = parent1[:crossover_point] + parent2[crossover_point:]\n",
    "        child2 = parent2[:crossover_point] + parent1[crossover_point:]\n",
    "        return child1, child2\n",
    "    else:\n",
    "        return parent1, parent2\n",
    "\n"
   ]
  },
  {
   "cell_type": "code",
   "execution_count": 550,
   "id": "2e0d65fc",
   "metadata": {},
   "outputs": [
    {
     "name": "stdout",
     "output_type": "stream",
     "text": [
      "[[7, 5, 10, 7], [7, 5, 10, 7], [7, 5, 10, 2], [7, 5, 10, 2], [7, 1, 1, 2], [7, 1, 1, 2], [7, 5, 10, 2], [7, 1, 1, 2], [7, 1, 1, 2], [7, 5, 10, 2], [7, 1, 1, 2], [7, 5, 1, 2], [7, 5, 1, 2], [7, 5, 1, 2], [7, 1, 1, 2], [7, 5, 10, 2], [7, 5, 10, 2], [7, 5, 10, 2], [7, 5, 10, 7], [7, 5, 1, 2], [7, 5, 10, 7], [7, 5, 10, 7], [7, 5, 10, 7], [7, 5, 10, 7], [7, 5, 10, 7], [7, 1, 1, 2], [7, 5, 10, 2], [7, 5, 10, 2], [7, 1, 1, 2], [7, 5, 10, 7], [7, 1, 1, 2], [7, 5, 1, 2], [7, 5, 10, 2], [7, 1, 1, 2], [7, 5, 10, 7], [7, 5, 10, 2], [7, 5, 10, 7], [7, 5, 1, 2], [7, 1, 1, 2], [7, 5, 1, 2], [7, 5, 10, 2], [7, 5, 10, 2], [7, 1, 1, 2], [7, 5, 10, 2], [7, 5, 1, 2], [7, 5, 1, 2], [7, 5, 10, 7], [7, 5, 10, 7], [7, 5, 10, 2], [7, 1, 1, 2], [7, 5, 1, 2], [7, 1, 1, 2], [7, 5, 1, 2], [7, 5, 1, 2], [7, 5, 10, 2], [7, 5, 10, 2], [7, 5, 1, 2], [7, 5, 1, 2], [7, 5, 1, 2], [7, 1, 1, 2], [7, 5, 10, 7], [7, 5, 1, 2], [7, 1, 1, 2], [7, 5, 10, 2], [7, 5, 1, 2], [7, 5, 1, 2], [7, 5, 10, 2], [7, 5, 10, 2], [7, 5, 1, 2], [7, 5, 10, 7], [7, 1, 1, 2], [7, 1, 1, 2], [7, 5, 10, 7], [7, 5, 10, 2], [7, 5, 10, 2], [7, 1, 1, 2], [7, 5, 1, 2], [7, 5, 1, 2], [7, 5, 1, 2], [7, 5, 10, 7], [7, 5, 10, 7], [7, 5, 10, 2], [7, 5, 10, 2], [7, 5, 10, 7], [7, 5, 1, 2], [7, 5, 10, 7], [7, 1, 1, 2], [7, 5, 1, 2], [7, 5, 1, 2], [7, 5, 10, 7], [7, 1, 1, 2], [7, 5, 10, 7], [7, 5, 1, 2], [7, 5, 10, 2]]\n",
      "94\n"
     ]
    }
   ],
   "source": [
    "crossover_rate = 0.8 # Crossover rate\n",
    "percentageCrossover = 10 # Crossover rate\n",
    "def crossOver(dic):\n",
    "    listCrossOver=[]\n",
    "    for gene in dic:\n",
    "      \n",
    "        #selects first and last genes to crossover\n",
    "        parent1 = dic[0]['FitQuantities']\n",
    "        parent2 = dic[-1]['FitQuantities']\n",
    "\n",
    "        child1, child2 = crossoverMethod(parent1, parent2, crossover_rate)\n",
    "        # listCrossOver.append(child1)\n",
    "        # listCrossOver.append(child2)\n",
    "        if child1 not in listCrossOver:\n",
    "            listCrossOver.append(child1)\n",
    "        if child2 not in listCrossOver:\n",
    "            listCrossOver.append(child1)\n",
    "      \n",
    "\n",
    "\n",
    "    #return first 10% of the genes resulting from the crossover      !!!! deveriam ser os 10% MELHORES-necessário fazer calculo\n",
    "    #return listCrossOver[:len(listCrossOver)//percentageCrossover]\n",
    "    return listCrossOver\n",
    "\n",
    "print(crossOver(crossoverElements))\n",
    "print(len(crossOver(crossoverElements)))\n"
   ]
  },
  {
   "cell_type": "code",
   "execution_count": 154,
   "id": "e4459481",
   "metadata": {},
   "outputs": [
    {
     "name": "stdout",
     "output_type": "stream",
     "text": [
      "[20790 19970 19390 19060 18810 18720 18490 18140 18100 17600 17480 16950\n",
      " 16910 16860 16830 16780 16730 16650 16650 16650 16590 16560 16450 16260\n",
      " 16150 15970 15840 15760 15720 15530 15530 15500 15490 15300 15270 15200\n",
      " 15110 15000 14920 14000 13770 13470 13210 13080 12970 12960 12910 12810\n",
      " 12680 12470 12000 11890 11760 11470 11360 11190 11180 11120 10960 10800\n",
      " 10730 10650 10600 10230 10120  9920  9810  9520  9450  9350  9320  9260\n",
      "  9260  9060  8960  8900  8790  8770  8640  8580  8210  8180  7990  7960\n",
      "  7630  7420  7340  7140  7080  6750  6470  6290  5640  4750  4600  4560\n",
      "  4490  3590  3330  2960]\n",
      "[[40, 31, 35, 9], [5, 36, 40, 27], [8, 31, 40, 39], [21, 35, 33, 6], [36, 27, 32, 21], [34, 18, 38, 32], [14, 40, 29, 39], [16, 38, 29, 24], [32, 20, 35, 40], [39, 7, 40, 30]]\n",
      "90\n"
     ]
    }
   ],
   "source": [
    "# Create Fitness function to give the best solution\n",
    "\n",
    "arraySomaProfits = []\n",
    "arrayFitProfitAndQuantity = []\n",
    "finalPopulation = []\n",
    "\n",
    "# if this element is 1 the first tax of best individuos is added to final population\n",
    "elementToGetFirstBestIndividuos = 0\n",
    "\n",
    "taxNoCrossover = 0.10\n",
    "\n",
    "def createFitnessFunction(population, products):\n",
    "\n",
    "    # implementar o ciclo para n vezes\n",
    "    for person in population:\n",
    "\n",
    "        soma = 0\n",
    "        contador = 0\n",
    "\n",
    "        for productQuantity in person:\n",
    "\n",
    "            soma = soma + (productQuantity * products[contador]['predictedProfits'])\n",
    "            contador = contador + 1\n",
    "\n",
    "        auxVar = {'FitProfit': soma, 'FitQuantities': person}\n",
    "        arrayFitProfitAndQuantity.append(auxVar)\n",
    "        arraySomaProfits.append(soma)\n",
    "\n",
    "    array = np.array(arraySomaProfits)\n",
    "    array[::-1].sort()\n",
    "\n",
    "    # get out taxNoCrossover to final population\n",
    "\n",
    "    numberElementsNoCrossover = len(population) * taxNoCrossover\n",
    "\n",
    "    for i in range(round(numberElementsNoCrossover)):\n",
    "\n",
    "        for element in arrayFitProfitAndQuantity:\n",
    "\n",
    "            if element['FitProfit'] == array[i]:\n",
    "                finalPopulation.append(element['FitQuantities'])\n",
    "                population.remove(element['FitQuantities'])\n",
    "\n",
    "    return array\n",
    "\n",
    "fitSolutions = createFitnessFunction(population, products)\n",
    "#maxFitSolution = np.max(createFitnessFunction(population, products))\n",
    "\n",
    "print(fitSolutions)\n",
    "print(finalPopulation)\n",
    "print(len(population) )"
   ]
  },
  {
   "cell_type": "code",
   "execution_count": 155,
   "id": "23e5cdba",
   "metadata": {},
   "outputs": [
    {
     "name": "stdout",
     "output_type": "stream",
     "text": [
      "[13, 28, 3, 38]\n",
      "1\n"
     ]
    }
   ],
   "source": [
    "print(population[1])\n",
    "print(random.randint(0, len(population[0])))"
   ]
  },
  {
   "cell_type": "code",
   "execution_count": 156,
   "id": "d90dfb9c",
   "metadata": {},
   "outputs": [
    {
     "name": "stdout",
     "output_type": "stream",
     "text": [
      "0\n",
      "[]\n",
      "---------------------------------------FINAL---------------------------------------------\n",
      "[[40, 31, 35, 9], [5, 36, 40, 27], [8, 31, 40, 39], [21, 35, 33, 6], [36, 27, 32, 21], [34, 18, 38, 32], [14, 40, 29, 39], [16, 38, 29, 24], [32, 20, 35, 40], [39, 7, 40, 30], [20, 16, 4, 35], [13, 28, 3, 38], [10, 8, 6, 20], [18, 40, 4, 12], [2, 14, 4, 2], [12, 25, 1, 3], [13, 33, 26, 27], [40, 16, 26, 6], [17, 2, 4, 29], [3, 35, 31, 13], [3, 31, 10, 32], [32, 30, 2, 31], [40, 29, 23, 17], [6, 14, 33, 21], [15, 20, 21, 20], [11, 15, 36, 35], [18, 28, 30, 25], [15, 19, 20, 6], [28, 18, 29, 20], [22, 1, 1, 26], [9, 36, 8, 24], [40, 19, 26, 15], [26, 27, 27, 35], [4, 8, 24, 15], [7, 7, 17, 1], [37, 22, 23, 26], [2, 33, 16, 27], [9, 39, 18, 27], [23, 12, 16, 14], [9, 14, 24, 10], [1, 3, 13, 15], [27, 9, 15, 26], [14, 9, 20, 32], [15, 4, 38, 30], [16, 36, 25, 35], [31, 26, 8, 26], [30, 34, 26, 28], [19, 5, 19, 22], [21, 1, 10, 8], [19, 12, 9, 34], [9, 37, 16, 5], [39, 24, 23, 37], [33, 27, 20, 22], [17, 30, 3, 19], [2, 30, 32, 17], [3, 22, 19, 40], [2, 28, 6, 36], [29, 13, 6, 4], [15, 39, 11, 29], [11, 8, 11, 21], [9, 30, 18, 30], [37, 28, 8, 15], [34, 36, 16, 10], [12, 33, 30, 3], [14, 31, 27, 2], [29, 29, 27, 15], [14, 30, 26, 6], [30, 14, 1, 6], [11, 37, 14, 11], [34, 32, 29, 36], [16, 31, 27, 8], [31, 37, 13, 18], [38, 22, 10, 19], [36, 33, 3, 17], [18, 12, 17, 16], [10, 14, 40, 39], [32, 4, 10, 8], [4, 7, 36, 14], [31, 13, 6, 1], [38, 14, 23, 16], [24, 23, 2, 3], [25, 35, 20, 3], [35, 3, 15, 30], [23, 15, 32, 30], [30, 12, 39, 13], [13, 26, 23, 39], [13, 11, 19, 12], [18, 39, 7, 19], [1, 2, 18, 21], [27, 23, 12, 39], [33, 3, 25, 36], [5, 22, 9, 33], [3, 5, 24, 27], [27, 2, 28, 26], [6, 2, 23, 9], [20, 17, 19, 8], [32, 24, 7, 36], [33, 27, 24, 13], [39, 18, 11, 37], [18, 5, 3, 18]]\n",
      "100\n"
     ]
    }
   ],
   "source": [
    "# Function to crossover\n",
    "\n",
    "def crossover(population):\n",
    "    while len(population)>0:\n",
    "\n",
    "        if len(population) == 1:\n",
    "            finalPopulation.append(population[0])\n",
    "            population.remove(population[0])\n",
    "        else:\n",
    "            firstPai = population[0]\n",
    "            secondPai = population[1]\n",
    "            crossoverPoint = random.randint(0, len(population[0]))\n",
    "            for i in range(crossoverPoint):\n",
    "                aux = firstPai[i]\n",
    "                firstPai[i] = secondPai[i]\n",
    "                secondPai[i] = aux\n",
    "\n",
    "             #validate that first chield is good\n",
    "            totalAmountRestriction1 = validateTotalAmount(firstPai)\n",
    "            totalQuantityRestriction1 = validateTotalQuantity(firstPai)\n",
    "            dimensionRestriction1 = validateDimension(firstPai, products)\n",
    "\n",
    "            #validate that second chield is good\n",
    "            totalAmountRestriction2 = validateTotalAmount(secondPai)\n",
    "            totalQuantityRestriction2 = validateTotalQuantity(secondPai)\n",
    "            dimensionRestriction2 = validateDimension(secondPai, products)\n",
    "                  \n",
    "            if (totalAmountRestriction1 == 1) and (totalQuantityRestriction1 == 1) and (dimensionRestriction1 == 1) and (totalAmountRestriction2 == 1) and (totalQuantityRestriction2 == 1) and (dimensionRestriction2 == 1):\n",
    "                \n",
    "                population.remove(population[0])\n",
    "                population.remove(population[0])\n",
    "                finalPopulation.append(firstPai)\n",
    "                finalPopulation.append(secondPai)\n",
    "            \n",
    "\n",
    "crossover(population)\n",
    "print(len(population))\n",
    "print(population)\n",
    "print(\"---------------------------------------FINAL---------------------------------------------\")\n",
    "print(finalPopulation)\n",
    "print(len(finalPopulation))"
   ]
  },
  {
   "cell_type": "code",
   "execution_count": 157,
   "id": "3c5ddbe4",
   "metadata": {},
   "outputs": [],
   "source": [
    "taxMutation = 0.05\n",
    "changeGene = 0.1\n",
    "\n",
    "def mutation(finalPopulation):\n",
    "\n",
    "#  numberElementsNoCrossover = len(population) * taxNoCrossover\n",
    "\n",
    "#     for i in range(round(numberElementsNoCrossover)):\n",
    "\n",
    "    mutationList=len(finalPopulation)*taxMutation\n",
    "    print(mutationList)\n",
    "    i = 0\n",
    "    for i in range(round(mutationList)):\n",
    "        #index where the mutation is going to be applied\n",
    "        \n",
    "        lenFinalPopulation = len(finalPopulation[i])-1\n",
    "        index=random.randint(0, lenFinalPopulation)\n",
    "        print(\"Para alterar\", finalPopulation[i][index])\n",
    "        print(\"Quanto alterar\", round(finalPopulation[i][index]*changeGene))\n",
    "        finalPopulation[i][index] = finalPopulation[i][index] + round(finalPopulation[i][index]*changeGene)\n",
    "        print(\"Alterado\", finalPopulation[i][index])\n",
    "            \n",
    "        totalAmountRestriction = validateTotalAmount(finalPopulation[i])\n",
    "        totalQuantityRestriction = validateTotalQuantity(finalPopulation[i])\n",
    "        dimensionRestriction = validateDimension(finalPopulation[i], products)\n",
    "              \n",
    "        if (totalAmountRestriction == 0) or (totalQuantityRestriction == 0) or (dimensionRestriction == 0):\n",
    "            print(\"Removido\", finalPopulation[i])\n",
    "            finalPopulation.remove(finalPopulation[i])\n",
    "          \n",
    "\n",
    "\n",
    "        "
   ]
  },
  {
   "cell_type": "code",
   "execution_count": 158,
   "id": "19f37c46",
   "metadata": {},
   "outputs": [
    {
     "name": "stdout",
     "output_type": "stream",
     "text": [
      "4\n",
      "5.0\n",
      "Para alterar 31\n",
      "Quanto alterar 3\n",
      "Alterado 34\n",
      "Para alterar 5\n",
      "Quanto alterar 0\n",
      "Alterado 5\n",
      "Para alterar 39\n",
      "Quanto alterar 4\n",
      "Alterado 43\n",
      "Removido [8, 31, 40, 43]\n",
      "Para alterar 36\n",
      "Quanto alterar 4\n",
      "Alterado 40\n",
      "Para alterar 18\n",
      "Quanto alterar 2\n",
      "Alterado 20\n",
      "FINAL [[40, 34, 35, 9], [5, 36, 40, 27], [21, 35, 33, 6], [40, 27, 32, 21], [34, 20, 38, 32], [14, 40, 29, 39], [16, 38, 29, 24], [32, 20, 35, 40], [39, 7, 40, 30], [20, 16, 4, 35], [13, 28, 3, 38], [10, 8, 6, 20], [18, 40, 4, 12], [2, 14, 4, 2], [12, 25, 1, 3], [13, 33, 26, 27], [40, 16, 26, 6], [17, 2, 4, 29], [3, 35, 31, 13], [3, 31, 10, 32], [32, 30, 2, 31], [40, 29, 23, 17], [6, 14, 33, 21], [15, 20, 21, 20], [11, 15, 36, 35], [18, 28, 30, 25], [15, 19, 20, 6], [28, 18, 29, 20], [22, 1, 1, 26], [9, 36, 8, 24], [40, 19, 26, 15], [26, 27, 27, 35], [4, 8, 24, 15], [7, 7, 17, 1], [37, 22, 23, 26], [2, 33, 16, 27], [9, 39, 18, 27], [23, 12, 16, 14], [9, 14, 24, 10], [1, 3, 13, 15], [27, 9, 15, 26], [14, 9, 20, 32], [15, 4, 38, 30], [16, 36, 25, 35], [31, 26, 8, 26], [30, 34, 26, 28], [19, 5, 19, 22], [21, 1, 10, 8], [19, 12, 9, 34], [9, 37, 16, 5], [39, 24, 23, 37], [33, 27, 20, 22], [17, 30, 3, 19], [2, 30, 32, 17], [3, 22, 19, 40], [2, 28, 6, 36], [29, 13, 6, 4], [15, 39, 11, 29], [11, 8, 11, 21], [9, 30, 18, 30], [37, 28, 8, 15], [34, 36, 16, 10], [12, 33, 30, 3], [14, 31, 27, 2], [29, 29, 27, 15], [14, 30, 26, 6], [30, 14, 1, 6], [11, 37, 14, 11], [34, 32, 29, 36], [16, 31, 27, 8], [31, 37, 13, 18], [38, 22, 10, 19], [36, 33, 3, 17], [18, 12, 17, 16], [10, 14, 40, 39], [32, 4, 10, 8], [4, 7, 36, 14], [31, 13, 6, 1], [38, 14, 23, 16], [24, 23, 2, 3], [25, 35, 20, 3], [35, 3, 15, 30], [23, 15, 32, 30], [30, 12, 39, 13], [13, 26, 23, 39], [13, 11, 19, 12], [18, 39, 7, 19], [1, 2, 18, 21], [27, 23, 12, 39], [33, 3, 25, 36], [5, 22, 9, 33], [3, 5, 24, 27], [27, 2, 28, 26], [6, 2, 23, 9], [20, 17, 19, 8], [32, 24, 7, 36], [33, 27, 24, 13], [39, 18, 11, 37], [18, 5, 3, 18]]\n",
      "40\n"
     ]
    }
   ],
   "source": [
    "print(len(finalPopulation[0]))\n",
    "mutation(finalPopulation)\n",
    "print(\"FINAL\",finalPopulation)\n",
    "print(finalPopulation[0][0])"
   ]
  },
  {
   "cell_type": "code",
   "execution_count": 159,
   "id": "70b03b22",
   "metadata": {},
   "outputs": [
    {
     "name": "stdout",
     "output_type": "stream",
     "text": [
      "99\n"
     ]
    }
   ],
   "source": [
    "print(len(finalPopulation))"
   ]
  },
  {
   "cell_type": "code",
   "execution_count": 222,
   "id": "5b800c47",
   "metadata": {},
   "outputs": [],
   "source": [
    "import random\n",
    "\n",
    "\n",
    "def optimize_product_quantities(productsList, maxTotalQuantity, maxProductQuantity, storeDimension):\n",
    "    # products is a list of tuples, where each tuple contains the following information about a product:\n",
    "    # (name, quantity, price, dimension)\n",
    "\n",
    "    # Create a population of random solutions\n",
    "\n",
    "    # population = []\n",
    "    # for i in range(100):\n",
    "    #     solution = []\n",
    "    #     totalQuantity = 0\n",
    "    #     totalDimension = 0\n",
    "    #     for j in range(len(productsList)):\n",
    "    #         quantity = random.randint(0, maxProductQuantity)\n",
    "    #         totalQuantity += quantity\n",
    "    #         totalDimension += quantity * productsList[j][2]\n",
    "    #         solution.append(quantity)\n",
    "    #     if totalQuantity <= maxTotalQuantity and totalDimension <= storeDimension:\n",
    "    #         population.append(solution)\n",
    "\n",
    "    #represents code above\n",
    "    firstpopulation(productsList)\n",
    "\n",
    "    # Set the number of generations and the mutation rate\n",
    "    numGenerations = 1000\n",
    "    mutationRate = 0.01\n",
    "\n",
    "    # Run the genetic algorithm\n",
    "    for generation in range(numGenerations):\n",
    "        # Calculate the fitness of each solution in the population\n",
    "        populationFitness = []\n",
    "        for i in range(len(population)):\n",
    "            totalProfit = 0\n",
    "            totalQuantity = 0\n",
    "            totalDimension = 0\n",
    "            for j in range(len(productsList)):\n",
    "                totalProfit += population[i][j] * productsList[j][2]\n",
    "                totalQuantity += population[i][j]\n",
    "                totalDimension += population[i][j] * productsList[j][3]\n",
    "            if totalQuantity <= maxTotalQuantity and totalDimension <= storeDimension:\n",
    "                populationFitness.append(totalProfit)\n",
    "            else:\n",
    "                populationFitness.append(0)\n",
    "\n",
    "        # Select the fittest solutions for breeding\n",
    "        fittestSolutions = []\n",
    "        for i in range(int(len(population) / 2)):\n",
    "            fittestIndex = populationFitness.index(max(populationFitness))\n",
    "            fittestSolutions.append(population[fittestIndex])\n",
    "            populationFitness[fittestIndex] = 0\n",
    "        population = fittestSolutions\n",
    "\n",
    "        # Breed the solutions to create a new population\n",
    "        newPopulation = []\n",
    "        for i in range(len(population)):\n",
    "            parent1 = population[i]\n",
    "            parent2 = population[random.randint(0, len(population) - 1)]\n",
    "            child = []\n",
    "            for j in range(len(productsList)):\n",
    "                if random.random() < 0.5:\n",
    "                    child.append(parent1[j])\n",
    "                else:\n",
    "                    child.append(parent2[j])\n",
    "\n",
    "            # Mutate the child\n",
    "            if random.random() < mutationRate:\n",
    "                mutationIndex = random.randint(0, len(productsList) - 1)\n",
    "                child[mutationIndex] = random.randint(0, maxProductQuantity)\n",
    "\n",
    "            newPopulation.append(child)\n",
    "        population = newPopulation\n",
    "        print(generation)\n",
    "    # Return the fittest solution\n",
    "\n",
    "    return population[0]"
   ]
  },
  {
   "cell_type": "code",
   "execution_count": 185,
   "id": "e751dbf6",
   "metadata": {},
   "outputs": [
    {
     "ename": "TypeError",
     "evalue": "object of type 'int' has no len()",
     "output_type": "error",
     "traceback": [
      "\u001b[1;31m---------------------------------------------------------------------------\u001b[0m",
      "\u001b[1;31mTypeError\u001b[0m                                 Traceback (most recent call last)",
      "\u001b[1;32m~\\AppData\\Local\\Temp\\ipykernel_10704\\4052108543.py\u001b[0m in \u001b[0;36m<module>\u001b[1;34m\u001b[0m\n\u001b[0;32m     26\u001b[0m     \u001b[1;31m# We'll use one-point crossover here, which involves selecting a random point in the parents' genomes\u001b[0m\u001b[1;33m\u001b[0m\u001b[1;33m\u001b[0m\u001b[0m\n\u001b[0;32m     27\u001b[0m     \u001b[1;31m# and swapping the genes on either side of the point to create the offspring\u001b[0m\u001b[1;33m\u001b[0m\u001b[1;33m\u001b[0m\u001b[0m\n\u001b[1;32m---> 28\u001b[1;33m     \u001b[0mcrossover_point\u001b[0m \u001b[1;33m=\u001b[0m \u001b[0mrandom\u001b[0m\u001b[1;33m.\u001b[0m\u001b[0mrandint\u001b[0m\u001b[1;33m(\u001b[0m\u001b[1;36m1\u001b[0m\u001b[1;33m,\u001b[0m \u001b[0mlen\u001b[0m\u001b[1;33m(\u001b[0m\u001b[0mparent1\u001b[0m\u001b[1;33m)\u001b[0m\u001b[1;33m)\u001b[0m\u001b[1;33m\u001b[0m\u001b[1;33m\u001b[0m\u001b[0m\n\u001b[0m\u001b[0;32m     29\u001b[0m     \u001b[0moffspring\u001b[0m \u001b[1;33m=\u001b[0m \u001b[0mparent1\u001b[0m\u001b[1;33m[\u001b[0m\u001b[1;33m:\u001b[0m\u001b[0mcrossover_point\u001b[0m\u001b[1;33m]\u001b[0m \u001b[1;33m+\u001b[0m \u001b[0mparent2\u001b[0m\u001b[1;33m[\u001b[0m\u001b[0mcrossover_point\u001b[0m\u001b[1;33m:\u001b[0m\u001b[1;33m]\u001b[0m\u001b[1;33m\u001b[0m\u001b[1;33m\u001b[0m\u001b[0m\n\u001b[0;32m     30\u001b[0m \u001b[1;33m\u001b[0m\u001b[0m\n",
      "\u001b[1;31mTypeError\u001b[0m: object of type 'int' has no len()"
     ]
    }
   ],
   "source": [
    "\n",
    "\n",
    "# Define the fitness function\n",
    "def fitness(x):\n",
    "    # x is the number of products to buy\n",
    "    # We can define the fitness as the difference between the desired stock level and the actual stock level\n",
    "    # The desired stock level is 10\n",
    "    return abs(10 - x)\n",
    "\n",
    "# Initialize the population with random solutions\n",
    "population = [random.randint(0, 20) for _ in range(10)]\n",
    "\n",
    "# Set the maximum number of generations\n",
    "max_generations = 100\n",
    "\n",
    "# Iterate over the generations\n",
    "for generation in range(max_generations):\n",
    "    # Evaluate the fitness of each solution\n",
    "    fitness_values = [fitness(x) for x in population]\n",
    "    \n",
    "    # Select the best solutions as parents\n",
    "    # We'll use tournament selection here, which involves selecting a random subset of the population\n",
    "    # and choosing the best solution from that subset as the parent\n",
    "    parent1 = min(random.sample(population, 5), key=fitness)\n",
    "    parent2 = min(random.sample(population, 5), key=fitness)\n",
    "    \n",
    "    # Create offspring by combining the parents using crossover\n",
    "    # We'll use one-point crossover here, which involves selecting a random point in the parents' genomes\n",
    "    # and swapping the genes on either side of the point to create the offspring\n",
    "    crossover_point = random.randint(1, len(parent1))\n",
    "    offspring = parent1[:crossover_point] + parent2[crossover_point:]\n",
    "    \n",
    "    # Add some randomness to the offspring using mutation\n",
    "    # We'll flip a random bit in the offspring's genome\n",
    "    mutation_point = random.randint(0, len(offspring) - 1)\n",
    "    offspring[mutation_point] = 1 - offspring[mutation_point]\n",
    "    \n",
    "    # Replace the worst solution in the population with the offspring\n",
    "    worst_solution = max(zip(population, fitness_values), key=lambda x: x[1])\n",
    "    population[population.index(worst_solution[0])] = offspring\n",
    "\n",
    "# The final solution is the best solution in the final generation\n",
    "best_solution = min(zip(population, fitness_values), key=lambda x: x[1])\n",
    "print(f\"The optimal number of products to buy is: {best_solution[0]}\")"
   ]
  },
  {
   "cell_type": "code",
   "execution_count": null,
   "id": "46f91a5f",
   "metadata": {},
   "outputs": [],
   "source": [
    "\n",
    "  # evaluate the fitness of a given solution\n",
    "  def evaluate_fitness(products):\n",
    "\n",
    "#  # check if better (e.g. perform a tournament)\n",
    "#  if scores[ix] < scores[selection_ix]:\n",
    "#  selection_ix = ix\n",
    "#  return pop[selection_ix]\n",
    "#{'predictedProfits': 100, 'predictedProductQuantities': 10, 'dimension': 5, 'productName': 'p1', 'productProfit': 10.0},  \n",
    "\n",
    "    bestQuantity = 0\n",
    "        if products['predictedProfits'] < products['predictedProductQuantities']:\n",
    "      return 0\n",
    "\n",
    "    \n",
    "    total_dimension = sum([q * d for q, d in zip(solution, product_dimensions)])\n",
    "    if total_quantity < min_quantity or total_quantity > max_quantity or total_dimension > store_dimension:\n",
    "      return 0\n",
    "    profit = calculate_profit(solution)\n",
    "    # calculate the deviation from the target profit\n",
    "    deviation = abs(profit - target_profit)\n",
    "    # the fitness is higher for solutions that have a lower deviation from the target profit\n",
    "    return 1 / (deviation + 1)\n",
    "\n",
    "  # genetic algorithm function\n",
    "  def genetic_algorithm(fitness_fn):\n",
    "    # initialize population\n",
    "    population = initialize_population(product_quantities)\n",
    "    for generation in range(max_generations):\n",
    "      # evaluate fitness\n",
    "      fitnesses = [fitness_fn(s) for s in population]\n",
    "      # select parents\n",
    "      parents = select_parents(population, fitnesses)\n",
    "      # create offspring\n",
    "      offspring = create_offspring(parents)\n",
    "      # mutate offspring\n",
    "      offspring = mutate(offspring)\n",
    "      # replace least fit individuals in population with offspring\n",
    "      population = replace_least_fit(population, offspring)\n",
    "    # return the fittest solution\n",
    "    return population[0]\n",
    "\n",
    "  # use the genetic algorithm to find the optimal solution\n",
    "  return genetic_algorithm(evaluate_fitness)"
   ]
  },
  {
   "cell_type": "code",
   "execution_count": null,
   "id": "b48f1315",
   "metadata": {},
   "outputs": [],
   "source": [
    "#--------------------------------------------------------------------------\n"
   ]
  }
 ],
 "metadata": {
  "kernelspec": {
   "display_name": "Python 3 (ipykernel)",
   "language": "python",
   "name": "python3"
  },
  "language_info": {
   "codemirror_mode": {
    "name": "ipython",
    "version": 3
   },
   "file_extension": ".py",
   "mimetype": "text/x-python",
   "name": "python",
   "nbconvert_exporter": "python",
   "pygments_lexer": "ipython3",
   "version": "3.9.13"
  },
  "vscode": {
   "interpreter": {
    "hash": "59971bb70b9cb59c1a0387cc4769b0547c9172043d0f7a819e5db58cda7fa362"
   }
  }
 },
 "nbformat": 4,
 "nbformat_minor": 5
}
