{
 "cells": [
  {
   "cell_type": "code",
   "execution_count": 16,
   "id": "f0629f54",
   "metadata": {},
   "outputs": [],
   "source": [
    "from pulp import *\n",
    "import pulp\n",
    "import pandas as pd\n",
    "import numpy as np"
   ]
  },
  {
   "cell_type": "code",
   "execution_count": 17,
   "id": "2ee5c7e1",
   "metadata": {},
   "outputs": [
    {
     "name": "stdout",
     "output_type": "stream",
     "text": [
      "[{'predictedProfits': 100, 'predictedProductQuantities': 10, 'dimension': 5, 'productName': 'p1'}, {'predictedProfits': 200, 'predictedProductQuantities': 20, 'dimension': 2, 'productName': 'p2'}, {'predictedProfits': 300, 'predictedProductQuantities': 30, 'dimension': 1, 'productName': 'p3'}, {'predictedProfits': 10, 'predictedProductQuantities': 1, 'dimension': 20, 'productName': 'p4'}]\n"
     ]
    }
   ],
   "source": [
    "# Read the Excel file into a DataFrame\n",
    "df = pd.read_excel('file.xlsx')\n",
    "\n",
    "# Convert the DataFrame to a NumPy array\n",
    "data = df.values\n",
    "products = []\n",
    "\n",
    "for row in data:\n",
    "    predictedProfits = row[0]\n",
    "    predictedProductQuantities = row[1]\n",
    "    dimension = row[2]\n",
    "    productName = row[3]\n",
    "\n",
    "    product = {'predictedProfits': predictedProfits, 'predictedProductQuantities': predictedProductQuantities, 'dimension': dimension, 'productName': productName}\n",
    "    products.append(product)\n",
    "\n",
    "print(products)"
   ]
  },
  {
   "cell_type": "code",
   "execution_count": 18,
   "id": "30a63d1f",
   "metadata": {},
   "outputs": [],
   "source": [
    "def calculate_profit(products):\n",
    "    for product in products:\n",
    "        profit = product['predictedProfits'] / product['predictedProductQuantities']\n",
    "        product['productProfit'] = profit\n",
    "    return products"
   ]
  },
  {
   "cell_type": "code",
   "execution_count": 19,
   "id": "0f258bb1",
   "metadata": {},
   "outputs": [
    {
     "name": "stdout",
     "output_type": "stream",
     "text": [
      "[{'predictedProfits': 100, 'predictedProductQuantities': 10, 'dimension': 5, 'productName': 'p1', 'productProfit': 10.0}, {'predictedProfits': 200, 'predictedProductQuantities': 20, 'dimension': 2, 'productName': 'p2', 'productProfit': 10.0}, {'predictedProfits': 300, 'predictedProductQuantities': 30, 'dimension': 1, 'productName': 'p3', 'productProfit': 10.0}, {'predictedProfits': 10, 'predictedProductQuantities': 1, 'dimension': 20, 'productName': 'p4', 'productProfit': 10.0}]\n"
     ]
    }
   ],
   "source": [
    "productTest = calculate_profit(products)\n",
    "print(productTest)"
   ]
  },
  {
   "cell_type": "code",
   "execution_count": 20,
   "id": "ed868591",
   "metadata": {},
   "outputs": [],
   "source": [
    "# Creation of the ILP model \n",
    "model = pulp.LpProblem(\"ILP_Problem\", pulp.LpMaximize)"
   ]
  },
  {
   "cell_type": "code",
   "execution_count": 21,
   "id": "eacf1bd3",
   "metadata": {},
   "outputs": [
    {
     "name": "stdout",
     "output_type": "stream",
     "text": [
      "[{'p1': p1}, {'p2': p2}, {'p3': p3}, {'p4': p4}]\n"
     ]
    }
   ],
   "source": [
    "# Define the decision variables\n",
    "decisionVariables = []\n",
    "def createDictionaryWithDecisionVariable():\n",
    "    for product in products:\n",
    "        decisionVariable = {product['productName']:  pulp.LpVariable(product['productName'], lowBound=0, cat='Integer')}\n",
    "        decisionVariables.append(decisionVariable)\n",
    "        \n",
    "createDictionaryWithDecisionVariable()\n",
    "print(decisionVariables)"
   ]
  },
  {
   "cell_type": "code",
   "execution_count": 22,
   "id": "44ff6c83",
   "metadata": {},
   "outputs": [
    {
     "name": "stdout",
     "output_type": "stream",
     "text": [
      "ILP_Problem:\n",
      "MAXIMIZE\n",
      "100*p1 + 200*p2 + 300*p3 + 10*p4 + 0\n",
      "VARIABLES\n",
      "0 <= p1 Integer\n",
      "0 <= p2 Integer\n",
      "0 <= p3 Integer\n",
      "0 <= p4 Integer\n",
      "\n"
     ]
    }
   ],
   "source": [
    "# function to calculate objective function\n",
    "\n",
    "def objectiveFunction(products):\n",
    "    model = 0\n",
    "    count = 0\n",
    "    for product in products:\n",
    "        model = model + (product['predictedProfits'] * decisionVariables[count][product['productName']])\n",
    "        count = count + 1\n",
    "    return model\n",
    "\n",
    "#objective function\n",
    "model += objectiveFunction(products)\n",
    "print(model)"
   ]
  },
  {
   "cell_type": "code",
   "execution_count": 23,
   "id": "78686120",
   "metadata": {},
   "outputs": [
    {
     "name": "stdout",
     "output_type": "stream",
     "text": [
      "Please insert minimum total amount of products: 10\n",
      "Please insert maximum  total amount of products: 50\n",
      "Please insert minimum  amount of products : 1\n",
      "Please insert maximum  amount of products : 10\n",
      "Please insert minimum number of product variety: 1\n",
      "Please insert maximum  number of product variety: 4\n",
      "Please insert store dimension: 200000000000\n"
     ]
    }
   ],
   "source": [
    "#add user input for the multiple variables\n",
    "\n",
    "minTotalAmount = int(input(\"Please insert minimum total amount of products: \"))\n",
    "maxTotalAmount = int(input(\"Please insert maximum  total amount of products: \"))\n",
    "\n",
    "#create two list with min and max amount per product by user insert\n",
    "\n",
    "minAmountProduct = int(input(\"Please insert minimum  amount of products : \"))\n",
    "maxAmountProduct  = int(input(\"Please insert maximum  amount of products : \"))\n",
    "\n",
    "minProductVariety = int(input(\"Please insert minimum number of product variety: \"))\n",
    "maxProductVariety  = int(input(\"Please insert maximum  number of product variety: \"))\n",
    "\n",
    "storeDimension  = int(input(\"Please insert store dimension: \"))"
   ]
  },
  {
   "cell_type": "code",
   "execution_count": 24,
   "id": "79e2cdb7",
   "metadata": {},
   "outputs": [
    {
     "name": "stdout",
     "output_type": "stream",
     "text": [
      "4\n",
      "10\n",
      "1\n",
      "5*p1 + 2*p2 + p3 + 20*p4\n"
     ]
    }
   ],
   "source": [
    "# Define the constraints\n",
    "\n",
    " # function to calculate variety of products\n",
    "def get_variety(products):\n",
    "    # Create an empty set to store the product names\n",
    "    product_set = []\n",
    "    \n",
    "    # Iterate over the products\n",
    "    for product in products:\n",
    "        # Get the product name and add it to the set\n",
    "        product_name = product['productName']\n",
    "        product_set.append(product_name)\n",
    "        \n",
    "    # Return the length of the set\n",
    "    return len(product_set)\n",
    "\n",
    "print(get_variety(products))\n",
    "variety=get_variety(products)\n",
    "\n",
    "#see why it results in Infeasible\n",
    "model += variety <= maxProductVariety\n",
    "model += variety >= minProductVariety\n",
    "\n",
    "\n",
    "#restriction to total amount of products\n",
    "\n",
    "def maxMinTotalProductsRestriction(products):\n",
    "    restrictFunction = 0\n",
    "    count = 0\n",
    "    for product in products:\n",
    "        restrictFunction = restrictFunction + decisionVariables[count][product['productName']]\n",
    "        count = count + 1\n",
    "    return restrictFunction\n",
    "    \n",
    "model += maxMinTotalProductsRestriction(products) <= maxTotalAmount #restricao de quantidade maximo total de produtos\n",
    "model += maxMinTotalProductsRestriction(products) >= minTotalAmount #restricao de valor minimo total de produtos\n",
    "\n",
    "# variety of products\n",
    "\n",
    "#restriction to maximum quantity of products\n",
    "def maxMinQuantityProductsRestriction(products,model):\n",
    "    count = 0\n",
    "    for product in products:\n",
    "        model += decisionVariables[count][product['productName']] <= maxAmountProduct\n",
    "        model += decisionVariables[count][product['productName']] >= minAmountProduct\n",
    "        count = count + 1\n",
    "    \n",
    "maxMinQuantityProductsRestriction(products, model)\n",
    "\n",
    "print(maxAmountProduct)\n",
    "print(minAmountProduct)\n",
    "\n",
    "\n",
    "def maxDimensionProductsRestriction(products):\n",
    "    count = 0\n",
    "    restrictFunction = 0\n",
    "    for product in products:                            \n",
    "        restrictFunction = restrictFunction + (product['dimension'] * decisionVariables[count][product['productName']])\n",
    "        count = count +1\n",
    "    return restrictFunction\n",
    "\n",
    "print(maxDimensionProductsRestriction(products))\n",
    "#restricao de dimensões de produtos, menor que dimensao todal da loja\n",
    "model += maxDimensionProductsRestriction(products) <= storeDimension \n"
   ]
  },
  {
   "cell_type": "code",
   "execution_count": 25,
   "id": "4af446e4",
   "metadata": {},
   "outputs": [
    {
     "name": "stdout",
     "output_type": "stream",
     "text": [
      "ILP_Problem:\n",
      "MAXIMIZE\n",
      "100*p1 + 200*p2 + 300*p3 + 10*p4 + 0\n",
      "SUBJECT TO\n",
      "_C1: p1 + p2 + p3 + p4 <= 50\n",
      "\n",
      "_C2: p1 + p2 + p3 + p4 >= 10\n",
      "\n",
      "_C3: p1 <= 10\n",
      "\n",
      "_C4: p1 >= 1\n",
      "\n",
      "_C5: p2 <= 10\n",
      "\n",
      "_C6: p2 >= 1\n",
      "\n",
      "_C7: p3 <= 10\n",
      "\n",
      "_C8: p3 >= 1\n",
      "\n",
      "_C9: p4 <= 10\n",
      "\n",
      "_C10: p4 >= 1\n",
      "\n",
      "_C11: 5 p1 + 2 p2 + p3 + 20 p4 <= 200000000000\n",
      "\n",
      "VARIABLES\n",
      "0 <= p1 Integer\n",
      "0 <= p2 Integer\n",
      "0 <= p3 Integer\n",
      "0 <= p4 Integer\n",
      "\n"
     ]
    }
   ],
   "source": [
    "print(model)"
   ]
  },
  {
   "cell_type": "code",
   "execution_count": 26,
   "id": "6cd1d321",
   "metadata": {},
   "outputs": [],
   "source": [
    "# Solve the problem\n",
    "status = model.solve()"
   ]
  },
  {
   "cell_type": "code",
   "execution_count": 27,
   "id": "fe2f34d4",
   "metadata": {},
   "outputs": [
    {
     "name": "stdout",
     "output_type": "stream",
     "text": [
      "Optimal\n"
     ]
    }
   ],
   "source": [
    "print(pulp.LpStatus[status])"
   ]
  },
  {
   "cell_type": "code",
   "execution_count": 28,
   "id": "e42d549e",
   "metadata": {},
   "outputs": [],
   "source": [
    "#print(pulp.value(p1), pulp.value(model.objective))"
   ]
  },
  {
   "cell_type": "code",
   "execution_count": 29,
   "id": "897f7b45",
   "metadata": {},
   "outputs": [],
   "source": [
    "# Print the solution\n",
    "#print(\"Solution:\")\n",
    "#print(\"x =\", x.value())\n",
    "#print(\"y =\", y.value())"
   ]
  },
  {
   "cell_type": "code",
   "execution_count": 30,
   "id": "4a28b950",
   "metadata": {},
   "outputs": [
    {
     "name": "stdout",
     "output_type": "stream",
     "text": [
      "p1 = 10\n",
      "p2 = 10\n",
      "p3 = 10\n",
      "p4 = 10\n"
     ]
    }
   ],
   "source": [
    "def printValuesReturned():\n",
    "    for v in model.variables():\n",
    "        try:\n",
    "            print(v.name,\"=\", v.value())\n",
    "        except:\n",
    "            print(\"error couldnt find value\")\n",
    "            \n",
    "printValuesReturned()"
   ]
  },
  {
   "cell_type": "code",
   "execution_count": 31,
   "id": "e751dbf6",
   "metadata": {},
   "outputs": [
    {
     "ename": "TypeError",
     "evalue": "object of type 'int' has no len()",
     "output_type": "error",
     "traceback": [
      "\u001b[1;31m---------------------------------------------------------------------------\u001b[0m",
      "\u001b[1;31mTypeError\u001b[0m                                 Traceback (most recent call last)",
      "\u001b[1;32m~\\AppData\\Local\\Temp\\ipykernel_15784\\1676789653.py\u001b[0m in \u001b[0;36m<module>\u001b[1;34m\u001b[0m\n\u001b[0;32m     28\u001b[0m     \u001b[1;31m# We'll use one-point crossover here, which involves selecting a random point in the parents' genomes\u001b[0m\u001b[1;33m\u001b[0m\u001b[1;33m\u001b[0m\u001b[0m\n\u001b[0;32m     29\u001b[0m     \u001b[1;31m# and swapping the genes on either side of the point to create the offspring\u001b[0m\u001b[1;33m\u001b[0m\u001b[1;33m\u001b[0m\u001b[0m\n\u001b[1;32m---> 30\u001b[1;33m     \u001b[0mcrossover_point\u001b[0m \u001b[1;33m=\u001b[0m \u001b[0mrandom\u001b[0m\u001b[1;33m.\u001b[0m\u001b[0mrandint\u001b[0m\u001b[1;33m(\u001b[0m\u001b[1;36m1\u001b[0m\u001b[1;33m,\u001b[0m \u001b[0mlen\u001b[0m\u001b[1;33m(\u001b[0m\u001b[0mparent1\u001b[0m\u001b[1;33m)\u001b[0m\u001b[1;33m)\u001b[0m\u001b[1;33m\u001b[0m\u001b[1;33m\u001b[0m\u001b[0m\n\u001b[0m\u001b[0;32m     31\u001b[0m     \u001b[0moffspring\u001b[0m \u001b[1;33m=\u001b[0m \u001b[0mparent1\u001b[0m\u001b[1;33m[\u001b[0m\u001b[1;33m:\u001b[0m\u001b[0mcrossover_point\u001b[0m\u001b[1;33m]\u001b[0m \u001b[1;33m+\u001b[0m \u001b[0mparent2\u001b[0m\u001b[1;33m[\u001b[0m\u001b[0mcrossover_point\u001b[0m\u001b[1;33m:\u001b[0m\u001b[1;33m]\u001b[0m\u001b[1;33m\u001b[0m\u001b[1;33m\u001b[0m\u001b[0m\n\u001b[0;32m     32\u001b[0m \u001b[1;33m\u001b[0m\u001b[0m\n",
      "\u001b[1;31mTypeError\u001b[0m: object of type 'int' has no len()"
     ]
    }
   ],
   "source": [
    "import random\n",
    "\n",
    "# Define the fitness function\n",
    "def fitness(x):\n",
    "    # x is the number of products to buy\n",
    "    # We can define the fitness as the difference between the desired stock level and the actual stock level\n",
    "    # The desired stock level is 10\n",
    "    return abs(10 - x)\n",
    "\n",
    "# Initialize the population with random solutions\n",
    "population = [random.randint(0, 20) for _ in range(10)]\n",
    "\n",
    "# Set the maximum number of generations\n",
    "max_generations = 100\n",
    "\n",
    "# Iterate over the generations\n",
    "for generation in range(max_generations):\n",
    "    # Evaluate the fitness of each solution\n",
    "    fitness_values = [fitness(x) for x in population]\n",
    "    \n",
    "    # Select the best solutions as parents\n",
    "    # We'll use tournament selection here, which involves selecting a random subset of the population\n",
    "    # and choosing the best solution from that subset as the parent\n",
    "    parent1 = min(random.sample(population, 5), key=fitness)\n",
    "    parent2 = min(random.sample(population, 5), key=fitness)\n",
    "    \n",
    "    # Create offspring by combining the parents using crossover\n",
    "    # We'll use one-point crossover here, which involves selecting a random point in the parents' genomes\n",
    "    # and swapping the genes on either side of the point to create the offspring\n",
    "    crossover_point = random.randint(1, len(parent1))\n",
    "    offspring = parent1[:crossover_point] + parent2[crossover_point:]\n",
    "    \n",
    "    # Add some randomness to the offspring using mutation\n",
    "    # We'll flip a random bit in the offspring's genome\n",
    "    mutation_point = random.randint(0, len(offspring) - 1)\n",
    "    offspring[mutation_point] = 1 - offspring[mutation_point]\n",
    "    \n",
    "    # Replace the worst solution in the population with the offspring\n",
    "    worst_solution = max(zip(population, fitness_values), key=lambda x: x[1])\n",
    "    population[population.index(worst_solution[0])] = offspring\n",
    "\n",
    "# The final solution is the best solution in the final generation\n",
    "best_solution = min(zip(population, fitness_values), key=lambda x: x[1])\n",
    "print(f\"The optimal number of products to buy is: {best_solution[0]}\")"
   ]
  },
  {
   "cell_type": "code",
   "execution_count": null,
   "id": "46f91a5f",
   "metadata": {},
   "outputs": [],
   "source": [
    "def maximize_profit(product_quantities, product_dimensions, store_dimension, min_quantity, max_quantity, target_profit):\n",
    "  # evaluate the fitness of a given solution\n",
    "  def evaluate_fitness(solution):\n",
    "    total_quantity = sum(solution)\n",
    "    total_dimension = sum([q * d for q, d in zip(solution, product_dimensions)])\n",
    "    if total_quantity < min_quantity or total_quantity > max_quantity or total_dimension > store_dimension:\n",
    "      return 0\n",
    "    profit = calculate_profit(solution)\n",
    "    # calculate the deviation from the target profit\n",
    "    deviation = abs(profit - target_profit)\n",
    "    # the fitness is higher for solutions that have a lower deviation from the target profit\n",
    "    return 1 / (deviation + 1)\n",
    "\n",
    "  # genetic algorithm function\n",
    "  def genetic_algorithm(fitness_fn):\n",
    "    # initialize population\n",
    "    population = initialize_population(product_quantities)\n",
    "    for generation in range(max_generations):\n",
    "      # evaluate fitness\n",
    "      fitnesses = [fitness_fn(s) for s in population]\n",
    "      # select parents\n",
    "      parents = select_parents(population, fitnesses)\n",
    "      # create offspring\n",
    "      offspring = create_offspring(parents)\n",
    "      # mutate offspring\n",
    "      offspring = mutate(offspring)\n",
    "      # replace least fit individuals in population with offspring\n",
    "      population = replace_least_fit(population, offspring)\n",
    "    # return the fittest solution\n",
    "    return population[0]\n",
    "\n",
    "  # use the genetic algorithm to find the optimal solution\n",
    "  return genetic_algorithm(evaluate_fitness)"
   ]
  },
  {
   "cell_type": "code",
   "execution_count": null,
   "id": "5b800c47",
   "metadata": {},
   "outputs": [],
   "source": []
  }
 ],
 "metadata": {
  "kernelspec": {
   "display_name": "Python 3 (ipykernel)",
   "language": "python",
   "name": "python3"
  },
  "language_info": {
   "codemirror_mode": {
    "name": "ipython",
    "version": 3
   },
   "file_extension": ".py",
   "mimetype": "text/x-python",
   "name": "python",
   "nbconvert_exporter": "python",
   "pygments_lexer": "ipython3",
   "version": "3.9.13"
  }
 },
 "nbformat": 4,
 "nbformat_minor": 5
}
